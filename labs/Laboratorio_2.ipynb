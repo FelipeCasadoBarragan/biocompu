{
  "nbformat": 4,
  "nbformat_minor": 0,
  "metadata": {
    "colab": {
      "name": "Laboratorio 2.ipynb",
      "provenance": [],
      "collapsed_sections": []
    },
    "kernelspec": {
      "name": "python3",
      "display_name": "Python 3"
    },
    "language_info": {
      "name": "python"
    }
  },
  "cells": [
    {
      "cell_type": "markdown",
      "source": [
        "# Laboratorio 2: Clasificación de medicamentos\n",
        "\n",
        "\n",
        "El objetivo de este laboratorio es que puedan aplicar las técnicas aprendidas en la [Clase Práctica 2](https://colab.research.google.com/drive/1y9jGy5Yek7HD1i2SkmHHbeZBOuvZ_ys8?usp=sharing) para seleccionar el mejor modelo a la hora de predecir el tipo de medicamento adecuado para un paciente.\n",
        "\n",
        "En particular, trabajaremos con un conjunto de datos que contiene información sobre la clasificación de medicamentos basada en la información general del paciente y su diagnóstico. La idea es construir modelos de aprendizaje automático para predecir el tipo de fármaco (`Drug`) que podría ser adecuado para el paciente.\n",
        "\n",
        "Los resultados esperados son que puedan realizar un flujo clásico al momento de crear modelos de aprendizaje supervisado. Como mínimo se espera que se cumplan los siguientes objetivos:\n",
        "\n",
        "1. Análisis exploratorio del dataset (breve).\n",
        "2. Probar diferentes modelos y métricas de clasificación.\n",
        "3. Análisis de los resultados obtenidos, de manera cuantitativa como cualitativa."
      ],
      "metadata": {
        "id": "x242f7nvl838"
      }
    },
    {
      "cell_type": "markdown",
      "source": [
        "**Lectura del dataset**"
      ],
      "metadata": {
        "id": "nvoI6nCwnm9J"
      }
    },
    {
      "cell_type": "code",
      "source": [
        "import pandas as pd"
      ],
      "metadata": {
        "id": "-IZ-wX6NfVKx"
      },
      "execution_count": 21,
      "outputs": []
    },
    {
      "cell_type": "code",
      "source": [
        "# Su respuesta\n",
        "# Link dataset: https://raw.githubusercontent.com/fvillena/biocompu/2022/data/drug.csv"
      ],
      "metadata": {
        "id": "9FmZTYhxnnC3"
      },
      "execution_count": null,
      "outputs": []
    },
    {
      "cell_type": "markdown",
      "source": [
        "**Obtener el tamaño del dataset**"
      ],
      "metadata": {
        "id": "5ZV_f0JooO5Z"
      }
    },
    {
      "cell_type": "code",
      "source": [
        "# Su respuesta"
      ],
      "metadata": {
        "id": "E2qGZNHaoQc_"
      },
      "execution_count": null,
      "outputs": []
    },
    {
      "cell_type": "markdown",
      "source": [
        "**Nombres de las columnas y tipos de datos**"
      ],
      "metadata": {
        "id": "ovyCYyFOoVBL"
      }
    },
    {
      "cell_type": "code",
      "source": [
        "# Su respuesta "
      ],
      "metadata": {
        "id": "Zg4knAv_oYvc"
      },
      "execution_count": null,
      "outputs": []
    },
    {
      "cell_type": "markdown",
      "source": [
        "**Verificación de valores nulos**"
      ],
      "metadata": {
        "id": "e-luR3_foeat"
      }
    },
    {
      "cell_type": "code",
      "source": [
        "# Su respuesta"
      ],
      "metadata": {
        "id": "uXvlcQQ8ogPX"
      },
      "execution_count": null,
      "outputs": []
    },
    {
      "cell_type": "markdown",
      "source": [
        "**Utilizar la clase LabelEncoder para transformar variables categoricas a numéricas. Puede utilizar también la función get_dummies. Si eligen esta última opción, deben primero separar los datos en X e y y luego aplicar la función sobre el conjunto X. De lo contrario, crearan nuevas columnas a partir de la variable objetivo y.**"
      ],
      "metadata": {
        "id": "0m3cDJR-ognF"
      }
    },
    {
      "cell_type": "code",
      "source": [
        "# Su respuesta "
      ],
      "metadata": {
        "id": "Tb9EJ8mDokFc"
      },
      "execution_count": 31,
      "outputs": []
    },
    {
      "cell_type": "markdown",
      "source": [
        "**Identificar la variable con mayor correlación con la variable objetivo Drug**"
      ],
      "metadata": {
        "id": "JJd-UpHUow5E"
      }
    },
    {
      "cell_type": "code",
      "source": [
        "# Su respuesta"
      ],
      "metadata": {
        "id": "5iA3lv-tozDu"
      },
      "execution_count": null,
      "outputs": []
    },
    {
      "cell_type": "markdown",
      "source": [
        "**Opcional: Realizar alguna visualización de los datos**"
      ],
      "metadata": {
        "id": "3Ao507D_o5st"
      }
    },
    {
      "cell_type": "code",
      "source": [
        "import matplotlib.pyplot as plt\n",
        "import seaborn as sns"
      ],
      "metadata": {
        "id": "JfwFx4OspL6Q"
      },
      "execution_count": 36,
      "outputs": []
    },
    {
      "cell_type": "markdown",
      "source": [
        "**Dividir el dataset en los conjuntos X e y**"
      ],
      "metadata": {
        "id": "onPVMM99n9va"
      }
    },
    {
      "cell_type": "code",
      "source": [
        "# Su respuesta"
      ],
      "metadata": {
        "id": "7SgsIuh_oEF9"
      },
      "execution_count": 35,
      "outputs": []
    },
    {
      "cell_type": "markdown",
      "source": [
        "**Definir las métricas**"
      ],
      "metadata": {
        "id": "p52H4Q4jpRW9"
      }
    },
    {
      "cell_type": "markdown",
      "source": [
        "Dado que ahora estamos trabajando con un problema de clasificación, no podemos utilizar las mismas métricas que utilizamos en el problema de regresión de la clase práctica. Así que se utilizarán las métricas precision, recall y f1-score. A continuación se importan dichas funciones."
      ],
      "metadata": {
        "id": "9xsZdohzpUVl"
      }
    },
    {
      "cell_type": "code",
      "source": [
        "from sklearn.metrics import precision_score, recall_score, f1_score"
      ],
      "metadata": {
        "id": "_V4xTGhgphl9"
      },
      "execution_count": 111,
      "outputs": []
    },
    {
      "cell_type": "markdown",
      "source": [
        "La siguiente función `compute_metrics` entregará el reporte de las métricas."
      ],
      "metadata": {
        "id": "XPvbrunmpuOR"
      }
    },
    {
      "cell_type": "code",
      "source": [
        "def compute_metrics(y_true, y_pred):\n",
        "    \"\"\"\n",
        "    Esta función recibe un arreglo de valores reales y predichos para \n",
        "    retornar un diccionario con una serie de métricas de clasificación\n",
        "    \"\"\"\n",
        "    return {\n",
        "        'precision': precision_score(y_true, y_pred, average='weighted'),\n",
        "        'recall': recall_score(y_true, y_pred, average='weighted'),\n",
        "        'f1': f1_score(y_true, y_pred, average='weighted')\n",
        "    }"
      ],
      "metadata": {
        "id": "ZhEk0jAEpog3"
      },
      "execution_count": 66,
      "outputs": []
    },
    {
      "cell_type": "markdown",
      "source": [
        "A continuación la idea es que prueben los siguientes clasificadores importados y comparen el rendimiento utilizando la función `compute_metrics`. Todos se entrenan de la misma manera en que hemos venido trabajando en clases prácticas y laboratorio. Recuerde separar los datos en entrenamiento y test."
      ],
      "metadata": {
        "id": "9o47-6M8qLEP"
      }
    },
    {
      "cell_type": "code",
      "source": [
        "from sklearn.linear_model import LogisticRegression\n",
        "from sklearn.neighbors import KNeighborsClassifier\n",
        "from sklearn.svm import SVC\n",
        "from sklearn.ensemble import RandomForestClassifier"
      ],
      "metadata": {
        "id": "3V_QOKp3rxLF"
      },
      "execution_count": 76,
      "outputs": []
    },
    {
      "cell_type": "code",
      "source": [
        "from sklearn.model_selection import train_test_split"
      ],
      "metadata": {
        "id": "cTnvvp9EpL1r"
      },
      "execution_count": null,
      "outputs": []
    },
    {
      "cell_type": "markdown",
      "source": [
        "**Modelo 1: Logistic Regression**"
      ],
      "metadata": {
        "id": "Zp8DYfY1qH-n"
      }
    },
    {
      "cell_type": "code",
      "source": [
        ""
      ],
      "metadata": {
        "id": "8My5Q9WPqW5P"
      },
      "execution_count": null,
      "outputs": []
    },
    {
      "cell_type": "markdown",
      "source": [
        "**Modelo 2: KNeighborsClassifier**"
      ],
      "metadata": {
        "id": "kqeF9aZBqXN0"
      }
    },
    {
      "cell_type": "code",
      "source": [
        ""
      ],
      "metadata": {
        "id": "ZQQedFuRqYWu"
      },
      "execution_count": null,
      "outputs": []
    },
    {
      "cell_type": "markdown",
      "source": [
        "**Modelo 3: SVC**"
      ],
      "metadata": {
        "id": "mdFXQUC2qYsE"
      }
    },
    {
      "cell_type": "code",
      "source": [
        ""
      ],
      "metadata": {
        "id": "oa7YDTYoqZyp"
      },
      "execution_count": null,
      "outputs": []
    },
    {
      "cell_type": "markdown",
      "source": [
        "**Modelo 4: RandomForestClassifier**"
      ],
      "metadata": {
        "id": "U9iQCJDxlJwj"
      }
    },
    {
      "cell_type": "code",
      "source": [
        ""
      ],
      "metadata": {
        "id": "SEa5Zbu_lJ-W"
      },
      "execution_count": null,
      "outputs": []
    },
    {
      "cell_type": "markdown",
      "source": [
        "**Analice los resultados obtenidos y seleccione el mejor clasificador para este problema.**"
      ],
      "metadata": {
        "id": "5Qwrr2XPqZ_7"
      }
    }
  ]
}