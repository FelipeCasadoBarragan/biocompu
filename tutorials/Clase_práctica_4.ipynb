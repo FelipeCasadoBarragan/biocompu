{
  "cells": [
    {
      "cell_type": "markdown",
      "metadata": {
        "id": "kpMmQjddDOur"
      },
      "source": [
        "# Clase Práctica 4: Clustering\n",
        "\n",
        "El clustering o agrupamiento es la tarea de agrupar una serie de objetos de una manera que objetos del mismo grupo (cluster) son más similares entre sí que con los de otros grupos. Su objetivo principal es en la fase exploratoria de los datos y se clasifica dentro de los métodos no supervisados de aprendizaje de máquinas."
      ]
    },
    {
      "cell_type": "code",
      "execution_count": 1,
      "metadata": {
        "id": "eCLxwZh7DPLt"
      },
      "outputs": [],
      "source": [
        "import numpy as np \n",
        "import pandas as pd \n",
        "import matplotlib.pyplot as plt\n",
        "import sklearn.cluster # Algoritmos de clustering\n",
        "import sklearn.metrics\n",
        "import scipy.cluster\n",
        "import seaborn as sns"
      ]
    },
    {
      "cell_type": "code",
      "execution_count": 2,
      "metadata": {
        "id": "qSOsrnIVD-MQ"
      },
      "outputs": [],
      "source": [
        "blobs = pd.read_csv(\"https://raw.githubusercontent.com/fvillena/biocompu/2022/data/blobs.csv\") # Importamos un csv que contiene los datos a analizar"
      ]
    },
    {
      "cell_type": "code",
      "execution_count": 3,
      "metadata": {
        "id": "9kTe5tnyEIxT"
      },
      "outputs": [
        {
          "data": {
            "text/html": [
              "<div>\n",
              "<style scoped>\n",
              "    .dataframe tbody tr th:only-of-type {\n",
              "        vertical-align: middle;\n",
              "    }\n",
              "\n",
              "    .dataframe tbody tr th {\n",
              "        vertical-align: top;\n",
              "    }\n",
              "\n",
              "    .dataframe thead th {\n",
              "        text-align: right;\n",
              "    }\n",
              "</style>\n",
              "<table border=\"1\" class=\"dataframe\">\n",
              "  <thead>\n",
              "    <tr style=\"text-align: right;\">\n",
              "      <th></th>\n",
              "      <th>x</th>\n",
              "      <th>y</th>\n",
              "    </tr>\n",
              "  </thead>\n",
              "  <tbody>\n",
              "    <tr>\n",
              "      <th>0</th>\n",
              "      <td>-7.028929</td>\n",
              "      <td>6.461681</td>\n",
              "    </tr>\n",
              "    <tr>\n",
              "      <th>1</th>\n",
              "      <td>7.918778</td>\n",
              "      <td>1.532250</td>\n",
              "    </tr>\n",
              "    <tr>\n",
              "      <th>2</th>\n",
              "      <td>7.715440</td>\n",
              "      <td>-1.071657</td>\n",
              "    </tr>\n",
              "    <tr>\n",
              "      <th>3</th>\n",
              "      <td>-6.947604</td>\n",
              "      <td>7.059319</td>\n",
              "    </tr>\n",
              "    <tr>\n",
              "      <th>4</th>\n",
              "      <td>8.229129</td>\n",
              "      <td>5.251265</td>\n",
              "    </tr>\n",
              "  </tbody>\n",
              "</table>\n",
              "</div>"
            ],
            "text/plain": [
              "          x         y\n",
              "0 -7.028929  6.461681\n",
              "1  7.918778  1.532250\n",
              "2  7.715440 -1.071657\n",
              "3 -6.947604  7.059319\n",
              "4  8.229129  5.251265"
            ]
          },
          "execution_count": 3,
          "metadata": {},
          "output_type": "execute_result"
        }
      ],
      "source": [
        "blobs.head() # Verificamos qué podemos encontrar en el conjunto de datos."
      ]
    },
    {
      "cell_type": "code",
      "execution_count": null,
      "metadata": {
        "id": "ldRWskKSELIS"
      },
      "outputs": [],
      "source": [
        "plt.scatter(blobs.x, blobs.y) # Exploramos la distribución que tienen nuestros datos"
      ]
    },
    {
      "cell_type": "markdown",
      "metadata": {
        "id": "UOf75IalEQsj"
      },
      "source": [
        "Intuitivamente podemos desprender que existe cierto agrupamiento de los datos. Uno de los algoritmos para realizar clustering es el k-means que se encuentra implementado en la clase sklearn.cluster.KMeans. Procederemos a realizar un agrupamiento utilizando este algoritmo.\n",
        "\n",
        "k-Means necesita que nosotros asignemos el hiperparámetro de la cantidad de grupos a ajustar, comenzaremos con 2 grupos.\n",
        "\n",
        "Ajustamos un modelo de k-means."
      ]
    },
    {
      "cell_type": "code",
      "execution_count": null,
      "metadata": {
        "id": "yN40CTD7EROy"
      },
      "outputs": [],
      "source": [
        "km = sklearn.cluster.KMeans(n_clusters=2, random_state=11) # Instanciamos el algoritmo de k-means\n",
        "km.fit(blobs) # Ajustamos el modelo de k-means"
      ]
    },
    {
      "cell_type": "code",
      "execution_count": null,
      "metadata": {
        "id": "7rVA6VBnEYMU"
      },
      "outputs": [],
      "source": [
        "km.labels_ # Grupos a los cuales asoció el modelo a cada una de las instancias del conjunto de datos"
      ]
    },
    {
      "cell_type": "code",
      "execution_count": null,
      "metadata": {
        "id": "0T1RjHqHEZNE"
      },
      "outputs": [],
      "source": [
        "plt.scatter(blobs.x, blobs.y, c = km.labels_) # Verificamos gráficamente el agrupamiento"
      ]
    },
    {
      "cell_type": "markdown",
      "metadata": {
        "id": "LyxTkCZnEgV3"
      },
      "source": [
        "Utilizaremos el método del codo para intentar encontrar la cantidad de grupos óptima en nuestro conjunto de datos.\n",
        "\n",
        "El método del codo busca encontrar la cantidad óptima de grupos al iterar por un rango de cantidad de grupos para encontrar dónde se genera un cambio en la pendiente de la curva de dispersión de los grupos contra la cantidad de grupos."
      ]
    },
    {
      "cell_type": "code",
      "execution_count": null,
      "metadata": {
        "id": "Xj4KkbNtEhEd"
      },
      "outputs": [],
      "source": [
        "inertias = []\n",
        "n_clusters_iterable = range(1,10)\n",
        "for n_clusters in n_clusters_iterable:\n",
        "    km = sklearn.cluster.KMeans(n_clusters=n_clusters) # Instanciamos el algoritmo de k-means\n",
        "    km.fit(blobs) # Ajustamos el modelo de k-means\n",
        "    inertias.append(km.inertia_) # Esta la dispersión de nuestros grupos"
      ]
    },
    {
      "cell_type": "code",
      "execution_count": null,
      "metadata": {
        "id": "nkpTnzcZEknl"
      },
      "outputs": [],
      "source": [
        "plt.plot(\n",
        "    n_clusters_iterable,\n",
        "    inertias\n",
        ")"
      ]
    },
    {
      "cell_type": "markdown",
      "metadata": {
        "id": "Qnp3EOEOEpVu"
      },
      "source": [
        "Otro método de optimización de la cantidad de grupos es el método de la silueta, en donde se busca maximizar el silhouette score al modular el número de clusters.\n",
        "\n",
        "El silhouette score es un promedio de las siluetas de cada punto. Cada silueta se calcula usando la distancia intra-cluster promedio $a$ y la distancia promedio al cluster más cercano $b$, por lo tanto el valor de la silueta es:\n",
        "\n",
        "$\\frac{b-a}{max(a,b)}$"
      ]
    },
    {
      "cell_type": "code",
      "execution_count": null,
      "metadata": {
        "id": "cR4R8iFVEobG"
      },
      "outputs": [],
      "source": [
        "silhouette_scores = []\n",
        "n_clusters_iterable = range(2,10)\n",
        "for n_clusters in n_clusters_iterable:\n",
        "    km = sklearn.cluster.KMeans(n_clusters=n_clusters) # Instanciamos el algoritmo de k-means\n",
        "    km.fit(blobs) # Ajustamos el modelo de k-means\n",
        "    silhouette_scores.append(sklearn.metrics.silhouette_score(blobs, km.labels_)) # Esta la dispersión de nuestros grupos"
      ]
    },
    {
      "cell_type": "code",
      "execution_count": null,
      "metadata": {
        "id": "BtI5jMl-FCQ_"
      },
      "outputs": [],
      "source": [
        "plt.plot(\n",
        "    n_clusters_iterable,\n",
        "    silhouette_scores\n",
        ")"
      ]
    },
    {
      "cell_type": "markdown",
      "metadata": {
        "id": "TMuq3lBIFHJY"
      },
      "source": [
        "Según los análisis anteriores podemos desprender que alrededor de 5 grupos sería un hiperparámetro óptimo para nuestro modelamiento."
      ]
    },
    {
      "cell_type": "code",
      "execution_count": null,
      "metadata": {
        "id": "PmjU3L5WFENB"
      },
      "outputs": [],
      "source": [
        "km_tuned = sklearn.cluster.KMeans(n_clusters=5, random_state=11) # Instanciamos el algoritmo de k-means\n",
        "km_tuned.fit(blobs) # Ajustamos el modelo de k-means"
      ]
    },
    {
      "cell_type": "code",
      "execution_count": null,
      "metadata": {
        "id": "hRi9fY4PFJn1"
      },
      "outputs": [],
      "source": [
        "km_tuned.labels_ # Grupos a los cuales asoció el modelo a cada una de las instancias del conjunto de datos"
      ]
    },
    {
      "cell_type": "code",
      "execution_count": null,
      "metadata": {
        "id": "q2HgfR2IFMO2"
      },
      "outputs": [],
      "source": [
        "plt.scatter(blobs.x, blobs.y, c = km_tuned.labels_) # Verificamos gráficamente el agrupamiento"
      ]
    },
    {
      "cell_type": "markdown",
      "metadata": {
        "id": "0ibdamLiFRAR"
      },
      "source": [
        "# Clustering jerárquico"
      ]
    },
    {
      "cell_type": "markdown",
      "metadata": {
        "id": "MSFHBpYBj6A5"
      },
      "source": [
        "Para explorar el funcionamiento del clustering jerárquico utilizaremos un conjunto de datos en donde los grupos no tienen una configuración circular."
      ]
    },
    {
      "cell_type": "code",
      "execution_count": null,
      "metadata": {
        "id": "iIbHQVvZFRbF"
      },
      "outputs": [],
      "source": [
        "moons = pd.read_csv(\"https://raw.githubusercontent.com/fvillena/biocompu/2022/data/twomoons.csv\")"
      ]
    },
    {
      "cell_type": "code",
      "execution_count": null,
      "metadata": {
        "id": "iDGdztvkkfwQ"
      },
      "outputs": [],
      "source": [
        "moons.head()"
      ]
    },
    {
      "cell_type": "code",
      "execution_count": null,
      "metadata": {
        "id": "5JCo9UaAk6Su"
      },
      "outputs": [],
      "source": [
        "plt.scatter(moons.x, moons.y)"
      ]
    },
    {
      "cell_type": "markdown",
      "metadata": {
        "id": "UNOzY9L6lAFP"
      },
      "source": [
        "Ajustamos un modelo de k-means para demostrar que el comportamiento de este modelo no es el más correcto."
      ]
    },
    {
      "cell_type": "code",
      "execution_count": null,
      "metadata": {
        "id": "6bjczrUXlA1Y"
      },
      "outputs": [],
      "source": [
        "km_moons = sklearn.cluster.KMeans(n_clusters=2, random_state=11)\n",
        "km_moons.fit(moons)"
      ]
    },
    {
      "cell_type": "code",
      "execution_count": null,
      "metadata": {
        "id": "RKmFizIKlCnP"
      },
      "outputs": [],
      "source": [
        "km.labels_"
      ]
    },
    {
      "cell_type": "markdown",
      "metadata": {
        "id": "drf8NH4IlGek"
      },
      "source": [
        "Observamos que el agrupamiento que se realizó con k-means no se ajusta a nuestro conjunto de datos."
      ]
    },
    {
      "cell_type": "code",
      "execution_count": null,
      "metadata": {
        "id": "K6b9jaNUlElS"
      },
      "outputs": [],
      "source": [
        "plt.scatter(moons.x, moons.y, c = km_moons.labels_)"
      ]
    },
    {
      "cell_type": "markdown",
      "metadata": {
        "id": "JgbIrgcElKWo"
      },
      "source": [
        "Ajustamos un modelo de clustering jerárquico."
      ]
    },
    {
      "cell_type": "code",
      "execution_count": null,
      "metadata": {
        "id": "aF6birfclKxA"
      },
      "outputs": [],
      "source": [
        "ac = sklearn.cluster.AgglomerativeClustering()\n",
        "ac.fit(moons)"
      ]
    },
    {
      "cell_type": "code",
      "execution_count": null,
      "metadata": {
        "id": "JAnyjHdNlMYU"
      },
      "outputs": [],
      "source": [
        "plt.scatter(moons.x, moons.y, c = ac.labels_)"
      ]
    },
    {
      "cell_type": "markdown",
      "metadata": {
        "id": "lAITlPWQlQEv"
      },
      "source": [
        "Nuestro modelo tampoco se comporta como esperamos porque existe un hiperparámetro que debemos ajustar. El clustering jerárquico puede utilizar distintos métodos para poder medir la distancia entre clusters y así poder unirlos o no. Evaluemos el funcionamiento de nuestro modelo al visualizar el agrupamiento utilizando los distintos métodos de enlace."
      ]
    },
    {
      "cell_type": "code",
      "execution_count": null,
      "metadata": {
        "id": "xT6bte8zlQck"
      },
      "outputs": [],
      "source": [
        "linkage_methods = [\"complete\", \"average\", \"single\"]\n",
        "fig, axs = plt.subplots(ncols=len(linkage_methods))\n",
        "for i,l in enumerate(linkage_methods):\n",
        "    ac_current = sklearn.cluster.AgglomerativeClustering(linkage=l)\n",
        "    ac_current.fit(moons)\n",
        "    axs[i].scatter(moons.x, moons.y, c = ac_current.labels_)\n",
        "    axs[i].set_title(l)\n",
        "    axs[i].axis('off')\n",
        "plt.tight_layout()"
      ]
    },
    {
      "cell_type": "markdown",
      "metadata": {
        "id": "5N-D-3FwlbEY"
      },
      "source": [
        "Para nuestro conjunto de datos el mejor método es single."
      ]
    },
    {
      "cell_type": "code",
      "execution_count": null,
      "metadata": {
        "id": "kWd7IenLlbX6"
      },
      "outputs": [],
      "source": [
        "ac_tuned = sklearn.cluster.AgglomerativeClustering(linkage=\"single\")\n",
        "ac_tuned.fit(moons)"
      ]
    },
    {
      "cell_type": "code",
      "execution_count": null,
      "metadata": {
        "id": "_fiA4YpKlQeG"
      },
      "outputs": [],
      "source": [
        "plt.scatter(moons.x, moons.y, c = ac_tuned.labels_)"
      ]
    },
    {
      "cell_type": "markdown",
      "metadata": {
        "id": "6oRy4aJmljuL"
      },
      "source": [
        "# Datos de microarreglo\n",
        "\n",
        "Tenemos un conjunto de datos de expresión génica de genes dentro de distintas lineas celulares. Aplicaremos clustering jerárquico para evaluar qué genes son más cercanos entre sí, como también para evaluar qué lineas celulares son más cercanas entre sí."
      ]
    },
    {
      "cell_type": "code",
      "execution_count": null,
      "metadata": {
        "id": "Xfc9eum0lsRC"
      },
      "outputs": [],
      "source": [
        "def plot_dendrogram(model, **kwargs):\n",
        "    # Create linkage matrix and then plot the dendrogram\n",
        "\n",
        "    # create the counts of samples under each node\n",
        "    counts = np.zeros(model.children_.shape[0])\n",
        "    n_samples = len(model.labels_)\n",
        "    for i, merge in enumerate(model.children_):\n",
        "        current_count = 0\n",
        "        for child_idx in merge:\n",
        "            if child_idx < n_samples:\n",
        "                current_count += 1  # leaf node\n",
        "            else:\n",
        "                current_count += counts[child_idx - n_samples]\n",
        "        counts[i] = current_count\n",
        "\n",
        "    linkage_matrix = np.column_stack([model.children_, model.distances_,\n",
        "                                      counts]).astype(float)\n",
        "    # Plot the corresponding dendrogram\n",
        "    scipy.cluster.hierarchy.dendrogram(linkage_matrix, **kwargs)"
      ]
    },
    {
      "cell_type": "code",
      "execution_count": null,
      "metadata": {
        "id": "R4wwHXxDlmTW"
      },
      "outputs": [],
      "source": [
        "microarray = pd.read_csv(\"https://raw.githubusercontent.com/fvillena/biocompu/2021/data/gene_expressions.tsv\", sep=\"\\t\", index_col=\"gene\", nrows=30)"
      ]
    },
    {
      "cell_type": "code",
      "execution_count": null,
      "metadata": {
        "id": "MqTMfktgkaur"
      },
      "outputs": [],
      "source": [
        "microarray.head()"
      ]
    },
    {
      "cell_type": "code",
      "execution_count": null,
      "metadata": {
        "id": "Ep1LUdavlv8e"
      },
      "outputs": [],
      "source": [
        "microarray.columns"
      ]
    },
    {
      "cell_type": "markdown",
      "metadata": {
        "id": "B6sRe4Ozl0Mo"
      },
      "source": [
        "Agrupación por genes"
      ]
    },
    {
      "cell_type": "markdown",
      "metadata": {
        "id": "Urk8Lzexl11k"
      },
      "source": [
        "Realizaremos una agrupación a nivel de genes."
      ]
    },
    {
      "cell_type": "code",
      "execution_count": null,
      "metadata": {
        "id": "JmPOFOC6l0f2"
      },
      "outputs": [],
      "source": [
        "ac_microarray = sklearn.cluster.AgglomerativeClustering(linkage='average',distance_threshold=0, n_clusters=None)\n",
        "ac_microarray.fit(microarray)"
      ]
    },
    {
      "cell_type": "markdown",
      "metadata": {
        "id": "zQcnqViZl5aL"
      },
      "source": [
        "Es probable que genes que se encuentren dentro del mismo cluster puedan tener funciones similares o pertenecer a tejidos similares. Utilizaremos una visualización llamada dendrograma para observar cómo se forman los grupos encontrados."
      ]
    },
    {
      "cell_type": "code",
      "execution_count": null,
      "metadata": {
        "id": "xgDyNWYxl36o"
      },
      "outputs": [],
      "source": [
        "#plot dendrograma genes (para este caso demora por la cantidad de hojas finales)\n",
        "plt.figure(figsize=(15,7))\n",
        "plt.title('Dendrograma Genes')\n",
        "plot_dendrogram(ac_microarray, leaf_rotation=90, leaf_font_size=8, labels=microarray.index)\n",
        "plt.xlabel(\"Genes\")\n",
        "plt.show()"
      ]
    },
    {
      "cell_type": "markdown",
      "metadata": {
        "id": "FVb7CE9QmE7a"
      },
      "source": [
        "Agrupación por líneas celulares"
      ]
    },
    {
      "cell_type": "markdown",
      "metadata": {
        "id": "-_Jnte41mG1T"
      },
      "source": [
        "También realizaremos un agrupamiento a nivel de lineas celulares para explorar qué lineas celulares están más cercanas entre sí."
      ]
    },
    {
      "cell_type": "code",
      "execution_count": null,
      "metadata": {
        "id": "tOEEKmwXmFK2"
      },
      "outputs": [],
      "source": [
        "microarray_trans = microarray.transpose()"
      ]
    },
    {
      "cell_type": "code",
      "execution_count": null,
      "metadata": {
        "id": "UpykcsilmJxE"
      },
      "outputs": [],
      "source": [
        "ac_microarray_trans = sklearn.cluster.AgglomerativeClustering(linkage='average',distance_threshold=0, n_clusters=None)\n",
        "ac_microarray_trans.fit(microarray_trans)"
      ]
    },
    {
      "cell_type": "code",
      "execution_count": null,
      "metadata": {
        "id": "z9zt5RUNmLOu"
      },
      "outputs": [],
      "source": [
        "plt.figure(figsize=(15,7))\n",
        "plt.title('Dendrograma Lineas Celulares')\n",
        "plot_dendrogram(ac_microarray_trans, leaf_rotation=90, leaf_font_size=8, labels=microarray_trans.index)\n",
        "plt.xlabel(\"Lineas Celulares\")\n",
        "plt.show()"
      ]
    }
  ],
  "metadata": {
    "colab": {
      "name": "Clase práctica 3.ipynb",
      "provenance": []
    },
    "kernelspec": {
      "display_name": "Python 3",
      "name": "python3"
    },
    "language_info": {
      "codemirror_mode": {
        "name": "ipython",
        "version": 3
      },
      "file_extension": ".py",
      "mimetype": "text/x-python",
      "name": "python",
      "nbconvert_exporter": "python",
      "pygments_lexer": "ipython3",
      "version": "3.10.12"
    }
  },
  "nbformat": 4,
  "nbformat_minor": 0
}
