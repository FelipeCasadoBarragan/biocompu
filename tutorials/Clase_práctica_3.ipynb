{
  "cells": [
    {
      "cell_type": "markdown",
      "metadata": {
        "id": "Xl3N8sE0tlSD"
      },
      "source": [
        "# Clase Práctica 2: Validación de modelos 📈\n",
        "\n",
        "----------------------------------\n",
        "\n",
        "Los modelos de regresión corresponden a un subcampo del aprendizaje supervisado que busca modelar la relación entre un cierto número de características y una variable objetivo continua. La calidad del modelo quedará determinada por la distancia entre el valor real y el predicho.\n",
        "\n",
        "El clásico ejemplo es el modelo de regresión lineal, el cual es un algoritmo estadístico que busca establecer la recta que muestra la tendencia en un conjunto de datos. \n",
        "\n",
        "Estos modelos pueden ser aplicados a cualquier problema que busque predecir un número real. Por ejemplo, predecir el precio de una casa, el costo de un tratamiento, el número de días en que un paciente será dado de alta, entre muchas más tareas.\n",
        "\n",
        "\n"
      ]
    },
    {
      "cell_type": "markdown",
      "metadata": {
        "id": "r8iI543BuH49"
      },
      "source": [
        "\n",
        "\n",
        "## Objetivos de la clase 📚\n",
        "\n",
        "Los objetivos principales de esta clase son los siguientes:\n",
        "\n",
        "\n",
        "\n",
        "1.   Explorar varios modelos de regresión.\n",
        "2.   Explorar varias métricas.\n",
        "3.   Determinar los modelos que mejor se adaptan al problema.\n",
        "\n",
        "\n",
        "Específicamente, utilizaremos un conjunto de datos que contiene valores de seguros de salud según características del paciente."
      ]
    },
    {
      "cell_type": "markdown",
      "metadata": {
        "id": "SW2mvnNHa3D0"
      },
      "source": [
        "**Lectura del dataset**"
      ]
    },
    {
      "cell_type": "code",
      "execution_count": null,
      "metadata": {
        "id": "N2LNe8mEd2Je"
      },
      "outputs": [],
      "source": [
        "import pandas as pd"
      ]
    },
    {
      "cell_type": "code",
      "execution_count": null,
      "metadata": {
        "id": "f-VoDhPwvakr"
      },
      "outputs": [],
      "source": [
        "df = pd.read_csv('https://raw.githubusercontent.com/fvillena/biocompu/2022/data/insurance.csv')"
      ]
    },
    {
      "cell_type": "markdown",
      "metadata": {
        "id": "2q8PP0gPd4Ag"
      },
      "source": [
        "Entonces, lo que haremos será analizar este dataset que está dedicado al costo de tratamiento de diversos pacientes. Si bien el costo de tratamiento depende de muchos factores médicos, existen otras variables que sería interesante explorar como la edad, sexo, ubicación, entre otras.\n",
        "\n",
        "Seleccionamos 3 filas al azar para ver de qué se tratan los datos"
      ]
    },
    {
      "cell_type": "code",
      "execution_count": null,
      "metadata": {
        "id": "sWZZSkINvbFk"
      },
      "outputs": [],
      "source": [
        "df.sample(3)"
      ]
    },
    {
      "cell_type": "markdown",
      "metadata": {
        "id": "5SCT1s7feQbP"
      },
      "source": [
        "Vemos los nombres de las columnas y los tipos de datos"
      ]
    },
    {
      "cell_type": "code",
      "execution_count": null,
      "metadata": {
        "id": "heQOTpF2eKYY"
      },
      "outputs": [],
      "source": [
        "df.info()"
      ]
    },
    {
      "cell_type": "markdown",
      "metadata": {
        "id": "-hWCZViIviOp"
      },
      "source": [
        "Veamos si existen valores nulos\n"
      ]
    },
    {
      "cell_type": "code",
      "execution_count": null,
      "metadata": {
        "id": "8nCy6SYBvcdY"
      },
      "outputs": [],
      "source": [
        "df.isnull().sum()"
      ]
    },
    {
      "cell_type": "markdown",
      "metadata": {
        "id": "HPukxAWyv6qV"
      },
      "source": [
        "Lo siguiente que haremos será analizar cuáles son las variables que están más correlacionadas con el costo del tratamiento. Pero antes, hablemos un poco sobre las variables categóricas. Estas variables contienen un número finito de posibilidades, y pueden ser tanto strings como números. Como vimos en la clase anterior, si es que tenemos variables de tipo strings, debemos realizar una transformación."
      ]
    },
    {
      "cell_type": "code",
      "execution_count": null,
      "metadata": {
        "id": "0Q2x70SRfccE"
      },
      "outputs": [],
      "source": [
        "df.sample(1)"
      ]
    },
    {
      "cell_type": "markdown",
      "metadata": {
        "id": "DaqEhVxffhk9"
      },
      "source": [
        "Del resultado anterior vemos que las variables categoricas serían sexo, fumador y región. Para poder transformarlas podemos utilizar la clase LabelEncoder."
      ]
    },
    {
      "cell_type": "code",
      "execution_count": null,
      "metadata": {
        "id": "3rhFYCZ6fhEL"
      },
      "outputs": [],
      "source": [
        "from sklearn.preprocessing import LabelEncoder"
      ]
    },
    {
      "cell_type": "code",
      "execution_count": null,
      "metadata": {
        "id": "v2N1i9-SfyiH"
      },
      "outputs": [],
      "source": [
        "# Transformamos la variable sexo\n",
        "df.age"
      ]
    },
    {
      "cell_type": "code",
      "execution_count": null,
      "metadata": {
        "id": "58PhpJLCf26l"
      },
      "outputs": [],
      "source": [
        "le = LabelEncoder()\n",
        "\n",
        "print(df.sex.drop_duplicates())\n",
        "le.fit(df.sex.drop_duplicates()) \n",
        "df.sex[0]"
      ]
    },
    {
      "cell_type": "code",
      "execution_count": null,
      "metadata": {
        "id": "xp5YCpohgBF3"
      },
      "outputs": [],
      "source": [
        "df.sex = le.transform(df.sex)"
      ]
    },
    {
      "cell_type": "code",
      "execution_count": null,
      "metadata": {
        "id": "5Jc54skIvqbv"
      },
      "outputs": [],
      "source": [
        "le.fit(df.smoker.drop_duplicates()) \n",
        "df.smoker = le.transform(df.smoker)\n",
        "df.smoker"
      ]
    },
    {
      "cell_type": "code",
      "execution_count": null,
      "metadata": {
        "id": "kbCXuAfcgIkz"
      },
      "outputs": [],
      "source": [
        "le.fit(df.region.drop_duplicates()) \n",
        "df.region = le.transform(df.region)\n",
        "df.region"
      ]
    },
    {
      "cell_type": "markdown",
      "metadata": {
        "id": "ECPEkOYygMHV"
      },
      "source": [
        "Entonces, básicamente lo que hace esta clase es transformar cada valor de la columna en un valor numérico mediante un mapeo. En el caso de sexo, sabemos que los valores posible son *Male* y *Female*, por lo tanto, le asignamos un 0 al primer valor y un 1 al segundo. Aquí también pueden utilizar la función get_dummies vista en la clase anterior, pero siempre está el riesgo de aumentar considerablemente la cantidad de features. Ahora veamos como está la correlación de los datos."
      ]
    },
    {
      "cell_type": "code",
      "execution_count": null,
      "metadata": {
        "id": "_87Ffjxqv9g5"
      },
      "outputs": [],
      "source": [
        "df.corr()['charges'].sort_values()"
      ]
    },
    {
      "cell_type": "markdown",
      "metadata": {
        "id": "qULtZrXygsAA"
      },
      "source": [
        "A priori podemos ver que la variable más relacionada con el costo del tratamiento es si el paciente es fumador o no, mientras que la que menos se relaciona es la región. "
      ]
    },
    {
      "cell_type": "code",
      "execution_count": null,
      "metadata": {
        "id": "NhRcxAN_g2-0"
      },
      "outputs": [],
      "source": [
        "import matplotlib.pyplot as plt\n",
        "import seaborn as sns\n",
        "import numpy as np"
      ]
    },
    {
      "cell_type": "code",
      "execution_count": null,
      "metadata": {
        "id": "4BVIlTlLwCF-"
      },
      "outputs": [],
      "source": [
        "f, ax = plt.subplots(figsize=(10, 8))\n",
        "corr = df.corr()\n",
        "sns.heatmap(corr, mask=np.zeros_like(corr, dtype=np.bool), cmap=sns.diverging_palette(240,10,as_cmap=True),\n",
        "            square=True, ax=ax)"
      ]
    },
    {
      "cell_type": "markdown",
      "metadata": {
        "id": "NwWrD354wS7E"
      },
      "source": [
        "Si seguimos analizando la variable smoker, en el siguiente gráfico podemos ver la distribución de costos de las personas fumadoras versus los no fumadores."
      ]
    },
    {
      "cell_type": "code",
      "execution_count": null,
      "metadata": {
        "id": "2vxyU2-bwJSB"
      },
      "outputs": [],
      "source": [
        "f= plt.figure(figsize=(12,5))\n",
        "\n",
        "ax=f.add_subplot(121)\n",
        "sns.distplot(df[(df.smoker == 1)][\"charges\"],color='c',ax=ax)\n",
        "ax.set_title('Distribution of charges for smokers')\n",
        "\n",
        "ax=f.add_subplot(122)\n",
        "sns.distplot(df[(df.smoker == 0)]['charges'],color='b',ax=ax)\n",
        "ax.set_title('Distribution of charges for non-smokers')"
      ]
    },
    {
      "cell_type": "markdown",
      "metadata": {
        "id": "DE0fk2YwwtP3"
      },
      "source": [
        "Si bien el costo del tratamiento de los fumadores es mucho más elevados, es importante ver la distribución de frecuencias de estos datos."
      ]
    },
    {
      "cell_type": "code",
      "execution_count": null,
      "metadata": {
        "id": "nbpNHYqhwbCV"
      },
      "outputs": [],
      "source": [
        "sns.catplot(x=\"smoker\", kind=\"count\",hue = 'sex', palette=\"pink\", data=df)"
      ]
    },
    {
      "cell_type": "markdown",
      "metadata": {
        "id": "GTc9eeY8hmnR"
      },
      "source": [
        "Veamos un box plot a ver si encontramos algo más interesante acerca de los fumadores versus no fumadores."
      ]
    },
    {
      "cell_type": "code",
      "execution_count": null,
      "metadata": {
        "id": "Wz9vajwDxBDb"
      },
      "outputs": [],
      "source": [
        "plt.figure(figsize=(12,5))\n",
        "plt.title(\"Box plot for charges of women\")\n",
        "sns.boxplot(y=\"smoker\", x=\"charges\", data =  df[(df.sex == 0)] , orient=\"h\", palette = 'magma')"
      ]
    },
    {
      "cell_type": "code",
      "execution_count": null,
      "metadata": {
        "id": "4G2PCS6DxDwH"
      },
      "outputs": [],
      "source": [
        "plt.figure(figsize=(12,5))\n",
        "plt.title(\"Box plot for charges of men\")\n",
        "sns.boxplot(y=\"smoker\", x=\"charges\", data =  df[(df.sex == 1)] , orient=\"h\", palette = 'rainbow')"
      ]
    },
    {
      "cell_type": "markdown",
      "metadata": {
        "id": "BHbP-wJ_xmIS"
      },
      "source": [
        "Y si queremos ver el costo de tratamiento en personas de 18 años según si fuman o no?"
      ]
    },
    {
      "cell_type": "code",
      "execution_count": null,
      "metadata": {
        "id": "NsHGekRoxXfM"
      },
      "outputs": [],
      "source": [
        "plt.figure(figsize=(12,5))\n",
        "plt.title(\"Box plot for charges 18 years old smokers\")\n",
        "sns.boxplot(y=\"smoker\", x=\"charges\", data = df[(df.age == 18)] , orient=\"h\", palette = 'pink')"
      ]
    },
    {
      "cell_type": "markdown",
      "metadata": {
        "id": "4JDhTryKiG9D"
      },
      "source": [
        "Interesante, de todas maneras el objetivo de este práctico no es la visualización y análisis así que pasemos a la parte de los modelos."
      ]
    },
    {
      "cell_type": "markdown",
      "metadata": {
        "id": "A-HnfX54x5sG"
      },
      "source": [
        "# **Selección de modelos**"
      ]
    },
    {
      "cell_type": "markdown",
      "metadata": {
        "id": "a9-0sKrciQDG"
      },
      "source": [
        "Siguiendo la receta de la primera clase, lo primero que hacemos es dividir nuestro conjunto de datos original en las particiones X e y, donde X corresponde a las características que serán pasadas al modelo, mientras que y es la variable objetivo."
      ]
    },
    {
      "cell_type": "code",
      "execution_count": null,
      "metadata": {
        "id": "fZwcUL0LieoL"
      },
      "outputs": [],
      "source": [
        "X = df.drop(['charges'], axis = 1)\n",
        "y = df.charges"
      ]
    },
    {
      "cell_type": "markdown",
      "metadata": {
        "id": "CCYdnnfqih1H"
      },
      "source": [
        "Luego, para poder medir bien el nivel de generalización del modelo, dividimos el conjunto de datos en entrenamiento y testing."
      ]
    },
    {
      "cell_type": "code",
      "execution_count": null,
      "metadata": {
        "id": "wtxEYQBEiwr3"
      },
      "outputs": [],
      "source": [
        "from sklearn.model_selection import train_test_split"
      ]
    },
    {
      "cell_type": "code",
      "execution_count": null,
      "metadata": {
        "id": "zYO1aDUVinRB"
      },
      "outputs": [],
      "source": [
        "X_train, X_test, y_train, y_test = train_test_split(X, y, test_size=0.3, random_state = 123)"
      ]
    },
    {
      "cell_type": "markdown",
      "metadata": {
        "id": "9rmtLj4bjezc"
      },
      "source": [
        "**Regresión Lineal**\n",
        "\n",
        "Esta es una de las técnicas de regresión más utilizadas en aprendizaje de máquinas. Como se vió en clases, la idea general de este algoritmo en encontrar al recta que mejor se ajusta a un conjunto de datos continuos.\n",
        "\n",
        "En el caso más simple, cuando queremos describir una variable dependiente `y` según una variable independiente `x`, el problema se reduce a la siguiente ecuación:\n",
        "\n",
        "$$y = wx + b$$\n",
        "\n",
        "En el caso general tendremos un conjunto de n variables independientes (features) y 1 variable dependiente, de manera que la ecuación quedará definida como:\n",
        "\n",
        "$$y = w_{0}x_{0} + w_{1}x_{1} + ... +. w_{n}x_{n} + b$$\n",
        "\n",
        "El proceso de aprendizaje consiste en encontrar qué conjunto de parámetros $w_{0}, .... , w_{n}$ minimiza el error cuadrático medio entre los valores predichos y los reales.\n"
      ]
    },
    {
      "cell_type": "code",
      "execution_count": null,
      "metadata": {
        "id": "nKVgXWuujhm4"
      },
      "outputs": [],
      "source": [
        "from sklearn.linear_model import LinearRegression"
      ]
    },
    {
      "cell_type": "code",
      "execution_count": null,
      "metadata": {
        "id": "t_K81Kvejd0b"
      },
      "outputs": [],
      "source": [
        "lr = LinearRegression().fit(X_train, y_train)"
      ]
    },
    {
      "cell_type": "markdown",
      "metadata": {
        "id": "3rXwIK2Fd0GL"
      },
      "source": [
        "Luego de entrenar nuestro modelo podemos ver cuáles de los coeficientes son los que más pesan."
      ]
    },
    {
      "cell_type": "code",
      "execution_count": null,
      "metadata": {
        "id": "bsvTG1kfkbFg"
      },
      "outputs": [],
      "source": [
        "lr_vil = pd.DataFrame(lr.coef_,columns=[\"value\"]) # Guardamos en un dataframe los coeficientes\n",
        "lr_vil.index = df.columns[:-1]\n",
        "lr_vil"
      ]
    },
    {
      "cell_type": "code",
      "execution_count": null,
      "metadata": {
        "id": "zGkl8COPd5-K"
      },
      "outputs": [],
      "source": [
        "y_pred = lr.predict(X_test)"
      ]
    },
    {
      "cell_type": "markdown",
      "metadata": {
        "id": "F49rgR68eJji"
      },
      "source": [
        "Lo siguiente que debemos hacer es definir cuáles son las métricas que utilizaremos para medir nuestro modelo. En este caso usaremos el error absoluto medio, la raíz del error cuadrático medio, y el coeficiente de determinación, que se definen con las siguientes fórmulas.\n",
        "\n",
        "$MAE = \\frac{1}{m}\\sum_{i=1}^{m}|y_{true}-y_{pred}|$\n",
        "\n",
        "$RSME = \\sqrt{\\frac{1}{m}\\sum_{i=1}^{m}(y_{true}-y_{pred})^2}$\n",
        "\n",
        "$R^2 = 1 - \\frac{\\frac{1}{m}\\sum_{i=1}^{m}(y_{true}-y_{pred})^2}{\\frac{1}{m}\\sum_{i=1}^{m}(y_{true}-y_{mean})^2}$"
      ]
    },
    {
      "cell_type": "code",
      "execution_count": null,
      "metadata": {
        "id": "HwFaKdezkCwh"
      },
      "outputs": [],
      "source": [
        "from sklearn.metrics import mean_absolute_error,mean_squared_error, r2_score\n",
        " \n",
        "def compute_metrics(y_true, y_pred):\n",
        "    \"\"\"\n",
        "    Esta función recibe un arreglo de valores reales y predichos para \n",
        "    retornar un diccionario con una serie de métricas de regresión\n",
        "    \"\"\"\n",
        "    return {\n",
        "        'mae': mean_absolute_error(y_true, y_pred),\n",
        "        'rmse': mean_squared_error(y_true, y_pred) ** 0.5,\n",
        "        'r2': r2_score(y_true, y_pred)\n",
        "    }"
      ]
    },
    {
      "cell_type": "code",
      "execution_count": null,
      "metadata": {
        "id": "NSz-qjjzk7bR"
      },
      "outputs": [],
      "source": [
        "lr_regression_report = compute_metrics(y_test, y_pred)"
      ]
    },
    {
      "cell_type": "code",
      "execution_count": null,
      "metadata": {
        "id": "IGU8uqMdpxx7"
      },
      "outputs": [],
      "source": [
        "lr_regression_report"
      ]
    },
    {
      "cell_type": "markdown",
      "metadata": {
        "id": "4ZgWkiswlwkU"
      },
      "source": [
        "**Random Forest Regressor**"
      ]
    },
    {
      "cell_type": "code",
      "execution_count": null,
      "metadata": {
        "id": "J_s5eqnEl2iW"
      },
      "outputs": [],
      "source": [
        "from sklearn.ensemble import RandomForestRegressor"
      ]
    },
    {
      "cell_type": "code",
      "execution_count": null,
      "metadata": {
        "id": "FUFlblDblzmW"
      },
      "outputs": [],
      "source": [
        "rf = RandomForestRegressor()\n",
        "rf.fit(X_train, y_train)"
      ]
    },
    {
      "cell_type": "code",
      "execution_count": null,
      "metadata": {
        "id": "wNUDe3Aax7mv"
      },
      "outputs": [],
      "source": [
        "y_pred = rf.predict(X_test)"
      ]
    },
    {
      "cell_type": "code",
      "execution_count": null,
      "metadata": {
        "id": "MMzG8Zy-l9se"
      },
      "outputs": [],
      "source": [
        "rf_vil = pd.DataFrame(list(zip(df.columns[:-1],rf.feature_importances_)),\n",
        "             columns=[\"feature\",\"importance\"]\n",
        "            ).set_index(\"feature\")\n",
        "rf_vil.sort_values(\"importance\",ascending=False)"
      ]
    },
    {
      "cell_type": "code",
      "execution_count": null,
      "metadata": {
        "id": "FtyskjhumNYW"
      },
      "outputs": [],
      "source": [
        "rf_regression_report = compute_metrics(y_test, y_pred)\n",
        "rf_regression_report"
      ]
    },
    {
      "cell_type": "markdown",
      "metadata": {
        "id": "bLMiV4b6hqrI"
      },
      "source": [
        "**Support Vector Regressor**"
      ]
    },
    {
      "cell_type": "code",
      "execution_count": null,
      "metadata": {
        "id": "_d0OEAkHiizG"
      },
      "outputs": [],
      "source": [
        "from sklearn.svm import SVR\n",
        "\n",
        "svr = SVR(kernel=\"linear\", C=1.0)\n",
        "svr.fit(X_train, y_train)"
      ]
    },
    {
      "cell_type": "code",
      "execution_count": null,
      "metadata": {
        "id": "MTlJh8-zi1g-"
      },
      "outputs": [],
      "source": [
        "y_pred = svr.predict(X_test)"
      ]
    },
    {
      "cell_type": "code",
      "execution_count": null,
      "metadata": {
        "id": "1lLGPYR8i6D0"
      },
      "outputs": [],
      "source": [
        "svr_regression_report = compute_metrics(y_test, y_pred)\n",
        "svr_regression_report"
      ]
    },
    {
      "cell_type": "code",
      "execution_count": null,
      "metadata": {
        "id": "Srf1ON3Ii_P3"
      },
      "outputs": [],
      "source": [
        "svr_vil = pd.DataFrame(list(zip(df.columns[:-1],svr.coef_[0])),\n",
        "             columns=[\"feature\",\"importance\"]\n",
        "            ).set_index(\"feature\")\n",
        "svr_vil.sort_values(\"importance\",ascending=False)"
      ]
    },
    {
      "cell_type": "markdown",
      "metadata": {
        "id": "bLUK6Q_EorkN"
      },
      "source": [
        "**K-Nearest Neighbor Regressor**"
      ]
    },
    {
      "cell_type": "code",
      "execution_count": null,
      "metadata": {
        "id": "qJ3i9Wbfi5Dh"
      },
      "outputs": [],
      "source": [
        "from sklearn.neighbors import KNeighborsRegressor"
      ]
    },
    {
      "cell_type": "code",
      "execution_count": null,
      "metadata": {
        "id": "f9uc3Xhwi0x1"
      },
      "outputs": [],
      "source": [
        "knn = KNeighborsRegressor() # Instanciamos una support vector machine con un kernel lineal\n",
        "knn.fit(X_train, y_train)"
      ]
    },
    {
      "cell_type": "code",
      "execution_count": null,
      "metadata": {
        "id": "JKV73W3oo00o"
      },
      "outputs": [],
      "source": [
        "y_pred = knn.predict(X_test)"
      ]
    },
    {
      "cell_type": "code",
      "execution_count": null,
      "metadata": {
        "id": "0RljxjGEk682"
      },
      "outputs": [],
      "source": [
        "knn_regression_report = compute_metrics(y_test, y_pred)\n",
        "knn_regression_report"
      ]
    },
    {
      "cell_type": "code",
      "execution_count": null,
      "metadata": {
        "id": "lLtwSJc7x8Zk"
      },
      "outputs": [],
      "source": [
        "performances = pd.DataFrame( # Consolidamos todas las métricas en un DatFrame\n",
        "    data = [\n",
        "        lr_regression_report,\n",
        "        knn_regression_report,\n",
        "        rf_regression_report,\n",
        "        svr_regression_report\n",
        "    ],\n",
        "    index = [\n",
        "        \"Linear Regression\",\n",
        "        \"k-Nearest Neighbors\",\n",
        "        \"Random Forest\",\n",
        "        \"SVR\"\n",
        "    ]\n",
        ").sort_values( # Ordenamos los valores\n",
        "    by=\"rmse\"\n",
        ")\n",
        "performances"
      ]
    },
    {
      "cell_type": "code",
      "execution_count": null,
      "metadata": {
        "id": "kiLNNjkd00Zh"
      },
      "outputs": [],
      "source": [
        "!pip install catboost"
      ]
    },
    {
      "cell_type": "code",
      "execution_count": null,
      "metadata": {
        "id": "-6tqefJl0ycB"
      },
      "outputs": [],
      "source": [
        "from catboost import CatBoostRegressor"
      ]
    },
    {
      "cell_type": "code",
      "execution_count": null,
      "metadata": {
        "id": "L3bqRQ1MzRiz"
      },
      "outputs": [],
      "source": [
        "cb = CatBoostRegressor(learning_rate =0.01, max_depth =5, verbose = 0)\n",
        "\n",
        "cb.fit(X_train, y_train)"
      ]
    },
    {
      "cell_type": "code",
      "execution_count": null,
      "metadata": {
        "id": "S685N25B1LO1"
      },
      "outputs": [],
      "source": [
        "y_pred = cb.predict(X_test)"
      ]
    },
    {
      "cell_type": "code",
      "execution_count": null,
      "metadata": {
        "id": "GJ4TU_tl067h"
      },
      "outputs": [],
      "source": [
        "compute_metrics(y_test, y_pred)"
      ]
    }
  ],
  "metadata": {
    "colab": {
      "collapsed_sections": [],
      "name": "Clase práctica 2.ipynb",
      "provenance": []
    },
    "kernelspec": {
      "display_name": "Python 3",
      "name": "python3"
    },
    "language_info": {
      "name": "python"
    }
  },
  "nbformat": 4,
  "nbformat_minor": 0
}
