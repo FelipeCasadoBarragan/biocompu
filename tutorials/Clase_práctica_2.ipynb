{
  "cells": [
    {
      "cell_type": "markdown",
      "metadata": {
        "id": "6GAvF9Liisd2"
      },
      "source": [
        "# Clase Práctica 2: Support Vector Machine (SVM) y Metricas\n",
        "\n",
        "\n",
        "----------------------------------"
      ]
    },
    {
      "cell_type": "markdown",
      "metadata": {
        "id": "ka41Y9Ciisyd"
      },
      "source": [
        "## Objetivos de la clase 📚\n",
        "\n",
        "El objetivo de esta clase práctica es proporcionar una comprensión básica de los modelos de Support Vector Machine (SVM) y cómo evaluar su rendimiento utilizando métricas en la biblioteca scikit-learn de Python. Los SVM son poderosos algoritmos de aprendizaje supervisado utilizados para problemas de clasificación y regresión. Para esto, implementaremos modelos SVM de clasificación con diferentes hiperparametros para poder relacionar las características fisiológicas de pacientes con la presencia de una enfermedad cardiovascular 🩺. \n"
      ]
    },
    {
      "cell_type": "markdown",
      "metadata": {
        "id": "ZqfjgV1Deuyr"
      },
      "source": [
        "## **Clasificación**"
      ]
    },
    {
      "cell_type": "markdown",
      "metadata": {
        "id": "KRLw4Z42m2kq"
      },
      "source": [
        "**Exploración de datos 🧐**"
      ]
    },
    {
      "cell_type": "markdown",
      "metadata": {
        "id": "fO3ZlyjwmyBD"
      },
      "source": [
        "**Importar las librerías**"
      ]
    },
    {
      "cell_type": "code",
      "execution_count": 1,
      "metadata": {
        "id": "LwdZuCQ6aEjr"
      },
      "outputs": [],
      "source": [
        "import pandas as pd \n",
        "import matplotlib.pyplot as plt \n",
        "import seaborn as sns "
      ]
    },
    {
      "cell_type": "markdown",
      "metadata": {
        "id": "uDcwDmSTm2ZE"
      },
      "source": [
        "**Lectura del dataset**"
      ]
    },
    {
      "cell_type": "markdown",
      "metadata": {
        "id": "JEbr1fQ-nZyK"
      },
      "source": [
        "Con la función `read_csv` podemos cargar datasets que se encuentren en formato csv. Es importante que el nombre de la variable sea lo más simple posible, ya que será utilizado frecuentemente."
      ]
    },
    {
      "cell_type": "code",
      "execution_count": 8,
      "metadata": {
        "id": "dOMFr3b-n6Kq"
      },
      "outputs": [],
      "source": [
        "df = pd.read_csv(\"https://raw.githubusercontent.com/fvillena/biocompu/2022/data/cardiovascular_diseases.csv\")"
      ]
    },
    {
      "cell_type": "markdown",
      "metadata": {
        "id": "lxV1Y0JzpBW2"
      },
      "source": [
        "La función `head` nos muestra las primeras 5 filas del dataset"
      ]
    },
    {
      "cell_type": "code",
      "execution_count": 9,
      "metadata": {
        "id": "Yy8db6QLo_ur"
      },
      "outputs": [
        {
          "data": {
            "text/html": [
              "<div>\n",
              "<style scoped>\n",
              "    .dataframe tbody tr th:only-of-type {\n",
              "        vertical-align: middle;\n",
              "    }\n",
              "\n",
              "    .dataframe tbody tr th {\n",
              "        vertical-align: top;\n",
              "    }\n",
              "\n",
              "    .dataframe thead th {\n",
              "        text-align: right;\n",
              "    }\n",
              "</style>\n",
              "<table border=\"1\" class=\"dataframe\">\n",
              "  <thead>\n",
              "    <tr style=\"text-align: right;\">\n",
              "      <th></th>\n",
              "      <th>age</th>\n",
              "      <th>male</th>\n",
              "      <th>chest_pain_type</th>\n",
              "      <th>resting_blood_pressure</th>\n",
              "      <th>cholesterol</th>\n",
              "      <th>high_fasting_blood_sugar</th>\n",
              "      <th>resting_electrocardiographic_results</th>\n",
              "      <th>maximum_heart_rate_achieved</th>\n",
              "      <th>exercise_induced_angina</th>\n",
              "      <th>st_depression_by_exercise</th>\n",
              "      <th>slope_st_by_excercise_peak</th>\n",
              "      <th>number_of_vessels_colored_by_flouroscopy</th>\n",
              "      <th>thalassemia</th>\n",
              "      <th>cardiovascular_disease</th>\n",
              "    </tr>\n",
              "  </thead>\n",
              "  <tbody>\n",
              "    <tr>\n",
              "      <th>0</th>\n",
              "      <td>45</td>\n",
              "      <td>0</td>\n",
              "      <td>typical_angina</td>\n",
              "      <td>138</td>\n",
              "      <td>236</td>\n",
              "      <td>0</td>\n",
              "      <td>0</td>\n",
              "      <td>152</td>\n",
              "      <td>1</td>\n",
              "      <td>0.2</td>\n",
              "      <td>0</td>\n",
              "      <td>0</td>\n",
              "      <td>fixed_defect</td>\n",
              "      <td>1</td>\n",
              "    </tr>\n",
              "    <tr>\n",
              "      <th>1</th>\n",
              "      <td>61</td>\n",
              "      <td>1</td>\n",
              "      <td>typical_angina</td>\n",
              "      <td>120</td>\n",
              "      <td>260</td>\n",
              "      <td>0</td>\n",
              "      <td>1</td>\n",
              "      <td>140</td>\n",
              "      <td>1</td>\n",
              "      <td>3.6</td>\n",
              "      <td>0</td>\n",
              "      <td>1</td>\n",
              "      <td>reversable_defect</td>\n",
              "      <td>0</td>\n",
              "    </tr>\n",
              "    <tr>\n",
              "      <th>2</th>\n",
              "      <td>44</td>\n",
              "      <td>0</td>\n",
              "      <td>non_anginal_pain</td>\n",
              "      <td>108</td>\n",
              "      <td>141</td>\n",
              "      <td>0</td>\n",
              "      <td>1</td>\n",
              "      <td>175</td>\n",
              "      <td>0</td>\n",
              "      <td>0.6</td>\n",
              "      <td>0</td>\n",
              "      <td>0</td>\n",
              "      <td>fixed_defect</td>\n",
              "      <td>1</td>\n",
              "    </tr>\n",
              "    <tr>\n",
              "      <th>3</th>\n",
              "      <td>77</td>\n",
              "      <td>1</td>\n",
              "      <td>typical_angina</td>\n",
              "      <td>125</td>\n",
              "      <td>304</td>\n",
              "      <td>0</td>\n",
              "      <td>0</td>\n",
              "      <td>162</td>\n",
              "      <td>1</td>\n",
              "      <td>0.0</td>\n",
              "      <td>-1</td>\n",
              "      <td>3</td>\n",
              "      <td>fixed_defect</td>\n",
              "      <td>0</td>\n",
              "    </tr>\n",
              "    <tr>\n",
              "      <th>4</th>\n",
              "      <td>35</td>\n",
              "      <td>1</td>\n",
              "      <td>typical_angina</td>\n",
              "      <td>126</td>\n",
              "      <td>282</td>\n",
              "      <td>0</td>\n",
              "      <td>0</td>\n",
              "      <td>156</td>\n",
              "      <td>1</td>\n",
              "      <td>0.0</td>\n",
              "      <td>-1</td>\n",
              "      <td>0</td>\n",
              "      <td>reversable_defect</td>\n",
              "      <td>0</td>\n",
              "    </tr>\n",
              "  </tbody>\n",
              "</table>\n",
              "</div>"
            ],
            "text/plain": [
              "   age  male   chest_pain_type  resting_blood_pressure  cholesterol  \\\n",
              "0   45     0    typical_angina                     138          236   \n",
              "1   61     1    typical_angina                     120          260   \n",
              "2   44     0  non_anginal_pain                     108          141   \n",
              "3   77     1    typical_angina                     125          304   \n",
              "4   35     1    typical_angina                     126          282   \n",
              "\n",
              "   high_fasting_blood_sugar  resting_electrocardiographic_results  \\\n",
              "0                         0                                     0   \n",
              "1                         0                                     1   \n",
              "2                         0                                     1   \n",
              "3                         0                                     0   \n",
              "4                         0                                     0   \n",
              "\n",
              "   maximum_heart_rate_achieved  exercise_induced_angina  \\\n",
              "0                          152                        1   \n",
              "1                          140                        1   \n",
              "2                          175                        0   \n",
              "3                          162                        1   \n",
              "4                          156                        1   \n",
              "\n",
              "   st_depression_by_exercise  slope_st_by_excercise_peak  \\\n",
              "0                        0.2                           0   \n",
              "1                        3.6                           0   \n",
              "2                        0.6                           0   \n",
              "3                        0.0                          -1   \n",
              "4                        0.0                          -1   \n",
              "\n",
              "   number_of_vessels_colored_by_flouroscopy        thalassemia  \\\n",
              "0                                         0       fixed_defect   \n",
              "1                                         1  reversable_defect   \n",
              "2                                         0       fixed_defect   \n",
              "3                                         3       fixed_defect   \n",
              "4                                         0  reversable_defect   \n",
              "\n",
              "   cardiovascular_disease  \n",
              "0                       1  \n",
              "1                       0  \n",
              "2                       1  \n",
              "3                       0  \n",
              "4                       0  "
            ]
          },
          "execution_count": 9,
          "metadata": {},
          "output_type": "execute_result"
        }
      ],
      "source": [
        "df.head()"
      ]
    },
    {
      "cell_type": "code",
      "execution_count": 6,
      "metadata": {
        "id": "Ro-c8oBjq0Zp"
      },
      "outputs": [
        {
          "data": {
            "text/plain": [
              "(301, 14)"
            ]
          },
          "execution_count": 6,
          "metadata": {},
          "output_type": "execute_result"
        }
      ],
      "source": [
        "df.shape "
      ]
    },
    {
      "cell_type": "markdown",
      "metadata": {
        "id": "aaEGqmEFq_EK"
      },
      "source": [
        "El resultado de la celda anterior nos muestra que hay un total de 301 instancias, donde cada una tiene un total de 14 atributos. Para acceder al nombre de cada uno de estos atributos, utilizamos el comando `columns`."
      ]
    },
    {
      "cell_type": "code",
      "execution_count": 7,
      "metadata": {
        "id": "dYe-2dTBrHNx"
      },
      "outputs": [
        {
          "data": {
            "text/plain": [
              "Index(['age', 'male', 'chest_pain_type', 'resting_blood_pressure',\n",
              "       'cholesterol', 'high_fasting_blood_sugar',\n",
              "       'resting_electrocardiographic_results', 'maximum_heart_rate_achieved',\n",
              "       'exercise_induced_angina', 'st_depression_by_exercise',\n",
              "       'slope_st_by_excercise_peak',\n",
              "       'number_of_vessels_colored_by_flouroscopy', 'thalassemia',\n",
              "       'cardiovascular_disease'],\n",
              "      dtype='object')"
            ]
          },
          "execution_count": 7,
          "metadata": {},
          "output_type": "execute_result"
        }
      ],
      "source": [
        "df.columns"
      ]
    },
    {
      "cell_type": "markdown",
      "metadata": {
        "id": "pu1b9n7mR5DR"
      },
      "source": [
        "Luego, podemos utilizar la función `sum`, que nos permite sumar los valores que son `True` en cada columna."
      ]
    },
    {
      "cell_type": "code",
      "execution_count": 11,
      "metadata": {
        "id": "2JyegUTYs17R"
      },
      "outputs": [
        {
          "data": {
            "text/plain": [
              "age                                         0\n",
              "male                                        0\n",
              "chest_pain_type                             0\n",
              "resting_blood_pressure                      0\n",
              "cholesterol                                 0\n",
              "high_fasting_blood_sugar                    0\n",
              "resting_electrocardiographic_results        0\n",
              "maximum_heart_rate_achieved                 0\n",
              "exercise_induced_angina                     0\n",
              "st_depression_by_exercise                   0\n",
              "slope_st_by_excercise_peak                  0\n",
              "number_of_vessels_colored_by_flouroscopy    0\n",
              "thalassemia                                 0\n",
              "cardiovascular_disease                      0\n",
              "dtype: int64"
            ]
          },
          "execution_count": 11,
          "metadata": {},
          "output_type": "execute_result"
        }
      ],
      "source": [
        "df.isnull().sum()"
      ]
    },
    {
      "cell_type": "markdown",
      "metadata": {
        "id": "6haIf2cDto4c"
      },
      "source": [
        "En este caso no tenemos valores nulos, pero si los tuviéramos es importante que sean reemplazados por algún valor. \n",
        "\n",
        "Ahora vamos a analizar nuestro **atributo objetivo**. Este atributo corresponde al valor que nos gustaría predecir a partir de los demás atributos (o parte de ellos). En nuestro caso utilizaremos la columna  *cardiovascular_disease*. Accedamos a ella para ver la naturaleza de los datos."
      ]
    },
    {
      "cell_type": "code",
      "execution_count": 12,
      "metadata": {
        "id": "iRVZG_hKttdH"
      },
      "outputs": [
        {
          "data": {
            "text/plain": [
              "0      1\n",
              "1      0\n",
              "2      1\n",
              "3      0\n",
              "4      0\n",
              "      ..\n",
              "296    0\n",
              "297    1\n",
              "298    1\n",
              "299    0\n",
              "300    0\n",
              "Name: cardiovascular_disease, Length: 301, dtype: int64"
            ]
          },
          "execution_count": 12,
          "metadata": {},
          "output_type": "execute_result"
        }
      ],
      "source": [
        "df[\"cardiovascular_disease\"]"
      ]
    },
    {
      "cell_type": "markdown",
      "metadata": {
        "id": "fFAkiosDSJ_B"
      },
      "source": [
        "Con este resultados podemos concluir que trabajaremos con una clasificación binaria 👀. Otro paso fundamental, es contar la frecuencia de cada uno de los posibles valores pertenecientes a nuestro atributo/variable objetivo. Esto se realiza con la función `value_counts`."
      ]
    },
    {
      "cell_type": "markdown",
      "metadata": {},
      "source": [
        "### ¿Cuando un dataset esta desbalanceado?\n",
        "\n",
        "Un dataset se considera desbalanceado para un problema de clasificación cuando una o varias de las clases están representadas de manera significativamente desproporcionada en comparación con las demás clases. Es decir, cuando la cantidad de ejemplos de una clase es mucho mayor o mucho menor que la cantidad de ejemplos de las otras clases en el conjunto de datos.\n",
        "\n",
        "En un problema de clasificación binaria, un dataset está desbalanceado si una de las clases es dominante y representa la gran mayoría de las muestras, mientras que la otra clase es una minoría significativa. Por ejemplo, si en un conjunto de datos de detección de fraude de tarjetas de crédito, el 99% de las transacciones son no fraudulentas (clase negativa) y solo el 1% son fraudulentas (clase positiva), entonces el dataset está desbalanceado.\n",
        "\n",
        "En el caso de problemas de clasificación multiclase, un dataset está desbalanceado si algunas clases están sobrerepresentadas y otras están subrepresentadas en comparación con la cantidad total de muestras. Por ejemplo, si en un dataset de reconocimiento de especies de flores, una especie representa el 80% de las muestras mientras que las otras especies se dividen en el 20% restante, entonces el dataset está desbalanceado."
      ]
    },
    {
      "cell_type": "code",
      "execution_count": 13,
      "metadata": {
        "id": "PVaXCrXLt3jN"
      },
      "outputs": [
        {
          "data": {
            "text/plain": [
              "cardiovascular_disease\n",
              "1    164\n",
              "0    137\n",
              "Name: count, dtype: int64"
            ]
          },
          "execution_count": 13,
          "metadata": {},
          "output_type": "execute_result"
        }
      ],
      "source": [
        "df[\"cardiovascular_disease\"].value_counts()"
      ]
    },
    {
      "cell_type": "markdown",
      "metadata": {
        "id": "cgze1JsWuWkc"
      },
      "source": [
        "Podemos ver que los datos están prácticamente balanceados; 164 pacientes presentan una enfermedad cardiovascular, mientras que 137 no tienen. En caso que exista un desbalance, hay que aplicar técnicas especiales de balanceo que veremos más adelante en el curso. Ahora sigamos analizando nuestros datos viendo un ejemplo."
      ]
    },
    {
      "cell_type": "code",
      "execution_count": 14,
      "metadata": {
        "id": "uiOYyt7GuwEF"
      },
      "outputs": [
        {
          "data": {
            "text/html": [
              "<div>\n",
              "<style scoped>\n",
              "    .dataframe tbody tr th:only-of-type {\n",
              "        vertical-align: middle;\n",
              "    }\n",
              "\n",
              "    .dataframe tbody tr th {\n",
              "        vertical-align: top;\n",
              "    }\n",
              "\n",
              "    .dataframe thead th {\n",
              "        text-align: right;\n",
              "    }\n",
              "</style>\n",
              "<table border=\"1\" class=\"dataframe\">\n",
              "  <thead>\n",
              "    <tr style=\"text-align: right;\">\n",
              "      <th></th>\n",
              "      <th>age</th>\n",
              "      <th>male</th>\n",
              "      <th>chest_pain_type</th>\n",
              "      <th>resting_blood_pressure</th>\n",
              "      <th>cholesterol</th>\n",
              "      <th>high_fasting_blood_sugar</th>\n",
              "      <th>resting_electrocardiographic_results</th>\n",
              "      <th>maximum_heart_rate_achieved</th>\n",
              "      <th>exercise_induced_angina</th>\n",
              "      <th>st_depression_by_exercise</th>\n",
              "      <th>slope_st_by_excercise_peak</th>\n",
              "      <th>number_of_vessels_colored_by_flouroscopy</th>\n",
              "      <th>thalassemia</th>\n",
              "      <th>cardiovascular_disease</th>\n",
              "    </tr>\n",
              "  </thead>\n",
              "  <tbody>\n",
              "    <tr>\n",
              "      <th>183</th>\n",
              "      <td>52</td>\n",
              "      <td>1</td>\n",
              "      <td>typical_angina</td>\n",
              "      <td>125</td>\n",
              "      <td>212</td>\n",
              "      <td>0</td>\n",
              "      <td>1</td>\n",
              "      <td>168</td>\n",
              "      <td>0</td>\n",
              "      <td>1.0</td>\n",
              "      <td>-1</td>\n",
              "      <td>2</td>\n",
              "      <td>reversable_defect</td>\n",
              "      <td>0</td>\n",
              "    </tr>\n",
              "  </tbody>\n",
              "</table>\n",
              "</div>"
            ],
            "text/plain": [
              "     age  male chest_pain_type  resting_blood_pressure  cholesterol  \\\n",
              "183   52     1  typical_angina                     125          212   \n",
              "\n",
              "     high_fasting_blood_sugar  resting_electrocardiographic_results  \\\n",
              "183                         0                                     1   \n",
              "\n",
              "     maximum_heart_rate_achieved  exercise_induced_angina  \\\n",
              "183                          168                        0   \n",
              "\n",
              "     st_depression_by_exercise  slope_st_by_excercise_peak  \\\n",
              "183                        1.0                          -1   \n",
              "\n",
              "     number_of_vessels_colored_by_flouroscopy        thalassemia  \\\n",
              "183                                         2  reversable_defect   \n",
              "\n",
              "     cardiovascular_disease  \n",
              "183                       0  "
            ]
          },
          "execution_count": 14,
          "metadata": {},
          "output_type": "execute_result"
        }
      ],
      "source": [
        "df.sample(1)"
      ]
    },
    {
      "cell_type": "markdown",
      "metadata": {
        "id": "g5wLI595vM9h"
      },
      "source": [
        "Podemos ver que las columnas *chest_pain_type* y *thalassemia* son atributos con valores de tipo string (palabras). En aprendizaje de máquinas nuestros algoritmos o sistemas están basados en una serie de operaciones matemáticas sobre los datos, lo cual nos permite entrenar y luego realizar predicciones. Debido a esto, los modelos no pueden trabajar directamente con texto y estos deben ser transformados a números.\n",
        "\n",
        "La manera más sencilla de realizar esto es utilizando una transformación **One-Hot**. Esto significa que si tenemos un atributo de tipo string, el cual tiene `n` valores distintos, crearemos un total de `n` columnas nuevas con valores numéricos y binarios. Para ejemplificar, si se tiene una columna con los siguientes valores\n",
        "\n",
        "\n",
        "| chest_pain_type |\n",
        "|--------|\n",
        "| asymptomatic |\n",
        "| non_anginal_pain   |\n",
        "| typical_angina|\n",
        "| atypical_angina |\n",
        "\n",
        "y se transforma utilizando One-Hot Encoding, se generan las siguientes asignaciones columnas:\n",
        "\n",
        "\n",
        "| chest_pain_type_asymptomatic | chest_pain_type_non_anginal_pain | chest_pain_type_typical_angina | chest_pain_type_atypical_angina |\n",
        "|------------------------------|----------------------------------|--------------------------------|---------------------------------|\n",
        "| 1                            | 0                                | 0                              | 0                               |\n",
        "| 0                            | 1                                | 0                              | 0                               |\n",
        "| 0                            | 0                                | 1                              | 0                               |\n",
        "| 0                            | 0                                | 0                              | 1                               |\n",
        "\n",
        "\n",
        "Así, ya no tenemos que lidiar con valores no numéricos, y la cantidad de características aumenta. Para realizar esta transformación podemos utilizar la función `get_dummies`."
      ]
    },
    {
      "cell_type": "code",
      "execution_count": 15,
      "metadata": {
        "id": "x1pkmruDwTgV"
      },
      "outputs": [
        {
          "data": {
            "text/html": [
              "<div>\n",
              "<style scoped>\n",
              "    .dataframe tbody tr th:only-of-type {\n",
              "        vertical-align: middle;\n",
              "    }\n",
              "\n",
              "    .dataframe tbody tr th {\n",
              "        vertical-align: top;\n",
              "    }\n",
              "\n",
              "    .dataframe thead th {\n",
              "        text-align: right;\n",
              "    }\n",
              "</style>\n",
              "<table border=\"1\" class=\"dataframe\">\n",
              "  <thead>\n",
              "    <tr style=\"text-align: right;\">\n",
              "      <th></th>\n",
              "      <th>age</th>\n",
              "      <th>male</th>\n",
              "      <th>resting_blood_pressure</th>\n",
              "      <th>cholesterol</th>\n",
              "      <th>high_fasting_blood_sugar</th>\n",
              "      <th>resting_electrocardiographic_results</th>\n",
              "      <th>maximum_heart_rate_achieved</th>\n",
              "      <th>exercise_induced_angina</th>\n",
              "      <th>st_depression_by_exercise</th>\n",
              "      <th>slope_st_by_excercise_peak</th>\n",
              "      <th>number_of_vessels_colored_by_flouroscopy</th>\n",
              "      <th>cardiovascular_disease</th>\n",
              "      <th>chest_pain_type_asymptomatic</th>\n",
              "      <th>chest_pain_type_atypical_angina</th>\n",
              "      <th>chest_pain_type_non_anginal_pain</th>\n",
              "      <th>chest_pain_type_typical_angina</th>\n",
              "      <th>thalassemia_fixed_defect</th>\n",
              "      <th>thalassemia_normal</th>\n",
              "      <th>thalassemia_reversable_defect</th>\n",
              "    </tr>\n",
              "  </thead>\n",
              "  <tbody>\n",
              "    <tr>\n",
              "      <th>277</th>\n",
              "      <td>41</td>\n",
              "      <td>1</td>\n",
              "      <td>130</td>\n",
              "      <td>214</td>\n",
              "      <td>0</td>\n",
              "      <td>0</td>\n",
              "      <td>168</td>\n",
              "      <td>0</td>\n",
              "      <td>2.0</td>\n",
              "      <td>0</td>\n",
              "      <td>0</td>\n",
              "      <td>1</td>\n",
              "      <td>False</td>\n",
              "      <td>False</td>\n",
              "      <td>True</td>\n",
              "      <td>False</td>\n",
              "      <td>True</td>\n",
              "      <td>False</td>\n",
              "      <td>False</td>\n",
              "    </tr>\n",
              "    <tr>\n",
              "      <th>48</th>\n",
              "      <td>41</td>\n",
              "      <td>1</td>\n",
              "      <td>112</td>\n",
              "      <td>250</td>\n",
              "      <td>0</td>\n",
              "      <td>1</td>\n",
              "      <td>179</td>\n",
              "      <td>0</td>\n",
              "      <td>0.0</td>\n",
              "      <td>-1</td>\n",
              "      <td>0</td>\n",
              "      <td>1</td>\n",
              "      <td>False</td>\n",
              "      <td>False</td>\n",
              "      <td>True</td>\n",
              "      <td>False</td>\n",
              "      <td>True</td>\n",
              "      <td>False</td>\n",
              "      <td>False</td>\n",
              "    </tr>\n",
              "    <tr>\n",
              "      <th>80</th>\n",
              "      <td>34</td>\n",
              "      <td>1</td>\n",
              "      <td>118</td>\n",
              "      <td>182</td>\n",
              "      <td>0</td>\n",
              "      <td>0</td>\n",
              "      <td>174</td>\n",
              "      <td>0</td>\n",
              "      <td>0.0</td>\n",
              "      <td>-1</td>\n",
              "      <td>0</td>\n",
              "      <td>1</td>\n",
              "      <td>True</td>\n",
              "      <td>False</td>\n",
              "      <td>False</td>\n",
              "      <td>False</td>\n",
              "      <td>True</td>\n",
              "      <td>False</td>\n",
              "      <td>False</td>\n",
              "    </tr>\n",
              "  </tbody>\n",
              "</table>\n",
              "</div>"
            ],
            "text/plain": [
              "     age  male  resting_blood_pressure  cholesterol  high_fasting_blood_sugar  \\\n",
              "277   41     1                     130          214                         0   \n",
              "48    41     1                     112          250                         0   \n",
              "80    34     1                     118          182                         0   \n",
              "\n",
              "     resting_electrocardiographic_results  maximum_heart_rate_achieved  \\\n",
              "277                                     0                          168   \n",
              "48                                      1                          179   \n",
              "80                                      0                          174   \n",
              "\n",
              "     exercise_induced_angina  st_depression_by_exercise  \\\n",
              "277                        0                        2.0   \n",
              "48                         0                        0.0   \n",
              "80                         0                        0.0   \n",
              "\n",
              "     slope_st_by_excercise_peak  number_of_vessels_colored_by_flouroscopy  \\\n",
              "277                           0                                         0   \n",
              "48                           -1                                         0   \n",
              "80                           -1                                         0   \n",
              "\n",
              "     cardiovascular_disease  chest_pain_type_asymptomatic  \\\n",
              "277                       1                         False   \n",
              "48                        1                         False   \n",
              "80                        1                          True   \n",
              "\n",
              "     chest_pain_type_atypical_angina  chest_pain_type_non_anginal_pain  \\\n",
              "277                            False                              True   \n",
              "48                             False                              True   \n",
              "80                             False                             False   \n",
              "\n",
              "     chest_pain_type_typical_angina  thalassemia_fixed_defect  \\\n",
              "277                           False                      True   \n",
              "48                            False                      True   \n",
              "80                            False                      True   \n",
              "\n",
              "     thalassemia_normal  thalassemia_reversable_defect  \n",
              "277               False                          False  \n",
              "48                False                          False  \n",
              "80                False                          False  "
            ]
          },
          "execution_count": 15,
          "metadata": {},
          "output_type": "execute_result"
        }
      ],
      "source": [
        "df = pd.get_dummies(df)\n",
        "df.sample(3)"
      ]
    },
    {
      "cell_type": "markdown",
      "metadata": {
        "id": "266x1MIjzglM"
      },
      "source": [
        "**Entrenamiento de modelos**"
      ]
    },
    {
      "cell_type": "markdown",
      "metadata": {
        "id": "LZ51pRHeXYk0"
      },
      "source": [
        "Para poder entrenar nuestros modelos de aprendizaje supervisado debemos separar nuestros datos identificando claramente cuál será nuestra variable objetivo, es decir, la que queremos predecir. \n",
        "\n",
        "Generalmente se utiliza la variable `X` para los atributos de entrada o features, mientras que la variable `y` es el objetivo."
      ]
    },
    {
      "cell_type": "code",
      "execution_count": 16,
      "metadata": {
        "id": "cqOtWGnCXiBF"
      },
      "outputs": [],
      "source": [
        "X = df.drop(\"cardiovascular_disease\", axis=1) # Drop elimina la columna que se especifique, y axis = 1 significa eliminar valores de las columnas"
      ]
    },
    {
      "cell_type": "code",
      "execution_count": 17,
      "metadata": {
        "id": "DqpOMUOyXnW4"
      },
      "outputs": [],
      "source": [
        "y = df['cardiovascular_disease']"
      ]
    },
    {
      "cell_type": "markdown",
      "metadata": {
        "id": "bQiafoy-cwg7"
      },
      "source": [
        "**Support Vector Classification (SVC)**\n",
        "\n"
      ]
    },
    {
      "cell_type": "markdown",
      "metadata": {
        "id": "yvJfSL9bHqBG"
      },
      "source": [
        "Una explicación muy general sobre este modelo, es que representa a los puntos de muestra en el espacio, separando las clases a 2 espacios lo más amplios posibles mediante un hiperplano de separación. Cuando llega un nuevo ejemplo, se analiza a cuál de los dos espacios pertenece para realizar la clasificación. En general, este algoritmo funciona muy bien con datos que son linealmente separables. En caso que no sea así, este algoritmo puede trasladar el problema de un problema no separable linealmente a uno que sí lo es. Veamos como podemos programar un modelo SVC."
      ]
    },
    {
      "cell_type": "code",
      "execution_count": 18,
      "metadata": {
        "id": "nOmOjFUcc3i3"
      },
      "outputs": [],
      "source": [
        "from sklearn.svm import SVC"
      ]
    },
    {
      "cell_type": "markdown",
      "metadata": {
        "id": "v9lYyPT4v6L0"
      },
      "source": [
        "Para evaluar el rendimiento de nuestro modelo utilizamos la función `accuracy_score`. Esta función nos permite obtener la proporción de ejemplos que fueron correctamente clasificados sobre el total."
      ]
    },
    {
      "cell_type": "code",
      "execution_count": 19,
      "metadata": {
        "id": "vPhWTKS5c9k0"
      },
      "outputs": [],
      "source": [
        "from sklearn.metrics import accuracy_score\n",
        "import numpy as np"
      ]
    },
    {
      "cell_type": "code",
      "execution_count": 20,
      "metadata": {
        "id": "xI4PwBWAfhRS"
      },
      "outputs": [],
      "source": [
        "from sklearn.model_selection import train_test_split"
      ]
    },
    {
      "cell_type": "markdown",
      "metadata": {},
      "source": [
        "### ¿Cual es una buena proporcion para los datos de entrenamiento y testeo?\n",
        "\n",
        "Los datos de entrenamiento son el conjunto de datos sobre los que se realiza el entrenamiento real. El conjunto de validación ayuda a mejorar el rendimiento del modelo afinándolo después de cada epoca. El conjunto de prueba nos informa de la precisión final del modelo tras completar la fase de entrenamiento.\n",
        "\n",
        "El conjunto de entrenamiento no debe ser demasiado pequeño; de lo contrario, el modelo no tendrá suficientes datos para aprender. Por otro lado, si el conjunto de validación es demasiado pequeño, las métricas de evaluación como la exactitud, la precisión, la recuperación y la puntuación F1 tendrán una gran varianza y no conducirán a un ajuste adecuado del modelo.\n",
        "\n",
        "En general, poner el 80% de los datos en el conjunto de entrenamiento, el 10% en el conjunto de validación y el 10% en el conjunto de prueba es una buena división para empezar.\n",
        "La división óptima de los conjuntos de prueba, validación y entrenamiento depende de factores como el caso de uso, la estructura del modelo, la dimensión de los datos, etc."
      ]
    },
    {
      "cell_type": "code",
      "execution_count": 21,
      "metadata": {
        "id": "PF-Smf6SYhS6"
      },
      "outputs": [],
      "source": [
        "X_train, X_test, Y_train, Y_test = train_test_split(X, y, test_size=0.3, random_state=12)"
      ]
    },
    {
      "cell_type": "markdown",
      "metadata": {
        "id": "N6vKcUJedB2n"
      },
      "source": [
        "Luego, creamos y entrenamos nuestro modelo sobre el conjunto de entrenamiento."
      ]
    },
    {
      "cell_type": "code",
      "execution_count": 22,
      "metadata": {
        "id": "WNFvBMfAZ938"
      },
      "outputs": [
        {
          "data": {
            "text/html": [
              "<style>#sk-container-id-1 {color: black;}#sk-container-id-1 pre{padding: 0;}#sk-container-id-1 div.sk-toggleable {background-color: white;}#sk-container-id-1 label.sk-toggleable__label {cursor: pointer;display: block;width: 100%;margin-bottom: 0;padding: 0.3em;box-sizing: border-box;text-align: center;}#sk-container-id-1 label.sk-toggleable__label-arrow:before {content: \"▸\";float: left;margin-right: 0.25em;color: #696969;}#sk-container-id-1 label.sk-toggleable__label-arrow:hover:before {color: black;}#sk-container-id-1 div.sk-estimator:hover label.sk-toggleable__label-arrow:before {color: black;}#sk-container-id-1 div.sk-toggleable__content {max-height: 0;max-width: 0;overflow: hidden;text-align: left;background-color: #f0f8ff;}#sk-container-id-1 div.sk-toggleable__content pre {margin: 0.2em;color: black;border-radius: 0.25em;background-color: #f0f8ff;}#sk-container-id-1 input.sk-toggleable__control:checked~div.sk-toggleable__content {max-height: 200px;max-width: 100%;overflow: auto;}#sk-container-id-1 input.sk-toggleable__control:checked~label.sk-toggleable__label-arrow:before {content: \"▾\";}#sk-container-id-1 div.sk-estimator input.sk-toggleable__control:checked~label.sk-toggleable__label {background-color: #d4ebff;}#sk-container-id-1 div.sk-label input.sk-toggleable__control:checked~label.sk-toggleable__label {background-color: #d4ebff;}#sk-container-id-1 input.sk-hidden--visually {border: 0;clip: rect(1px 1px 1px 1px);clip: rect(1px, 1px, 1px, 1px);height: 1px;margin: -1px;overflow: hidden;padding: 0;position: absolute;width: 1px;}#sk-container-id-1 div.sk-estimator {font-family: monospace;background-color: #f0f8ff;border: 1px dotted black;border-radius: 0.25em;box-sizing: border-box;margin-bottom: 0.5em;}#sk-container-id-1 div.sk-estimator:hover {background-color: #d4ebff;}#sk-container-id-1 div.sk-parallel-item::after {content: \"\";width: 100%;border-bottom: 1px solid gray;flex-grow: 1;}#sk-container-id-1 div.sk-label:hover label.sk-toggleable__label {background-color: #d4ebff;}#sk-container-id-1 div.sk-serial::before {content: \"\";position: absolute;border-left: 1px solid gray;box-sizing: border-box;top: 0;bottom: 0;left: 50%;z-index: 0;}#sk-container-id-1 div.sk-serial {display: flex;flex-direction: column;align-items: center;background-color: white;padding-right: 0.2em;padding-left: 0.2em;position: relative;}#sk-container-id-1 div.sk-item {position: relative;z-index: 1;}#sk-container-id-1 div.sk-parallel {display: flex;align-items: stretch;justify-content: center;background-color: white;position: relative;}#sk-container-id-1 div.sk-item::before, #sk-container-id-1 div.sk-parallel-item::before {content: \"\";position: absolute;border-left: 1px solid gray;box-sizing: border-box;top: 0;bottom: 0;left: 50%;z-index: -1;}#sk-container-id-1 div.sk-parallel-item {display: flex;flex-direction: column;z-index: 1;position: relative;background-color: white;}#sk-container-id-1 div.sk-parallel-item:first-child::after {align-self: flex-end;width: 50%;}#sk-container-id-1 div.sk-parallel-item:last-child::after {align-self: flex-start;width: 50%;}#sk-container-id-1 div.sk-parallel-item:only-child::after {width: 0;}#sk-container-id-1 div.sk-dashed-wrapped {border: 1px dashed gray;margin: 0 0.4em 0.5em 0.4em;box-sizing: border-box;padding-bottom: 0.4em;background-color: white;}#sk-container-id-1 div.sk-label label {font-family: monospace;font-weight: bold;display: inline-block;line-height: 1.2em;}#sk-container-id-1 div.sk-label-container {text-align: center;}#sk-container-id-1 div.sk-container {/* jupyter's `normalize.less` sets `[hidden] { display: none; }` but bootstrap.min.css set `[hidden] { display: none !important; }` so we also need the `!important` here to be able to override the default hidden behavior on the sphinx rendered scikit-learn.org. See: https://github.com/scikit-learn/scikit-learn/issues/21755 */display: inline-block !important;position: relative;}#sk-container-id-1 div.sk-text-repr-fallback {display: none;}</style><div id=\"sk-container-id-1\" class=\"sk-top-container\"><div class=\"sk-text-repr-fallback\"><pre>SVC()</pre><b>In a Jupyter environment, please rerun this cell to show the HTML representation or trust the notebook. <br />On GitHub, the HTML representation is unable to render, please try loading this page with nbviewer.org.</b></div><div class=\"sk-container\" hidden><div class=\"sk-item\"><div class=\"sk-estimator sk-toggleable\"><input class=\"sk-toggleable__control sk-hidden--visually\" id=\"sk-estimator-id-1\" type=\"checkbox\" checked><label for=\"sk-estimator-id-1\" class=\"sk-toggleable__label sk-toggleable__label-arrow\">SVC</label><div class=\"sk-toggleable__content\"><pre>SVC()</pre></div></div></div></div></div>"
            ],
            "text/plain": [
              "SVC()"
            ]
          },
          "execution_count": 22,
          "metadata": {},
          "output_type": "execute_result"
        }
      ],
      "source": [
        "svc_model = SVC()\n",
        "svc_model.fit(X_train, Y_train)"
      ]
    },
    {
      "cell_type": "markdown",
      "metadata": {
        "id": "Ibt3z0CYdGy-"
      },
      "source": [
        "Obtenemos las predicciones sobre el conjunto de test y calculamos el rendimiento."
      ]
    },
    {
      "cell_type": "code",
      "execution_count": 23,
      "metadata": {
        "id": "qBJmaHtGaATO"
      },
      "outputs": [],
      "source": [
        "predictions = svc_model.predict(X_test)"
      ]
    },
    {
      "cell_type": "code",
      "execution_count": 24,
      "metadata": {
        "id": "amDYkqOJaHRc"
      },
      "outputs": [
        {
          "name": "stdout",
          "output_type": "stream",
          "text": [
            "El accuracy obtenido por el modelo SVC es: 0.67\n"
          ]
        }
      ],
      "source": [
        "print(f'El accuracy obtenido por el modelo SVC es: {np.round(accuracy_score(Y_test, predictions), 2)}')"
      ]
    },
    {
      "cell_type": "code",
      "execution_count": 25,
      "metadata": {
        "id": "x9zgzGtrKmrP"
      },
      "outputs": [
        {
          "name": "stdout",
          "output_type": "stream",
          "text": [
            "[  1   2   5   7  11  12  13  14  15  19  21  22  23  24  25  26  28  30\n",
            "  32  35  38  42  43  45  54  56  57  59  62  65  68  73  79  83  85  86\n",
            "  87  89  92  96  98 102 106 107 108 110 112 117 118 122 127 131 135 137\n",
            " 143 147 148 149 152 153 154 155 156 157 160 163 164 166 167 170 171 172\n",
            " 173 174 175 176 177 180 183 184 186 190 191 192 194 195 199 200 201 203\n",
            " 205 208   0   3   4   6   8   9  16  17  20  27  31  33  36  37  44  46\n",
            "  47  48  49  51  52  53  55  60  61  63  66  67  69  70  72  75  76  77\n",
            "  80  82  84  88  90  91  93  94  95  97  99 101 105 109 111 113 114 115\n",
            " 116 119 120 121 124 125 126 128 129 130 132 133 134 136 138 139 140 141\n",
            " 144 145 146 150 158 161 162 165 168 169 179 182 185 187 189 193 196 197\n",
            " 202 204 206 207 209]\n"
          ]
        }
      ],
      "source": [
        "# Podemos obtener los indices de los datos que nos permiten crear el hiperplano\n",
        "support_vector_indices = svc_model.support_\n",
        "print(support_vector_indices)"
      ]
    },
    {
      "cell_type": "markdown",
      "metadata": {
        "id": "mWjiUgRvLkuI"
      },
      "source": [
        "Dado que estamos trabajando el múltiples dimensiones no es posible generar un gráfico adecuado, sin embargo, si tuvieramos un problema de clasificación binaria con sólo dos atributos de entrada, podríamos generar visualizaciones como la siguiente. Este método es diferente de una Regresión logistica, ya que busca encontrar la máxima separación entre los conjuntos, no una sóla recta."
      ]
    },
    {
      "cell_type": "markdown",
      "metadata": {
        "id": "AP8Wuq45L2f7"
      },
      "source": [
        "![image info](https://github.com/christianversloot/machine-learning-articles/raw/main/images/support_vectors.png)"
      ]
    },
    {
      "cell_type": "markdown",
      "metadata": {
        "id": "sYrcSDBGwgAI"
      },
      "source": [
        "### Hiperparametros de SVM"
      ]
    },
    {
      "cell_type": "markdown",
      "metadata": {},
      "source": [
        "1.- C (Regularización):\n",
        "* Definición: El parámetro de regularización C controla el equilibrio entre maximizar el margen y minimizar el error de clasificación en el modelo SVM.\n",
        "\n",
        "* Interpretación: Un valor más alto de C permite que el SVM clasifique correctamente más puntos de entrenamiento, incluso si el límite de decisión es más ajustado. Un valor más bajo de C da prioridad a un margen más grande, permitiendo que algunos puntos de entrenamiento se clasifiquen incorrectamente.\n",
        "\n",
        "2.- kernel (Kernel Function):\n",
        "\n",
        "* Definición: El kernel es una función que mapea los datos de entrada a un espacio de mayor dimensión para permitir la clasificación de datos no linealmente separables en el espacio original.\n",
        " \n",
        "* Interpretación: Los kernels más comunes son 'linear' para hiperplanos lineales, 'rbf' (Radial Basis Function) para problemas no lineales y 'poly' para kernels polinómicos. Elegir el kernel adecuado depende de la naturaleza de los datos y si son o no linealmente separables.\n",
        "\n",
        "3.- gamma:\n",
        "\n",
        "* Definición: Parámetro utilizado en los kernels 'rbf' y 'poly' para controlar el alcance de influencia de un solo ejemplo de entrenamiento.\n",
        "\n",
        "* Interpretación: Un valor bajo de gamma implica un alcance más amplio, lo que puede llevar a un modelo sobreajustado. Un valor alto de gamma tiene un alcance más limitado, lo que puede llevar a un modelo poco ajustado.\n",
        "\n",
        "4.- degree:\n",
        "\n",
        "* Definición: Parámetro específico del kernel polinómico que representa el grado del polinomio utilizado en la transformación de características.\n",
        "\n",
        "* Interpretación: Un grado más alto implica una mayor complejidad en el modelo, ya que crea características polinómicas de mayor orden.\n",
        "\n",
        "5.- coef0:\n",
        "\n",
        "* Definición: Parámetro específico de los kernels 'poly' y 'sigmoid' que controla la influencia de los términos de grado más alto en la función del kernel.\n",
        "\n",
        "* Interpretación: Un valor más alto de coef0 da más peso a los términos de grado más alto en la función del kernel.\n",
        "\n",
        "6.- probability:\n",
        "\n",
        "* Definición: Parámetro booleano que indica si el modelo debe habilitar la estimación de probabilidades para las predicciones.\n",
        "\n",
        "* Interpretación: Si se establece en True, se puede utilizar el método predict_proba() para obtener estimaciones de probabilidades en lugar de solo las etiquetas de clase."
      ]
    },
    {
      "cell_type": "markdown",
      "metadata": {},
      "source": [
        "### Primera combinación"
      ]
    },
    {
      "cell_type": "code",
      "execution_count": 26,
      "metadata": {},
      "outputs": [
        {
          "data": {
            "text/html": [
              "<style>#sk-container-id-2 {color: black;}#sk-container-id-2 pre{padding: 0;}#sk-container-id-2 div.sk-toggleable {background-color: white;}#sk-container-id-2 label.sk-toggleable__label {cursor: pointer;display: block;width: 100%;margin-bottom: 0;padding: 0.3em;box-sizing: border-box;text-align: center;}#sk-container-id-2 label.sk-toggleable__label-arrow:before {content: \"▸\";float: left;margin-right: 0.25em;color: #696969;}#sk-container-id-2 label.sk-toggleable__label-arrow:hover:before {color: black;}#sk-container-id-2 div.sk-estimator:hover label.sk-toggleable__label-arrow:before {color: black;}#sk-container-id-2 div.sk-toggleable__content {max-height: 0;max-width: 0;overflow: hidden;text-align: left;background-color: #f0f8ff;}#sk-container-id-2 div.sk-toggleable__content pre {margin: 0.2em;color: black;border-radius: 0.25em;background-color: #f0f8ff;}#sk-container-id-2 input.sk-toggleable__control:checked~div.sk-toggleable__content {max-height: 200px;max-width: 100%;overflow: auto;}#sk-container-id-2 input.sk-toggleable__control:checked~label.sk-toggleable__label-arrow:before {content: \"▾\";}#sk-container-id-2 div.sk-estimator input.sk-toggleable__control:checked~label.sk-toggleable__label {background-color: #d4ebff;}#sk-container-id-2 div.sk-label input.sk-toggleable__control:checked~label.sk-toggleable__label {background-color: #d4ebff;}#sk-container-id-2 input.sk-hidden--visually {border: 0;clip: rect(1px 1px 1px 1px);clip: rect(1px, 1px, 1px, 1px);height: 1px;margin: -1px;overflow: hidden;padding: 0;position: absolute;width: 1px;}#sk-container-id-2 div.sk-estimator {font-family: monospace;background-color: #f0f8ff;border: 1px dotted black;border-radius: 0.25em;box-sizing: border-box;margin-bottom: 0.5em;}#sk-container-id-2 div.sk-estimator:hover {background-color: #d4ebff;}#sk-container-id-2 div.sk-parallel-item::after {content: \"\";width: 100%;border-bottom: 1px solid gray;flex-grow: 1;}#sk-container-id-2 div.sk-label:hover label.sk-toggleable__label {background-color: #d4ebff;}#sk-container-id-2 div.sk-serial::before {content: \"\";position: absolute;border-left: 1px solid gray;box-sizing: border-box;top: 0;bottom: 0;left: 50%;z-index: 0;}#sk-container-id-2 div.sk-serial {display: flex;flex-direction: column;align-items: center;background-color: white;padding-right: 0.2em;padding-left: 0.2em;position: relative;}#sk-container-id-2 div.sk-item {position: relative;z-index: 1;}#sk-container-id-2 div.sk-parallel {display: flex;align-items: stretch;justify-content: center;background-color: white;position: relative;}#sk-container-id-2 div.sk-item::before, #sk-container-id-2 div.sk-parallel-item::before {content: \"\";position: absolute;border-left: 1px solid gray;box-sizing: border-box;top: 0;bottom: 0;left: 50%;z-index: -1;}#sk-container-id-2 div.sk-parallel-item {display: flex;flex-direction: column;z-index: 1;position: relative;background-color: white;}#sk-container-id-2 div.sk-parallel-item:first-child::after {align-self: flex-end;width: 50%;}#sk-container-id-2 div.sk-parallel-item:last-child::after {align-self: flex-start;width: 50%;}#sk-container-id-2 div.sk-parallel-item:only-child::after {width: 0;}#sk-container-id-2 div.sk-dashed-wrapped {border: 1px dashed gray;margin: 0 0.4em 0.5em 0.4em;box-sizing: border-box;padding-bottom: 0.4em;background-color: white;}#sk-container-id-2 div.sk-label label {font-family: monospace;font-weight: bold;display: inline-block;line-height: 1.2em;}#sk-container-id-2 div.sk-label-container {text-align: center;}#sk-container-id-2 div.sk-container {/* jupyter's `normalize.less` sets `[hidden] { display: none; }` but bootstrap.min.css set `[hidden] { display: none !important; }` so we also need the `!important` here to be able to override the default hidden behavior on the sphinx rendered scikit-learn.org. See: https://github.com/scikit-learn/scikit-learn/issues/21755 */display: inline-block !important;position: relative;}#sk-container-id-2 div.sk-text-repr-fallback {display: none;}</style><div id=\"sk-container-id-2\" class=\"sk-top-container\"><div class=\"sk-text-repr-fallback\"><pre>SVC(kernel=&#x27;linear&#x27;)</pre><b>In a Jupyter environment, please rerun this cell to show the HTML representation or trust the notebook. <br />On GitHub, the HTML representation is unable to render, please try loading this page with nbviewer.org.</b></div><div class=\"sk-container\" hidden><div class=\"sk-item\"><div class=\"sk-estimator sk-toggleable\"><input class=\"sk-toggleable__control sk-hidden--visually\" id=\"sk-estimator-id-2\" type=\"checkbox\" checked><label for=\"sk-estimator-id-2\" class=\"sk-toggleable__label sk-toggleable__label-arrow\">SVC</label><div class=\"sk-toggleable__content\"><pre>SVC(kernel=&#x27;linear&#x27;)</pre></div></div></div></div></div>"
            ],
            "text/plain": [
              "SVC(kernel='linear')"
            ]
          },
          "execution_count": 26,
          "metadata": {},
          "output_type": "execute_result"
        }
      ],
      "source": [
        "svc_model_1 = SVC( kernel='linear', C= 1.0)\n",
        "svc_model_1.fit(X_train, Y_train)"
      ]
    },
    {
      "cell_type": "code",
      "execution_count": 27,
      "metadata": {},
      "outputs": [],
      "source": [
        "predictions = svc_model_1.predict(X_test)"
      ]
    },
    {
      "cell_type": "code",
      "execution_count": 28,
      "metadata": {},
      "outputs": [
        {
          "name": "stdout",
          "output_type": "stream",
          "text": [
            "El accuracy obtenido por el modelo 1 de SVC es: 0.78\n"
          ]
        }
      ],
      "source": [
        "print(f'El accuracy obtenido por el modelo 1 de SVC es: {np.round(accuracy_score(Y_test, predictions), 2)}')"
      ]
    },
    {
      "cell_type": "markdown",
      "metadata": {},
      "source": [
        "### Segunda combinación"
      ]
    },
    {
      "cell_type": "code",
      "execution_count": 29,
      "metadata": {},
      "outputs": [
        {
          "data": {
            "text/html": [
              "<style>#sk-container-id-3 {color: black;}#sk-container-id-3 pre{padding: 0;}#sk-container-id-3 div.sk-toggleable {background-color: white;}#sk-container-id-3 label.sk-toggleable__label {cursor: pointer;display: block;width: 100%;margin-bottom: 0;padding: 0.3em;box-sizing: border-box;text-align: center;}#sk-container-id-3 label.sk-toggleable__label-arrow:before {content: \"▸\";float: left;margin-right: 0.25em;color: #696969;}#sk-container-id-3 label.sk-toggleable__label-arrow:hover:before {color: black;}#sk-container-id-3 div.sk-estimator:hover label.sk-toggleable__label-arrow:before {color: black;}#sk-container-id-3 div.sk-toggleable__content {max-height: 0;max-width: 0;overflow: hidden;text-align: left;background-color: #f0f8ff;}#sk-container-id-3 div.sk-toggleable__content pre {margin: 0.2em;color: black;border-radius: 0.25em;background-color: #f0f8ff;}#sk-container-id-3 input.sk-toggleable__control:checked~div.sk-toggleable__content {max-height: 200px;max-width: 100%;overflow: auto;}#sk-container-id-3 input.sk-toggleable__control:checked~label.sk-toggleable__label-arrow:before {content: \"▾\";}#sk-container-id-3 div.sk-estimator input.sk-toggleable__control:checked~label.sk-toggleable__label {background-color: #d4ebff;}#sk-container-id-3 div.sk-label input.sk-toggleable__control:checked~label.sk-toggleable__label {background-color: #d4ebff;}#sk-container-id-3 input.sk-hidden--visually {border: 0;clip: rect(1px 1px 1px 1px);clip: rect(1px, 1px, 1px, 1px);height: 1px;margin: -1px;overflow: hidden;padding: 0;position: absolute;width: 1px;}#sk-container-id-3 div.sk-estimator {font-family: monospace;background-color: #f0f8ff;border: 1px dotted black;border-radius: 0.25em;box-sizing: border-box;margin-bottom: 0.5em;}#sk-container-id-3 div.sk-estimator:hover {background-color: #d4ebff;}#sk-container-id-3 div.sk-parallel-item::after {content: \"\";width: 100%;border-bottom: 1px solid gray;flex-grow: 1;}#sk-container-id-3 div.sk-label:hover label.sk-toggleable__label {background-color: #d4ebff;}#sk-container-id-3 div.sk-serial::before {content: \"\";position: absolute;border-left: 1px solid gray;box-sizing: border-box;top: 0;bottom: 0;left: 50%;z-index: 0;}#sk-container-id-3 div.sk-serial {display: flex;flex-direction: column;align-items: center;background-color: white;padding-right: 0.2em;padding-left: 0.2em;position: relative;}#sk-container-id-3 div.sk-item {position: relative;z-index: 1;}#sk-container-id-3 div.sk-parallel {display: flex;align-items: stretch;justify-content: center;background-color: white;position: relative;}#sk-container-id-3 div.sk-item::before, #sk-container-id-3 div.sk-parallel-item::before {content: \"\";position: absolute;border-left: 1px solid gray;box-sizing: border-box;top: 0;bottom: 0;left: 50%;z-index: -1;}#sk-container-id-3 div.sk-parallel-item {display: flex;flex-direction: column;z-index: 1;position: relative;background-color: white;}#sk-container-id-3 div.sk-parallel-item:first-child::after {align-self: flex-end;width: 50%;}#sk-container-id-3 div.sk-parallel-item:last-child::after {align-self: flex-start;width: 50%;}#sk-container-id-3 div.sk-parallel-item:only-child::after {width: 0;}#sk-container-id-3 div.sk-dashed-wrapped {border: 1px dashed gray;margin: 0 0.4em 0.5em 0.4em;box-sizing: border-box;padding-bottom: 0.4em;background-color: white;}#sk-container-id-3 div.sk-label label {font-family: monospace;font-weight: bold;display: inline-block;line-height: 1.2em;}#sk-container-id-3 div.sk-label-container {text-align: center;}#sk-container-id-3 div.sk-container {/* jupyter's `normalize.less` sets `[hidden] { display: none; }` but bootstrap.min.css set `[hidden] { display: none !important; }` so we also need the `!important` here to be able to override the default hidden behavior on the sphinx rendered scikit-learn.org. See: https://github.com/scikit-learn/scikit-learn/issues/21755 */display: inline-block !important;position: relative;}#sk-container-id-3 div.sk-text-repr-fallback {display: none;}</style><div id=\"sk-container-id-3\" class=\"sk-top-container\"><div class=\"sk-text-repr-fallback\"><pre>SVC()</pre><b>In a Jupyter environment, please rerun this cell to show the HTML representation or trust the notebook. <br />On GitHub, the HTML representation is unable to render, please try loading this page with nbviewer.org.</b></div><div class=\"sk-container\" hidden><div class=\"sk-item\"><div class=\"sk-estimator sk-toggleable\"><input class=\"sk-toggleable__control sk-hidden--visually\" id=\"sk-estimator-id-3\" type=\"checkbox\" checked><label for=\"sk-estimator-id-3\" class=\"sk-toggleable__label sk-toggleable__label-arrow\">SVC</label><div class=\"sk-toggleable__content\"><pre>SVC()</pre></div></div></div></div></div>"
            ],
            "text/plain": [
              "SVC()"
            ]
          },
          "execution_count": 29,
          "metadata": {},
          "output_type": "execute_result"
        }
      ],
      "source": [
        "svc_model_2 = SVC( kernel = 'rbf', C = 1.0, gamma = 'scale')\n",
        "svc_model_2.fit(X_train, Y_train)"
      ]
    },
    {
      "cell_type": "code",
      "execution_count": 30,
      "metadata": {},
      "outputs": [],
      "source": [
        "predictions = svc_model_2.predict(X_test)"
      ]
    },
    {
      "cell_type": "code",
      "execution_count": 31,
      "metadata": {},
      "outputs": [
        {
          "name": "stdout",
          "output_type": "stream",
          "text": [
            "El accuracy obtenido por el modelo 2 de SVC es: 0.67\n"
          ]
        }
      ],
      "source": [
        "print(f'El accuracy obtenido por el modelo 2 de SVC es: {np.round(accuracy_score(Y_test, predictions), 2)}')"
      ]
    },
    {
      "cell_type": "markdown",
      "metadata": {},
      "source": [
        "### Tercera combinación"
      ]
    },
    {
      "cell_type": "code",
      "execution_count": 32,
      "metadata": {},
      "outputs": [
        {
          "data": {
            "text/html": [
              "<style>#sk-container-id-4 {color: black;}#sk-container-id-4 pre{padding: 0;}#sk-container-id-4 div.sk-toggleable {background-color: white;}#sk-container-id-4 label.sk-toggleable__label {cursor: pointer;display: block;width: 100%;margin-bottom: 0;padding: 0.3em;box-sizing: border-box;text-align: center;}#sk-container-id-4 label.sk-toggleable__label-arrow:before {content: \"▸\";float: left;margin-right: 0.25em;color: #696969;}#sk-container-id-4 label.sk-toggleable__label-arrow:hover:before {color: black;}#sk-container-id-4 div.sk-estimator:hover label.sk-toggleable__label-arrow:before {color: black;}#sk-container-id-4 div.sk-toggleable__content {max-height: 0;max-width: 0;overflow: hidden;text-align: left;background-color: #f0f8ff;}#sk-container-id-4 div.sk-toggleable__content pre {margin: 0.2em;color: black;border-radius: 0.25em;background-color: #f0f8ff;}#sk-container-id-4 input.sk-toggleable__control:checked~div.sk-toggleable__content {max-height: 200px;max-width: 100%;overflow: auto;}#sk-container-id-4 input.sk-toggleable__control:checked~label.sk-toggleable__label-arrow:before {content: \"▾\";}#sk-container-id-4 div.sk-estimator input.sk-toggleable__control:checked~label.sk-toggleable__label {background-color: #d4ebff;}#sk-container-id-4 div.sk-label input.sk-toggleable__control:checked~label.sk-toggleable__label {background-color: #d4ebff;}#sk-container-id-4 input.sk-hidden--visually {border: 0;clip: rect(1px 1px 1px 1px);clip: rect(1px, 1px, 1px, 1px);height: 1px;margin: -1px;overflow: hidden;padding: 0;position: absolute;width: 1px;}#sk-container-id-4 div.sk-estimator {font-family: monospace;background-color: #f0f8ff;border: 1px dotted black;border-radius: 0.25em;box-sizing: border-box;margin-bottom: 0.5em;}#sk-container-id-4 div.sk-estimator:hover {background-color: #d4ebff;}#sk-container-id-4 div.sk-parallel-item::after {content: \"\";width: 100%;border-bottom: 1px solid gray;flex-grow: 1;}#sk-container-id-4 div.sk-label:hover label.sk-toggleable__label {background-color: #d4ebff;}#sk-container-id-4 div.sk-serial::before {content: \"\";position: absolute;border-left: 1px solid gray;box-sizing: border-box;top: 0;bottom: 0;left: 50%;z-index: 0;}#sk-container-id-4 div.sk-serial {display: flex;flex-direction: column;align-items: center;background-color: white;padding-right: 0.2em;padding-left: 0.2em;position: relative;}#sk-container-id-4 div.sk-item {position: relative;z-index: 1;}#sk-container-id-4 div.sk-parallel {display: flex;align-items: stretch;justify-content: center;background-color: white;position: relative;}#sk-container-id-4 div.sk-item::before, #sk-container-id-4 div.sk-parallel-item::before {content: \"\";position: absolute;border-left: 1px solid gray;box-sizing: border-box;top: 0;bottom: 0;left: 50%;z-index: -1;}#sk-container-id-4 div.sk-parallel-item {display: flex;flex-direction: column;z-index: 1;position: relative;background-color: white;}#sk-container-id-4 div.sk-parallel-item:first-child::after {align-self: flex-end;width: 50%;}#sk-container-id-4 div.sk-parallel-item:last-child::after {align-self: flex-start;width: 50%;}#sk-container-id-4 div.sk-parallel-item:only-child::after {width: 0;}#sk-container-id-4 div.sk-dashed-wrapped {border: 1px dashed gray;margin: 0 0.4em 0.5em 0.4em;box-sizing: border-box;padding-bottom: 0.4em;background-color: white;}#sk-container-id-4 div.sk-label label {font-family: monospace;font-weight: bold;display: inline-block;line-height: 1.2em;}#sk-container-id-4 div.sk-label-container {text-align: center;}#sk-container-id-4 div.sk-container {/* jupyter's `normalize.less` sets `[hidden] { display: none; }` but bootstrap.min.css set `[hidden] { display: none !important; }` so we also need the `!important` here to be able to override the default hidden behavior on the sphinx rendered scikit-learn.org. See: https://github.com/scikit-learn/scikit-learn/issues/21755 */display: inline-block !important;position: relative;}#sk-container-id-4 div.sk-text-repr-fallback {display: none;}</style><div id=\"sk-container-id-4\" class=\"sk-top-container\"><div class=\"sk-text-repr-fallback\"><pre>SVC(kernel=&#x27;poly&#x27;)</pre><b>In a Jupyter environment, please rerun this cell to show the HTML representation or trust the notebook. <br />On GitHub, the HTML representation is unable to render, please try loading this page with nbviewer.org.</b></div><div class=\"sk-container\" hidden><div class=\"sk-item\"><div class=\"sk-estimator sk-toggleable\"><input class=\"sk-toggleable__control sk-hidden--visually\" id=\"sk-estimator-id-4\" type=\"checkbox\" checked><label for=\"sk-estimator-id-4\" class=\"sk-toggleable__label sk-toggleable__label-arrow\">SVC</label><div class=\"sk-toggleable__content\"><pre>SVC(kernel=&#x27;poly&#x27;)</pre></div></div></div></div></div>"
            ],
            "text/plain": [
              "SVC(kernel='poly')"
            ]
          },
          "execution_count": 32,
          "metadata": {},
          "output_type": "execute_result"
        }
      ],
      "source": [
        "svc_model_3 = SVC( kernel = 'poly', C = 1.0, degree = 3)\n",
        "svc_model_3.fit(X_train, Y_train)"
      ]
    },
    {
      "cell_type": "code",
      "execution_count": 33,
      "metadata": {},
      "outputs": [],
      "source": [
        "predictions = svc_model_3.predict(X_test)"
      ]
    },
    {
      "cell_type": "code",
      "execution_count": 34,
      "metadata": {},
      "outputs": [
        {
          "name": "stdout",
          "output_type": "stream",
          "text": [
            "El accuracy obtenido por el modelo 3 de SVC es: 0.68\n"
          ]
        }
      ],
      "source": [
        "print(f'El accuracy obtenido por el modelo 3 de SVC es: {np.round(accuracy_score(Y_test, predictions), 2)}')"
      ]
    },
    {
      "cell_type": "markdown",
      "metadata": {},
      "source": [
        "## Metricas\n",
        "\n",
        "En el aprendizaje automático, cuando trabajamos con modelos de clasificación, es fundamental evaluar el rendimiento de nuestros modelos para comprender cuán bien están haciendo sus predicciones. Existen varias métricas que nos ayudan a medir diferentes aspectos del rendimiento de un clasificador. Aquí, exploraremos cuatro métricas clave: accuracy (exactitud), precision (precisión), recall (recuperación o sensibilidad) y F1-score.\n",
        "\n",
        "Accuracy (Exactitud):\n",
        "\n",
        "* La accuracy es una métrica básica y comúnmente utilizada para evaluar el rendimiento general de un clasificador. Representa la proporción de predicciones correctas realizadas por el modelo en comparación con el número total de predicciones. Es la relación entre las predicciones correctas y el total de observaciones.\n",
        "\n",
        "* Cuando usarlo: La accuracy es adecuada cuando las clases están equilibradas en el conjunto de datos, es decir, cuando la cantidad de ejemplos de cada clase es similar. Sin embargo, puede ser engañosa en conjuntos de datos desequilibrados, donde una clase tiene una frecuencia mucho mayor que otra, ya que el modelo podría ser preciso simplemente prediciendo siempre la clase mayoritaria.\n",
        "\n",
        "Precision (Precisión):\n",
        "\n",
        "* La precision mide la proporción de verdaderos positivos (instancias correctamente clasificadas como positivas) en relación con el total de predicciones positivas realizadas por el clasificador. Es una métrica útil para evaluar cuántos de los ejemplos clasificados como positivos realmente pertenecen a la clase positiva.\n",
        "\n",
        "* Cuando usarlo: La precision es especialmente importante cuando el coste de los falsos positivos es alto, lo que significa que clasificar incorrectamente ejemplos negativos como positivos puede tener consecuencias significativas.\n",
        "\n",
        "Recall (Recuperación o Sensibilidad):\n",
        "\n",
        "* El recall mide la proporción de verdaderos positivos en relación con el total de ejemplos positivos presentes en el conjunto de datos. Es una métrica que nos dice cuántos de los ejemplos positivos el modelo es capaz de recuperar correctamente.\n",
        "\n",
        "* Cuando usarlo: El recall es relevante cuando el coste de los falsos negativos es alto, lo que implica que clasificar incorrectamente ejemplos positivos como negativos puede tener consecuencias graves.\n",
        "\n",
        "F1-score:\n",
        "\n",
        "* El F1-score es una métrica que combina la precisión y el recall en un solo valor, calculando la media armónica entre ambos. Proporciona una medida ponderada del rendimiento del clasificador que tiene en cuenta tanto los falsos positivos como los falsos negativos.\n",
        "\n",
        "* Cuando usarlo: El F1-score es útil cuando se necesita un equilibrio entre la precisión y el recall. Es especialmente relevante en problemas donde las clases están desequilibradas y queremos tener un rendimiento equilibrado en ambas métricas."
      ]
    },
    {
      "cell_type": "code",
      "execution_count": 36,
      "metadata": {},
      "outputs": [
        {
          "name": "stdout",
          "output_type": "stream",
          "text": [
            "Resultados del SVM 1:\n",
            "Accuracy: 0.67\n",
            "Precision: 0.62\n",
            "Recall: 0.94\n",
            "F1-score: 0.75\n",
            "-------------------------\n",
            "Resultados del SVM 2:\n",
            "Accuracy: 0.78\n",
            "Precision: 0.73\n",
            "Recall: 0.91\n",
            "F1-score: 0.81\n",
            "-------------------------\n",
            "Resultados del SVM 3:\n",
            "Accuracy: 0.67\n",
            "Precision: 0.62\n",
            "Recall: 0.94\n",
            "F1-score: 0.75\n",
            "-------------------------\n",
            "Resultados del SVM 4:\n",
            "Accuracy: 0.68\n",
            "Precision: 0.63\n",
            "Recall: 0.94\n",
            "F1-score: 0.75\n",
            "-------------------------\n"
          ]
        }
      ],
      "source": [
        "from sklearn.metrics import accuracy_score, precision_score, recall_score, f1_score\n",
        "\n",
        "svm_configs = [\n",
        "    {}, # por defecto\n",
        "    {'kernel': 'linear', 'C': 1.0},\n",
        "    {'kernel': 'rbf', 'C': 1.0, 'gamma': 'scale'},\n",
        "    {'kernel': 'poly', 'C': 1.0, 'degree': 3}\n",
        "]\n",
        "\n",
        "# Entrenar y evaluar cada versión de SVM\n",
        "for i, config in enumerate(svm_configs):\n",
        "    svm = SVC(**config)\n",
        "    svm.fit(X_train,Y_train)\n",
        "    y_pred = svm.predict(X_test)\n",
        "\n",
        "    # Evaluar el rendimiento del modelo\n",
        "    accuracy = accuracy_score(Y_test, y_pred)\n",
        "    precision = precision_score(Y_test, y_pred)\n",
        "    recall = recall_score(Y_test, y_pred)\n",
        "    f1 = f1_score(Y_test, y_pred)\n",
        "\n",
        "    print(f\"Resultados del SVM {i+1}:\")\n",
        "    print(f\"Accuracy: {accuracy:.2f}\")\n",
        "    print(f\"Precision: {precision:.2f}\")\n",
        "    print(f\"Recall: {recall:.2f}\")\n",
        "    print(f\"F1-score: {f1:.2f}\")\n",
        "    print(\"-------------------------\")"
      ]
    },
    {
      "cell_type": "code",
      "execution_count": 37,
      "metadata": {},
      "outputs": [
        {
          "name": "stdout",
          "output_type": "stream",
          "text": [
            "Resultados del SVM 1:\n",
            "              precision    recall  f1-score   support\n",
            "\n",
            "           0       0.85      0.39      0.53        44\n",
            "           1       0.62      0.94      0.75        47\n",
            "\n",
            "    accuracy                           0.67        91\n",
            "   macro avg       0.73      0.66      0.64        91\n",
            "weighted avg       0.73      0.67      0.64        91\n",
            "\n",
            "-------------------------\n",
            "Resultados del SVM 2:\n",
            "              precision    recall  f1-score   support\n",
            "\n",
            "           0       0.88      0.64      0.74        44\n",
            "           1       0.73      0.91      0.81        47\n",
            "\n",
            "    accuracy                           0.78        91\n",
            "   macro avg       0.80      0.78      0.77        91\n",
            "weighted avg       0.80      0.78      0.78        91\n",
            "\n",
            "-------------------------\n",
            "Resultados del SVM 3:\n",
            "              precision    recall  f1-score   support\n",
            "\n",
            "           0       0.85      0.39      0.53        44\n",
            "           1       0.62      0.94      0.75        47\n",
            "\n",
            "    accuracy                           0.67        91\n",
            "   macro avg       0.73      0.66      0.64        91\n",
            "weighted avg       0.73      0.67      0.64        91\n",
            "\n",
            "-------------------------\n",
            "Resultados del SVM 4:\n",
            "              precision    recall  f1-score   support\n",
            "\n",
            "           0       0.86      0.41      0.55        44\n",
            "           1       0.63      0.94      0.75        47\n",
            "\n",
            "    accuracy                           0.68        91\n",
            "   macro avg       0.74      0.67      0.65        91\n",
            "weighted avg       0.74      0.68      0.66        91\n",
            "\n",
            "-------------------------\n"
          ]
        }
      ],
      "source": [
        "from sklearn.metrics import classification_report\n",
        "\n",
        "svm_configs = [\n",
        "    {}, # por defecto\n",
        "    {'kernel': 'linear', 'C': 1.0},\n",
        "    {'kernel': 'rbf', 'C': 1.0, 'gamma': 'scale'},\n",
        "    {'kernel': 'poly', 'C': 1.0, 'degree': 3}\n",
        "]\n",
        "\n",
        "# Entrenar y evaluar cada versión de SVM\n",
        "for i, config in enumerate(svm_configs):\n",
        "    svm = SVC(**config)\n",
        "    svm.fit(X_train,Y_train)\n",
        "    y_pred = svm.predict(X_test)\n",
        "\n",
        "\n",
        "    print(f\"Resultados del SVM {i+1}:\")\n",
        "    print(classification_report(Y_test, y_pred))\n",
        "    \n",
        "    print(\"-------------------------\")"
      ]
    },
    {
      "cell_type": "code",
      "execution_count": null,
      "metadata": {},
      "outputs": [],
      "source": []
    }
  ],
  "metadata": {
    "accelerator": "GPU",
    "colab": {
      "collapsed_sections": [],
      "name": "Clase práctica 1.ipynb",
      "provenance": [],
      "toc_visible": true
    },
    "gpuClass": "standard",
    "kernelspec": {
      "display_name": "Python 3",
      "name": "python3"
    },
    "language_info": {
      "codemirror_mode": {
        "name": "ipython",
        "version": 3
      },
      "file_extension": ".py",
      "mimetype": "text/x-python",
      "name": "python",
      "nbconvert_exporter": "python",
      "pygments_lexer": "ipython3",
      "version": "3.10.12"
    }
  },
  "nbformat": 4,
  "nbformat_minor": 0
}
