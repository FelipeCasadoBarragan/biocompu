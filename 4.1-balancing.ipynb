{
 "cells": [
  {
   "cell_type": "markdown",
   "metadata": {},
   "source": [
    "# Técnicas de balanceo de clases"
   ]
  },
  {
   "cell_type": "code",
   "execution_count": 1,
   "metadata": {},
   "outputs": [
    {
     "name": "stderr",
     "output_type": "stream",
     "text": [
      "C:\\ProgramData\\Anaconda3\\lib\\site-packages\\numpy\\_distributor_init.py:32: UserWarning: loaded more than 1 DLL from .libs:\n",
      "C:\\ProgramData\\Anaconda3\\lib\\site-packages\\numpy\\.libs\\libopenblas.NOIJJG62EMASZI6NYURL6JBKM4EVBGM7.gfortran-win_amd64.dll\n",
      "C:\\ProgramData\\Anaconda3\\lib\\site-packages\\numpy\\.libs\\libopenblas.WCDJNK7YVMPZQ2ME2ZZHJJRJ3JIKNDB7.gfortran-win_amd64.dll\n",
      "  stacklevel=1)\n"
     ]
    }
   ],
   "source": [
    "import numpy as np\n",
    "import pandas as pd\n",
    "import sklearn.preprocessing\n",
    "import sklearn.linear_model\n",
    "import sklearn.svm\n",
    "import matplotlib.pyplot as plt\n",
    "import imblearn # Bilioteca para aprendizaje desde datos desbalanceados"
   ]
  },
  {
   "cell_type": "code",
   "execution_count": 42,
   "metadata": {},
   "outputs": [
    {
     "data": {
      "text/plain": [
       "'0.7.0'"
      ]
     },
     "execution_count": 42,
     "metadata": {},
     "output_type": "execute_result"
    }
   ],
   "source": [
    "imblearn.__version__"
   ]
  },
  {
   "cell_type": "markdown",
   "metadata": {},
   "source": [
    "El problema del desbalance de clases es que la mayoría de las técnicas de aprendizaje de máquinas podrían subrepresentar y hasta ignorar la clase minoritaria, la cual casi siempre es la más importante en nuestra tarea de clasificación y a la cual enfocamos nuestros esfuerzos para mejorar su rendimiento."
   ]
  },
  {
   "cell_type": "markdown",
   "metadata": {},
   "source": [
    "## Preparación de los datos"
   ]
  },
  {
   "cell_type": "code",
   "execution_count": 2,
   "metadata": {},
   "outputs": [],
   "source": [
    "breast_cancer = pd.read_csv(\"data/breast_cancer.csv\") # Importamos un conjunto de datos de morfologías celulares y su asociación a malignidad."
   ]
  },
  {
   "cell_type": "code",
   "execution_count": 3,
   "metadata": {},
   "outputs": [
    {
     "data": {
      "text/html": [
       "<div>\n",
       "<style scoped>\n",
       "    .dataframe tbody tr th:only-of-type {\n",
       "        vertical-align: middle;\n",
       "    }\n",
       "\n",
       "    .dataframe tbody tr th {\n",
       "        vertical-align: top;\n",
       "    }\n",
       "\n",
       "    .dataframe thead th {\n",
       "        text-align: right;\n",
       "    }\n",
       "</style>\n",
       "<table border=\"1\" class=\"dataframe\">\n",
       "  <thead>\n",
       "    <tr style=\"text-align: right;\">\n",
       "      <th></th>\n",
       "      <th>diagnosis</th>\n",
       "      <th>radius_mean</th>\n",
       "      <th>texture_mean</th>\n",
       "      <th>perimeter_mean</th>\n",
       "      <th>area_mean</th>\n",
       "      <th>smoothness_mean</th>\n",
       "      <th>compactness_mean</th>\n",
       "      <th>concavity_mean</th>\n",
       "      <th>concave points_mean</th>\n",
       "      <th>symmetry_mean</th>\n",
       "      <th>...</th>\n",
       "      <th>radius_worst</th>\n",
       "      <th>texture_worst</th>\n",
       "      <th>perimeter_worst</th>\n",
       "      <th>area_worst</th>\n",
       "      <th>smoothness_worst</th>\n",
       "      <th>compactness_worst</th>\n",
       "      <th>concavity_worst</th>\n",
       "      <th>concave points_worst</th>\n",
       "      <th>symmetry_worst</th>\n",
       "      <th>fractal_dimension_worst</th>\n",
       "    </tr>\n",
       "  </thead>\n",
       "  <tbody>\n",
       "    <tr>\n",
       "      <th>0</th>\n",
       "      <td>B</td>\n",
       "      <td>13.540</td>\n",
       "      <td>14.36</td>\n",
       "      <td>87.46</td>\n",
       "      <td>566.3</td>\n",
       "      <td>9.779</td>\n",
       "      <td>8.129</td>\n",
       "      <td>6.664</td>\n",
       "      <td>4.781</td>\n",
       "      <td>1.885</td>\n",
       "      <td>...</td>\n",
       "      <td>15.110</td>\n",
       "      <td>19.26</td>\n",
       "      <td>99.70</td>\n",
       "      <td>711.2</td>\n",
       "      <td>144.000</td>\n",
       "      <td>1.773</td>\n",
       "      <td>239.000</td>\n",
       "      <td>1.288</td>\n",
       "      <td>2.977</td>\n",
       "      <td>7.259</td>\n",
       "    </tr>\n",
       "    <tr>\n",
       "      <th>1</th>\n",
       "      <td>B</td>\n",
       "      <td>13.080</td>\n",
       "      <td>15.71</td>\n",
       "      <td>85.63</td>\n",
       "      <td>520.0</td>\n",
       "      <td>1.075</td>\n",
       "      <td>127.000</td>\n",
       "      <td>4.568</td>\n",
       "      <td>311.000</td>\n",
       "      <td>1.967</td>\n",
       "      <td>...</td>\n",
       "      <td>14.500</td>\n",
       "      <td>20.49</td>\n",
       "      <td>96.09</td>\n",
       "      <td>630.5</td>\n",
       "      <td>1.312</td>\n",
       "      <td>2.776</td>\n",
       "      <td>189.000</td>\n",
       "      <td>7.283</td>\n",
       "      <td>3.184</td>\n",
       "      <td>8.183</td>\n",
       "    </tr>\n",
       "    <tr>\n",
       "      <th>2</th>\n",
       "      <td>B</td>\n",
       "      <td>9.504</td>\n",
       "      <td>12.44</td>\n",
       "      <td>60.34</td>\n",
       "      <td>273.9</td>\n",
       "      <td>1.024</td>\n",
       "      <td>6.492</td>\n",
       "      <td>2.956</td>\n",
       "      <td>2.076</td>\n",
       "      <td>1.815</td>\n",
       "      <td>...</td>\n",
       "      <td>10.230</td>\n",
       "      <td>15.66</td>\n",
       "      <td>65.13</td>\n",
       "      <td>314.9</td>\n",
       "      <td>1.324</td>\n",
       "      <td>1.148</td>\n",
       "      <td>8.867</td>\n",
       "      <td>6.227</td>\n",
       "      <td>245.000</td>\n",
       "      <td>7.773</td>\n",
       "    </tr>\n",
       "    <tr>\n",
       "      <th>3</th>\n",
       "      <td>B</td>\n",
       "      <td>13.030</td>\n",
       "      <td>18.42</td>\n",
       "      <td>82.61</td>\n",
       "      <td>523.8</td>\n",
       "      <td>8.983</td>\n",
       "      <td>3.766</td>\n",
       "      <td>2.562</td>\n",
       "      <td>2.923</td>\n",
       "      <td>1.467</td>\n",
       "      <td>...</td>\n",
       "      <td>13.300</td>\n",
       "      <td>22.81</td>\n",
       "      <td>84.46</td>\n",
       "      <td>545.9</td>\n",
       "      <td>9.701</td>\n",
       "      <td>4.619</td>\n",
       "      <td>4.833</td>\n",
       "      <td>5.013</td>\n",
       "      <td>1.987</td>\n",
       "      <td>6.169</td>\n",
       "    </tr>\n",
       "    <tr>\n",
       "      <th>4</th>\n",
       "      <td>B</td>\n",
       "      <td>8.196</td>\n",
       "      <td>16.84</td>\n",
       "      <td>51.71</td>\n",
       "      <td>201.9</td>\n",
       "      <td>86.000</td>\n",
       "      <td>5.943</td>\n",
       "      <td>1.588</td>\n",
       "      <td>5.917</td>\n",
       "      <td>1.769</td>\n",
       "      <td>...</td>\n",
       "      <td>8.964</td>\n",
       "      <td>21.96</td>\n",
       "      <td>57.26</td>\n",
       "      <td>242.2</td>\n",
       "      <td>1.297</td>\n",
       "      <td>1.357</td>\n",
       "      <td>688.000</td>\n",
       "      <td>2.564</td>\n",
       "      <td>3.105</td>\n",
       "      <td>7.409</td>\n",
       "    </tr>\n",
       "  </tbody>\n",
       "</table>\n",
       "<p>5 rows × 31 columns</p>\n",
       "</div>"
      ],
      "text/plain": [
       "  diagnosis  radius_mean  texture_mean  perimeter_mean  area_mean  \\\n",
       "0         B       13.540         14.36           87.46      566.3   \n",
       "1         B       13.080         15.71           85.63      520.0   \n",
       "2         B        9.504         12.44           60.34      273.9   \n",
       "3         B       13.030         18.42           82.61      523.8   \n",
       "4         B        8.196         16.84           51.71      201.9   \n",
       "\n",
       "   smoothness_mean  compactness_mean  concavity_mean  concave points_mean  \\\n",
       "0            9.779             8.129           6.664                4.781   \n",
       "1            1.075           127.000           4.568              311.000   \n",
       "2            1.024             6.492           2.956                2.076   \n",
       "3            8.983             3.766           2.562                2.923   \n",
       "4           86.000             5.943           1.588                5.917   \n",
       "\n",
       "   symmetry_mean  ...  radius_worst  texture_worst  perimeter_worst  \\\n",
       "0          1.885  ...        15.110          19.26            99.70   \n",
       "1          1.967  ...        14.500          20.49            96.09   \n",
       "2          1.815  ...        10.230          15.66            65.13   \n",
       "3          1.467  ...        13.300          22.81            84.46   \n",
       "4          1.769  ...         8.964          21.96            57.26   \n",
       "\n",
       "   area_worst  smoothness_worst  compactness_worst  concavity_worst  \\\n",
       "0       711.2           144.000              1.773          239.000   \n",
       "1       630.5             1.312              2.776          189.000   \n",
       "2       314.9             1.324              1.148            8.867   \n",
       "3       545.9             9.701              4.619            4.833   \n",
       "4       242.2             1.297              1.357          688.000   \n",
       "\n",
       "   concave points_worst  symmetry_worst  fractal_dimension_worst  \n",
       "0                 1.288           2.977                    7.259  \n",
       "1                 7.283           3.184                    8.183  \n",
       "2                 6.227         245.000                    7.773  \n",
       "3                 5.013           1.987                    6.169  \n",
       "4                 2.564           3.105                    7.409  \n",
       "\n",
       "[5 rows x 31 columns]"
      ]
     },
     "execution_count": 3,
     "metadata": {},
     "output_type": "execute_result"
    }
   ],
   "source": [
    "breast_cancer.head()"
   ]
  },
  {
   "cell_type": "markdown",
   "metadata": {},
   "source": [
    "La columna diagnosis incluye la etiqueta asociada a esa observación."
   ]
  },
  {
   "cell_type": "code",
   "execution_count": 4,
   "metadata": {},
   "outputs": [
    {
     "data": {
      "text/plain": [
       "B    0.922481\n",
       "M    0.077519\n",
       "Name: diagnosis, dtype: float64"
      ]
     },
     "execution_count": 4,
     "metadata": {},
     "output_type": "execute_result"
    }
   ],
   "source": [
    "breast_cancer.diagnosis.value_counts( # Exploremos el balance de las clases del conjunto de dato\n",
    "    normalize = True # Normalizamos el resultado para obtener la proporción de las clases.\n",
    ")"
   ]
  },
  {
   "cell_type": "markdown",
   "metadata": {},
   "source": [
    "Sólo el 8 % de las observaciones pertenece a la clase M (Maligno)"
   ]
  },
  {
   "cell_type": "code",
   "execution_count": 5,
   "metadata": {},
   "outputs": [],
   "source": [
    "features = breast_cancer.iloc[:,1:] # Seleccionamos sólo las características y las guardamos en una variable.\n",
    "feature_names = features.columns # Guardamos los nombres de las características\n",
    "label = breast_cancer.diagnosis # La columna diagnosis contiene la etiqueta de los datos"
   ]
  },
  {
   "cell_type": "code",
   "execution_count": 6,
   "metadata": {},
   "outputs": [
    {
     "data": {
      "text/plain": [
       "Index(['radius_mean', 'texture_mean', 'perimeter_mean', 'area_mean',\n",
       "       'smoothness_mean', 'compactness_mean', 'concavity_mean',\n",
       "       'concave points_mean', 'symmetry_mean', 'fractal_dimension_mean',\n",
       "       'radius_se', 'texture_se', 'perimeter_se', 'area_se', 'smoothness_se',\n",
       "       'compactness_se', 'concavity_se', 'concave points_se', 'symmetry_se',\n",
       "       'fractal_dimension_se', 'radius_worst', 'texture_worst',\n",
       "       'perimeter_worst', 'area_worst', 'smoothness_worst',\n",
       "       'compactness_worst', 'concavity_worst', 'concave points_worst',\n",
       "       'symmetry_worst', 'fractal_dimension_worst'],\n",
       "      dtype='object')"
      ]
     },
     "execution_count": 6,
     "metadata": {},
     "output_type": "execute_result"
    }
   ],
   "source": [
    "feature_names"
   ]
  },
  {
   "cell_type": "markdown",
   "metadata": {},
   "source": [
    "Primero verificamos los rangos de las variables."
   ]
  },
  {
   "cell_type": "code",
   "execution_count": 7,
   "metadata": {},
   "outputs": [
    {
     "data": {
      "text/html": [
       "<div>\n",
       "<style scoped>\n",
       "    .dataframe tbody tr th:only-of-type {\n",
       "        vertical-align: middle;\n",
       "    }\n",
       "\n",
       "    .dataframe tbody tr th {\n",
       "        vertical-align: top;\n",
       "    }\n",
       "\n",
       "    .dataframe thead th {\n",
       "        text-align: right;\n",
       "    }\n",
       "</style>\n",
       "<table border=\"1\" class=\"dataframe\">\n",
       "  <thead>\n",
       "    <tr style=\"text-align: right;\">\n",
       "      <th></th>\n",
       "      <th>radius_mean</th>\n",
       "      <th>texture_mean</th>\n",
       "      <th>perimeter_mean</th>\n",
       "      <th>area_mean</th>\n",
       "      <th>smoothness_mean</th>\n",
       "      <th>compactness_mean</th>\n",
       "      <th>concavity_mean</th>\n",
       "      <th>concave points_mean</th>\n",
       "      <th>symmetry_mean</th>\n",
       "      <th>fractal_dimension_mean</th>\n",
       "      <th>...</th>\n",
       "      <th>radius_worst</th>\n",
       "      <th>texture_worst</th>\n",
       "      <th>perimeter_worst</th>\n",
       "      <th>area_worst</th>\n",
       "      <th>smoothness_worst</th>\n",
       "      <th>compactness_worst</th>\n",
       "      <th>concavity_worst</th>\n",
       "      <th>concave points_worst</th>\n",
       "      <th>symmetry_worst</th>\n",
       "      <th>fractal_dimension_worst</th>\n",
       "    </tr>\n",
       "  </thead>\n",
       "  <tbody>\n",
       "    <tr>\n",
       "      <th>count</th>\n",
       "      <td>387.000000</td>\n",
       "      <td>387.000000</td>\n",
       "      <td>387.000000</td>\n",
       "      <td>387.000000</td>\n",
       "      <td>387.000000</td>\n",
       "      <td>387.000000</td>\n",
       "      <td>387.000000</td>\n",
       "      <td>387.000000</td>\n",
       "      <td>387.000000</td>\n",
       "      <td>387.000000</td>\n",
       "      <td>...</td>\n",
       "      <td>387.000000</td>\n",
       "      <td>387.000000</td>\n",
       "      <td>387.000000</td>\n",
       "      <td>387.000000</td>\n",
       "      <td>387.000000</td>\n",
       "      <td>387.000000</td>\n",
       "      <td>387.000000</td>\n",
       "      <td>387.000000</td>\n",
       "      <td>387.000000</td>\n",
       "      <td>387.000000</td>\n",
       "    </tr>\n",
       "    <tr>\n",
       "      <th>mean</th>\n",
       "      <td>12.469481</td>\n",
       "      <td>18.113747</td>\n",
       "      <td>80.410465</td>\n",
       "      <td>492.932041</td>\n",
       "      <td>49.744455</td>\n",
       "      <td>35.652729</td>\n",
       "      <td>43.771661</td>\n",
       "      <td>32.595760</td>\n",
       "      <td>21.960455</td>\n",
       "      <td>64.511034</td>\n",
       "      <td>...</td>\n",
       "      <td>13.920488</td>\n",
       "      <td>23.914651</td>\n",
       "      <td>90.925168</td>\n",
       "      <td>618.007752</td>\n",
       "      <td>13.864899</td>\n",
       "      <td>33.948514</td>\n",
       "      <td>39.414204</td>\n",
       "      <td>54.998109</td>\n",
       "      <td>27.036059</td>\n",
       "      <td>59.537822</td>\n",
       "    </tr>\n",
       "    <tr>\n",
       "      <th>std</th>\n",
       "      <td>2.176057</td>\n",
       "      <td>4.041660</td>\n",
       "      <td>14.754203</td>\n",
       "      <td>183.335352</td>\n",
       "      <td>187.941745</td>\n",
       "      <td>135.979181</td>\n",
       "      <td>150.341273</td>\n",
       "      <td>104.720222</td>\n",
       "      <td>58.314459</td>\n",
       "      <td>182.662695</td>\n",
       "      <td>...</td>\n",
       "      <td>2.871213</td>\n",
       "      <td>5.693853</td>\n",
       "      <td>20.076597</td>\n",
       "      <td>295.328421</td>\n",
       "      <td>60.586437</td>\n",
       "      <td>115.481235</td>\n",
       "      <td>133.193922</td>\n",
       "      <td>179.546410</td>\n",
       "      <td>78.141293</td>\n",
       "      <td>195.397602</td>\n",
       "    </tr>\n",
       "    <tr>\n",
       "      <th>min</th>\n",
       "      <td>6.981000</td>\n",
       "      <td>9.710000</td>\n",
       "      <td>43.790000</td>\n",
       "      <td>143.500000</td>\n",
       "      <td>0.110000</td>\n",
       "      <td>0.060000</td>\n",
       "      <td>0.000000</td>\n",
       "      <td>0.000000</td>\n",
       "      <td>0.180000</td>\n",
       "      <td>5.185000</td>\n",
       "      <td>...</td>\n",
       "      <td>7.930000</td>\n",
       "      <td>12.020000</td>\n",
       "      <td>50.410000</td>\n",
       "      <td>185.200000</td>\n",
       "      <td>0.130000</td>\n",
       "      <td>0.100000</td>\n",
       "      <td>0.000000</td>\n",
       "      <td>0.000000</td>\n",
       "      <td>0.210000</td>\n",
       "      <td>0.120000</td>\n",
       "    </tr>\n",
       "    <tr>\n",
       "      <th>25%</th>\n",
       "      <td>11.220000</td>\n",
       "      <td>15.195000</td>\n",
       "      <td>71.490000</td>\n",
       "      <td>386.050000</td>\n",
       "      <td>1.230500</td>\n",
       "      <td>1.997000</td>\n",
       "      <td>2.038000</td>\n",
       "      <td>1.931500</td>\n",
       "      <td>1.597000</td>\n",
       "      <td>5.883000</td>\n",
       "      <td>...</td>\n",
       "      <td>12.320000</td>\n",
       "      <td>19.655000</td>\n",
       "      <td>79.375000</td>\n",
       "      <td>458.000000</td>\n",
       "      <td>1.202500</td>\n",
       "      <td>1.665500</td>\n",
       "      <td>1.606500</td>\n",
       "      <td>1.617000</td>\n",
       "      <td>2.445500</td>\n",
       "      <td>6.774500</td>\n",
       "    </tr>\n",
       "    <tr>\n",
       "      <th>50%</th>\n",
       "      <td>12.340000</td>\n",
       "      <td>17.570000</td>\n",
       "      <td>78.850000</td>\n",
       "      <td>466.100000</td>\n",
       "      <td>8.306000</td>\n",
       "      <td>5.688000</td>\n",
       "      <td>3.735000</td>\n",
       "      <td>2.924000</td>\n",
       "      <td>1.769000</td>\n",
       "      <td>6.246000</td>\n",
       "      <td>...</td>\n",
       "      <td>13.580000</td>\n",
       "      <td>23.070000</td>\n",
       "      <td>88.100000</td>\n",
       "      <td>562.600000</td>\n",
       "      <td>1.338000</td>\n",
       "      <td>2.399000</td>\n",
       "      <td>2.671000</td>\n",
       "      <td>5.602000</td>\n",
       "      <td>2.768000</td>\n",
       "      <td>7.628000</td>\n",
       "    </tr>\n",
       "    <tr>\n",
       "      <th>75%</th>\n",
       "      <td>13.645000</td>\n",
       "      <td>20.200000</td>\n",
       "      <td>87.860000</td>\n",
       "      <td>572.050000</td>\n",
       "      <td>9.264000</td>\n",
       "      <td>7.815500</td>\n",
       "      <td>6.539500</td>\n",
       "      <td>5.548000</td>\n",
       "      <td>1.998000</td>\n",
       "      <td>6.907500</td>\n",
       "      <td>...</td>\n",
       "      <td>15.105000</td>\n",
       "      <td>27.260000</td>\n",
       "      <td>98.955000</td>\n",
       "      <td>700.650000</td>\n",
       "      <td>1.546000</td>\n",
       "      <td>5.805500</td>\n",
       "      <td>6.237000</td>\n",
       "      <td>8.249000</td>\n",
       "      <td>3.159000</td>\n",
       "      <td>8.472500</td>\n",
       "    </tr>\n",
       "    <tr>\n",
       "      <th>max</th>\n",
       "      <td>21.160000</td>\n",
       "      <td>33.810000</td>\n",
       "      <td>137.200000</td>\n",
       "      <td>1404.000000</td>\n",
       "      <td>997.000000</td>\n",
       "      <td>958.000000</td>\n",
       "      <td>973.000000</td>\n",
       "      <td>917.000000</td>\n",
       "      <td>304.000000</td>\n",
       "      <td>898.000000</td>\n",
       "      <td>...</td>\n",
       "      <td>29.170000</td>\n",
       "      <td>41.780000</td>\n",
       "      <td>188.000000</td>\n",
       "      <td>2615.000000</td>\n",
       "      <td>997.000000</td>\n",
       "      <td>937.000000</td>\n",
       "      <td>942.000000</td>\n",
       "      <td>991.000000</td>\n",
       "      <td>353.000000</td>\n",
       "      <td>997.000000</td>\n",
       "    </tr>\n",
       "  </tbody>\n",
       "</table>\n",
       "<p>8 rows × 30 columns</p>\n",
       "</div>"
      ],
      "text/plain": [
       "       radius_mean  texture_mean  perimeter_mean    area_mean  \\\n",
       "count   387.000000    387.000000      387.000000   387.000000   \n",
       "mean     12.469481     18.113747       80.410465   492.932041   \n",
       "std       2.176057      4.041660       14.754203   183.335352   \n",
       "min       6.981000      9.710000       43.790000   143.500000   \n",
       "25%      11.220000     15.195000       71.490000   386.050000   \n",
       "50%      12.340000     17.570000       78.850000   466.100000   \n",
       "75%      13.645000     20.200000       87.860000   572.050000   \n",
       "max      21.160000     33.810000      137.200000  1404.000000   \n",
       "\n",
       "       smoothness_mean  compactness_mean  concavity_mean  concave points_mean  \\\n",
       "count       387.000000        387.000000      387.000000           387.000000   \n",
       "mean         49.744455         35.652729       43.771661            32.595760   \n",
       "std         187.941745        135.979181      150.341273           104.720222   \n",
       "min           0.110000          0.060000        0.000000             0.000000   \n",
       "25%           1.230500          1.997000        2.038000             1.931500   \n",
       "50%           8.306000          5.688000        3.735000             2.924000   \n",
       "75%           9.264000          7.815500        6.539500             5.548000   \n",
       "max         997.000000        958.000000      973.000000           917.000000   \n",
       "\n",
       "       symmetry_mean  fractal_dimension_mean  ...  radius_worst  \\\n",
       "count     387.000000              387.000000  ...    387.000000   \n",
       "mean       21.960455               64.511034  ...     13.920488   \n",
       "std        58.314459              182.662695  ...      2.871213   \n",
       "min         0.180000                5.185000  ...      7.930000   \n",
       "25%         1.597000                5.883000  ...     12.320000   \n",
       "50%         1.769000                6.246000  ...     13.580000   \n",
       "75%         1.998000                6.907500  ...     15.105000   \n",
       "max       304.000000              898.000000  ...     29.170000   \n",
       "\n",
       "       texture_worst  perimeter_worst   area_worst  smoothness_worst  \\\n",
       "count     387.000000       387.000000   387.000000        387.000000   \n",
       "mean       23.914651        90.925168   618.007752         13.864899   \n",
       "std         5.693853        20.076597   295.328421         60.586437   \n",
       "min        12.020000        50.410000   185.200000          0.130000   \n",
       "25%        19.655000        79.375000   458.000000          1.202500   \n",
       "50%        23.070000        88.100000   562.600000          1.338000   \n",
       "75%        27.260000        98.955000   700.650000          1.546000   \n",
       "max        41.780000       188.000000  2615.000000        997.000000   \n",
       "\n",
       "       compactness_worst  concavity_worst  concave points_worst  \\\n",
       "count         387.000000       387.000000            387.000000   \n",
       "mean           33.948514        39.414204             54.998109   \n",
       "std           115.481235       133.193922            179.546410   \n",
       "min             0.100000         0.000000              0.000000   \n",
       "25%             1.665500         1.606500              1.617000   \n",
       "50%             2.399000         2.671000              5.602000   \n",
       "75%             5.805500         6.237000              8.249000   \n",
       "max           937.000000       942.000000            991.000000   \n",
       "\n",
       "       symmetry_worst  fractal_dimension_worst  \n",
       "count      387.000000               387.000000  \n",
       "mean        27.036059                59.537822  \n",
       "std         78.141293               195.397602  \n",
       "min          0.210000                 0.120000  \n",
       "25%          2.445500                 6.774500  \n",
       "50%          2.768000                 7.628000  \n",
       "75%          3.159000                 8.472500  \n",
       "max        353.000000               997.000000  \n",
       "\n",
       "[8 rows x 30 columns]"
      ]
     },
     "execution_count": 7,
     "metadata": {},
     "output_type": "execute_result"
    }
   ],
   "source": [
    "features.describe()"
   ]
  },
  {
   "cell_type": "markdown",
   "metadata": {},
   "source": [
    "Procedemos a escalar los datos porque las características tienen distintos rangos."
   ]
  },
  {
   "cell_type": "code",
   "execution_count": 8,
   "metadata": {},
   "outputs": [],
   "source": [
    "scaler = sklearn.preprocessing.MinMaxScaler() \n",
    "features = pd.DataFrame(scaler.fit_transform(features), columns=feature_names)"
   ]
  },
  {
   "cell_type": "markdown",
   "metadata": {},
   "source": [
    "Ahora todas las características se encuentran en el rango entre 0 y 1."
   ]
  },
  {
   "cell_type": "code",
   "execution_count": 9,
   "metadata": {},
   "outputs": [
    {
     "data": {
      "text/html": [
       "<div>\n",
       "<style scoped>\n",
       "    .dataframe tbody tr th:only-of-type {\n",
       "        vertical-align: middle;\n",
       "    }\n",
       "\n",
       "    .dataframe tbody tr th {\n",
       "        vertical-align: top;\n",
       "    }\n",
       "\n",
       "    .dataframe thead th {\n",
       "        text-align: right;\n",
       "    }\n",
       "</style>\n",
       "<table border=\"1\" class=\"dataframe\">\n",
       "  <thead>\n",
       "    <tr style=\"text-align: right;\">\n",
       "      <th></th>\n",
       "      <th>radius_mean</th>\n",
       "      <th>texture_mean</th>\n",
       "      <th>perimeter_mean</th>\n",
       "      <th>area_mean</th>\n",
       "      <th>smoothness_mean</th>\n",
       "      <th>compactness_mean</th>\n",
       "      <th>concavity_mean</th>\n",
       "      <th>concave points_mean</th>\n",
       "      <th>symmetry_mean</th>\n",
       "      <th>fractal_dimension_mean</th>\n",
       "      <th>...</th>\n",
       "      <th>radius_worst</th>\n",
       "      <th>texture_worst</th>\n",
       "      <th>perimeter_worst</th>\n",
       "      <th>area_worst</th>\n",
       "      <th>smoothness_worst</th>\n",
       "      <th>compactness_worst</th>\n",
       "      <th>concavity_worst</th>\n",
       "      <th>concave points_worst</th>\n",
       "      <th>symmetry_worst</th>\n",
       "      <th>fractal_dimension_worst</th>\n",
       "    </tr>\n",
       "  </thead>\n",
       "  <tbody>\n",
       "    <tr>\n",
       "      <th>count</th>\n",
       "      <td>387.000000</td>\n",
       "      <td>387.000000</td>\n",
       "      <td>387.000000</td>\n",
       "      <td>387.000000</td>\n",
       "      <td>387.000000</td>\n",
       "      <td>387.000000</td>\n",
       "      <td>387.000000</td>\n",
       "      <td>387.000000</td>\n",
       "      <td>387.000000</td>\n",
       "      <td>387.000000</td>\n",
       "      <td>...</td>\n",
       "      <td>387.000000</td>\n",
       "      <td>387.000000</td>\n",
       "      <td>387.000000</td>\n",
       "      <td>387.000000</td>\n",
       "      <td>387.000000</td>\n",
       "      <td>387.000000</td>\n",
       "      <td>387.000000</td>\n",
       "      <td>387.000000</td>\n",
       "      <td>387.000000</td>\n",
       "      <td>387.000000</td>\n",
       "    </tr>\n",
       "    <tr>\n",
       "      <th>mean</th>\n",
       "      <td>0.387085</td>\n",
       "      <td>0.348703</td>\n",
       "      <td>0.392040</td>\n",
       "      <td>0.277217</td>\n",
       "      <td>0.049789</td>\n",
       "      <td>0.037155</td>\n",
       "      <td>0.044986</td>\n",
       "      <td>0.035546</td>\n",
       "      <td>0.071689</td>\n",
       "      <td>0.066448</td>\n",
       "      <td>...</td>\n",
       "      <td>0.282038</td>\n",
       "      <td>0.399686</td>\n",
       "      <td>0.294463</td>\n",
       "      <td>0.178125</td>\n",
       "      <td>0.013778</td>\n",
       "      <td>0.036128</td>\n",
       "      <td>0.041841</td>\n",
       "      <td>0.055498</td>\n",
       "      <td>0.076040</td>\n",
       "      <td>0.059604</td>\n",
       "    </tr>\n",
       "    <tr>\n",
       "      <th>std</th>\n",
       "      <td>0.153470</td>\n",
       "      <td>0.167704</td>\n",
       "      <td>0.157951</td>\n",
       "      <td>0.145447</td>\n",
       "      <td>0.188528</td>\n",
       "      <td>0.141950</td>\n",
       "      <td>0.154513</td>\n",
       "      <td>0.114199</td>\n",
       "      <td>0.191938</td>\n",
       "      <td>0.204592</td>\n",
       "      <td>...</td>\n",
       "      <td>0.135180</td>\n",
       "      <td>0.191326</td>\n",
       "      <td>0.145916</td>\n",
       "      <td>0.121544</td>\n",
       "      <td>0.060777</td>\n",
       "      <td>0.123259</td>\n",
       "      <td>0.141395</td>\n",
       "      <td>0.181177</td>\n",
       "      <td>0.221495</td>\n",
       "      <td>0.196009</td>\n",
       "    </tr>\n",
       "    <tr>\n",
       "      <th>min</th>\n",
       "      <td>0.000000</td>\n",
       "      <td>0.000000</td>\n",
       "      <td>0.000000</td>\n",
       "      <td>0.000000</td>\n",
       "      <td>0.000000</td>\n",
       "      <td>0.000000</td>\n",
       "      <td>0.000000</td>\n",
       "      <td>0.000000</td>\n",
       "      <td>0.000000</td>\n",
       "      <td>0.000000</td>\n",
       "      <td>...</td>\n",
       "      <td>0.000000</td>\n",
       "      <td>0.000000</td>\n",
       "      <td>0.000000</td>\n",
       "      <td>0.000000</td>\n",
       "      <td>0.000000</td>\n",
       "      <td>0.000000</td>\n",
       "      <td>0.000000</td>\n",
       "      <td>0.000000</td>\n",
       "      <td>0.000000</td>\n",
       "      <td>0.000000</td>\n",
       "    </tr>\n",
       "    <tr>\n",
       "      <th>25%</th>\n",
       "      <td>0.298963</td>\n",
       "      <td>0.227593</td>\n",
       "      <td>0.296542</td>\n",
       "      <td>0.192424</td>\n",
       "      <td>0.001124</td>\n",
       "      <td>0.002022</td>\n",
       "      <td>0.002095</td>\n",
       "      <td>0.002106</td>\n",
       "      <td>0.004664</td>\n",
       "      <td>0.000782</td>\n",
       "      <td>...</td>\n",
       "      <td>0.206685</td>\n",
       "      <td>0.256552</td>\n",
       "      <td>0.210517</td>\n",
       "      <td>0.112273</td>\n",
       "      <td>0.001076</td>\n",
       "      <td>0.001671</td>\n",
       "      <td>0.001705</td>\n",
       "      <td>0.001632</td>\n",
       "      <td>0.006337</td>\n",
       "      <td>0.006675</td>\n",
       "    </tr>\n",
       "    <tr>\n",
       "      <th>50%</th>\n",
       "      <td>0.377953</td>\n",
       "      <td>0.326141</td>\n",
       "      <td>0.375335</td>\n",
       "      <td>0.255930</td>\n",
       "      <td>0.008222</td>\n",
       "      <td>0.005875</td>\n",
       "      <td>0.003839</td>\n",
       "      <td>0.003189</td>\n",
       "      <td>0.005230</td>\n",
       "      <td>0.001188</td>\n",
       "      <td>...</td>\n",
       "      <td>0.266008</td>\n",
       "      <td>0.371304</td>\n",
       "      <td>0.273930</td>\n",
       "      <td>0.155321</td>\n",
       "      <td>0.001212</td>\n",
       "      <td>0.002454</td>\n",
       "      <td>0.002835</td>\n",
       "      <td>0.005653</td>\n",
       "      <td>0.007251</td>\n",
       "      <td>0.007531</td>\n",
       "    </tr>\n",
       "    <tr>\n",
       "      <th>75%</th>\n",
       "      <td>0.469991</td>\n",
       "      <td>0.435270</td>\n",
       "      <td>0.471791</td>\n",
       "      <td>0.339984</td>\n",
       "      <td>0.009183</td>\n",
       "      <td>0.008096</td>\n",
       "      <td>0.006721</td>\n",
       "      <td>0.006050</td>\n",
       "      <td>0.005984</td>\n",
       "      <td>0.001929</td>\n",
       "      <td>...</td>\n",
       "      <td>0.337806</td>\n",
       "      <td>0.512097</td>\n",
       "      <td>0.352824</td>\n",
       "      <td>0.212137</td>\n",
       "      <td>0.001420</td>\n",
       "      <td>0.006090</td>\n",
       "      <td>0.006621</td>\n",
       "      <td>0.008324</td>\n",
       "      <td>0.008359</td>\n",
       "      <td>0.008379</td>\n",
       "    </tr>\n",
       "    <tr>\n",
       "      <th>max</th>\n",
       "      <td>1.000000</td>\n",
       "      <td>1.000000</td>\n",
       "      <td>1.000000</td>\n",
       "      <td>1.000000</td>\n",
       "      <td>1.000000</td>\n",
       "      <td>1.000000</td>\n",
       "      <td>1.000000</td>\n",
       "      <td>1.000000</td>\n",
       "      <td>1.000000</td>\n",
       "      <td>1.000000</td>\n",
       "      <td>...</td>\n",
       "      <td>1.000000</td>\n",
       "      <td>1.000000</td>\n",
       "      <td>1.000000</td>\n",
       "      <td>1.000000</td>\n",
       "      <td>1.000000</td>\n",
       "      <td>1.000000</td>\n",
       "      <td>1.000000</td>\n",
       "      <td>1.000000</td>\n",
       "      <td>1.000000</td>\n",
       "      <td>1.000000</td>\n",
       "    </tr>\n",
       "  </tbody>\n",
       "</table>\n",
       "<p>8 rows × 30 columns</p>\n",
       "</div>"
      ],
      "text/plain": [
       "       radius_mean  texture_mean  perimeter_mean   area_mean  smoothness_mean  \\\n",
       "count   387.000000    387.000000      387.000000  387.000000       387.000000   \n",
       "mean      0.387085      0.348703        0.392040    0.277217         0.049789   \n",
       "std       0.153470      0.167704        0.157951    0.145447         0.188528   \n",
       "min       0.000000      0.000000        0.000000    0.000000         0.000000   \n",
       "25%       0.298963      0.227593        0.296542    0.192424         0.001124   \n",
       "50%       0.377953      0.326141        0.375335    0.255930         0.008222   \n",
       "75%       0.469991      0.435270        0.471791    0.339984         0.009183   \n",
       "max       1.000000      1.000000        1.000000    1.000000         1.000000   \n",
       "\n",
       "       compactness_mean  concavity_mean  concave points_mean  symmetry_mean  \\\n",
       "count        387.000000      387.000000           387.000000     387.000000   \n",
       "mean           0.037155        0.044986             0.035546       0.071689   \n",
       "std            0.141950        0.154513             0.114199       0.191938   \n",
       "min            0.000000        0.000000             0.000000       0.000000   \n",
       "25%            0.002022        0.002095             0.002106       0.004664   \n",
       "50%            0.005875        0.003839             0.003189       0.005230   \n",
       "75%            0.008096        0.006721             0.006050       0.005984   \n",
       "max            1.000000        1.000000             1.000000       1.000000   \n",
       "\n",
       "       fractal_dimension_mean  ...  radius_worst  texture_worst  \\\n",
       "count              387.000000  ...    387.000000     387.000000   \n",
       "mean                 0.066448  ...      0.282038       0.399686   \n",
       "std                  0.204592  ...      0.135180       0.191326   \n",
       "min                  0.000000  ...      0.000000       0.000000   \n",
       "25%                  0.000782  ...      0.206685       0.256552   \n",
       "50%                  0.001188  ...      0.266008       0.371304   \n",
       "75%                  0.001929  ...      0.337806       0.512097   \n",
       "max                  1.000000  ...      1.000000       1.000000   \n",
       "\n",
       "       perimeter_worst  area_worst  smoothness_worst  compactness_worst  \\\n",
       "count       387.000000  387.000000        387.000000         387.000000   \n",
       "mean          0.294463    0.178125          0.013778           0.036128   \n",
       "std           0.145916    0.121544          0.060777           0.123259   \n",
       "min           0.000000    0.000000          0.000000           0.000000   \n",
       "25%           0.210517    0.112273          0.001076           0.001671   \n",
       "50%           0.273930    0.155321          0.001212           0.002454   \n",
       "75%           0.352824    0.212137          0.001420           0.006090   \n",
       "max           1.000000    1.000000          1.000000           1.000000   \n",
       "\n",
       "       concavity_worst  concave points_worst  symmetry_worst  \\\n",
       "count       387.000000            387.000000      387.000000   \n",
       "mean          0.041841              0.055498        0.076040   \n",
       "std           0.141395              0.181177        0.221495   \n",
       "min           0.000000              0.000000        0.000000   \n",
       "25%           0.001705              0.001632        0.006337   \n",
       "50%           0.002835              0.005653        0.007251   \n",
       "75%           0.006621              0.008324        0.008359   \n",
       "max           1.000000              1.000000        1.000000   \n",
       "\n",
       "       fractal_dimension_worst  \n",
       "count               387.000000  \n",
       "mean                  0.059604  \n",
       "std                   0.196009  \n",
       "min                   0.000000  \n",
       "25%                   0.006675  \n",
       "50%                   0.007531  \n",
       "75%                   0.008379  \n",
       "max                   1.000000  \n",
       "\n",
       "[8 rows x 30 columns]"
      ]
     },
     "execution_count": 9,
     "metadata": {},
     "output_type": "execute_result"
    }
   ],
   "source": [
    "features.describe()"
   ]
  },
  {
   "cell_type": "code",
   "execution_count": 10,
   "metadata": {},
   "outputs": [],
   "source": [
    "features_train, features_test, label_train, label_test = sklearn.model_selection.train_test_split(\n",
    "    features,\n",
    "    label,\n",
    "    test_size=0.30, \n",
    "    random_state = 11,\n",
    "    stratify = label\n",
    ")"
   ]
  },
  {
   "cell_type": "markdown",
   "metadata": {},
   "source": [
    "Para explorar los datos construiremos un gráfico de dispersión con un par de variables y la etiqueta correspondiente de la observación."
   ]
  },
  {
   "cell_type": "code",
   "execution_count": 11,
   "metadata": {
    "scrolled": true
   },
   "outputs": [
    {
     "data": {
      "image/png": "[encoded data removed]",
      "text/plain": [
       "<Figure size 432x288 with 1 Axes>"
      ]
     },
     "metadata": {
      "needs_background": "light"
     },
     "output_type": "display_data"
    }
   ],
   "source": [
    "plt.scatter(features_train[label_train == \"B\"].area_worst, \n",
    "            features_train[label_train == \"B\"].perimeter_worst, \n",
    "            label=\"B\",\n",
    "            alpha=0.5\n",
    "           )\n",
    "plt.scatter(features_train[label_train == \"M\"].area_worst, \n",
    "            features_train[label_train == \"M\"].perimeter_worst, \n",
    "            label=\"M\",\n",
    "            alpha=0.5\n",
    "           )\n",
    "plt.title(\"Tissue malignancy by cell measurements\")\n",
    "plt.xlabel(\"area_worst\")\n",
    "plt.ylabel(\"perimeter_worst\")\n",
    "plt.legend()\n",
    "plt.show()"
   ]
  },
  {
   "cell_type": "markdown",
   "metadata": {},
   "source": [
    "En el gráfico anterior se puede observar claramente el desbalance de las clases, donde la clase M está sumamente subrepresentada en el conjunto de datos."
   ]
  },
  {
   "cell_type": "markdown",
   "metadata": {},
   "source": [
    "Observemos primero las medidas de tendencia central que tienen las características de la clase M."
   ]
  },
  {
   "cell_type": "code",
   "execution_count": 12,
   "metadata": {},
   "outputs": [
    {
     "data": {
      "text/html": [
       "<div>\n",
       "<style scoped>\n",
       "    .dataframe tbody tr th:only-of-type {\n",
       "        vertical-align: middle;\n",
       "    }\n",
       "\n",
       "    .dataframe tbody tr th {\n",
       "        vertical-align: top;\n",
       "    }\n",
       "\n",
       "    .dataframe thead th {\n",
       "        text-align: right;\n",
       "    }\n",
       "</style>\n",
       "<table border=\"1\" class=\"dataframe\">\n",
       "  <thead>\n",
       "    <tr style=\"text-align: right;\">\n",
       "      <th></th>\n",
       "      <th>radius_mean</th>\n",
       "      <th>texture_mean</th>\n",
       "      <th>perimeter_mean</th>\n",
       "      <th>area_mean</th>\n",
       "      <th>smoothness_mean</th>\n",
       "      <th>compactness_mean</th>\n",
       "      <th>concavity_mean</th>\n",
       "      <th>concave points_mean</th>\n",
       "      <th>symmetry_mean</th>\n",
       "      <th>fractal_dimension_mean</th>\n",
       "      <th>...</th>\n",
       "      <th>radius_worst</th>\n",
       "      <th>texture_worst</th>\n",
       "      <th>perimeter_worst</th>\n",
       "      <th>area_worst</th>\n",
       "      <th>smoothness_worst</th>\n",
       "      <th>compactness_worst</th>\n",
       "      <th>concavity_worst</th>\n",
       "      <th>concave points_worst</th>\n",
       "      <th>symmetry_worst</th>\n",
       "      <th>fractal_dimension_worst</th>\n",
       "    </tr>\n",
       "  </thead>\n",
       "  <tbody>\n",
       "    <tr>\n",
       "      <th>count</th>\n",
       "      <td>21.000000</td>\n",
       "      <td>21.000000</td>\n",
       "      <td>21.000000</td>\n",
       "      <td>21.000000</td>\n",
       "      <td>21.000000</td>\n",
       "      <td>21.000000</td>\n",
       "      <td>21.000000</td>\n",
       "      <td>21.000000</td>\n",
       "      <td>21.000000</td>\n",
       "      <td>21.000000</td>\n",
       "      <td>...</td>\n",
       "      <td>21.000000</td>\n",
       "      <td>21.000000</td>\n",
       "      <td>21.000000</td>\n",
       "      <td>21.000000</td>\n",
       "      <td>21.000000</td>\n",
       "      <td>21.000000</td>\n",
       "      <td>21.000000</td>\n",
       "      <td>21.000000</td>\n",
       "      <td>21.000000</td>\n",
       "      <td>21.000000</td>\n",
       "    </tr>\n",
       "    <tr>\n",
       "      <th>mean</th>\n",
       "      <td>0.663486</td>\n",
       "      <td>0.439123</td>\n",
       "      <td>0.692003</td>\n",
       "      <td>0.573061</td>\n",
       "      <td>0.141615</td>\n",
       "      <td>0.010819</td>\n",
       "      <td>0.062898</td>\n",
       "      <td>0.057599</td>\n",
       "      <td>0.073993</td>\n",
       "      <td>0.038804</td>\n",
       "      <td>...</td>\n",
       "      <td>0.580890</td>\n",
       "      <td>0.543859</td>\n",
       "      <td>0.622038</td>\n",
       "      <td>0.467213</td>\n",
       "      <td>0.007940</td>\n",
       "      <td>0.030168</td>\n",
       "      <td>0.031266</td>\n",
       "      <td>0.058382</td>\n",
       "      <td>0.046244</td>\n",
       "      <td>0.013335</td>\n",
       "    </tr>\n",
       "    <tr>\n",
       "      <th>std</th>\n",
       "      <td>0.217471</td>\n",
       "      <td>0.126019</td>\n",
       "      <td>0.212234</td>\n",
       "      <td>0.256124</td>\n",
       "      <td>0.344882</td>\n",
       "      <td>0.028494</td>\n",
       "      <td>0.197477</td>\n",
       "      <td>0.216554</td>\n",
       "      <td>0.215491</td>\n",
       "      <td>0.153229</td>\n",
       "      <td>...</td>\n",
       "      <td>0.201722</td>\n",
       "      <td>0.185848</td>\n",
       "      <td>0.199145</td>\n",
       "      <td>0.241883</td>\n",
       "      <td>0.030101</td>\n",
       "      <td>0.084298</td>\n",
       "      <td>0.123956</td>\n",
       "      <td>0.092937</td>\n",
       "      <td>0.167898</td>\n",
       "      <td>0.036844</td>\n",
       "    </tr>\n",
       "    <tr>\n",
       "      <th>min</th>\n",
       "      <td>0.313069</td>\n",
       "      <td>0.188797</td>\n",
       "      <td>0.361739</td>\n",
       "      <td>0.192463</td>\n",
       "      <td>0.000896</td>\n",
       "      <td>0.000983</td>\n",
       "      <td>0.001127</td>\n",
       "      <td>0.001137</td>\n",
       "      <td>0.004615</td>\n",
       "      <td>0.000104</td>\n",
       "      <td>...</td>\n",
       "      <td>0.328625</td>\n",
       "      <td>0.156250</td>\n",
       "      <td>0.343339</td>\n",
       "      <td>0.157420</td>\n",
       "      <td>0.000910</td>\n",
       "      <td>0.000171</td>\n",
       "      <td>0.000425</td>\n",
       "      <td>0.001129</td>\n",
       "      <td>0.006040</td>\n",
       "      <td>0.000906</td>\n",
       "    </tr>\n",
       "    <tr>\n",
       "      <th>25%</th>\n",
       "      <td>0.475986</td>\n",
       "      <td>0.373029</td>\n",
       "      <td>0.533241</td>\n",
       "      <td>0.344942</td>\n",
       "      <td>0.001014</td>\n",
       "      <td>0.001286</td>\n",
       "      <td>0.001567</td>\n",
       "      <td>0.005735</td>\n",
       "      <td>0.005312</td>\n",
       "      <td>0.000624</td>\n",
       "      <td>...</td>\n",
       "      <td>0.419492</td>\n",
       "      <td>0.486559</td>\n",
       "      <td>0.447634</td>\n",
       "      <td>0.289530</td>\n",
       "      <td>0.001248</td>\n",
       "      <td>0.002153</td>\n",
       "      <td>0.002843</td>\n",
       "      <td>0.001640</td>\n",
       "      <td>0.007404</td>\n",
       "      <td>0.001286</td>\n",
       "    </tr>\n",
       "    <tr>\n",
       "      <th>50%</th>\n",
       "      <td>0.625503</td>\n",
       "      <td>0.461411</td>\n",
       "      <td>0.641366</td>\n",
       "      <td>0.507100</td>\n",
       "      <td>0.001319</td>\n",
       "      <td>0.001655</td>\n",
       "      <td>0.002187</td>\n",
       "      <td>0.008431</td>\n",
       "      <td>0.005974</td>\n",
       "      <td>0.001080</td>\n",
       "      <td>...</td>\n",
       "      <td>0.568738</td>\n",
       "      <td>0.540995</td>\n",
       "      <td>0.614071</td>\n",
       "      <td>0.428760</td>\n",
       "      <td>0.001338</td>\n",
       "      <td>0.004059</td>\n",
       "      <td>0.004017</td>\n",
       "      <td>0.002228</td>\n",
       "      <td>0.009598</td>\n",
       "      <td>0.007429</td>\n",
       "    </tr>\n",
       "    <tr>\n",
       "      <th>75%</th>\n",
       "      <td>0.859652</td>\n",
       "      <td>0.516183</td>\n",
       "      <td>0.922920</td>\n",
       "      <td>0.777073</td>\n",
       "      <td>0.009751</td>\n",
       "      <td>0.002439</td>\n",
       "      <td>0.010149</td>\n",
       "      <td>0.009578</td>\n",
       "      <td>0.006981</td>\n",
       "      <td>0.002797</td>\n",
       "      <td>...</td>\n",
       "      <td>0.703861</td>\n",
       "      <td>0.633737</td>\n",
       "      <td>0.741987</td>\n",
       "      <td>0.584739</td>\n",
       "      <td>0.001529</td>\n",
       "      <td>0.006248</td>\n",
       "      <td>0.005880</td>\n",
       "      <td>0.150353</td>\n",
       "      <td>0.011780</td>\n",
       "      <td>0.008274</td>\n",
       "    </tr>\n",
       "    <tr>\n",
       "      <th>max</th>\n",
       "      <td>1.000000</td>\n",
       "      <td>0.626141</td>\n",
       "      <td>1.000000</td>\n",
       "      <td>1.000000</td>\n",
       "      <td>0.976928</td>\n",
       "      <td>0.113723</td>\n",
       "      <td>0.893114</td>\n",
       "      <td>1.000000</td>\n",
       "      <td>0.772892</td>\n",
       "      <td>0.703186</td>\n",
       "      <td>...</td>\n",
       "      <td>1.000000</td>\n",
       "      <td>0.963038</td>\n",
       "      <td>1.000000</td>\n",
       "      <td>1.000000</td>\n",
       "      <td>0.139306</td>\n",
       "      <td>0.336108</td>\n",
       "      <td>0.572187</td>\n",
       "      <td>0.245207</td>\n",
       "      <td>0.778905</td>\n",
       "      <td>0.173421</td>\n",
       "    </tr>\n",
       "  </tbody>\n",
       "</table>\n",
       "<p>8 rows × 30 columns</p>\n",
       "</div>"
      ],
      "text/plain": [
       "       radius_mean  texture_mean  perimeter_mean  area_mean  smoothness_mean  \\\n",
       "count    21.000000     21.000000       21.000000  21.000000        21.000000   \n",
       "mean      0.663486      0.439123        0.692003   0.573061         0.141615   \n",
       "std       0.217471      0.126019        0.212234   0.256124         0.344882   \n",
       "min       0.313069      0.188797        0.361739   0.192463         0.000896   \n",
       "25%       0.475986      0.373029        0.533241   0.344942         0.001014   \n",
       "50%       0.625503      0.461411        0.641366   0.507100         0.001319   \n",
       "75%       0.859652      0.516183        0.922920   0.777073         0.009751   \n",
       "max       1.000000      0.626141        1.000000   1.000000         0.976928   \n",
       "\n",
       "       compactness_mean  concavity_mean  concave points_mean  symmetry_mean  \\\n",
       "count         21.000000       21.000000            21.000000      21.000000   \n",
       "mean           0.010819        0.062898             0.057599       0.073993   \n",
       "std            0.028494        0.197477             0.216554       0.215491   \n",
       "min            0.000983        0.001127             0.001137       0.004615   \n",
       "25%            0.001286        0.001567             0.005735       0.005312   \n",
       "50%            0.001655        0.002187             0.008431       0.005974   \n",
       "75%            0.002439        0.010149             0.009578       0.006981   \n",
       "max            0.113723        0.893114             1.000000       0.772892   \n",
       "\n",
       "       fractal_dimension_mean  ...  radius_worst  texture_worst  \\\n",
       "count               21.000000  ...     21.000000      21.000000   \n",
       "mean                 0.038804  ...      0.580890       0.543859   \n",
       "std                  0.153229  ...      0.201722       0.185848   \n",
       "min                  0.000104  ...      0.328625       0.156250   \n",
       "25%                  0.000624  ...      0.419492       0.486559   \n",
       "50%                  0.001080  ...      0.568738       0.540995   \n",
       "75%                  0.002797  ...      0.703861       0.633737   \n",
       "max                  0.703186  ...      1.000000       0.963038   \n",
       "\n",
       "       perimeter_worst  area_worst  smoothness_worst  compactness_worst  \\\n",
       "count        21.000000   21.000000         21.000000          21.000000   \n",
       "mean          0.622038    0.467213          0.007940           0.030168   \n",
       "std           0.199145    0.241883          0.030101           0.084298   \n",
       "min           0.343339    0.157420          0.000910           0.000171   \n",
       "25%           0.447634    0.289530          0.001248           0.002153   \n",
       "50%           0.614071    0.428760          0.001338           0.004059   \n",
       "75%           0.741987    0.584739          0.001529           0.006248   \n",
       "max           1.000000    1.000000          0.139306           0.336108   \n",
       "\n",
       "       concavity_worst  concave points_worst  symmetry_worst  \\\n",
       "count        21.000000             21.000000       21.000000   \n",
       "mean          0.031266              0.058382        0.046244   \n",
       "std           0.123956              0.092937        0.167898   \n",
       "min           0.000425              0.001129        0.006040   \n",
       "25%           0.002843              0.001640        0.007404   \n",
       "50%           0.004017              0.002228        0.009598   \n",
       "75%           0.005880              0.150353        0.011780   \n",
       "max           0.572187              0.245207        0.778905   \n",
       "\n",
       "       fractal_dimension_worst  \n",
       "count                21.000000  \n",
       "mean                  0.013335  \n",
       "std                   0.036844  \n",
       "min                   0.000906  \n",
       "25%                   0.001286  \n",
       "50%                   0.007429  \n",
       "75%                   0.008274  \n",
       "max                   0.173421  \n",
       "\n",
       "[8 rows x 30 columns]"
      ]
     },
     "execution_count": 12,
     "metadata": {},
     "output_type": "execute_result"
    }
   ],
   "source": [
    "features_train[label_train == \"M\"].describe()"
   ]
  },
  {
   "cell_type": "markdown",
   "metadata": {},
   "source": [
    "## Clases desbalanceadas"
   ]
  },
  {
   "cell_type": "markdown",
   "metadata": {},
   "source": [
    "Entrenemos un modelo con las clases desbalanceadas."
   ]
  },
  {
   "cell_type": "code",
   "execution_count": 13,
   "metadata": {},
   "outputs": [
    {
     "data": {
      "text/plain": [
       "LogisticRegression(random_state=11)"
      ]
     },
     "execution_count": 13,
     "metadata": {},
     "output_type": "execute_result"
    }
   ],
   "source": [
    "lr = sklearn.linear_model.LogisticRegression(random_state=11)\n",
    "lr.fit(features_train, label_train)"
   ]
  },
  {
   "cell_type": "code",
   "execution_count": 14,
   "metadata": {},
   "outputs": [],
   "source": [
    "lr_predictions = lr.predict(features_test)"
   ]
  },
  {
   "cell_type": "code",
   "execution_count": 15,
   "metadata": {
    "scrolled": false
   },
   "outputs": [
    {
     "name": "stdout",
     "output_type": "stream",
     "text": [
      "              precision    recall  f1-score   support\n",
      "\n",
      "           B       0.96      1.00      0.98       108\n",
      "           M       1.00      0.56      0.71         9\n",
      "\n",
      "    accuracy                           0.97       117\n",
      "   macro avg       0.98      0.78      0.85       117\n",
      "weighted avg       0.97      0.97      0.96       117\n",
      "\n"
     ]
    }
   ],
   "source": [
    "results = {}\n",
    "results[\"imbalanced\"] = sklearn.metrics.f1_score(label_test, lr_predictions, average = \"weighted\")\n",
    "print(sklearn.metrics.classification_report(label_test, lr_predictions))"
   ]
  },
  {
   "cell_type": "markdown",
   "metadata": {},
   "source": [
    "La métrica que salta a la luz es el bajo recall de la clase M."
   ]
  },
  {
   "cell_type": "markdown",
   "metadata": {},
   "source": [
    "## Submuestreo de la clase mayoritaria"
   ]
  },
  {
   "cell_type": "markdown",
   "metadata": {},
   "source": [
    "El enfoque más ingenuo para corregir el balance de los datos sería utilizar sólo un subconjunto de la clase sobrerepresentada que tenga el mismo tamaño que la clase subrepresentada.\n",
    "\n",
    "Los métodos utilizados para remuestrear las clases se encuentran en la biblioteca imblearn. La técnica enunciada anteriormente se encuentra en la clase imblearn.under_sampling.RandomUnderSampler(). Esta clase implementa métodos para submuestrar al azar la clase mayoritaria para igualar su frecuencia a la de la clase minoritaria."
   ]
  },
  {
   "cell_type": "code",
   "execution_count": 16,
   "metadata": {},
   "outputs": [],
   "source": [
    "rus = imblearn.under_sampling.RandomUnderSampler(random_state=11) # Instanciamos la clase para submuestrear nuestro conjunto de datos.\n",
    "features_train_rus, label_train_rus = rus.fit_resample(features_train, label_train) # Con este método remuestreamos \n",
    "                                                                                    # las características y la etiqueta \n",
    "                                                                                    # y las guardamos en variables"
   ]
  },
  {
   "cell_type": "code",
   "execution_count": 17,
   "metadata": {},
   "outputs": [
    {
     "data": {
      "image/png": "[encoded data removed]",
      "text/plain": [
       "<Figure size 432x288 with 1 Axes>"
      ]
     },
     "metadata": {
      "needs_background": "light"
     },
     "output_type": "display_data"
    }
   ],
   "source": [
    "plt.scatter(features_train_rus[label_train_rus == \"B\"].area_worst, \n",
    "            features_train_rus[label_train_rus == \"B\"].perimeter_worst, \n",
    "            label=\"B\",\n",
    "            alpha=0.5\n",
    "           )\n",
    "plt.scatter(features_train_rus[label_train_rus == \"M\"].area_worst, \n",
    "            features_train_rus[label_train_rus == \"M\"].perimeter_worst, \n",
    "            label=\"M\",\n",
    "            alpha=0.5\n",
    "           )\n",
    "plt.title(\"Tissue malignancy by cell measurements\")\n",
    "plt.xlabel(\"area_worst\")\n",
    "plt.ylabel(\"perimeter_worst\")\n",
    "plt.legend()\n",
    "plt.show()"
   ]
  },
  {
   "cell_type": "markdown",
   "metadata": {},
   "source": [
    "El gráfico nos comunica que sí hay un balance en las clases del conjunto de datos, pero hay significativamente menos datos para entrenar."
   ]
  },
  {
   "cell_type": "code",
   "execution_count": 18,
   "metadata": {},
   "outputs": [
    {
     "data": {
      "text/plain": [
       "LogisticRegression(random_state=11)"
      ]
     },
     "execution_count": 18,
     "metadata": {},
     "output_type": "execute_result"
    }
   ],
   "source": [
    "lr = sklearn.linear_model.LogisticRegression(random_state=11)\n",
    "lr.fit(features_train_rus, label_train_rus)"
   ]
  },
  {
   "cell_type": "code",
   "execution_count": 19,
   "metadata": {},
   "outputs": [],
   "source": [
    "lr_predictions = lr.predict(features_test)"
   ]
  },
  {
   "cell_type": "code",
   "execution_count": 20,
   "metadata": {
    "scrolled": false
   },
   "outputs": [
    {
     "name": "stdout",
     "output_type": "stream",
     "text": [
      "              precision    recall  f1-score   support\n",
      "\n",
      "           B       0.99      0.97      0.98       108\n",
      "           M       0.73      0.89      0.80         9\n",
      "\n",
      "    accuracy                           0.97       117\n",
      "   macro avg       0.86      0.93      0.89       117\n",
      "weighted avg       0.97      0.97      0.97       117\n",
      "\n"
     ]
    }
   ],
   "source": [
    "results[\"rus\"] = sklearn.metrics.f1_score(label_test, lr_predictions, average = \"weighted\")\n",
    "print(sklearn.metrics.classification_report(label_test, lr_predictions))"
   ]
  },
  {
   "cell_type": "markdown",
   "metadata": {},
   "source": [
    "Logramos aumentar el recall de la clase M a a costa de disminuir la precisión, pero nuestras métricas en general aumentaron."
   ]
  },
  {
   "cell_type": "markdown",
   "metadata": {},
   "source": [
    "## Sobremuestreo de la clase minoritaria"
   ]
  },
  {
   "cell_type": "markdown",
   "metadata": {},
   "source": [
    "Otro enfoque simple para resolver el desbalance de las clases es remuestrar la clase minoritaria al multiplicar observaciones de esa clase de manera aleatoria hasta alcanzar la frecuencia de la clase mayoritaria.\n",
    "\n",
    "Esta técnica está implementada en la clase imblearn.over_sampling.RandomOverSampler()."
   ]
  },
  {
   "cell_type": "code",
   "execution_count": 21,
   "metadata": {},
   "outputs": [],
   "source": [
    "ros = imblearn.over_sampling.RandomOverSampler(random_state=11) # Instanciamos la clase para sobremuestrear nuestro conjunto de datos.\n",
    "features_train_ros, label_train_ros = ros.fit_resample(features_train, label_train)"
   ]
  },
  {
   "cell_type": "code",
   "execution_count": 22,
   "metadata": {},
   "outputs": [
    {
     "data": {
      "image/png": "[encoded data removed]",
      "text/plain": [
       "<Figure size 432x288 with 1 Axes>"
      ]
     },
     "metadata": {
      "needs_background": "light"
     },
     "output_type": "display_data"
    }
   ],
   "source": [
    "plt.scatter(features_train_ros[label_train_ros == \"B\"].area_worst, \n",
    "            features_train_ros[label_train_ros == \"B\"].perimeter_worst, \n",
    "            label=\"B\",\n",
    "            alpha=0.5\n",
    "           )\n",
    "plt.scatter(features_train_ros[label_train_ros == \"M\"].area_worst, \n",
    "            features_train_ros[label_train_ros == \"M\"].perimeter_worst, \n",
    "            label=\"M\",\n",
    "            alpha=0.5\n",
    "           )\n",
    "plt.title(\"Tissue malignancy by cell measurements\")\n",
    "plt.xlabel(\"area_worst\")\n",
    "plt.ylabel(\"perimeter_worst\")\n",
    "plt.legend()\n",
    "plt.show()"
   ]
  },
  {
   "cell_type": "markdown",
   "metadata": {},
   "source": [
    "Se evidencia que tenemos una cantidad significativa de datos, pero la clase minoritaria fue aumentada sólo a costa de exactamente los mismos datos de la clase."
   ]
  },
  {
   "cell_type": "code",
   "execution_count": 23,
   "metadata": {},
   "outputs": [
    {
     "data": {
      "text/plain": [
       "LogisticRegression(random_state=11)"
      ]
     },
     "execution_count": 23,
     "metadata": {},
     "output_type": "execute_result"
    }
   ],
   "source": [
    "lr = sklearn.linear_model.LogisticRegression(random_state=11)\n",
    "lr.fit(features_train_ros, label_train_ros)"
   ]
  },
  {
   "cell_type": "code",
   "execution_count": 24,
   "metadata": {},
   "outputs": [],
   "source": [
    "lr_predictions = lr.predict(features_test)"
   ]
  },
  {
   "cell_type": "code",
   "execution_count": 25,
   "metadata": {
    "scrolled": false
   },
   "outputs": [
    {
     "name": "stdout",
     "output_type": "stream",
     "text": [
      "              precision    recall  f1-score   support\n",
      "\n",
      "           B       1.00      0.96      0.98       108\n",
      "           M       0.69      1.00      0.82         9\n",
      "\n",
      "    accuracy                           0.97       117\n",
      "   macro avg       0.85      0.98      0.90       117\n",
      "weighted avg       0.98      0.97      0.97       117\n",
      "\n"
     ]
    }
   ],
   "source": [
    "results[\"ros\"] = sklearn.metrics.f1_score(label_test, lr_predictions, average = \"weighted\")\n",
    "print(sklearn.metrics.classification_report(label_test, lr_predictions))"
   ]
  },
  {
   "cell_type": "markdown",
   "metadata": {},
   "source": [
    "Aumentamos el recall de la clase M y aumentamos las métricas generales del experimento. Este método al parecer es mejor que el anterior, porque en ese se pierde mucha información al eliminar datos."
   ]
  },
  {
   "cell_type": "markdown",
   "metadata": {},
   "source": [
    "## _Synthetic Minority Oversampling Technique_"
   ]
  },
  {
   "cell_type": "markdown",
   "metadata": {},
   "source": [
    "El sobremuestreo al azar no agrega información nueva al conjunto de datos. La técnica que exploraremos ahora sintetiza nuevos datos desde las observaciones con las que cuenta el conjunto de datos.\n",
    "\n",
    "SMOTE crea nuevas observaciones al trazar lineas entre observaciones de la clase minoritaria y agrega al azar una observación sobre esa línea.\n",
    "\n",
    "Esté método está implementado en la clase imblearn.over_sampling.SMOTE()"
   ]
  },
  {
   "cell_type": "code",
   "execution_count": 26,
   "metadata": {},
   "outputs": [],
   "source": [
    "sm = imblearn.over_sampling.SMOTE(random_state=11)\n",
    "features_train_smote, label_train_smote = sm.fit_resample(features_train, label_train)"
   ]
  },
  {
   "cell_type": "code",
   "execution_count": 27,
   "metadata": {},
   "outputs": [
    {
     "data": {
      "image/png": "[encoded data removed]",
      "text/plain": [
       "<Figure size 432x288 with 1 Axes>"
      ]
     },
     "metadata": {
      "needs_background": "light"
     },
     "output_type": "display_data"
    }
   ],
   "source": [
    "plt.scatter(features_train_smote[label_train_smote == \"B\"].area_worst, \n",
    "            features_train_smote[label_train_smote == \"B\"].perimeter_worst, \n",
    "            label=\"B\",\n",
    "            alpha=0.5\n",
    "           )\n",
    "plt.scatter(features_train_smote[label_train_smote == \"M\"].area_worst, \n",
    "            features_train_smote[label_train_smote == \"M\"].perimeter_worst, \n",
    "            label=\"M\",\n",
    "            alpha=0.5\n",
    "           )\n",
    "plt.legend()\n",
    "plt.show()"
   ]
  },
  {
   "cell_type": "markdown",
   "metadata": {},
   "source": [
    "Tenemos un conjunto de datos balanceados y las observaciones sintetizadas siguen la silueta del espacio original."
   ]
  },
  {
   "cell_type": "code",
   "execution_count": 28,
   "metadata": {
    "scrolled": true
   },
   "outputs": [
    {
     "data": {
      "text/html": [
       "<div>\n",
       "<style scoped>\n",
       "    .dataframe tbody tr th:only-of-type {\n",
       "        vertical-align: middle;\n",
       "    }\n",
       "\n",
       "    .dataframe tbody tr th {\n",
       "        vertical-align: top;\n",
       "    }\n",
       "\n",
       "    .dataframe thead th {\n",
       "        text-align: right;\n",
       "    }\n",
       "</style>\n",
       "<table border=\"1\" class=\"dataframe\">\n",
       "  <thead>\n",
       "    <tr style=\"text-align: right;\">\n",
       "      <th></th>\n",
       "      <th>radius_mean</th>\n",
       "      <th>texture_mean</th>\n",
       "      <th>perimeter_mean</th>\n",
       "      <th>area_mean</th>\n",
       "      <th>smoothness_mean</th>\n",
       "      <th>compactness_mean</th>\n",
       "      <th>concavity_mean</th>\n",
       "      <th>concave points_mean</th>\n",
       "      <th>symmetry_mean</th>\n",
       "      <th>fractal_dimension_mean</th>\n",
       "      <th>...</th>\n",
       "      <th>radius_worst</th>\n",
       "      <th>texture_worst</th>\n",
       "      <th>perimeter_worst</th>\n",
       "      <th>area_worst</th>\n",
       "      <th>smoothness_worst</th>\n",
       "      <th>compactness_worst</th>\n",
       "      <th>concavity_worst</th>\n",
       "      <th>concave points_worst</th>\n",
       "      <th>symmetry_worst</th>\n",
       "      <th>fractal_dimension_worst</th>\n",
       "    </tr>\n",
       "  </thead>\n",
       "  <tbody>\n",
       "    <tr>\n",
       "      <th>count</th>\n",
       "      <td>249.000000</td>\n",
       "      <td>249.000000</td>\n",
       "      <td>249.000000</td>\n",
       "      <td>249.000000</td>\n",
       "      <td>249.000000</td>\n",
       "      <td>249.000000</td>\n",
       "      <td>249.000000</td>\n",
       "      <td>249.000000</td>\n",
       "      <td>249.000000</td>\n",
       "      <td>249.000000</td>\n",
       "      <td>...</td>\n",
       "      <td>249.000000</td>\n",
       "      <td>249.000000</td>\n",
       "      <td>249.000000</td>\n",
       "      <td>249.000000</td>\n",
       "      <td>249.000000</td>\n",
       "      <td>249.000000</td>\n",
       "      <td>249.000000</td>\n",
       "      <td>249.000000</td>\n",
       "      <td>249.000000</td>\n",
       "      <td>249.000000</td>\n",
       "    </tr>\n",
       "    <tr>\n",
       "      <th>mean</th>\n",
       "      <td>0.667711</td>\n",
       "      <td>0.435546</td>\n",
       "      <td>0.696743</td>\n",
       "      <td>0.578279</td>\n",
       "      <td>0.147886</td>\n",
       "      <td>0.009209</td>\n",
       "      <td>0.055266</td>\n",
       "      <td>0.045299</td>\n",
       "      <td>0.082338</td>\n",
       "      <td>0.032053</td>\n",
       "      <td>...</td>\n",
       "      <td>0.581314</td>\n",
       "      <td>0.541189</td>\n",
       "      <td>0.624648</td>\n",
       "      <td>0.468427</td>\n",
       "      <td>0.007446</td>\n",
       "      <td>0.033393</td>\n",
       "      <td>0.029157</td>\n",
       "      <td>0.058714</td>\n",
       "      <td>0.040365</td>\n",
       "      <td>0.009861</td>\n",
       "    </tr>\n",
       "    <tr>\n",
       "      <th>std</th>\n",
       "      <td>0.215136</td>\n",
       "      <td>0.132995</td>\n",
       "      <td>0.212213</td>\n",
       "      <td>0.252425</td>\n",
       "      <td>0.344231</td>\n",
       "      <td>0.025292</td>\n",
       "      <td>0.179230</td>\n",
       "      <td>0.185791</td>\n",
       "      <td>0.220165</td>\n",
       "      <td>0.131703</td>\n",
       "      <td>...</td>\n",
       "      <td>0.195194</td>\n",
       "      <td>0.195923</td>\n",
       "      <td>0.193755</td>\n",
       "      <td>0.233539</td>\n",
       "      <td>0.028406</td>\n",
       "      <td>0.086725</td>\n",
       "      <td>0.116995</td>\n",
       "      <td>0.092291</td>\n",
       "      <td>0.151395</td>\n",
       "      <td>0.028081</td>\n",
       "    </tr>\n",
       "    <tr>\n",
       "      <th>min</th>\n",
       "      <td>0.313069</td>\n",
       "      <td>0.188797</td>\n",
       "      <td>0.361739</td>\n",
       "      <td>0.192463</td>\n",
       "      <td>0.000896</td>\n",
       "      <td>0.000983</td>\n",
       "      <td>0.001127</td>\n",
       "      <td>0.001137</td>\n",
       "      <td>0.004615</td>\n",
       "      <td>0.000104</td>\n",
       "      <td>...</td>\n",
       "      <td>0.328625</td>\n",
       "      <td>0.156250</td>\n",
       "      <td>0.343339</td>\n",
       "      <td>0.157420</td>\n",
       "      <td>0.000910</td>\n",
       "      <td>0.000171</td>\n",
       "      <td>0.000425</td>\n",
       "      <td>0.001129</td>\n",
       "      <td>0.006040</td>\n",
       "      <td>0.000906</td>\n",
       "    </tr>\n",
       "    <tr>\n",
       "      <th>25%</th>\n",
       "      <td>0.475986</td>\n",
       "      <td>0.339419</td>\n",
       "      <td>0.533241</td>\n",
       "      <td>0.344942</td>\n",
       "      <td>0.001014</td>\n",
       "      <td>0.001145</td>\n",
       "      <td>0.001567</td>\n",
       "      <td>0.005651</td>\n",
       "      <td>0.005312</td>\n",
       "      <td>0.000624</td>\n",
       "      <td>...</td>\n",
       "      <td>0.419492</td>\n",
       "      <td>0.453965</td>\n",
       "      <td>0.447634</td>\n",
       "      <td>0.289530</td>\n",
       "      <td>0.001212</td>\n",
       "      <td>0.002153</td>\n",
       "      <td>0.002642</td>\n",
       "      <td>0.001624</td>\n",
       "      <td>0.007367</td>\n",
       "      <td>0.001286</td>\n",
       "    </tr>\n",
       "    <tr>\n",
       "      <th>50%</th>\n",
       "      <td>0.625503</td>\n",
       "      <td>0.461411</td>\n",
       "      <td>0.641366</td>\n",
       "      <td>0.507100</td>\n",
       "      <td>0.001319</td>\n",
       "      <td>0.001607</td>\n",
       "      <td>0.002187</td>\n",
       "      <td>0.008431</td>\n",
       "      <td>0.005974</td>\n",
       "      <td>0.001080</td>\n",
       "      <td>...</td>\n",
       "      <td>0.568738</td>\n",
       "      <td>0.540995</td>\n",
       "      <td>0.614071</td>\n",
       "      <td>0.428760</td>\n",
       "      <td>0.001318</td>\n",
       "      <td>0.004059</td>\n",
       "      <td>0.003863</td>\n",
       "      <td>0.002114</td>\n",
       "      <td>0.009598</td>\n",
       "      <td>0.007429</td>\n",
       "    </tr>\n",
       "    <tr>\n",
       "      <th>75%</th>\n",
       "      <td>0.859652</td>\n",
       "      <td>0.535270</td>\n",
       "      <td>0.922920</td>\n",
       "      <td>0.777073</td>\n",
       "      <td>0.009767</td>\n",
       "      <td>0.002439</td>\n",
       "      <td>0.010149</td>\n",
       "      <td>0.009413</td>\n",
       "      <td>0.006981</td>\n",
       "      <td>0.002928</td>\n",
       "      <td>...</td>\n",
       "      <td>0.703861</td>\n",
       "      <td>0.633737</td>\n",
       "      <td>0.741987</td>\n",
       "      <td>0.584739</td>\n",
       "      <td>0.001529</td>\n",
       "      <td>0.006248</td>\n",
       "      <td>0.005880</td>\n",
       "      <td>0.182644</td>\n",
       "      <td>0.011780</td>\n",
       "      <td>0.008121</td>\n",
       "    </tr>\n",
       "    <tr>\n",
       "      <th>max</th>\n",
       "      <td>1.000000</td>\n",
       "      <td>0.626141</td>\n",
       "      <td>1.000000</td>\n",
       "      <td>1.000000</td>\n",
       "      <td>0.976928</td>\n",
       "      <td>0.113723</td>\n",
       "      <td>0.893114</td>\n",
       "      <td>1.000000</td>\n",
       "      <td>0.772892</td>\n",
       "      <td>0.703186</td>\n",
       "      <td>...</td>\n",
       "      <td>1.000000</td>\n",
       "      <td>0.963038</td>\n",
       "      <td>1.000000</td>\n",
       "      <td>1.000000</td>\n",
       "      <td>0.139306</td>\n",
       "      <td>0.336108</td>\n",
       "      <td>0.572187</td>\n",
       "      <td>0.245207</td>\n",
       "      <td>0.778905</td>\n",
       "      <td>0.173421</td>\n",
       "    </tr>\n",
       "  </tbody>\n",
       "</table>\n",
       "<p>8 rows × 30 columns</p>\n",
       "</div>"
      ],
      "text/plain": [
       "       radius_mean  texture_mean  perimeter_mean   area_mean  smoothness_mean  \\\n",
       "count   249.000000    249.000000      249.000000  249.000000       249.000000   \n",
       "mean      0.667711      0.435546        0.696743    0.578279         0.147886   \n",
       "std       0.215136      0.132995        0.212213    0.252425         0.344231   \n",
       "min       0.313069      0.188797        0.361739    0.192463         0.000896   \n",
       "25%       0.475986      0.339419        0.533241    0.344942         0.001014   \n",
       "50%       0.625503      0.461411        0.641366    0.507100         0.001319   \n",
       "75%       0.859652      0.535270        0.922920    0.777073         0.009767   \n",
       "max       1.000000      0.626141        1.000000    1.000000         0.976928   \n",
       "\n",
       "       compactness_mean  concavity_mean  concave points_mean  symmetry_mean  \\\n",
       "count        249.000000      249.000000           249.000000     249.000000   \n",
       "mean           0.009209        0.055266             0.045299       0.082338   \n",
       "std            0.025292        0.179230             0.185791       0.220165   \n",
       "min            0.000983        0.001127             0.001137       0.004615   \n",
       "25%            0.001145        0.001567             0.005651       0.005312   \n",
       "50%            0.001607        0.002187             0.008431       0.005974   \n",
       "75%            0.002439        0.010149             0.009413       0.006981   \n",
       "max            0.113723        0.893114             1.000000       0.772892   \n",
       "\n",
       "       fractal_dimension_mean  ...  radius_worst  texture_worst  \\\n",
       "count              249.000000  ...    249.000000     249.000000   \n",
       "mean                 0.032053  ...      0.581314       0.541189   \n",
       "std                  0.131703  ...      0.195194       0.195923   \n",
       "min                  0.000104  ...      0.328625       0.156250   \n",
       "25%                  0.000624  ...      0.419492       0.453965   \n",
       "50%                  0.001080  ...      0.568738       0.540995   \n",
       "75%                  0.002928  ...      0.703861       0.633737   \n",
       "max                  0.703186  ...      1.000000       0.963038   \n",
       "\n",
       "       perimeter_worst  area_worst  smoothness_worst  compactness_worst  \\\n",
       "count       249.000000  249.000000        249.000000         249.000000   \n",
       "mean          0.624648    0.468427          0.007446           0.033393   \n",
       "std           0.193755    0.233539          0.028406           0.086725   \n",
       "min           0.343339    0.157420          0.000910           0.000171   \n",
       "25%           0.447634    0.289530          0.001212           0.002153   \n",
       "50%           0.614071    0.428760          0.001318           0.004059   \n",
       "75%           0.741987    0.584739          0.001529           0.006248   \n",
       "max           1.000000    1.000000          0.139306           0.336108   \n",
       "\n",
       "       concavity_worst  concave points_worst  symmetry_worst  \\\n",
       "count       249.000000            249.000000      249.000000   \n",
       "mean          0.029157              0.058714        0.040365   \n",
       "std           0.116995              0.092291        0.151395   \n",
       "min           0.000425              0.001129        0.006040   \n",
       "25%           0.002642              0.001624        0.007367   \n",
       "50%           0.003863              0.002114        0.009598   \n",
       "75%           0.005880              0.182644        0.011780   \n",
       "max           0.572187              0.245207        0.778905   \n",
       "\n",
       "       fractal_dimension_worst  \n",
       "count               249.000000  \n",
       "mean                  0.009861  \n",
       "std                   0.028081  \n",
       "min                   0.000906  \n",
       "25%                   0.001286  \n",
       "50%                   0.007429  \n",
       "75%                   0.008121  \n",
       "max                   0.173421  \n",
       "\n",
       "[8 rows x 30 columns]"
      ]
     },
     "execution_count": 28,
     "metadata": {},
     "output_type": "execute_result"
    }
   ],
   "source": [
    "features_train_ros[label_train_smote == \"M\"].describe()"
   ]
  },
  {
   "cell_type": "markdown",
   "metadata": {},
   "source": [
    "Al revisar las medidas de tendencia central podemos darnos cuenta que no cambian respecto a las originales."
   ]
  },
  {
   "cell_type": "code",
   "execution_count": 29,
   "metadata": {},
   "outputs": [
    {
     "data": {
      "text/plain": [
       "LogisticRegression(random_state=11)"
      ]
     },
     "execution_count": 29,
     "metadata": {},
     "output_type": "execute_result"
    }
   ],
   "source": [
    "lr = sklearn.linear_model.LogisticRegression(random_state=11)\n",
    "lr.fit(features_train_smote, label_train_smote)"
   ]
  },
  {
   "cell_type": "code",
   "execution_count": 30,
   "metadata": {},
   "outputs": [],
   "source": [
    "lr_predictions = lr.predict(features_test)"
   ]
  },
  {
   "cell_type": "code",
   "execution_count": 31,
   "metadata": {
    "scrolled": false
   },
   "outputs": [
    {
     "name": "stdout",
     "output_type": "stream",
     "text": [
      "              precision    recall  f1-score   support\n",
      "\n",
      "           B       0.99      0.96      0.98       108\n",
      "           M       0.67      0.89      0.76         9\n",
      "\n",
      "    accuracy                           0.96       117\n",
      "   macro avg       0.83      0.93      0.87       117\n",
      "weighted avg       0.97      0.96      0.96       117\n",
      "\n"
     ]
    }
   ],
   "source": [
    "results[\"smote\"] = sklearn.metrics.f1_score(label_test, lr_predictions, average = \"weighted\")\n",
    "print(sklearn.metrics.classification_report(label_test, lr_predictions))"
   ]
  },
  {
   "cell_type": "markdown",
   "metadata": {},
   "source": [
    "Con esta técnica, obtenermos resultados similares con el sobremuestreo de la clase minoritaria."
   ]
  },
  {
   "cell_type": "markdown",
   "metadata": {},
   "source": [
    "## _Synthetic Minority Oversampling Technique_ + Submuestro de la clase mayoritaria + Balanceo parcial del conjunto de datos"
   ]
  },
  {
   "cell_type": "markdown",
   "metadata": {},
   "source": [
    "Los autores de SMOTE recomiendan realizar paralelamente un submuestreo de la clase mayoritaria para poder obtener mejores resultados"
   ]
  },
  {
   "cell_type": "code",
   "execution_count": 32,
   "metadata": {},
   "outputs": [],
   "source": [
    "sm = imblearn.over_sampling.SMOTE(sampling_strategy=0.3,random_state=11) # Hacemos SMOTe hasta obtener un balance de 30% de la clase minoritaria\n",
    "rus = imblearn.under_sampling.RandomUnderSampler(sampling_strategy=0.5,random_state=11) # Hacemos submuestreo hasta obtener un balance del 50%\n",
    "steps = [('SMOTE', sm), ('RUS', rus)] # Ponemos ambos pasos\n",
    "sm_rus = imblearn.pipeline.Pipeline(steps=steps) # Creamos un pipeline para realizar ambas tareas\n",
    "features_train_sm_rus, label_train_sm_rus = sm_rus.fit_resample(features_train, label_train)"
   ]
  },
  {
   "cell_type": "code",
   "execution_count": 33,
   "metadata": {},
   "outputs": [
    {
     "data": {
      "image/png": "[encoded data removed]",
      "text/plain": [
       "<Figure size 432x288 with 1 Axes>"
      ]
     },
     "metadata": {
      "needs_background": "light"
     },
     "output_type": "display_data"
    }
   ],
   "source": [
    "plt.scatter(features_train_sm_rus[label_train_sm_rus == \"B\"].area_worst, \n",
    "            features_train_sm_rus[label_train_sm_rus == \"B\"].perimeter_worst, \n",
    "            label=\"B\",\n",
    "            alpha=0.5\n",
    "           )\n",
    "plt.scatter(features_train_sm_rus[label_train_sm_rus == \"M\"].area_worst, \n",
    "            features_train_sm_rus[label_train_sm_rus == \"M\"].perimeter_worst, \n",
    "            label=\"M\",\n",
    "            alpha=0.5\n",
    "           )\n",
    "plt.legend()\n",
    "plt.show()"
   ]
  },
  {
   "cell_type": "code",
   "execution_count": 34,
   "metadata": {},
   "outputs": [
    {
     "data": {
      "text/plain": [
       "LogisticRegression(random_state=11)"
      ]
     },
     "execution_count": 34,
     "metadata": {},
     "output_type": "execute_result"
    }
   ],
   "source": [
    "lr = sklearn.linear_model.LogisticRegression(random_state=11)\n",
    "lr.fit(features_train_sm_rus, label_train_sm_rus)"
   ]
  },
  {
   "cell_type": "code",
   "execution_count": 35,
   "metadata": {},
   "outputs": [],
   "source": [
    "lr_predictions = lr.predict(features_test)"
   ]
  },
  {
   "cell_type": "code",
   "execution_count": 36,
   "metadata": {
    "scrolled": false
   },
   "outputs": [
    {
     "name": "stdout",
     "output_type": "stream",
     "text": [
      "              precision    recall  f1-score   support\n",
      "\n",
      "           B       0.99      0.98      0.99       108\n",
      "           M       0.80      0.89      0.84         9\n",
      "\n",
      "    accuracy                           0.97       117\n",
      "   macro avg       0.90      0.94      0.91       117\n",
      "weighted avg       0.98      0.97      0.97       117\n",
      "\n"
     ]
    }
   ],
   "source": [
    "results[\"combination\"] = sklearn.metrics.f1_score(label_test, lr_predictions, average = \"weighted\")\n",
    "print(sklearn.metrics.classification_report(label_test, lr_predictions))"
   ]
  },
  {
   "cell_type": "markdown",
   "metadata": {},
   "source": [
    "Pudimos mejorar las métricas y esta técnica es la que mejor se comporta"
   ]
  },
  {
   "cell_type": "markdown",
   "metadata": {},
   "source": [
    "## Resumen"
   ]
  },
  {
   "cell_type": "code",
   "execution_count": 41,
   "metadata": {},
   "outputs": [
    {
     "data": {
      "text/plain": [
       "(0.9, 1.0)"
      ]
     },
     "execution_count": 41,
     "metadata": {},
     "output_type": "execute_result"
    },
    {
     "data": {
      "image/png": "[encoded data removed]",
      "text/plain": [
       "<Figure size 432x288 with 1 Axes>"
      ]
     },
     "metadata": {
      "needs_background": "light"
     },
     "output_type": "display_data"
    }
   ],
   "source": [
    "plt.bar(\n",
    "    x = results.keys(),\n",
    "    height = results.values()\n",
    ")\n",
    "plt.ylim((0.9,1))"
   ]
  }
 ],
 "metadata": {
  "kernelspec": {
   "display_name": "Python 3",
   "language": "python",
   "name": "python3"
  },
  "language_info": {
   "codemirror_mode": {
    "name": "ipython",
    "version": 3
   },
   "file_extension": ".py",
   "mimetype": "text/x-python",
   "name": "python",
   "nbconvert_exporter": "python",
   "pygments_lexer": "ipython3",
   "version": "3.7.6"
  }
 },
 "nbformat": 4,
 "nbformat_minor": 2
}
