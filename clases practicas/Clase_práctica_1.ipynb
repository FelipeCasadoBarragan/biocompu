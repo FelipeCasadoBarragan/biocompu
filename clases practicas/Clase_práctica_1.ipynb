{
  "nbformat": 4,
  "nbformat_minor": 0,
  "metadata": {
    "colab": {
      "name": "Clase práctica 1.ipynb",
      "provenance": [],
      "collapsed_sections": [],
      "toc_visible": true
    },
    "kernelspec": {
      "name": "python3",
      "display_name": "Python 3"
    },
    "language_info": {
      "name": "python"
    },
    "accelerator": "GPU",
    "gpuClass": "standard"
  },
  "cells": [
    {
      "cell_type": "markdown",
      "source": [
        "# Clase Práctica 1: Clasificación y Regresión 📈\n",
        "\n",
        "\n",
        "----------------------------------"
      ],
      "metadata": {
        "id": "6GAvF9Liisd2"
      }
    },
    {
      "cell_type": "markdown",
      "source": [
        "En el aprendizaje de máquinas, la tarea de clasificación consiste en predecir una variable discreta (conjunto finito) a partir de una observación. La principal diferencia con los problemas de regresión, es que en estos últimos los modelos predicen una variable continua (conjunto infinito) a partir de los datos entrada. Un ejemplo de un problema de regresión sería a partir de las características de una casa (tamaño, ubicación, material) predecir su precio. Por otro lado, un ejemplo clásico de clasificación es predecir si un correo es un spam o no. En este caso, como el número de respuestas posibles es finito e igual a 2, se dice que es un problema de clasificación binaria. \n",
        "\n",
        "## Objetivos de la clase 📚\n",
        "\n",
        "El objetivo principal de esta primera clase es realizar una introducción práctica a las tareas de clasificación y regresión en el aprendizaje de máquinas. Para esto, primero implementaremos varios modelos de clasificación para poder relacionar las características fisiológicas de pacientes con la presencia de una enfermedad cardiovascular 🩺. Luego, veremos un ejemplo de cómo resolver un problema de regresión para predecir el sueldo de los jugadores de futbol a partir de sus características ⚽.\n",
        "\n",
        "Las principales librerías que vamos a utilizar son las siguientes:\n",
        "\n",
        "- Pandas 🐼\n",
        "- Scikit-learn\n",
        "- Numpy\n",
        "- Matplotlib\n",
        "\n",
        "## Metodología\n",
        "\n",
        "La mayoría de los problemas que se resuelven en el aprendizaje de máquinas pueden ser abordados siguiendo 3 pasos principales:\n",
        "\n",
        "1. Exploración de datos.\n",
        "2. Selección de modelos.\n",
        "3. Comparación y análisis de resultados.\n",
        "\n",
        "A pesar de que en aplicaciones reales existen muchos más pasos intermedios, como el estudio del problema a nivel de negocio y la puesta en producción, estos pasos serán suficientes para abordar los distintos problemas que veremos en este curso.\n",
        "\n",
        "Así que empecemos! 🥳\n"
      ],
      "metadata": {
        "id": "ka41Y9Ciisyd"
      }
    },
    {
      "cell_type": "markdown",
      "source": [
        "## **Clasificación**"
      ],
      "metadata": {
        "id": "ZqfjgV1Deuyr"
      }
    },
    {
      "cell_type": "markdown",
      "source": [
        "**Exploración de datos 🧐**"
      ],
      "metadata": {
        "id": "KRLw4Z42m2kq"
      }
    },
    {
      "cell_type": "markdown",
      "source": [
        "En general, cuando se resuelven problemas relacionados al aprendizaje de máquinas solemos trabajar con datos almacenados en formatos de tablas, con extensiones tales como csv, tsv, xlsx o incluso en algunos casos txt (sí, en el mundo real los datos pueden venir poco estructurados). \n",
        "\n",
        "*Pandas* 🐼 es una librería de Python especializada en el manejo de estructuras de datos, la cual nos permite poder cargar, procesar y analizar datos tabulados de manera sencilla. Además, nos entrega muchas funciones que en conjunto con otros librerías de visualización como *Matplotlib* o *Seaborn* nos permite obtener excelentes visualizaciones sobre los datos."
      ],
      "metadata": {
        "id": "Jx90SmY_n5YZ"
      }
    },
    {
      "cell_type": "markdown",
      "source": [
        "**Importar las librerías**"
      ],
      "metadata": {
        "id": "fO3ZlyjwmyBD"
      }
    },
    {
      "cell_type": "code",
      "source": [
        "import pandas as pd # Manejo y análisis de estructuras de datos\n",
        "import matplotlib.pyplot as plt # Colección de funciones que nos permiten obtener visualizaciones de los datos\n",
        "import seaborn as sns # Otra librería de visualización de datos"
      ],
      "metadata": {
        "id": "LwdZuCQ6aEjr"
      },
      "execution_count": null,
      "outputs": []
    },
    {
      "cell_type": "markdown",
      "source": [
        "**Lectura del dataset**"
      ],
      "metadata": {
        "id": "uDcwDmSTm2ZE"
      }
    },
    {
      "cell_type": "markdown",
      "source": [
        "Con la función `read_csv` podemos cargar datasets que se encuentren en formato csv. Es importante que el nombre de la variable sea lo más simple posible, ya que en la parte del análisis de los datos se utiliza siempre."
      ],
      "metadata": {
        "id": "JEbr1fQ-nZyK"
      }
    },
    {
      "cell_type": "code",
      "source": [
        "df = pd.read_csv(\"https://raw.githubusercontent.com/plncmm/biocompu/main/data/cardiovascular_diseases.csv\")"
      ],
      "metadata": {
        "id": "dOMFr3b-n6Kq"
      },
      "execution_count": null,
      "outputs": []
    },
    {
      "cell_type": "markdown",
      "source": [
        "La función `head` nos muestra las primeras 5 filas del dataset"
      ],
      "metadata": {
        "id": "lxV1Y0JzpBW2"
      }
    },
    {
      "cell_type": "code",
      "source": [
        "df.head()"
      ],
      "metadata": {
        "colab": {
          "base_uri": "https://localhost:8080/",
          "height": 270
        },
        "id": "Yy8db6QLo_ur",
        "outputId": "e1a8ea9f-babc-4677-9ec6-4027bd45efa2"
      },
      "execution_count": null,
      "outputs": [
        {
          "output_type": "execute_result",
          "data": {
            "text/plain": [
              "   age  male   chest_pain_type  resting_blood_pressure  cholesterol  \\\n",
              "0   45     0    typical_angina                     138          236   \n",
              "1   61     1    typical_angina                     120          260   \n",
              "2   44     0  non_anginal_pain                     108          141   \n",
              "3   77     1    typical_angina                     125          304   \n",
              "4   35     1    typical_angina                     126          282   \n",
              "\n",
              "   high_fasting_blood_sugar  resting_electrocardiographic_results  \\\n",
              "0                         0                                     0   \n",
              "1                         0                                     1   \n",
              "2                         0                                     1   \n",
              "3                         0                                     0   \n",
              "4                         0                                     0   \n",
              "\n",
              "   maximum_heart_rate_achieved  exercise_induced_angina  \\\n",
              "0                          152                        1   \n",
              "1                          140                        1   \n",
              "2                          175                        0   \n",
              "3                          162                        1   \n",
              "4                          156                        1   \n",
              "\n",
              "   st_depression_by_exercise  slope_st_by_excercise_peak  \\\n",
              "0                        0.2                           0   \n",
              "1                        3.6                           0   \n",
              "2                        0.6                           0   \n",
              "3                        0.0                          -1   \n",
              "4                        0.0                          -1   \n",
              "\n",
              "   number_of_vessels_colored_by_flouroscopy        thalassemia  \\\n",
              "0                                         0       fixed_defect   \n",
              "1                                         1  reversable_defect   \n",
              "2                                         0       fixed_defect   \n",
              "3                                         3       fixed_defect   \n",
              "4                                         0  reversable_defect   \n",
              "\n",
              "   cardiovascular_disease  \n",
              "0                       1  \n",
              "1                       0  \n",
              "2                       1  \n",
              "3                       0  \n",
              "4                       0  "
            ],
            "text/html": [
              "\n",
              "  <div id=\"df-007a9af7-0027-4f40-834c-73c42461d091\">\n",
              "    <div class=\"colab-df-container\">\n",
              "      <div>\n",
              "<style scoped>\n",
              "    .dataframe tbody tr th:only-of-type {\n",
              "        vertical-align: middle;\n",
              "    }\n",
              "\n",
              "    .dataframe tbody tr th {\n",
              "        vertical-align: top;\n",
              "    }\n",
              "\n",
              "    .dataframe thead th {\n",
              "        text-align: right;\n",
              "    }\n",
              "</style>\n",
              "<table border=\"1\" class=\"dataframe\">\n",
              "  <thead>\n",
              "    <tr style=\"text-align: right;\">\n",
              "      <th></th>\n",
              "      <th>age</th>\n",
              "      <th>male</th>\n",
              "      <th>chest_pain_type</th>\n",
              "      <th>resting_blood_pressure</th>\n",
              "      <th>cholesterol</th>\n",
              "      <th>high_fasting_blood_sugar</th>\n",
              "      <th>resting_electrocardiographic_results</th>\n",
              "      <th>maximum_heart_rate_achieved</th>\n",
              "      <th>exercise_induced_angina</th>\n",
              "      <th>st_depression_by_exercise</th>\n",
              "      <th>slope_st_by_excercise_peak</th>\n",
              "      <th>number_of_vessels_colored_by_flouroscopy</th>\n",
              "      <th>thalassemia</th>\n",
              "      <th>cardiovascular_disease</th>\n",
              "    </tr>\n",
              "  </thead>\n",
              "  <tbody>\n",
              "    <tr>\n",
              "      <th>0</th>\n",
              "      <td>45</td>\n",
              "      <td>0</td>\n",
              "      <td>typical_angina</td>\n",
              "      <td>138</td>\n",
              "      <td>236</td>\n",
              "      <td>0</td>\n",
              "      <td>0</td>\n",
              "      <td>152</td>\n",
              "      <td>1</td>\n",
              "      <td>0.2</td>\n",
              "      <td>0</td>\n",
              "      <td>0</td>\n",
              "      <td>fixed_defect</td>\n",
              "      <td>1</td>\n",
              "    </tr>\n",
              "    <tr>\n",
              "      <th>1</th>\n",
              "      <td>61</td>\n",
              "      <td>1</td>\n",
              "      <td>typical_angina</td>\n",
              "      <td>120</td>\n",
              "      <td>260</td>\n",
              "      <td>0</td>\n",
              "      <td>1</td>\n",
              "      <td>140</td>\n",
              "      <td>1</td>\n",
              "      <td>3.6</td>\n",
              "      <td>0</td>\n",
              "      <td>1</td>\n",
              "      <td>reversable_defect</td>\n",
              "      <td>0</td>\n",
              "    </tr>\n",
              "    <tr>\n",
              "      <th>2</th>\n",
              "      <td>44</td>\n",
              "      <td>0</td>\n",
              "      <td>non_anginal_pain</td>\n",
              "      <td>108</td>\n",
              "      <td>141</td>\n",
              "      <td>0</td>\n",
              "      <td>1</td>\n",
              "      <td>175</td>\n",
              "      <td>0</td>\n",
              "      <td>0.6</td>\n",
              "      <td>0</td>\n",
              "      <td>0</td>\n",
              "      <td>fixed_defect</td>\n",
              "      <td>1</td>\n",
              "    </tr>\n",
              "    <tr>\n",
              "      <th>3</th>\n",
              "      <td>77</td>\n",
              "      <td>1</td>\n",
              "      <td>typical_angina</td>\n",
              "      <td>125</td>\n",
              "      <td>304</td>\n",
              "      <td>0</td>\n",
              "      <td>0</td>\n",
              "      <td>162</td>\n",
              "      <td>1</td>\n",
              "      <td>0.0</td>\n",
              "      <td>-1</td>\n",
              "      <td>3</td>\n",
              "      <td>fixed_defect</td>\n",
              "      <td>0</td>\n",
              "    </tr>\n",
              "    <tr>\n",
              "      <th>4</th>\n",
              "      <td>35</td>\n",
              "      <td>1</td>\n",
              "      <td>typical_angina</td>\n",
              "      <td>126</td>\n",
              "      <td>282</td>\n",
              "      <td>0</td>\n",
              "      <td>0</td>\n",
              "      <td>156</td>\n",
              "      <td>1</td>\n",
              "      <td>0.0</td>\n",
              "      <td>-1</td>\n",
              "      <td>0</td>\n",
              "      <td>reversable_defect</td>\n",
              "      <td>0</td>\n",
              "    </tr>\n",
              "  </tbody>\n",
              "</table>\n",
              "</div>\n",
              "      <button class=\"colab-df-convert\" onclick=\"convertToInteractive('df-007a9af7-0027-4f40-834c-73c42461d091')\"\n",
              "              title=\"Convert this dataframe to an interactive table.\"\n",
              "              style=\"display:none;\">\n",
              "        \n",
              "  <svg xmlns=\"http://www.w3.org/2000/svg\" height=\"24px\"viewBox=\"0 0 24 24\"\n",
              "       width=\"24px\">\n",
              "    <path d=\"M0 0h24v24H0V0z\" fill=\"none\"/>\n",
              "    <path d=\"M18.56 5.44l.94 2.06.94-2.06 2.06-.94-2.06-.94-.94-2.06-.94 2.06-2.06.94zm-11 1L8.5 8.5l.94-2.06 2.06-.94-2.06-.94L8.5 2.5l-.94 2.06-2.06.94zm10 10l.94 2.06.94-2.06 2.06-.94-2.06-.94-.94-2.06-.94 2.06-2.06.94z\"/><path d=\"M17.41 7.96l-1.37-1.37c-.4-.4-.92-.59-1.43-.59-.52 0-1.04.2-1.43.59L10.3 9.45l-7.72 7.72c-.78.78-.78 2.05 0 2.83L4 21.41c.39.39.9.59 1.41.59.51 0 1.02-.2 1.41-.59l7.78-7.78 2.81-2.81c.8-.78.8-2.07 0-2.86zM5.41 20L4 18.59l7.72-7.72 1.47 1.35L5.41 20z\"/>\n",
              "  </svg>\n",
              "      </button>\n",
              "      \n",
              "  <style>\n",
              "    .colab-df-container {\n",
              "      display:flex;\n",
              "      flex-wrap:wrap;\n",
              "      gap: 12px;\n",
              "    }\n",
              "\n",
              "    .colab-df-convert {\n",
              "      background-color: #E8F0FE;\n",
              "      border: none;\n",
              "      border-radius: 50%;\n",
              "      cursor: pointer;\n",
              "      display: none;\n",
              "      fill: #1967D2;\n",
              "      height: 32px;\n",
              "      padding: 0 0 0 0;\n",
              "      width: 32px;\n",
              "    }\n",
              "\n",
              "    .colab-df-convert:hover {\n",
              "      background-color: #E2EBFA;\n",
              "      box-shadow: 0px 1px 2px rgba(60, 64, 67, 0.3), 0px 1px 3px 1px rgba(60, 64, 67, 0.15);\n",
              "      fill: #174EA6;\n",
              "    }\n",
              "\n",
              "    [theme=dark] .colab-df-convert {\n",
              "      background-color: #3B4455;\n",
              "      fill: #D2E3FC;\n",
              "    }\n",
              "\n",
              "    [theme=dark] .colab-df-convert:hover {\n",
              "      background-color: #434B5C;\n",
              "      box-shadow: 0px 1px 3px 1px rgba(0, 0, 0, 0.15);\n",
              "      filter: drop-shadow(0px 1px 2px rgba(0, 0, 0, 0.3));\n",
              "      fill: #FFFFFF;\n",
              "    }\n",
              "  </style>\n",
              "\n",
              "      <script>\n",
              "        const buttonEl =\n",
              "          document.querySelector('#df-007a9af7-0027-4f40-834c-73c42461d091 button.colab-df-convert');\n",
              "        buttonEl.style.display =\n",
              "          google.colab.kernel.accessAllowed ? 'block' : 'none';\n",
              "\n",
              "        async function convertToInteractive(key) {\n",
              "          const element = document.querySelector('#df-007a9af7-0027-4f40-834c-73c42461d091');\n",
              "          const dataTable =\n",
              "            await google.colab.kernel.invokeFunction('convertToInteractive',\n",
              "                                                     [key], {});\n",
              "          if (!dataTable) return;\n",
              "\n",
              "          const docLinkHtml = 'Like what you see? Visit the ' +\n",
              "            '<a target=\"_blank\" href=https://colab.research.google.com/notebooks/data_table.ipynb>data table notebook</a>'\n",
              "            + ' to learn more about interactive tables.';\n",
              "          element.innerHTML = '';\n",
              "          dataTable['output_type'] = 'display_data';\n",
              "          await google.colab.output.renderOutput(dataTable, element);\n",
              "          const docLink = document.createElement('div');\n",
              "          docLink.innerHTML = docLinkHtml;\n",
              "          element.appendChild(docLink);\n",
              "        }\n",
              "      </script>\n",
              "    </div>\n",
              "  </div>\n",
              "  "
            ]
          },
          "metadata": {},
          "execution_count": 3
        }
      ]
    },
    {
      "cell_type": "markdown",
      "source": [
        "La función `sample(x)` nos entrega x ejemplos del datasets al azar"
      ],
      "metadata": {
        "id": "CIXoza3Mp5Dy"
      }
    },
    {
      "cell_type": "code",
      "source": [
        "df.sample(3)"
      ],
      "metadata": {
        "colab": {
          "base_uri": "https://localhost:8080/",
          "height": 207
        },
        "id": "G9z2xYlWpkfo",
        "outputId": "334abe67-a87e-4a1a-cbcd-602502763e70"
      },
      "execution_count": null,
      "outputs": [
        {
          "output_type": "execute_result",
          "data": {
            "text/plain": [
              "     age  male   chest_pain_type  resting_blood_pressure  cholesterol  \\\n",
              "162   64     0  non_anginal_pain                     140          313   \n",
              "172   48     1  non_anginal_pain                     124          255   \n",
              "290   63     0    typical_angina                     108          269   \n",
              "\n",
              "     high_fasting_blood_sugar  resting_electrocardiographic_results  \\\n",
              "162                         0                                     1   \n",
              "172                         1                                     1   \n",
              "290                         0                                     1   \n",
              "\n",
              "     maximum_heart_rate_achieved  exercise_induced_angina  \\\n",
              "162                          133                        0   \n",
              "172                          175                        0   \n",
              "290                          169                        1   \n",
              "\n",
              "     st_depression_by_exercise  slope_st_by_excercise_peak  \\\n",
              "162                        0.2                          -1   \n",
              "172                        0.0                          -1   \n",
              "290                        1.8                           0   \n",
              "\n",
              "     number_of_vessels_colored_by_flouroscopy        thalassemia  \\\n",
              "162                                         0  reversable_defect   \n",
              "172                                         2       fixed_defect   \n",
              "290                                         2       fixed_defect   \n",
              "\n",
              "     cardiovascular_disease  \n",
              "162                       1  \n",
              "172                       1  \n",
              "290                       0  "
            ],
            "text/html": [
              "\n",
              "  <div id=\"df-fb2b35bd-d262-4325-8f8b-bbd4eaa53ba1\">\n",
              "    <div class=\"colab-df-container\">\n",
              "      <div>\n",
              "<style scoped>\n",
              "    .dataframe tbody tr th:only-of-type {\n",
              "        vertical-align: middle;\n",
              "    }\n",
              "\n",
              "    .dataframe tbody tr th {\n",
              "        vertical-align: top;\n",
              "    }\n",
              "\n",
              "    .dataframe thead th {\n",
              "        text-align: right;\n",
              "    }\n",
              "</style>\n",
              "<table border=\"1\" class=\"dataframe\">\n",
              "  <thead>\n",
              "    <tr style=\"text-align: right;\">\n",
              "      <th></th>\n",
              "      <th>age</th>\n",
              "      <th>male</th>\n",
              "      <th>chest_pain_type</th>\n",
              "      <th>resting_blood_pressure</th>\n",
              "      <th>cholesterol</th>\n",
              "      <th>high_fasting_blood_sugar</th>\n",
              "      <th>resting_electrocardiographic_results</th>\n",
              "      <th>maximum_heart_rate_achieved</th>\n",
              "      <th>exercise_induced_angina</th>\n",
              "      <th>st_depression_by_exercise</th>\n",
              "      <th>slope_st_by_excercise_peak</th>\n",
              "      <th>number_of_vessels_colored_by_flouroscopy</th>\n",
              "      <th>thalassemia</th>\n",
              "      <th>cardiovascular_disease</th>\n",
              "    </tr>\n",
              "  </thead>\n",
              "  <tbody>\n",
              "    <tr>\n",
              "      <th>162</th>\n",
              "      <td>64</td>\n",
              "      <td>0</td>\n",
              "      <td>non_anginal_pain</td>\n",
              "      <td>140</td>\n",
              "      <td>313</td>\n",
              "      <td>0</td>\n",
              "      <td>1</td>\n",
              "      <td>133</td>\n",
              "      <td>0</td>\n",
              "      <td>0.2</td>\n",
              "      <td>-1</td>\n",
              "      <td>0</td>\n",
              "      <td>reversable_defect</td>\n",
              "      <td>1</td>\n",
              "    </tr>\n",
              "    <tr>\n",
              "      <th>172</th>\n",
              "      <td>48</td>\n",
              "      <td>1</td>\n",
              "      <td>non_anginal_pain</td>\n",
              "      <td>124</td>\n",
              "      <td>255</td>\n",
              "      <td>1</td>\n",
              "      <td>1</td>\n",
              "      <td>175</td>\n",
              "      <td>0</td>\n",
              "      <td>0.0</td>\n",
              "      <td>-1</td>\n",
              "      <td>2</td>\n",
              "      <td>fixed_defect</td>\n",
              "      <td>1</td>\n",
              "    </tr>\n",
              "    <tr>\n",
              "      <th>290</th>\n",
              "      <td>63</td>\n",
              "      <td>0</td>\n",
              "      <td>typical_angina</td>\n",
              "      <td>108</td>\n",
              "      <td>269</td>\n",
              "      <td>0</td>\n",
              "      <td>1</td>\n",
              "      <td>169</td>\n",
              "      <td>1</td>\n",
              "      <td>1.8</td>\n",
              "      <td>0</td>\n",
              "      <td>2</td>\n",
              "      <td>fixed_defect</td>\n",
              "      <td>0</td>\n",
              "    </tr>\n",
              "  </tbody>\n",
              "</table>\n",
              "</div>\n",
              "      <button class=\"colab-df-convert\" onclick=\"convertToInteractive('df-fb2b35bd-d262-4325-8f8b-bbd4eaa53ba1')\"\n",
              "              title=\"Convert this dataframe to an interactive table.\"\n",
              "              style=\"display:none;\">\n",
              "        \n",
              "  <svg xmlns=\"http://www.w3.org/2000/svg\" height=\"24px\"viewBox=\"0 0 24 24\"\n",
              "       width=\"24px\">\n",
              "    <path d=\"M0 0h24v24H0V0z\" fill=\"none\"/>\n",
              "    <path d=\"M18.56 5.44l.94 2.06.94-2.06 2.06-.94-2.06-.94-.94-2.06-.94 2.06-2.06.94zm-11 1L8.5 8.5l.94-2.06 2.06-.94-2.06-.94L8.5 2.5l-.94 2.06-2.06.94zm10 10l.94 2.06.94-2.06 2.06-.94-2.06-.94-.94-2.06-.94 2.06-2.06.94z\"/><path d=\"M17.41 7.96l-1.37-1.37c-.4-.4-.92-.59-1.43-.59-.52 0-1.04.2-1.43.59L10.3 9.45l-7.72 7.72c-.78.78-.78 2.05 0 2.83L4 21.41c.39.39.9.59 1.41.59.51 0 1.02-.2 1.41-.59l7.78-7.78 2.81-2.81c.8-.78.8-2.07 0-2.86zM5.41 20L4 18.59l7.72-7.72 1.47 1.35L5.41 20z\"/>\n",
              "  </svg>\n",
              "      </button>\n",
              "      \n",
              "  <style>\n",
              "    .colab-df-container {\n",
              "      display:flex;\n",
              "      flex-wrap:wrap;\n",
              "      gap: 12px;\n",
              "    }\n",
              "\n",
              "    .colab-df-convert {\n",
              "      background-color: #E8F0FE;\n",
              "      border: none;\n",
              "      border-radius: 50%;\n",
              "      cursor: pointer;\n",
              "      display: none;\n",
              "      fill: #1967D2;\n",
              "      height: 32px;\n",
              "      padding: 0 0 0 0;\n",
              "      width: 32px;\n",
              "    }\n",
              "\n",
              "    .colab-df-convert:hover {\n",
              "      background-color: #E2EBFA;\n",
              "      box-shadow: 0px 1px 2px rgba(60, 64, 67, 0.3), 0px 1px 3px 1px rgba(60, 64, 67, 0.15);\n",
              "      fill: #174EA6;\n",
              "    }\n",
              "\n",
              "    [theme=dark] .colab-df-convert {\n",
              "      background-color: #3B4455;\n",
              "      fill: #D2E3FC;\n",
              "    }\n",
              "\n",
              "    [theme=dark] .colab-df-convert:hover {\n",
              "      background-color: #434B5C;\n",
              "      box-shadow: 0px 1px 3px 1px rgba(0, 0, 0, 0.15);\n",
              "      filter: drop-shadow(0px 1px 2px rgba(0, 0, 0, 0.3));\n",
              "      fill: #FFFFFF;\n",
              "    }\n",
              "  </style>\n",
              "\n",
              "      <script>\n",
              "        const buttonEl =\n",
              "          document.querySelector('#df-fb2b35bd-d262-4325-8f8b-bbd4eaa53ba1 button.colab-df-convert');\n",
              "        buttonEl.style.display =\n",
              "          google.colab.kernel.accessAllowed ? 'block' : 'none';\n",
              "\n",
              "        async function convertToInteractive(key) {\n",
              "          const element = document.querySelector('#df-fb2b35bd-d262-4325-8f8b-bbd4eaa53ba1');\n",
              "          const dataTable =\n",
              "            await google.colab.kernel.invokeFunction('convertToInteractive',\n",
              "                                                     [key], {});\n",
              "          if (!dataTable) return;\n",
              "\n",
              "          const docLinkHtml = 'Like what you see? Visit the ' +\n",
              "            '<a target=\"_blank\" href=https://colab.research.google.com/notebooks/data_table.ipynb>data table notebook</a>'\n",
              "            + ' to learn more about interactive tables.';\n",
              "          element.innerHTML = '';\n",
              "          dataTable['output_type'] = 'display_data';\n",
              "          await google.colab.output.renderOutput(dataTable, element);\n",
              "          const docLink = document.createElement('div');\n",
              "          docLink.innerHTML = docLinkHtml;\n",
              "          element.appendChild(docLink);\n",
              "        }\n",
              "      </script>\n",
              "    </div>\n",
              "  </div>\n",
              "  "
            ]
          },
          "metadata": {},
          "execution_count": 4
        }
      ]
    },
    {
      "cell_type": "markdown",
      "source": [
        "La función `tail` nos muestra las últimas filas del dataset"
      ],
      "metadata": {
        "id": "2TG4tFHKp-FI"
      }
    },
    {
      "cell_type": "code",
      "source": [
        "df.tail()"
      ],
      "metadata": {
        "colab": {
          "base_uri": "https://localhost:8080/",
          "height": 270
        },
        "id": "c37lrSoSqBNY",
        "outputId": "d8acbe17-682c-40a6-bf35-8a2f4c57d2c8"
      },
      "execution_count": null,
      "outputs": [
        {
          "output_type": "execute_result",
          "data": {
            "text/plain": [
              "     age  male chest_pain_type  resting_blood_pressure  cholesterol  \\\n",
              "296   59     0  typical_angina                     174          249   \n",
              "297   52     1    asymptomatic                     118          186   \n",
              "298   66     1  typical_angina                     120          302   \n",
              "299   51     1  typical_angina                     140          298   \n",
              "300   57     1  typical_angina                     150          276   \n",
              "\n",
              "     high_fasting_blood_sugar  resting_electrocardiographic_results  \\\n",
              "296                         0                                     1   \n",
              "297                         0                                     0   \n",
              "298                         0                                     0   \n",
              "299                         0                                     1   \n",
              "300                         0                                     0   \n",
              "\n",
              "     maximum_heart_rate_achieved  exercise_induced_angina  \\\n",
              "296                          143                        1   \n",
              "297                          190                        0   \n",
              "298                          151                        0   \n",
              "299                          122                        1   \n",
              "300                          112                        1   \n",
              "\n",
              "     st_depression_by_exercise  slope_st_by_excercise_peak  \\\n",
              "296                        0.0                           0   \n",
              "297                        0.0                           0   \n",
              "298                        0.4                           0   \n",
              "299                        4.2                           0   \n",
              "300                        0.6                           0   \n",
              "\n",
              "     number_of_vessels_colored_by_flouroscopy        thalassemia  \\\n",
              "296                                         0       fixed_defect   \n",
              "297                                         0             normal   \n",
              "298                                         0       fixed_defect   \n",
              "299                                         3  reversable_defect   \n",
              "300                                         1             normal   \n",
              "\n",
              "     cardiovascular_disease  \n",
              "296                       0  \n",
              "297                       1  \n",
              "298                       1  \n",
              "299                       0  \n",
              "300                       0  "
            ],
            "text/html": [
              "\n",
              "  <div id=\"df-599baa43-2851-4654-bb1a-b34e08c536a1\">\n",
              "    <div class=\"colab-df-container\">\n",
              "      <div>\n",
              "<style scoped>\n",
              "    .dataframe tbody tr th:only-of-type {\n",
              "        vertical-align: middle;\n",
              "    }\n",
              "\n",
              "    .dataframe tbody tr th {\n",
              "        vertical-align: top;\n",
              "    }\n",
              "\n",
              "    .dataframe thead th {\n",
              "        text-align: right;\n",
              "    }\n",
              "</style>\n",
              "<table border=\"1\" class=\"dataframe\">\n",
              "  <thead>\n",
              "    <tr style=\"text-align: right;\">\n",
              "      <th></th>\n",
              "      <th>age</th>\n",
              "      <th>male</th>\n",
              "      <th>chest_pain_type</th>\n",
              "      <th>resting_blood_pressure</th>\n",
              "      <th>cholesterol</th>\n",
              "      <th>high_fasting_blood_sugar</th>\n",
              "      <th>resting_electrocardiographic_results</th>\n",
              "      <th>maximum_heart_rate_achieved</th>\n",
              "      <th>exercise_induced_angina</th>\n",
              "      <th>st_depression_by_exercise</th>\n",
              "      <th>slope_st_by_excercise_peak</th>\n",
              "      <th>number_of_vessels_colored_by_flouroscopy</th>\n",
              "      <th>thalassemia</th>\n",
              "      <th>cardiovascular_disease</th>\n",
              "    </tr>\n",
              "  </thead>\n",
              "  <tbody>\n",
              "    <tr>\n",
              "      <th>296</th>\n",
              "      <td>59</td>\n",
              "      <td>0</td>\n",
              "      <td>typical_angina</td>\n",
              "      <td>174</td>\n",
              "      <td>249</td>\n",
              "      <td>0</td>\n",
              "      <td>1</td>\n",
              "      <td>143</td>\n",
              "      <td>1</td>\n",
              "      <td>0.0</td>\n",
              "      <td>0</td>\n",
              "      <td>0</td>\n",
              "      <td>fixed_defect</td>\n",
              "      <td>0</td>\n",
              "    </tr>\n",
              "    <tr>\n",
              "      <th>297</th>\n",
              "      <td>52</td>\n",
              "      <td>1</td>\n",
              "      <td>asymptomatic</td>\n",
              "      <td>118</td>\n",
              "      <td>186</td>\n",
              "      <td>0</td>\n",
              "      <td>0</td>\n",
              "      <td>190</td>\n",
              "      <td>0</td>\n",
              "      <td>0.0</td>\n",
              "      <td>0</td>\n",
              "      <td>0</td>\n",
              "      <td>normal</td>\n",
              "      <td>1</td>\n",
              "    </tr>\n",
              "    <tr>\n",
              "      <th>298</th>\n",
              "      <td>66</td>\n",
              "      <td>1</td>\n",
              "      <td>typical_angina</td>\n",
              "      <td>120</td>\n",
              "      <td>302</td>\n",
              "      <td>0</td>\n",
              "      <td>0</td>\n",
              "      <td>151</td>\n",
              "      <td>0</td>\n",
              "      <td>0.4</td>\n",
              "      <td>0</td>\n",
              "      <td>0</td>\n",
              "      <td>fixed_defect</td>\n",
              "      <td>1</td>\n",
              "    </tr>\n",
              "    <tr>\n",
              "      <th>299</th>\n",
              "      <td>51</td>\n",
              "      <td>1</td>\n",
              "      <td>typical_angina</td>\n",
              "      <td>140</td>\n",
              "      <td>298</td>\n",
              "      <td>0</td>\n",
              "      <td>1</td>\n",
              "      <td>122</td>\n",
              "      <td>1</td>\n",
              "      <td>4.2</td>\n",
              "      <td>0</td>\n",
              "      <td>3</td>\n",
              "      <td>reversable_defect</td>\n",
              "      <td>0</td>\n",
              "    </tr>\n",
              "    <tr>\n",
              "      <th>300</th>\n",
              "      <td>57</td>\n",
              "      <td>1</td>\n",
              "      <td>typical_angina</td>\n",
              "      <td>150</td>\n",
              "      <td>276</td>\n",
              "      <td>0</td>\n",
              "      <td>0</td>\n",
              "      <td>112</td>\n",
              "      <td>1</td>\n",
              "      <td>0.6</td>\n",
              "      <td>0</td>\n",
              "      <td>1</td>\n",
              "      <td>normal</td>\n",
              "      <td>0</td>\n",
              "    </tr>\n",
              "  </tbody>\n",
              "</table>\n",
              "</div>\n",
              "      <button class=\"colab-df-convert\" onclick=\"convertToInteractive('df-599baa43-2851-4654-bb1a-b34e08c536a1')\"\n",
              "              title=\"Convert this dataframe to an interactive table.\"\n",
              "              style=\"display:none;\">\n",
              "        \n",
              "  <svg xmlns=\"http://www.w3.org/2000/svg\" height=\"24px\"viewBox=\"0 0 24 24\"\n",
              "       width=\"24px\">\n",
              "    <path d=\"M0 0h24v24H0V0z\" fill=\"none\"/>\n",
              "    <path d=\"M18.56 5.44l.94 2.06.94-2.06 2.06-.94-2.06-.94-.94-2.06-.94 2.06-2.06.94zm-11 1L8.5 8.5l.94-2.06 2.06-.94-2.06-.94L8.5 2.5l-.94 2.06-2.06.94zm10 10l.94 2.06.94-2.06 2.06-.94-2.06-.94-.94-2.06-.94 2.06-2.06.94z\"/><path d=\"M17.41 7.96l-1.37-1.37c-.4-.4-.92-.59-1.43-.59-.52 0-1.04.2-1.43.59L10.3 9.45l-7.72 7.72c-.78.78-.78 2.05 0 2.83L4 21.41c.39.39.9.59 1.41.59.51 0 1.02-.2 1.41-.59l7.78-7.78 2.81-2.81c.8-.78.8-2.07 0-2.86zM5.41 20L4 18.59l7.72-7.72 1.47 1.35L5.41 20z\"/>\n",
              "  </svg>\n",
              "      </button>\n",
              "      \n",
              "  <style>\n",
              "    .colab-df-container {\n",
              "      display:flex;\n",
              "      flex-wrap:wrap;\n",
              "      gap: 12px;\n",
              "    }\n",
              "\n",
              "    .colab-df-convert {\n",
              "      background-color: #E8F0FE;\n",
              "      border: none;\n",
              "      border-radius: 50%;\n",
              "      cursor: pointer;\n",
              "      display: none;\n",
              "      fill: #1967D2;\n",
              "      height: 32px;\n",
              "      padding: 0 0 0 0;\n",
              "      width: 32px;\n",
              "    }\n",
              "\n",
              "    .colab-df-convert:hover {\n",
              "      background-color: #E2EBFA;\n",
              "      box-shadow: 0px 1px 2px rgba(60, 64, 67, 0.3), 0px 1px 3px 1px rgba(60, 64, 67, 0.15);\n",
              "      fill: #174EA6;\n",
              "    }\n",
              "\n",
              "    [theme=dark] .colab-df-convert {\n",
              "      background-color: #3B4455;\n",
              "      fill: #D2E3FC;\n",
              "    }\n",
              "\n",
              "    [theme=dark] .colab-df-convert:hover {\n",
              "      background-color: #434B5C;\n",
              "      box-shadow: 0px 1px 3px 1px rgba(0, 0, 0, 0.15);\n",
              "      filter: drop-shadow(0px 1px 2px rgba(0, 0, 0, 0.3));\n",
              "      fill: #FFFFFF;\n",
              "    }\n",
              "  </style>\n",
              "\n",
              "      <script>\n",
              "        const buttonEl =\n",
              "          document.querySelector('#df-599baa43-2851-4654-bb1a-b34e08c536a1 button.colab-df-convert');\n",
              "        buttonEl.style.display =\n",
              "          google.colab.kernel.accessAllowed ? 'block' : 'none';\n",
              "\n",
              "        async function convertToInteractive(key) {\n",
              "          const element = document.querySelector('#df-599baa43-2851-4654-bb1a-b34e08c536a1');\n",
              "          const dataTable =\n",
              "            await google.colab.kernel.invokeFunction('convertToInteractive',\n",
              "                                                     [key], {});\n",
              "          if (!dataTable) return;\n",
              "\n",
              "          const docLinkHtml = 'Like what you see? Visit the ' +\n",
              "            '<a target=\"_blank\" href=https://colab.research.google.com/notebooks/data_table.ipynb>data table notebook</a>'\n",
              "            + ' to learn more about interactive tables.';\n",
              "          element.innerHTML = '';\n",
              "          dataTable['output_type'] = 'display_data';\n",
              "          await google.colab.output.renderOutput(dataTable, element);\n",
              "          const docLink = document.createElement('div');\n",
              "          docLink.innerHTML = docLinkHtml;\n",
              "          element.appendChild(docLink);\n",
              "        }\n",
              "      </script>\n",
              "    </div>\n",
              "  </div>\n",
              "  "
            ]
          },
          "metadata": {},
          "execution_count": 5
        }
      ]
    },
    {
      "cell_type": "markdown",
      "source": [
        "En aprendizaje de máquinas las filas de un dataset son más conocidas como *instancias*, mientras que las columnas son nuestros *atributos* o *features*. Para acceder al número de instancias y de features utilizamos el atributo `shape`. El primer valor corresponde al número de instancia, mientras que el segundo es el número de atributos."
      ],
      "metadata": {
        "id": "S5T3OHVWqHUR"
      }
    },
    {
      "cell_type": "code",
      "source": [
        "df.shape "
      ],
      "metadata": {
        "colab": {
          "base_uri": "https://localhost:8080/"
        },
        "id": "Ro-c8oBjq0Zp",
        "outputId": "d9f47b8b-621a-4f3e-d2b5-0c179cc5eda1"
      },
      "execution_count": null,
      "outputs": [
        {
          "output_type": "execute_result",
          "data": {
            "text/plain": [
              "(301, 14)"
            ]
          },
          "metadata": {},
          "execution_count": 6
        }
      ]
    },
    {
      "cell_type": "markdown",
      "source": [
        "El resultado de la celda anterior nos muestra que hay un total de 301 instancias, donde cada una tiene un total de 14 atributos. Para acceder al nombre de cada uno de estos atributos, utilizamos el comando `columns`."
      ],
      "metadata": {
        "id": "aaEGqmEFq_EK"
      }
    },
    {
      "cell_type": "code",
      "source": [
        "df.columns"
      ],
      "metadata": {
        "colab": {
          "base_uri": "https://localhost:8080/"
        },
        "id": "dYe-2dTBrHNx",
        "outputId": "4663644d-c136-4588-c3c0-9402a8171b03"
      },
      "execution_count": null,
      "outputs": [
        {
          "output_type": "execute_result",
          "data": {
            "text/plain": [
              "Index(['age', 'male', 'chest_pain_type', 'resting_blood_pressure',\n",
              "       'cholesterol', 'high_fasting_blood_sugar',\n",
              "       'resting_electrocardiographic_results', 'maximum_heart_rate_achieved',\n",
              "       'exercise_induced_angina', 'st_depression_by_exercise',\n",
              "       'slope_st_by_excercise_peak',\n",
              "       'number_of_vessels_colored_by_flouroscopy', 'thalassemia',\n",
              "       'cardiovascular_disease'],\n",
              "      dtype='object')"
            ]
          },
          "metadata": {},
          "execution_count": 7
        }
      ]
    },
    {
      "cell_type": "markdown",
      "source": [
        "Si queremos información más detallada acerca de estos atributos podemos utilizar la función `info`, la cual nos entrega el nombre, la cantidad de ejemplos no nulos y el tipo de dato de cada columna."
      ],
      "metadata": {
        "id": "gbZKXAW-rSO8"
      }
    },
    {
      "cell_type": "code",
      "source": [
        "df.info()"
      ],
      "metadata": {
        "colab": {
          "base_uri": "https://localhost:8080/"
        },
        "id": "N3DOn9pYrW9D",
        "outputId": "609b6193-4b3e-480d-f863-931b6f816571"
      },
      "execution_count": null,
      "outputs": [
        {
          "output_type": "stream",
          "name": "stdout",
          "text": [
            "<class 'pandas.core.frame.DataFrame'>\n",
            "RangeIndex: 301 entries, 0 to 300\n",
            "Data columns (total 14 columns):\n",
            " #   Column                                    Non-Null Count  Dtype  \n",
            "---  ------                                    --------------  -----  \n",
            " 0   age                                       301 non-null    int64  \n",
            " 1   male                                      301 non-null    int64  \n",
            " 2   chest_pain_type                           301 non-null    object \n",
            " 3   resting_blood_pressure                    301 non-null    int64  \n",
            " 4   cholesterol                               301 non-null    int64  \n",
            " 5   high_fasting_blood_sugar                  301 non-null    int64  \n",
            " 6   resting_electrocardiographic_results      301 non-null    int64  \n",
            " 7   maximum_heart_rate_achieved               301 non-null    int64  \n",
            " 8   exercise_induced_angina                   301 non-null    int64  \n",
            " 9   st_depression_by_exercise                 301 non-null    float64\n",
            " 10  slope_st_by_excercise_peak                301 non-null    int64  \n",
            " 11  number_of_vessels_colored_by_flouroscopy  301 non-null    int64  \n",
            " 12  thalassemia                               301 non-null    object \n",
            " 13  cardiovascular_disease                    301 non-null    int64  \n",
            "dtypes: float64(1), int64(11), object(2)\n",
            "memory usage: 33.0+ KB\n"
          ]
        }
      ]
    },
    {
      "cell_type": "markdown",
      "source": [
        "Si queremos obtener estadística acerca de cada una de nuestras columnas utilizamos la función `describe`. Esta función nos entrega la cantidad de datos, el promedio, desviación estandar, mínimo, máximo y cuartiles."
      ],
      "metadata": {
        "id": "Ok8HMFqPsY73"
      }
    },
    {
      "cell_type": "code",
      "source": [
        "df.describe()"
      ],
      "metadata": {
        "colab": {
          "base_uri": "https://localhost:8080/",
          "height": 364
        },
        "id": "UMWeVjRcsYVF",
        "outputId": "e4f30657-05fd-4100-b108-1fa09290c4fc"
      },
      "execution_count": null,
      "outputs": [
        {
          "output_type": "execute_result",
          "data": {
            "text/plain": [
              "              age        male  resting_blood_pressure  cholesterol  \\\n",
              "count  301.000000  301.000000              301.000000   301.000000   \n",
              "mean    54.378738    0.684385              131.647841   246.504983   \n",
              "std      9.110950    0.465534               17.594002    51.915998   \n",
              "min     29.000000    0.000000               94.000000   126.000000   \n",
              "25%     47.000000    0.000000              120.000000   211.000000   \n",
              "50%     56.000000    1.000000              130.000000   241.000000   \n",
              "75%     61.000000    1.000000              140.000000   275.000000   \n",
              "max     77.000000    1.000000              200.000000   564.000000   \n",
              "\n",
              "       high_fasting_blood_sugar  resting_electrocardiographic_results  \\\n",
              "count                301.000000                            301.000000   \n",
              "mean                   0.146179                              0.528239   \n",
              "std                    0.353874                              0.526023   \n",
              "min                    0.000000                              0.000000   \n",
              "25%                    0.000000                              0.000000   \n",
              "50%                    0.000000                              1.000000   \n",
              "75%                    0.000000                              1.000000   \n",
              "max                    1.000000                              2.000000   \n",
              "\n",
              "       maximum_heart_rate_achieved  exercise_induced_angina  \\\n",
              "count                   301.000000               301.000000   \n",
              "mean                    149.740864                 0.325581   \n",
              "std                      22.891031                 0.469372   \n",
              "min                      71.000000                 0.000000   \n",
              "25%                     134.000000                 0.000000   \n",
              "50%                     153.000000                 0.000000   \n",
              "75%                     166.000000                 1.000000   \n",
              "max                     202.000000                 1.000000   \n",
              "\n",
              "       st_depression_by_exercise  slope_st_by_excercise_peak  \\\n",
              "count                 301.000000                  301.000000   \n",
              "mean                    1.043189                   -0.398671   \n",
              "std                     1.163384                    0.616872   \n",
              "min                     0.000000                   -1.000000   \n",
              "25%                     0.000000                   -1.000000   \n",
              "50%                     0.800000                    0.000000   \n",
              "75%                     1.600000                    0.000000   \n",
              "max                     6.200000                    1.000000   \n",
              "\n",
              "       number_of_vessels_colored_by_flouroscopy  cardiovascular_disease  \n",
              "count                                301.000000              301.000000  \n",
              "mean                                   0.734219                0.544850  \n",
              "std                                    1.024268                0.498814  \n",
              "min                                    0.000000                0.000000  \n",
              "25%                                    0.000000                0.000000  \n",
              "50%                                    0.000000                1.000000  \n",
              "75%                                    1.000000                1.000000  \n",
              "max                                    4.000000                1.000000  "
            ],
            "text/html": [
              "\n",
              "  <div id=\"df-0a59dd23-6ef2-42fe-8ab8-bb2d681e3512\">\n",
              "    <div class=\"colab-df-container\">\n",
              "      <div>\n",
              "<style scoped>\n",
              "    .dataframe tbody tr th:only-of-type {\n",
              "        vertical-align: middle;\n",
              "    }\n",
              "\n",
              "    .dataframe tbody tr th {\n",
              "        vertical-align: top;\n",
              "    }\n",
              "\n",
              "    .dataframe thead th {\n",
              "        text-align: right;\n",
              "    }\n",
              "</style>\n",
              "<table border=\"1\" class=\"dataframe\">\n",
              "  <thead>\n",
              "    <tr style=\"text-align: right;\">\n",
              "      <th></th>\n",
              "      <th>age</th>\n",
              "      <th>male</th>\n",
              "      <th>resting_blood_pressure</th>\n",
              "      <th>cholesterol</th>\n",
              "      <th>high_fasting_blood_sugar</th>\n",
              "      <th>resting_electrocardiographic_results</th>\n",
              "      <th>maximum_heart_rate_achieved</th>\n",
              "      <th>exercise_induced_angina</th>\n",
              "      <th>st_depression_by_exercise</th>\n",
              "      <th>slope_st_by_excercise_peak</th>\n",
              "      <th>number_of_vessels_colored_by_flouroscopy</th>\n",
              "      <th>cardiovascular_disease</th>\n",
              "    </tr>\n",
              "  </thead>\n",
              "  <tbody>\n",
              "    <tr>\n",
              "      <th>count</th>\n",
              "      <td>301.000000</td>\n",
              "      <td>301.000000</td>\n",
              "      <td>301.000000</td>\n",
              "      <td>301.000000</td>\n",
              "      <td>301.000000</td>\n",
              "      <td>301.000000</td>\n",
              "      <td>301.000000</td>\n",
              "      <td>301.000000</td>\n",
              "      <td>301.000000</td>\n",
              "      <td>301.000000</td>\n",
              "      <td>301.000000</td>\n",
              "      <td>301.000000</td>\n",
              "    </tr>\n",
              "    <tr>\n",
              "      <th>mean</th>\n",
              "      <td>54.378738</td>\n",
              "      <td>0.684385</td>\n",
              "      <td>131.647841</td>\n",
              "      <td>246.504983</td>\n",
              "      <td>0.146179</td>\n",
              "      <td>0.528239</td>\n",
              "      <td>149.740864</td>\n",
              "      <td>0.325581</td>\n",
              "      <td>1.043189</td>\n",
              "      <td>-0.398671</td>\n",
              "      <td>0.734219</td>\n",
              "      <td>0.544850</td>\n",
              "    </tr>\n",
              "    <tr>\n",
              "      <th>std</th>\n",
              "      <td>9.110950</td>\n",
              "      <td>0.465534</td>\n",
              "      <td>17.594002</td>\n",
              "      <td>51.915998</td>\n",
              "      <td>0.353874</td>\n",
              "      <td>0.526023</td>\n",
              "      <td>22.891031</td>\n",
              "      <td>0.469372</td>\n",
              "      <td>1.163384</td>\n",
              "      <td>0.616872</td>\n",
              "      <td>1.024268</td>\n",
              "      <td>0.498814</td>\n",
              "    </tr>\n",
              "    <tr>\n",
              "      <th>min</th>\n",
              "      <td>29.000000</td>\n",
              "      <td>0.000000</td>\n",
              "      <td>94.000000</td>\n",
              "      <td>126.000000</td>\n",
              "      <td>0.000000</td>\n",
              "      <td>0.000000</td>\n",
              "      <td>71.000000</td>\n",
              "      <td>0.000000</td>\n",
              "      <td>0.000000</td>\n",
              "      <td>-1.000000</td>\n",
              "      <td>0.000000</td>\n",
              "      <td>0.000000</td>\n",
              "    </tr>\n",
              "    <tr>\n",
              "      <th>25%</th>\n",
              "      <td>47.000000</td>\n",
              "      <td>0.000000</td>\n",
              "      <td>120.000000</td>\n",
              "      <td>211.000000</td>\n",
              "      <td>0.000000</td>\n",
              "      <td>0.000000</td>\n",
              "      <td>134.000000</td>\n",
              "      <td>0.000000</td>\n",
              "      <td>0.000000</td>\n",
              "      <td>-1.000000</td>\n",
              "      <td>0.000000</td>\n",
              "      <td>0.000000</td>\n",
              "    </tr>\n",
              "    <tr>\n",
              "      <th>50%</th>\n",
              "      <td>56.000000</td>\n",
              "      <td>1.000000</td>\n",
              "      <td>130.000000</td>\n",
              "      <td>241.000000</td>\n",
              "      <td>0.000000</td>\n",
              "      <td>1.000000</td>\n",
              "      <td>153.000000</td>\n",
              "      <td>0.000000</td>\n",
              "      <td>0.800000</td>\n",
              "      <td>0.000000</td>\n",
              "      <td>0.000000</td>\n",
              "      <td>1.000000</td>\n",
              "    </tr>\n",
              "    <tr>\n",
              "      <th>75%</th>\n",
              "      <td>61.000000</td>\n",
              "      <td>1.000000</td>\n",
              "      <td>140.000000</td>\n",
              "      <td>275.000000</td>\n",
              "      <td>0.000000</td>\n",
              "      <td>1.000000</td>\n",
              "      <td>166.000000</td>\n",
              "      <td>1.000000</td>\n",
              "      <td>1.600000</td>\n",
              "      <td>0.000000</td>\n",
              "      <td>1.000000</td>\n",
              "      <td>1.000000</td>\n",
              "    </tr>\n",
              "    <tr>\n",
              "      <th>max</th>\n",
              "      <td>77.000000</td>\n",
              "      <td>1.000000</td>\n",
              "      <td>200.000000</td>\n",
              "      <td>564.000000</td>\n",
              "      <td>1.000000</td>\n",
              "      <td>2.000000</td>\n",
              "      <td>202.000000</td>\n",
              "      <td>1.000000</td>\n",
              "      <td>6.200000</td>\n",
              "      <td>1.000000</td>\n",
              "      <td>4.000000</td>\n",
              "      <td>1.000000</td>\n",
              "    </tr>\n",
              "  </tbody>\n",
              "</table>\n",
              "</div>\n",
              "      <button class=\"colab-df-convert\" onclick=\"convertToInteractive('df-0a59dd23-6ef2-42fe-8ab8-bb2d681e3512')\"\n",
              "              title=\"Convert this dataframe to an interactive table.\"\n",
              "              style=\"display:none;\">\n",
              "        \n",
              "  <svg xmlns=\"http://www.w3.org/2000/svg\" height=\"24px\"viewBox=\"0 0 24 24\"\n",
              "       width=\"24px\">\n",
              "    <path d=\"M0 0h24v24H0V0z\" fill=\"none\"/>\n",
              "    <path d=\"M18.56 5.44l.94 2.06.94-2.06 2.06-.94-2.06-.94-.94-2.06-.94 2.06-2.06.94zm-11 1L8.5 8.5l.94-2.06 2.06-.94-2.06-.94L8.5 2.5l-.94 2.06-2.06.94zm10 10l.94 2.06.94-2.06 2.06-.94-2.06-.94-.94-2.06-.94 2.06-2.06.94z\"/><path d=\"M17.41 7.96l-1.37-1.37c-.4-.4-.92-.59-1.43-.59-.52 0-1.04.2-1.43.59L10.3 9.45l-7.72 7.72c-.78.78-.78 2.05 0 2.83L4 21.41c.39.39.9.59 1.41.59.51 0 1.02-.2 1.41-.59l7.78-7.78 2.81-2.81c.8-.78.8-2.07 0-2.86zM5.41 20L4 18.59l7.72-7.72 1.47 1.35L5.41 20z\"/>\n",
              "  </svg>\n",
              "      </button>\n",
              "      \n",
              "  <style>\n",
              "    .colab-df-container {\n",
              "      display:flex;\n",
              "      flex-wrap:wrap;\n",
              "      gap: 12px;\n",
              "    }\n",
              "\n",
              "    .colab-df-convert {\n",
              "      background-color: #E8F0FE;\n",
              "      border: none;\n",
              "      border-radius: 50%;\n",
              "      cursor: pointer;\n",
              "      display: none;\n",
              "      fill: #1967D2;\n",
              "      height: 32px;\n",
              "      padding: 0 0 0 0;\n",
              "      width: 32px;\n",
              "    }\n",
              "\n",
              "    .colab-df-convert:hover {\n",
              "      background-color: #E2EBFA;\n",
              "      box-shadow: 0px 1px 2px rgba(60, 64, 67, 0.3), 0px 1px 3px 1px rgba(60, 64, 67, 0.15);\n",
              "      fill: #174EA6;\n",
              "    }\n",
              "\n",
              "    [theme=dark] .colab-df-convert {\n",
              "      background-color: #3B4455;\n",
              "      fill: #D2E3FC;\n",
              "    }\n",
              "\n",
              "    [theme=dark] .colab-df-convert:hover {\n",
              "      background-color: #434B5C;\n",
              "      box-shadow: 0px 1px 3px 1px rgba(0, 0, 0, 0.15);\n",
              "      filter: drop-shadow(0px 1px 2px rgba(0, 0, 0, 0.3));\n",
              "      fill: #FFFFFF;\n",
              "    }\n",
              "  </style>\n",
              "\n",
              "      <script>\n",
              "        const buttonEl =\n",
              "          document.querySelector('#df-0a59dd23-6ef2-42fe-8ab8-bb2d681e3512 button.colab-df-convert');\n",
              "        buttonEl.style.display =\n",
              "          google.colab.kernel.accessAllowed ? 'block' : 'none';\n",
              "\n",
              "        async function convertToInteractive(key) {\n",
              "          const element = document.querySelector('#df-0a59dd23-6ef2-42fe-8ab8-bb2d681e3512');\n",
              "          const dataTable =\n",
              "            await google.colab.kernel.invokeFunction('convertToInteractive',\n",
              "                                                     [key], {});\n",
              "          if (!dataTable) return;\n",
              "\n",
              "          const docLinkHtml = 'Like what you see? Visit the ' +\n",
              "            '<a target=\"_blank\" href=https://colab.research.google.com/notebooks/data_table.ipynb>data table notebook</a>'\n",
              "            + ' to learn more about interactive tables.';\n",
              "          element.innerHTML = '';\n",
              "          dataTable['output_type'] = 'display_data';\n",
              "          await google.colab.output.renderOutput(dataTable, element);\n",
              "          const docLink = document.createElement('div');\n",
              "          docLink.innerHTML = docLinkHtml;\n",
              "          element.appendChild(docLink);\n",
              "        }\n",
              "      </script>\n",
              "    </div>\n",
              "  </div>\n",
              "  "
            ]
          },
          "metadata": {},
          "execution_count": 9
        }
      ]
    },
    {
      "cell_type": "markdown",
      "source": [
        "Un paso fundamental en la exploración de datos es ver que no hayan valores nulos. Para revisar esto de manera rápida, utilizamos la función `isnull`. Esta función analiza celda por celda si existe un valor nulo, en caso que así sea asigna el valor `True`, en caso contrario se coloca el valor `False`."
      ],
      "metadata": {
        "id": "hvPOEUsbstVP"
      }
    },
    {
      "cell_type": "code",
      "source": [
        "df.isnull()"
      ],
      "metadata": {
        "id": "_-74WtvwsqEI",
        "colab": {
          "base_uri": "https://localhost:8080/",
          "height": 488
        },
        "outputId": "4c436ba4-e9fc-4ecd-80c1-29c09682c5cc"
      },
      "execution_count": null,
      "outputs": [
        {
          "output_type": "execute_result",
          "data": {
            "text/plain": [
              "       age   male  chest_pain_type  resting_blood_pressure  cholesterol  \\\n",
              "0    False  False            False                   False        False   \n",
              "1    False  False            False                   False        False   \n",
              "2    False  False            False                   False        False   \n",
              "3    False  False            False                   False        False   \n",
              "4    False  False            False                   False        False   \n",
              "..     ...    ...              ...                     ...          ...   \n",
              "296  False  False            False                   False        False   \n",
              "297  False  False            False                   False        False   \n",
              "298  False  False            False                   False        False   \n",
              "299  False  False            False                   False        False   \n",
              "300  False  False            False                   False        False   \n",
              "\n",
              "     high_fasting_blood_sugar  resting_electrocardiographic_results  \\\n",
              "0                       False                                 False   \n",
              "1                       False                                 False   \n",
              "2                       False                                 False   \n",
              "3                       False                                 False   \n",
              "4                       False                                 False   \n",
              "..                        ...                                   ...   \n",
              "296                     False                                 False   \n",
              "297                     False                                 False   \n",
              "298                     False                                 False   \n",
              "299                     False                                 False   \n",
              "300                     False                                 False   \n",
              "\n",
              "     maximum_heart_rate_achieved  exercise_induced_angina  \\\n",
              "0                          False                    False   \n",
              "1                          False                    False   \n",
              "2                          False                    False   \n",
              "3                          False                    False   \n",
              "4                          False                    False   \n",
              "..                           ...                      ...   \n",
              "296                        False                    False   \n",
              "297                        False                    False   \n",
              "298                        False                    False   \n",
              "299                        False                    False   \n",
              "300                        False                    False   \n",
              "\n",
              "     st_depression_by_exercise  slope_st_by_excercise_peak  \\\n",
              "0                        False                       False   \n",
              "1                        False                       False   \n",
              "2                        False                       False   \n",
              "3                        False                       False   \n",
              "4                        False                       False   \n",
              "..                         ...                         ...   \n",
              "296                      False                       False   \n",
              "297                      False                       False   \n",
              "298                      False                       False   \n",
              "299                      False                       False   \n",
              "300                      False                       False   \n",
              "\n",
              "     number_of_vessels_colored_by_flouroscopy  thalassemia  \\\n",
              "0                                       False        False   \n",
              "1                                       False        False   \n",
              "2                                       False        False   \n",
              "3                                       False        False   \n",
              "4                                       False        False   \n",
              "..                                        ...          ...   \n",
              "296                                     False        False   \n",
              "297                                     False        False   \n",
              "298                                     False        False   \n",
              "299                                     False        False   \n",
              "300                                     False        False   \n",
              "\n",
              "     cardiovascular_disease  \n",
              "0                     False  \n",
              "1                     False  \n",
              "2                     False  \n",
              "3                     False  \n",
              "4                     False  \n",
              "..                      ...  \n",
              "296                   False  \n",
              "297                   False  \n",
              "298                   False  \n",
              "299                   False  \n",
              "300                   False  \n",
              "\n",
              "[301 rows x 14 columns]"
            ],
            "text/html": [
              "\n",
              "  <div id=\"df-a13be742-c921-4c1d-b05b-597013d30cd4\">\n",
              "    <div class=\"colab-df-container\">\n",
              "      <div>\n",
              "<style scoped>\n",
              "    .dataframe tbody tr th:only-of-type {\n",
              "        vertical-align: middle;\n",
              "    }\n",
              "\n",
              "    .dataframe tbody tr th {\n",
              "        vertical-align: top;\n",
              "    }\n",
              "\n",
              "    .dataframe thead th {\n",
              "        text-align: right;\n",
              "    }\n",
              "</style>\n",
              "<table border=\"1\" class=\"dataframe\">\n",
              "  <thead>\n",
              "    <tr style=\"text-align: right;\">\n",
              "      <th></th>\n",
              "      <th>age</th>\n",
              "      <th>male</th>\n",
              "      <th>chest_pain_type</th>\n",
              "      <th>resting_blood_pressure</th>\n",
              "      <th>cholesterol</th>\n",
              "      <th>high_fasting_blood_sugar</th>\n",
              "      <th>resting_electrocardiographic_results</th>\n",
              "      <th>maximum_heart_rate_achieved</th>\n",
              "      <th>exercise_induced_angina</th>\n",
              "      <th>st_depression_by_exercise</th>\n",
              "      <th>slope_st_by_excercise_peak</th>\n",
              "      <th>number_of_vessels_colored_by_flouroscopy</th>\n",
              "      <th>thalassemia</th>\n",
              "      <th>cardiovascular_disease</th>\n",
              "    </tr>\n",
              "  </thead>\n",
              "  <tbody>\n",
              "    <tr>\n",
              "      <th>0</th>\n",
              "      <td>False</td>\n",
              "      <td>False</td>\n",
              "      <td>False</td>\n",
              "      <td>False</td>\n",
              "      <td>False</td>\n",
              "      <td>False</td>\n",
              "      <td>False</td>\n",
              "      <td>False</td>\n",
              "      <td>False</td>\n",
              "      <td>False</td>\n",
              "      <td>False</td>\n",
              "      <td>False</td>\n",
              "      <td>False</td>\n",
              "      <td>False</td>\n",
              "    </tr>\n",
              "    <tr>\n",
              "      <th>1</th>\n",
              "      <td>False</td>\n",
              "      <td>False</td>\n",
              "      <td>False</td>\n",
              "      <td>False</td>\n",
              "      <td>False</td>\n",
              "      <td>False</td>\n",
              "      <td>False</td>\n",
              "      <td>False</td>\n",
              "      <td>False</td>\n",
              "      <td>False</td>\n",
              "      <td>False</td>\n",
              "      <td>False</td>\n",
              "      <td>False</td>\n",
              "      <td>False</td>\n",
              "    </tr>\n",
              "    <tr>\n",
              "      <th>2</th>\n",
              "      <td>False</td>\n",
              "      <td>False</td>\n",
              "      <td>False</td>\n",
              "      <td>False</td>\n",
              "      <td>False</td>\n",
              "      <td>False</td>\n",
              "      <td>False</td>\n",
              "      <td>False</td>\n",
              "      <td>False</td>\n",
              "      <td>False</td>\n",
              "      <td>False</td>\n",
              "      <td>False</td>\n",
              "      <td>False</td>\n",
              "      <td>False</td>\n",
              "    </tr>\n",
              "    <tr>\n",
              "      <th>3</th>\n",
              "      <td>False</td>\n",
              "      <td>False</td>\n",
              "      <td>False</td>\n",
              "      <td>False</td>\n",
              "      <td>False</td>\n",
              "      <td>False</td>\n",
              "      <td>False</td>\n",
              "      <td>False</td>\n",
              "      <td>False</td>\n",
              "      <td>False</td>\n",
              "      <td>False</td>\n",
              "      <td>False</td>\n",
              "      <td>False</td>\n",
              "      <td>False</td>\n",
              "    </tr>\n",
              "    <tr>\n",
              "      <th>4</th>\n",
              "      <td>False</td>\n",
              "      <td>False</td>\n",
              "      <td>False</td>\n",
              "      <td>False</td>\n",
              "      <td>False</td>\n",
              "      <td>False</td>\n",
              "      <td>False</td>\n",
              "      <td>False</td>\n",
              "      <td>False</td>\n",
              "      <td>False</td>\n",
              "      <td>False</td>\n",
              "      <td>False</td>\n",
              "      <td>False</td>\n",
              "      <td>False</td>\n",
              "    </tr>\n",
              "    <tr>\n",
              "      <th>...</th>\n",
              "      <td>...</td>\n",
              "      <td>...</td>\n",
              "      <td>...</td>\n",
              "      <td>...</td>\n",
              "      <td>...</td>\n",
              "      <td>...</td>\n",
              "      <td>...</td>\n",
              "      <td>...</td>\n",
              "      <td>...</td>\n",
              "      <td>...</td>\n",
              "      <td>...</td>\n",
              "      <td>...</td>\n",
              "      <td>...</td>\n",
              "      <td>...</td>\n",
              "    </tr>\n",
              "    <tr>\n",
              "      <th>296</th>\n",
              "      <td>False</td>\n",
              "      <td>False</td>\n",
              "      <td>False</td>\n",
              "      <td>False</td>\n",
              "      <td>False</td>\n",
              "      <td>False</td>\n",
              "      <td>False</td>\n",
              "      <td>False</td>\n",
              "      <td>False</td>\n",
              "      <td>False</td>\n",
              "      <td>False</td>\n",
              "      <td>False</td>\n",
              "      <td>False</td>\n",
              "      <td>False</td>\n",
              "    </tr>\n",
              "    <tr>\n",
              "      <th>297</th>\n",
              "      <td>False</td>\n",
              "      <td>False</td>\n",
              "      <td>False</td>\n",
              "      <td>False</td>\n",
              "      <td>False</td>\n",
              "      <td>False</td>\n",
              "      <td>False</td>\n",
              "      <td>False</td>\n",
              "      <td>False</td>\n",
              "      <td>False</td>\n",
              "      <td>False</td>\n",
              "      <td>False</td>\n",
              "      <td>False</td>\n",
              "      <td>False</td>\n",
              "    </tr>\n",
              "    <tr>\n",
              "      <th>298</th>\n",
              "      <td>False</td>\n",
              "      <td>False</td>\n",
              "      <td>False</td>\n",
              "      <td>False</td>\n",
              "      <td>False</td>\n",
              "      <td>False</td>\n",
              "      <td>False</td>\n",
              "      <td>False</td>\n",
              "      <td>False</td>\n",
              "      <td>False</td>\n",
              "      <td>False</td>\n",
              "      <td>False</td>\n",
              "      <td>False</td>\n",
              "      <td>False</td>\n",
              "    </tr>\n",
              "    <tr>\n",
              "      <th>299</th>\n",
              "      <td>False</td>\n",
              "      <td>False</td>\n",
              "      <td>False</td>\n",
              "      <td>False</td>\n",
              "      <td>False</td>\n",
              "      <td>False</td>\n",
              "      <td>False</td>\n",
              "      <td>False</td>\n",
              "      <td>False</td>\n",
              "      <td>False</td>\n",
              "      <td>False</td>\n",
              "      <td>False</td>\n",
              "      <td>False</td>\n",
              "      <td>False</td>\n",
              "    </tr>\n",
              "    <tr>\n",
              "      <th>300</th>\n",
              "      <td>False</td>\n",
              "      <td>False</td>\n",
              "      <td>False</td>\n",
              "      <td>False</td>\n",
              "      <td>False</td>\n",
              "      <td>False</td>\n",
              "      <td>False</td>\n",
              "      <td>False</td>\n",
              "      <td>False</td>\n",
              "      <td>False</td>\n",
              "      <td>False</td>\n",
              "      <td>False</td>\n",
              "      <td>False</td>\n",
              "      <td>False</td>\n",
              "    </tr>\n",
              "  </tbody>\n",
              "</table>\n",
              "<p>301 rows × 14 columns</p>\n",
              "</div>\n",
              "      <button class=\"colab-df-convert\" onclick=\"convertToInteractive('df-a13be742-c921-4c1d-b05b-597013d30cd4')\"\n",
              "              title=\"Convert this dataframe to an interactive table.\"\n",
              "              style=\"display:none;\">\n",
              "        \n",
              "  <svg xmlns=\"http://www.w3.org/2000/svg\" height=\"24px\"viewBox=\"0 0 24 24\"\n",
              "       width=\"24px\">\n",
              "    <path d=\"M0 0h24v24H0V0z\" fill=\"none\"/>\n",
              "    <path d=\"M18.56 5.44l.94 2.06.94-2.06 2.06-.94-2.06-.94-.94-2.06-.94 2.06-2.06.94zm-11 1L8.5 8.5l.94-2.06 2.06-.94-2.06-.94L8.5 2.5l-.94 2.06-2.06.94zm10 10l.94 2.06.94-2.06 2.06-.94-2.06-.94-.94-2.06-.94 2.06-2.06.94z\"/><path d=\"M17.41 7.96l-1.37-1.37c-.4-.4-.92-.59-1.43-.59-.52 0-1.04.2-1.43.59L10.3 9.45l-7.72 7.72c-.78.78-.78 2.05 0 2.83L4 21.41c.39.39.9.59 1.41.59.51 0 1.02-.2 1.41-.59l7.78-7.78 2.81-2.81c.8-.78.8-2.07 0-2.86zM5.41 20L4 18.59l7.72-7.72 1.47 1.35L5.41 20z\"/>\n",
              "  </svg>\n",
              "      </button>\n",
              "      \n",
              "  <style>\n",
              "    .colab-df-container {\n",
              "      display:flex;\n",
              "      flex-wrap:wrap;\n",
              "      gap: 12px;\n",
              "    }\n",
              "\n",
              "    .colab-df-convert {\n",
              "      background-color: #E8F0FE;\n",
              "      border: none;\n",
              "      border-radius: 50%;\n",
              "      cursor: pointer;\n",
              "      display: none;\n",
              "      fill: #1967D2;\n",
              "      height: 32px;\n",
              "      padding: 0 0 0 0;\n",
              "      width: 32px;\n",
              "    }\n",
              "\n",
              "    .colab-df-convert:hover {\n",
              "      background-color: #E2EBFA;\n",
              "      box-shadow: 0px 1px 2px rgba(60, 64, 67, 0.3), 0px 1px 3px 1px rgba(60, 64, 67, 0.15);\n",
              "      fill: #174EA6;\n",
              "    }\n",
              "\n",
              "    [theme=dark] .colab-df-convert {\n",
              "      background-color: #3B4455;\n",
              "      fill: #D2E3FC;\n",
              "    }\n",
              "\n",
              "    [theme=dark] .colab-df-convert:hover {\n",
              "      background-color: #434B5C;\n",
              "      box-shadow: 0px 1px 3px 1px rgba(0, 0, 0, 0.15);\n",
              "      filter: drop-shadow(0px 1px 2px rgba(0, 0, 0, 0.3));\n",
              "      fill: #FFFFFF;\n",
              "    }\n",
              "  </style>\n",
              "\n",
              "      <script>\n",
              "        const buttonEl =\n",
              "          document.querySelector('#df-a13be742-c921-4c1d-b05b-597013d30cd4 button.colab-df-convert');\n",
              "        buttonEl.style.display =\n",
              "          google.colab.kernel.accessAllowed ? 'block' : 'none';\n",
              "\n",
              "        async function convertToInteractive(key) {\n",
              "          const element = document.querySelector('#df-a13be742-c921-4c1d-b05b-597013d30cd4');\n",
              "          const dataTable =\n",
              "            await google.colab.kernel.invokeFunction('convertToInteractive',\n",
              "                                                     [key], {});\n",
              "          if (!dataTable) return;\n",
              "\n",
              "          const docLinkHtml = 'Like what you see? Visit the ' +\n",
              "            '<a target=\"_blank\" href=https://colab.research.google.com/notebooks/data_table.ipynb>data table notebook</a>'\n",
              "            + ' to learn more about interactive tables.';\n",
              "          element.innerHTML = '';\n",
              "          dataTable['output_type'] = 'display_data';\n",
              "          await google.colab.output.renderOutput(dataTable, element);\n",
              "          const docLink = document.createElement('div');\n",
              "          docLink.innerHTML = docLinkHtml;\n",
              "          element.appendChild(docLink);\n",
              "        }\n",
              "      </script>\n",
              "    </div>\n",
              "  </div>\n",
              "  "
            ]
          },
          "metadata": {},
          "execution_count": 10
        }
      ]
    },
    {
      "cell_type": "markdown",
      "source": [
        "Luego, podemos utilizar la función `sum`, que nos permite sumar los valores que son `True` en cada columna."
      ],
      "metadata": {
        "id": "pu1b9n7mR5DR"
      }
    },
    {
      "cell_type": "code",
      "source": [
        "df.isnull().sum()"
      ],
      "metadata": {
        "colab": {
          "base_uri": "https://localhost:8080/"
        },
        "id": "2JyegUTYs17R",
        "outputId": "f791cdd1-c3b7-4ac9-d420-70f4d25d75db"
      },
      "execution_count": null,
      "outputs": [
        {
          "output_type": "execute_result",
          "data": {
            "text/plain": [
              "age                                         0\n",
              "male                                        0\n",
              "chest_pain_type                             0\n",
              "resting_blood_pressure                      0\n",
              "cholesterol                                 0\n",
              "high_fasting_blood_sugar                    0\n",
              "resting_electrocardiographic_results        0\n",
              "maximum_heart_rate_achieved                 0\n",
              "exercise_induced_angina                     0\n",
              "st_depression_by_exercise                   0\n",
              "slope_st_by_excercise_peak                  0\n",
              "number_of_vessels_colored_by_flouroscopy    0\n",
              "thalassemia                                 0\n",
              "cardiovascular_disease                      0\n",
              "dtype: int64"
            ]
          },
          "metadata": {},
          "execution_count": 11
        }
      ]
    },
    {
      "cell_type": "markdown",
      "source": [
        "En este caso no tenemos valores nulos, pero si los tuviéramos es importante que sean reemplazados por algún valor. \n",
        "\n",
        "Ahora vamos a analizar nuestro **atributo objetivo**. Este atributo corresponde al valor que nos gustaría predecir a partir de los demás atributos (o parte de ellos). En nuestro caso utilizaremos la columna  *cardiovascular_disease*. Accedamos a ella para ver la naturaleza de los datos."
      ],
      "metadata": {
        "id": "6haIf2cDto4c"
      }
    },
    {
      "cell_type": "code",
      "source": [
        "df[\"cardiovascular_disease\"]"
      ],
      "metadata": {
        "colab": {
          "base_uri": "https://localhost:8080/"
        },
        "id": "iRVZG_hKttdH",
        "outputId": "b0d229b9-5ac1-4203-de71-43314eb67edd"
      },
      "execution_count": null,
      "outputs": [
        {
          "output_type": "execute_result",
          "data": {
            "text/plain": [
              "0      1\n",
              "1      0\n",
              "2      1\n",
              "3      0\n",
              "4      0\n",
              "      ..\n",
              "296    0\n",
              "297    1\n",
              "298    1\n",
              "299    0\n",
              "300    0\n",
              "Name: cardiovascular_disease, Length: 301, dtype: int64"
            ]
          },
          "metadata": {},
          "execution_count": 12
        }
      ]
    },
    {
      "cell_type": "markdown",
      "source": [
        "Al parecer se trata de un atributo con valores 0's y 1's, donde 0 correspondería a que el paciente no presenta enfermedad cardiovascular, mientras que 1 significa que si tiene. Para comprobar esto, utilizamos la función `set` que nos permite ver todos los valores distintos que puede tomar este atributo."
      ],
      "metadata": {
        "id": "_UCz9MKqSDUy"
      }
    },
    {
      "cell_type": "code",
      "source": [
        "set(df[\"cardiovascular_disease\"])"
      ],
      "metadata": {
        "colab": {
          "base_uri": "https://localhost:8080/"
        },
        "id": "6jUTDrTMuCwX",
        "outputId": "0ac40538-c1f6-4921-ff64-a3b23e40cbc8"
      },
      "execution_count": null,
      "outputs": [
        {
          "output_type": "execute_result",
          "data": {
            "text/plain": [
              "{0, 1}"
            ]
          },
          "metadata": {},
          "execution_count": 13
        }
      ]
    },
    {
      "cell_type": "markdown",
      "source": [
        "Con este resultados podemos concluir que trabajaremos con una clasificación binaria 👀. Otro paso fundamental, es contar la frecuencia de cada uno de los posibles valores pertenecientes a nuestro atributo/variable objetivo. Esto se realiza con la función `value_counts`."
      ],
      "metadata": {
        "id": "fFAkiosDSJ_B"
      }
    },
    {
      "cell_type": "code",
      "source": [
        "df[\"cardiovascular_disease\"].value_counts()"
      ],
      "metadata": {
        "colab": {
          "base_uri": "https://localhost:8080/"
        },
        "id": "PVaXCrXLt3jN",
        "outputId": "24a7b115-5e91-41b2-f56b-351e7e3f78cc"
      },
      "execution_count": null,
      "outputs": [
        {
          "output_type": "execute_result",
          "data": {
            "text/plain": [
              "1    164\n",
              "0    137\n",
              "Name: cardiovascular_disease, dtype: int64"
            ]
          },
          "metadata": {},
          "execution_count": 14
        }
      ]
    },
    {
      "cell_type": "markdown",
      "source": [
        "Podemos ver que los datos están prácticamente balanceados; 164 pacientes presentan una enfermedad cardiovascular, mientras que 137 no tienen. En caso que exista un desbalance, hay que aplicar técnicas especiales de balanceo que veremos más adelante en el curso. Ahora sigamos analizando nuestros datos."
      ],
      "metadata": {
        "id": "cgze1JsWuWkc"
      }
    },
    {
      "cell_type": "code",
      "source": [
        "df.sample(1)"
      ],
      "metadata": {
        "colab": {
          "base_uri": "https://localhost:8080/",
          "height": 145
        },
        "id": "uiOYyt7GuwEF",
        "outputId": "8bb11126-f78b-48a2-8a48-6e3d0aa90745"
      },
      "execution_count": null,
      "outputs": [
        {
          "output_type": "execute_result",
          "data": {
            "text/plain": [
              "     age  male  chest_pain_type  resting_blood_pressure  cholesterol  \\\n",
              "128   52     1  atypical_angina                     128          205   \n",
              "\n",
              "     high_fasting_blood_sugar  resting_electrocardiographic_results  \\\n",
              "128                         1                                     1   \n",
              "\n",
              "     maximum_heart_rate_achieved  exercise_induced_angina  \\\n",
              "128                          184                        0   \n",
              "\n",
              "     st_depression_by_exercise  slope_st_by_excercise_peak  \\\n",
              "128                        0.0                          -1   \n",
              "\n",
              "     number_of_vessels_colored_by_flouroscopy   thalassemia  \\\n",
              "128                                         0  fixed_defect   \n",
              "\n",
              "     cardiovascular_disease  \n",
              "128                       1  "
            ],
            "text/html": [
              "\n",
              "  <div id=\"df-fe4535a0-7219-4fe8-9128-7c2d3a0f1dc7\">\n",
              "    <div class=\"colab-df-container\">\n",
              "      <div>\n",
              "<style scoped>\n",
              "    .dataframe tbody tr th:only-of-type {\n",
              "        vertical-align: middle;\n",
              "    }\n",
              "\n",
              "    .dataframe tbody tr th {\n",
              "        vertical-align: top;\n",
              "    }\n",
              "\n",
              "    .dataframe thead th {\n",
              "        text-align: right;\n",
              "    }\n",
              "</style>\n",
              "<table border=\"1\" class=\"dataframe\">\n",
              "  <thead>\n",
              "    <tr style=\"text-align: right;\">\n",
              "      <th></th>\n",
              "      <th>age</th>\n",
              "      <th>male</th>\n",
              "      <th>chest_pain_type</th>\n",
              "      <th>resting_blood_pressure</th>\n",
              "      <th>cholesterol</th>\n",
              "      <th>high_fasting_blood_sugar</th>\n",
              "      <th>resting_electrocardiographic_results</th>\n",
              "      <th>maximum_heart_rate_achieved</th>\n",
              "      <th>exercise_induced_angina</th>\n",
              "      <th>st_depression_by_exercise</th>\n",
              "      <th>slope_st_by_excercise_peak</th>\n",
              "      <th>number_of_vessels_colored_by_flouroscopy</th>\n",
              "      <th>thalassemia</th>\n",
              "      <th>cardiovascular_disease</th>\n",
              "    </tr>\n",
              "  </thead>\n",
              "  <tbody>\n",
              "    <tr>\n",
              "      <th>128</th>\n",
              "      <td>52</td>\n",
              "      <td>1</td>\n",
              "      <td>atypical_angina</td>\n",
              "      <td>128</td>\n",
              "      <td>205</td>\n",
              "      <td>1</td>\n",
              "      <td>1</td>\n",
              "      <td>184</td>\n",
              "      <td>0</td>\n",
              "      <td>0.0</td>\n",
              "      <td>-1</td>\n",
              "      <td>0</td>\n",
              "      <td>fixed_defect</td>\n",
              "      <td>1</td>\n",
              "    </tr>\n",
              "  </tbody>\n",
              "</table>\n",
              "</div>\n",
              "      <button class=\"colab-df-convert\" onclick=\"convertToInteractive('df-fe4535a0-7219-4fe8-9128-7c2d3a0f1dc7')\"\n",
              "              title=\"Convert this dataframe to an interactive table.\"\n",
              "              style=\"display:none;\">\n",
              "        \n",
              "  <svg xmlns=\"http://www.w3.org/2000/svg\" height=\"24px\"viewBox=\"0 0 24 24\"\n",
              "       width=\"24px\">\n",
              "    <path d=\"M0 0h24v24H0V0z\" fill=\"none\"/>\n",
              "    <path d=\"M18.56 5.44l.94 2.06.94-2.06 2.06-.94-2.06-.94-.94-2.06-.94 2.06-2.06.94zm-11 1L8.5 8.5l.94-2.06 2.06-.94-2.06-.94L8.5 2.5l-.94 2.06-2.06.94zm10 10l.94 2.06.94-2.06 2.06-.94-2.06-.94-.94-2.06-.94 2.06-2.06.94z\"/><path d=\"M17.41 7.96l-1.37-1.37c-.4-.4-.92-.59-1.43-.59-.52 0-1.04.2-1.43.59L10.3 9.45l-7.72 7.72c-.78.78-.78 2.05 0 2.83L4 21.41c.39.39.9.59 1.41.59.51 0 1.02-.2 1.41-.59l7.78-7.78 2.81-2.81c.8-.78.8-2.07 0-2.86zM5.41 20L4 18.59l7.72-7.72 1.47 1.35L5.41 20z\"/>\n",
              "  </svg>\n",
              "      </button>\n",
              "      \n",
              "  <style>\n",
              "    .colab-df-container {\n",
              "      display:flex;\n",
              "      flex-wrap:wrap;\n",
              "      gap: 12px;\n",
              "    }\n",
              "\n",
              "    .colab-df-convert {\n",
              "      background-color: #E8F0FE;\n",
              "      border: none;\n",
              "      border-radius: 50%;\n",
              "      cursor: pointer;\n",
              "      display: none;\n",
              "      fill: #1967D2;\n",
              "      height: 32px;\n",
              "      padding: 0 0 0 0;\n",
              "      width: 32px;\n",
              "    }\n",
              "\n",
              "    .colab-df-convert:hover {\n",
              "      background-color: #E2EBFA;\n",
              "      box-shadow: 0px 1px 2px rgba(60, 64, 67, 0.3), 0px 1px 3px 1px rgba(60, 64, 67, 0.15);\n",
              "      fill: #174EA6;\n",
              "    }\n",
              "\n",
              "    [theme=dark] .colab-df-convert {\n",
              "      background-color: #3B4455;\n",
              "      fill: #D2E3FC;\n",
              "    }\n",
              "\n",
              "    [theme=dark] .colab-df-convert:hover {\n",
              "      background-color: #434B5C;\n",
              "      box-shadow: 0px 1px 3px 1px rgba(0, 0, 0, 0.15);\n",
              "      filter: drop-shadow(0px 1px 2px rgba(0, 0, 0, 0.3));\n",
              "      fill: #FFFFFF;\n",
              "    }\n",
              "  </style>\n",
              "\n",
              "      <script>\n",
              "        const buttonEl =\n",
              "          document.querySelector('#df-fe4535a0-7219-4fe8-9128-7c2d3a0f1dc7 button.colab-df-convert');\n",
              "        buttonEl.style.display =\n",
              "          google.colab.kernel.accessAllowed ? 'block' : 'none';\n",
              "\n",
              "        async function convertToInteractive(key) {\n",
              "          const element = document.querySelector('#df-fe4535a0-7219-4fe8-9128-7c2d3a0f1dc7');\n",
              "          const dataTable =\n",
              "            await google.colab.kernel.invokeFunction('convertToInteractive',\n",
              "                                                     [key], {});\n",
              "          if (!dataTable) return;\n",
              "\n",
              "          const docLinkHtml = 'Like what you see? Visit the ' +\n",
              "            '<a target=\"_blank\" href=https://colab.research.google.com/notebooks/data_table.ipynb>data table notebook</a>'\n",
              "            + ' to learn more about interactive tables.';\n",
              "          element.innerHTML = '';\n",
              "          dataTable['output_type'] = 'display_data';\n",
              "          await google.colab.output.renderOutput(dataTable, element);\n",
              "          const docLink = document.createElement('div');\n",
              "          docLink.innerHTML = docLinkHtml;\n",
              "          element.appendChild(docLink);\n",
              "        }\n",
              "      </script>\n",
              "    </div>\n",
              "  </div>\n",
              "  "
            ]
          },
          "metadata": {},
          "execution_count": 15
        }
      ]
    },
    {
      "cell_type": "markdown",
      "source": [
        "Podemos ver que las columnas *chest_pain_type* y *thalassemia* son atributos con valores de tipo string (palabras). En el aprendizaje de máquinas nuestros algoritmos o sistemas son creados a partir de una serie de operaciones matemáticas sobre los datos, lo cual nos permite entrenar y luego realizar predicciones. Debido a esto, nuestro modelos no pueden trabajar directamente con texto y deben ser transformados a números.\n",
        "\n",
        "La manera más sencilla de realizar esto es utilizando una transformación **One-Hot**. Esto significa que si tenemos un atributo de tipo string con x valores distintos, crearemos un total de x atributos nuevos con valores binarios. Para ejemplificar, si se tiene una columna con los siguientes valores\n",
        "\n",
        "\n",
        "| chest_pain_type |\n",
        "|--------|\n",
        "| asymptomatic |\n",
        "| non_anginal_pain   |\n",
        "| typical_angina|\n",
        "| atypical_angina |\n",
        "\n",
        "y se transforma utilizando One-Hot Encoding, se generan las siguientes asignaciones columnas:\n",
        "\n",
        "\n",
        "| chest_pain_type_asymptomatic | chest_pain_type_non_anginal_pain | chest_pain_type_typical_angina | chest_pain_type_atypical_angina |\n",
        "|------------------------------|----------------------------------|--------------------------------|---------------------------------|\n",
        "| 1                            | 0                                | 0                              | 0                               |\n",
        "| 0                            | 1                                | 0                              | 0                               |\n",
        "| 0                            | 0                                | 1                              | 0                               |\n",
        "| 0                            | 0                                | 0                              | 1                               |\n",
        "\n",
        "\n",
        "Así, ya no tenemos que lidiar con valores no numéricos. Para realizar esta transformación podemos utilizar la función `get_dummies`."
      ],
      "metadata": {
        "id": "g5wLI595vM9h"
      }
    },
    {
      "cell_type": "code",
      "source": [
        "df = pd.get_dummies(df)\n",
        "df.sample(3)"
      ],
      "metadata": {
        "colab": {
          "base_uri": "https://localhost:8080/",
          "height": 207
        },
        "id": "x1pkmruDwTgV",
        "outputId": "fc4f2386-8c90-4e83-9d63-45b48a717f02"
      },
      "execution_count": null,
      "outputs": [
        {
          "output_type": "execute_result",
          "data": {
            "text/plain": [
              "     age  male  resting_blood_pressure  cholesterol  high_fasting_blood_sugar  \\\n",
              "17    58     1                     125          220                         0   \n",
              "204   57     1                     152          274                         0   \n",
              "295   54     1                     120          258                         0   \n",
              "\n",
              "     resting_electrocardiographic_results  maximum_heart_rate_achieved  \\\n",
              "17                                      1                          144   \n",
              "204                                     1                           88   \n",
              "295                                     0                          147   \n",
              "\n",
              "     exercise_induced_angina  st_depression_by_exercise  \\\n",
              "17                         0                        0.4   \n",
              "204                        1                        1.2   \n",
              "295                        0                        0.4   \n",
              "\n",
              "     slope_st_by_excercise_peak  number_of_vessels_colored_by_flouroscopy  \\\n",
              "17                            0                                         4   \n",
              "204                           0                                         1   \n",
              "295                           0                                         0   \n",
              "\n",
              "     cardiovascular_disease  chest_pain_type_asymptomatic  \\\n",
              "17                        1                             0   \n",
              "204                       0                             0   \n",
              "295                       1                             0   \n",
              "\n",
              "     chest_pain_type_atypical_angina  chest_pain_type_non_anginal_pain  \\\n",
              "17                                 1                                 0   \n",
              "204                                0                                 0   \n",
              "295                                0                                 1   \n",
              "\n",
              "     chest_pain_type_typical_angina  thalassemia_fixed_defect  \\\n",
              "17                                0                         0   \n",
              "204                               1                         0   \n",
              "295                               0                         0   \n",
              "\n",
              "     thalassemia_normal  thalassemia_reversable_defect  \n",
              "17                    0                              1  \n",
              "204                   0                              1  \n",
              "295                   0                              1  "
            ],
            "text/html": [
              "\n",
              "  <div id=\"df-7ce5a3a7-9dcb-4171-8580-1b233dd57ece\">\n",
              "    <div class=\"colab-df-container\">\n",
              "      <div>\n",
              "<style scoped>\n",
              "    .dataframe tbody tr th:only-of-type {\n",
              "        vertical-align: middle;\n",
              "    }\n",
              "\n",
              "    .dataframe tbody tr th {\n",
              "        vertical-align: top;\n",
              "    }\n",
              "\n",
              "    .dataframe thead th {\n",
              "        text-align: right;\n",
              "    }\n",
              "</style>\n",
              "<table border=\"1\" class=\"dataframe\">\n",
              "  <thead>\n",
              "    <tr style=\"text-align: right;\">\n",
              "      <th></th>\n",
              "      <th>age</th>\n",
              "      <th>male</th>\n",
              "      <th>resting_blood_pressure</th>\n",
              "      <th>cholesterol</th>\n",
              "      <th>high_fasting_blood_sugar</th>\n",
              "      <th>resting_electrocardiographic_results</th>\n",
              "      <th>maximum_heart_rate_achieved</th>\n",
              "      <th>exercise_induced_angina</th>\n",
              "      <th>st_depression_by_exercise</th>\n",
              "      <th>slope_st_by_excercise_peak</th>\n",
              "      <th>number_of_vessels_colored_by_flouroscopy</th>\n",
              "      <th>cardiovascular_disease</th>\n",
              "      <th>chest_pain_type_asymptomatic</th>\n",
              "      <th>chest_pain_type_atypical_angina</th>\n",
              "      <th>chest_pain_type_non_anginal_pain</th>\n",
              "      <th>chest_pain_type_typical_angina</th>\n",
              "      <th>thalassemia_fixed_defect</th>\n",
              "      <th>thalassemia_normal</th>\n",
              "      <th>thalassemia_reversable_defect</th>\n",
              "    </tr>\n",
              "  </thead>\n",
              "  <tbody>\n",
              "    <tr>\n",
              "      <th>17</th>\n",
              "      <td>58</td>\n",
              "      <td>1</td>\n",
              "      <td>125</td>\n",
              "      <td>220</td>\n",
              "      <td>0</td>\n",
              "      <td>1</td>\n",
              "      <td>144</td>\n",
              "      <td>0</td>\n",
              "      <td>0.4</td>\n",
              "      <td>0</td>\n",
              "      <td>4</td>\n",
              "      <td>1</td>\n",
              "      <td>0</td>\n",
              "      <td>1</td>\n",
              "      <td>0</td>\n",
              "      <td>0</td>\n",
              "      <td>0</td>\n",
              "      <td>0</td>\n",
              "      <td>1</td>\n",
              "    </tr>\n",
              "    <tr>\n",
              "      <th>204</th>\n",
              "      <td>57</td>\n",
              "      <td>1</td>\n",
              "      <td>152</td>\n",
              "      <td>274</td>\n",
              "      <td>0</td>\n",
              "      <td>1</td>\n",
              "      <td>88</td>\n",
              "      <td>1</td>\n",
              "      <td>1.2</td>\n",
              "      <td>0</td>\n",
              "      <td>1</td>\n",
              "      <td>0</td>\n",
              "      <td>0</td>\n",
              "      <td>0</td>\n",
              "      <td>0</td>\n",
              "      <td>1</td>\n",
              "      <td>0</td>\n",
              "      <td>0</td>\n",
              "      <td>1</td>\n",
              "    </tr>\n",
              "    <tr>\n",
              "      <th>295</th>\n",
              "      <td>54</td>\n",
              "      <td>1</td>\n",
              "      <td>120</td>\n",
              "      <td>258</td>\n",
              "      <td>0</td>\n",
              "      <td>0</td>\n",
              "      <td>147</td>\n",
              "      <td>0</td>\n",
              "      <td>0.4</td>\n",
              "      <td>0</td>\n",
              "      <td>0</td>\n",
              "      <td>1</td>\n",
              "      <td>0</td>\n",
              "      <td>0</td>\n",
              "      <td>1</td>\n",
              "      <td>0</td>\n",
              "      <td>0</td>\n",
              "      <td>0</td>\n",
              "      <td>1</td>\n",
              "    </tr>\n",
              "  </tbody>\n",
              "</table>\n",
              "</div>\n",
              "      <button class=\"colab-df-convert\" onclick=\"convertToInteractive('df-7ce5a3a7-9dcb-4171-8580-1b233dd57ece')\"\n",
              "              title=\"Convert this dataframe to an interactive table.\"\n",
              "              style=\"display:none;\">\n",
              "        \n",
              "  <svg xmlns=\"http://www.w3.org/2000/svg\" height=\"24px\"viewBox=\"0 0 24 24\"\n",
              "       width=\"24px\">\n",
              "    <path d=\"M0 0h24v24H0V0z\" fill=\"none\"/>\n",
              "    <path d=\"M18.56 5.44l.94 2.06.94-2.06 2.06-.94-2.06-.94-.94-2.06-.94 2.06-2.06.94zm-11 1L8.5 8.5l.94-2.06 2.06-.94-2.06-.94L8.5 2.5l-.94 2.06-2.06.94zm10 10l.94 2.06.94-2.06 2.06-.94-2.06-.94-.94-2.06-.94 2.06-2.06.94z\"/><path d=\"M17.41 7.96l-1.37-1.37c-.4-.4-.92-.59-1.43-.59-.52 0-1.04.2-1.43.59L10.3 9.45l-7.72 7.72c-.78.78-.78 2.05 0 2.83L4 21.41c.39.39.9.59 1.41.59.51 0 1.02-.2 1.41-.59l7.78-7.78 2.81-2.81c.8-.78.8-2.07 0-2.86zM5.41 20L4 18.59l7.72-7.72 1.47 1.35L5.41 20z\"/>\n",
              "  </svg>\n",
              "      </button>\n",
              "      \n",
              "  <style>\n",
              "    .colab-df-container {\n",
              "      display:flex;\n",
              "      flex-wrap:wrap;\n",
              "      gap: 12px;\n",
              "    }\n",
              "\n",
              "    .colab-df-convert {\n",
              "      background-color: #E8F0FE;\n",
              "      border: none;\n",
              "      border-radius: 50%;\n",
              "      cursor: pointer;\n",
              "      display: none;\n",
              "      fill: #1967D2;\n",
              "      height: 32px;\n",
              "      padding: 0 0 0 0;\n",
              "      width: 32px;\n",
              "    }\n",
              "\n",
              "    .colab-df-convert:hover {\n",
              "      background-color: #E2EBFA;\n",
              "      box-shadow: 0px 1px 2px rgba(60, 64, 67, 0.3), 0px 1px 3px 1px rgba(60, 64, 67, 0.15);\n",
              "      fill: #174EA6;\n",
              "    }\n",
              "\n",
              "    [theme=dark] .colab-df-convert {\n",
              "      background-color: #3B4455;\n",
              "      fill: #D2E3FC;\n",
              "    }\n",
              "\n",
              "    [theme=dark] .colab-df-convert:hover {\n",
              "      background-color: #434B5C;\n",
              "      box-shadow: 0px 1px 3px 1px rgba(0, 0, 0, 0.15);\n",
              "      filter: drop-shadow(0px 1px 2px rgba(0, 0, 0, 0.3));\n",
              "      fill: #FFFFFF;\n",
              "    }\n",
              "  </style>\n",
              "\n",
              "      <script>\n",
              "        const buttonEl =\n",
              "          document.querySelector('#df-7ce5a3a7-9dcb-4171-8580-1b233dd57ece button.colab-df-convert');\n",
              "        buttonEl.style.display =\n",
              "          google.colab.kernel.accessAllowed ? 'block' : 'none';\n",
              "\n",
              "        async function convertToInteractive(key) {\n",
              "          const element = document.querySelector('#df-7ce5a3a7-9dcb-4171-8580-1b233dd57ece');\n",
              "          const dataTable =\n",
              "            await google.colab.kernel.invokeFunction('convertToInteractive',\n",
              "                                                     [key], {});\n",
              "          if (!dataTable) return;\n",
              "\n",
              "          const docLinkHtml = 'Like what you see? Visit the ' +\n",
              "            '<a target=\"_blank\" href=https://colab.research.google.com/notebooks/data_table.ipynb>data table notebook</a>'\n",
              "            + ' to learn more about interactive tables.';\n",
              "          element.innerHTML = '';\n",
              "          dataTable['output_type'] = 'display_data';\n",
              "          await google.colab.output.renderOutput(dataTable, element);\n",
              "          const docLink = document.createElement('div');\n",
              "          docLink.innerHTML = docLinkHtml;\n",
              "          element.appendChild(docLink);\n",
              "        }\n",
              "      </script>\n",
              "    </div>\n",
              "  </div>\n",
              "  "
            ]
          },
          "metadata": {},
          "execution_count": 16
        }
      ]
    },
    {
      "cell_type": "markdown",
      "source": [
        "Los Dataframes de Pandas también nos permiten realizar consultas interesantes sobre nuestro dataset en una linea de código. Por ejemplo, con el siguiente comando consultamos cuántas personas menores a 40 años presentan una enfermedad cardiovascular."
      ],
      "metadata": {
        "id": "XL8YdWb8T_-Q"
      }
    },
    {
      "cell_type": "code",
      "source": [
        "df[(df[\"age\"] <= 40) & (df[\"cardiovascular_disease\"] == 1)].shape[0]"
      ],
      "metadata": {
        "colab": {
          "base_uri": "https://localhost:8080/"
        },
        "id": "Mr7bGlZYTjc8",
        "outputId": "045bb709-e007-4073-d83c-d1d24cdc7326"
      },
      "execution_count": null,
      "outputs": [
        {
          "output_type": "execute_result",
          "data": {
            "text/plain": [
              "13"
            ]
          },
          "metadata": {},
          "execution_count": 17
        }
      ]
    },
    {
      "cell_type": "markdown",
      "source": [
        "Lo siguiente que podemos hacer, es crear diferentes visualizaciones que nos permitan entender mejor nuestros datos. \n",
        "\n",
        "Por ejemplo, si utilizamos la función *box plot* podemos visualizar si es que existen datos alejados del promedio o con un extraño comportamiento en nuestro dataset, más conocidos como outliers."
      ],
      "metadata": {
        "id": "BEw9DVw-Uk4h"
      }
    },
    {
      "cell_type": "code",
      "source": [
        "df[['age', 'cholesterol','resting_blood_pressure']].plot.box(vert = False, grid = True)"
      ],
      "metadata": {
        "colab": {
          "base_uri": "https://localhost:8080/",
          "height": 283
        },
        "id": "I7vw6acuUr6E",
        "outputId": "32ea0755-a3c6-40eb-a0a3-324835a194c3"
      },
      "execution_count": null,
      "outputs": [
        {
          "output_type": "execute_result",
          "data": {
            "text/plain": [
              "<matplotlib.axes._subplots.AxesSubplot at 0x7fb7e4178190>"
            ]
          },
          "metadata": {},
          "execution_count": 19
        },
        {
          "output_type": "display_data",
          "data": {
            "text/plain": [
              "<Figure size 432x288 with 1 Axes>"
            ],
            "image/png": "[encoded data removed]"
          },
          "metadata": {
            "needs_background": "light"
          }
        }
      ]
    },
    {
      "cell_type": "markdown",
      "source": [
        "También podemos utilizar un scatter plot para ver si dos variables tienen una relación lineal o algún otro comportamiento"
      ],
      "metadata": {
        "id": "OC6UjVaYVlVt"
      }
    },
    {
      "cell_type": "code",
      "source": [
        "plt.scatter(df['age'], df['cardiovascular_disease'])\n",
        "plt.xlabel('Edad')\n",
        "plt.ylabel('Enfermedad Cardiovascular')\n",
        "plt.show()"
      ],
      "metadata": {
        "colab": {
          "base_uri": "https://localhost:8080/",
          "height": 279
        },
        "id": "pFzY5_CTVpdE",
        "outputId": "06daa617-bd8d-4a69-edde-30303df2ef66"
      },
      "execution_count": null,
      "outputs": [
        {
          "output_type": "display_data",
          "data": {
            "text/plain": [
              "<Figure size 432x288 with 1 Axes>"
            ],
            "image/png": "[encoded data removed]"
          },
          "metadata": {
            "needs_background": "light"
          }
        }
      ]
    },
    {
      "cell_type": "markdown",
      "source": [
        "Con la función `corr` visualizamos la matriz de correlación entre nuestros atributos"
      ],
      "metadata": {
        "id": "x6fgPym9WIZB"
      }
    },
    {
      "cell_type": "code",
      "source": [
        "corr = df.corr()\n",
        "features = corr.index\n",
        "plt.figure(figsize=(15,15))\n",
        "ax = sns.heatmap(df[features].corr(), annot=True)"
      ],
      "metadata": {
        "colab": {
          "base_uri": "https://localhost:8080/",
          "height": 806
        },
        "id": "njUJvBeCWGwT",
        "outputId": "37b6f6dc-d79c-4dfa-8783-0a9f84ae53ef"
      },
      "execution_count": null,
      "outputs": [
        {
          "output_type": "display_data",
          "data": {
            "text/plain": [
              "<Figure size 1080x1080 with 2 Axes>"
            ],
            "image/png": "[encoded data removed]"
          },
          "metadata": {
            "needs_background": "light"
          }
        }
      ]
    },
    {
      "cell_type": "markdown",
      "source": [
        "**Entrenamiento de modelos**"
      ],
      "metadata": {
        "id": "266x1MIjzglM"
      }
    },
    {
      "cell_type": "markdown",
      "source": [
        "Para poder entrenar nuestros modelos de aprendizaje supervisado debemos separar nuestros datos identificando claramente cuál será nuestra variable objetivo. Así, guardaremos en la variable `X` los atributos de entrada o features, mientras que utilizamos la variable `y` para nuestro atributo objetivo."
      ],
      "metadata": {
        "id": "LZ51pRHeXYk0"
      }
    },
    {
      "cell_type": "code",
      "source": [
        "X = df.drop(\"cardiovascular_disease\", axis=1) # Drop elimina la columna que se especifique, y axis = 1 significa eliminar valores de las columnas"
      ],
      "metadata": {
        "id": "cqOtWGnCXiBF"
      },
      "execution_count": null,
      "outputs": []
    },
    {
      "cell_type": "code",
      "source": [
        "y = df['cardiovascular_disease']"
      ],
      "metadata": {
        "id": "DqpOMUOyXnW4"
      },
      "execution_count": null,
      "outputs": []
    },
    {
      "cell_type": "markdown",
      "source": [
        "Teniendo esto, ya podemos entrenar modelos sobre nuestros datos 😄. En particular, veremos 3 modelos: Support Vector Machines (SVM), Decision Tree Classifier (DTC), y Randon Forest (RF).\n"
      ],
      "metadata": {
        "id": "nc74_GWvX1X6"
      }
    },
    {
      "cell_type": "markdown",
      "source": [
        "**Support Vector Machine**\n",
        "\n"
      ],
      "metadata": {
        "id": "bQiafoy-cwg7"
      }
    },
    {
      "cell_type": "code",
      "source": [
        "from sklearn.svm import SVC"
      ],
      "metadata": {
        "id": "nOmOjFUcc3i3"
      },
      "execution_count": null,
      "outputs": []
    },
    {
      "cell_type": "code",
      "source": [
        "logmodel = SVC()\n",
        "logmodel.fit(X, y)"
      ],
      "metadata": {
        "colab": {
          "base_uri": "https://localhost:8080/"
        },
        "id": "KgQhQhD5X8wJ",
        "outputId": "cd0b290f-7093-4b70-f7a7-c8b4171ebaa1"
      },
      "execution_count": null,
      "outputs": [
        {
          "output_type": "execute_result",
          "data": {
            "text/plain": [
              "SVC()"
            ]
          },
          "metadata": {},
          "execution_count": 31
        }
      ]
    },
    {
      "cell_type": "markdown",
      "source": [
        "Luego de que el modelo fue entrenado, podemos hacer  predicciones sobre algún conjunto de datos para así analizar el rendimiento de nuestro clasificador. Este proceso se realiza mediante la función `predict`."
      ],
      "metadata": {
        "id": "llWRVYegvdxq"
      }
    },
    {
      "cell_type": "code",
      "source": [
        "predictions = logmodel.predict(X)"
      ],
      "metadata": {
        "id": "87GyzdhGXyqQ"
      },
      "execution_count": null,
      "outputs": []
    },
    {
      "cell_type": "markdown",
      "source": [
        "Para evaluar el rendimiento de nuestro modelo utilizamos la función `classification_report`, la cual nos muestra las métricas `accuracy`, `precision`, `recall` y `f1-score`."
      ],
      "metadata": {
        "id": "v9lYyPT4v6L0"
      }
    },
    {
      "cell_type": "code",
      "source": [
        "from sklearn.metrics import accuracy_score"
      ],
      "metadata": {
        "id": "vPhWTKS5c9k0"
      },
      "execution_count": null,
      "outputs": []
    },
    {
      "cell_type": "code",
      "source": [
        "print(accuracy_score(y, predictions))"
      ],
      "metadata": {
        "colab": {
          "base_uri": "https://localhost:8080/"
        },
        "id": "bCtQlYZJYU4w",
        "outputId": "ce67497b-d18f-4427-d2a9-02b28e950d1f"
      },
      "execution_count": null,
      "outputs": [
        {
          "output_type": "stream",
          "name": "stdout",
          "text": [
            "0.6843853820598007\n"
          ]
        }
      ]
    },
    {
      "cell_type": "markdown",
      "source": [
        "Y listo, hemos entrenado nuestro clasificador y hemos obtenido resultados bastante altos dada la complejidad del problema 🥳 \n",
        "\n"
      ],
      "metadata": {
        "id": "FwXv_i_GYYRJ"
      }
    },
    {
      "cell_type": "markdown",
      "source": [
        "![Fired!](https://media3.giphy.com/media/3EAYL7KCtZJOJGtli6/giphy.gif?cid=ecf05e47b8ucx71fgr2bny9bn1mf8osjbh2z2grz4c4v4pyd&rid=giphy.gif&ct=g)"
      ],
      "metadata": {
        "id": "dzfnsSTNZ1pV"
      }
    },
    {
      "cell_type": "markdown",
      "source": [
        "El problema es que entrenamos el modelo sobre el conjunto de datos X e y y luego realizamos predicciones sobre el mismo conjunto X original, es decir, estamos no estamos midiendo correctamente el rendimiento del modelo en datos nuevos. \n",
        "\n",
        "En otras palabras, supongamos que ustedes son unos estudiantes de primer año. Para poder estudiar para su primer control recolectan los controles realizados en la historia del ramo, y ustedes se aprenden de memoria todas las preguntas y respuestas. Si al momento de rendir la prueba, aparece alguna de esas preguntas, ustedes obtendrán una buena nota ya que saben la respuesta. Sin embargo, si por alguna razón el profesor decide innovar y crea una nueva pregunta, la nota que obtendrán probablemente será mala, ya que no estaban preparados para una nueva pregunta, un nuevo dato.\n",
        "\n",
        "Eso es lo que ocurre acá, no sabemos si el modelo es capaz de obtener buenos resultados en nuevos datos. Por lo tanto es importante antes de entrenar un modelo dividir nuestros datos en dos conjuntos; entrenamiento y testeo. El primer conjunto nos servirá para entrenar nuestro modelo, mientras que el segundo nos servirá para medir el rendimiento en datos que con alta probabilidad no fueron vistos anteriormente. Esto se llama medir el poder de **generalización** de los modelos, y es uno de los conceptos más importantes en el aprendizaje de máquinas.\n",
        "\n",
        "Más adelante veremos que en la práctica es mejor dividir el conjunto original en 3 particiones; entrenamiento, validación y testeo. Pero por ahora, nos quedaremos con las dos mencionadas. Para generar estos conjuntos lo hacemos con el siguiente código:"
      ],
      "metadata": {
        "id": "Evcn7evTYn93"
      }
    },
    {
      "cell_type": "code",
      "source": [
        "from sklearn.model_selection import train_test_split"
      ],
      "metadata": {
        "id": "xI4PwBWAfhRS"
      },
      "execution_count": null,
      "outputs": []
    },
    {
      "cell_type": "code",
      "source": [
        "X_train, X_test, Y_train, Y_test = train_test_split(X, y, test_size=0.3, random_state=123)"
      ],
      "metadata": {
        "id": "PF-Smf6SYhS6"
      },
      "execution_count": null,
      "outputs": []
    },
    {
      "cell_type": "markdown",
      "source": [
        "Luego, entrenamos nuestro modelo sobre el conjunto de entrenamiento."
      ],
      "metadata": {
        "id": "N6vKcUJedB2n"
      }
    },
    {
      "cell_type": "code",
      "source": [
        "logmodel = SVC()\n",
        "logmodel.fit(X_train, Y_train)"
      ],
      "metadata": {
        "colab": {
          "base_uri": "https://localhost:8080/"
        },
        "id": "WNFvBMfAZ938",
        "outputId": "3424ff35-f227-4a5a-ab9f-37777d007e4f"
      },
      "execution_count": null,
      "outputs": [
        {
          "output_type": "execute_result",
          "data": {
            "text/plain": [
              "SVC()"
            ]
          },
          "metadata": {},
          "execution_count": 38
        }
      ]
    },
    {
      "cell_type": "markdown",
      "source": [
        "Obtenemos las predicciones sobre el conjunto de test y el rendimiento."
      ],
      "metadata": {
        "id": "Ibt3z0CYdGy-"
      }
    },
    {
      "cell_type": "code",
      "source": [
        "predictions = logmodel.predict(X_test)"
      ],
      "metadata": {
        "id": "qBJmaHtGaATO"
      },
      "execution_count": null,
      "outputs": []
    },
    {
      "cell_type": "code",
      "source": [
        "print(accuracy_score(Y_test,predictions))"
      ],
      "metadata": {
        "colab": {
          "base_uri": "https://localhost:8080/"
        },
        "id": "amDYkqOJaHRc",
        "outputId": "b6ab52f4-3978-4a81-8a75-c37981b7ffc7"
      },
      "execution_count": null,
      "outputs": [
        {
          "output_type": "stream",
          "name": "stdout",
          "text": [
            "0.6703296703296703\n"
          ]
        }
      ]
    },
    {
      "cell_type": "markdown",
      "source": [
        "Como estamos realizando una regresión, por cada una de las variables tendremos un coeficientes que habrá sido aprendido por el modelo. Entre más grande (de manera absoluta) es dicho número, entonces mayor influencia tiene sobre la variable objetivo (enfermedad cardiovascular). Podemos acceder a los valores de esos coeficientes con el siguiente código:"
      ],
      "metadata": {
        "id": "7760hnQgdQNt"
      }
    },
    {
      "cell_type": "code",
      "source": [
        "svm_vil = pd.DataFrame(logmodel.coef_, columns=df.drop(\"cardiovascular_disease\", axis=1).columns) # Guardamos en un dataframe los coeficientes\n",
        "svm_vil.index = [\"cardiovascular_disease\"] # Colocamos como índice los nombres de las especies\n",
        "svm_vil.transpose().sort_values(by=\"cardiovascular_disease\") # Trasponemos el dataframe"
      ],
      "metadata": {
        "colab": {
          "base_uri": "https://localhost:8080/",
          "height": 614
        },
        "id": "MJMHNGJeuNT7",
        "outputId": "94523f0d-7da9-4bd0-85b4-d625d41b425e"
      },
      "execution_count": null,
      "outputs": [
        {
          "output_type": "execute_result",
          "data": {
            "text/plain": [
              "                                          cardiovascular_disease\n",
              "chest_pain_type_typical_angina                         -1.372148\n",
              "male                                                   -0.872138\n",
              "number_of_vessels_colored_by_flouroscopy               -0.819863\n",
              "thalassemia_reversable_defect                          -0.633939\n",
              "exercise_induced_angina                                -0.531352\n",
              "st_depression_by_exercise                              -0.528609\n",
              "slope_st_by_excercise_peak                             -0.217386\n",
              "high_fasting_blood_sugar                               -0.059429\n",
              "resting_blood_pressure                                 -0.013517\n",
              "cholesterol                                            -0.002513\n",
              "thalassemia_normal                                      0.009280\n",
              "age                                                     0.013886\n",
              "maximum_heart_rate_achieved                             0.023942\n",
              "chest_pain_type_atypical_angina                         0.241119\n",
              "chest_pain_type_non_anginal_pain                        0.567307\n",
              "chest_pain_type_asymptomatic                            0.629185\n",
              "resting_electrocardiographic_results                    0.677553\n",
              "thalassemia_fixed_defect                                0.690122"
            ],
            "text/html": [
              "\n",
              "  <div id=\"df-ea9b0d79-c55f-4799-b1c1-915c3fb106ec\">\n",
              "    <div class=\"colab-df-container\">\n",
              "      <div>\n",
              "<style scoped>\n",
              "    .dataframe tbody tr th:only-of-type {\n",
              "        vertical-align: middle;\n",
              "    }\n",
              "\n",
              "    .dataframe tbody tr th {\n",
              "        vertical-align: top;\n",
              "    }\n",
              "\n",
              "    .dataframe thead th {\n",
              "        text-align: right;\n",
              "    }\n",
              "</style>\n",
              "<table border=\"1\" class=\"dataframe\">\n",
              "  <thead>\n",
              "    <tr style=\"text-align: right;\">\n",
              "      <th></th>\n",
              "      <th>cardiovascular_disease</th>\n",
              "    </tr>\n",
              "  </thead>\n",
              "  <tbody>\n",
              "    <tr>\n",
              "      <th>chest_pain_type_typical_angina</th>\n",
              "      <td>-1.372148</td>\n",
              "    </tr>\n",
              "    <tr>\n",
              "      <th>male</th>\n",
              "      <td>-0.872138</td>\n",
              "    </tr>\n",
              "    <tr>\n",
              "      <th>number_of_vessels_colored_by_flouroscopy</th>\n",
              "      <td>-0.819863</td>\n",
              "    </tr>\n",
              "    <tr>\n",
              "      <th>thalassemia_reversable_defect</th>\n",
              "      <td>-0.633939</td>\n",
              "    </tr>\n",
              "    <tr>\n",
              "      <th>exercise_induced_angina</th>\n",
              "      <td>-0.531352</td>\n",
              "    </tr>\n",
              "    <tr>\n",
              "      <th>st_depression_by_exercise</th>\n",
              "      <td>-0.528609</td>\n",
              "    </tr>\n",
              "    <tr>\n",
              "      <th>slope_st_by_excercise_peak</th>\n",
              "      <td>-0.217386</td>\n",
              "    </tr>\n",
              "    <tr>\n",
              "      <th>high_fasting_blood_sugar</th>\n",
              "      <td>-0.059429</td>\n",
              "    </tr>\n",
              "    <tr>\n",
              "      <th>resting_blood_pressure</th>\n",
              "      <td>-0.013517</td>\n",
              "    </tr>\n",
              "    <tr>\n",
              "      <th>cholesterol</th>\n",
              "      <td>-0.002513</td>\n",
              "    </tr>\n",
              "    <tr>\n",
              "      <th>thalassemia_normal</th>\n",
              "      <td>0.009280</td>\n",
              "    </tr>\n",
              "    <tr>\n",
              "      <th>age</th>\n",
              "      <td>0.013886</td>\n",
              "    </tr>\n",
              "    <tr>\n",
              "      <th>maximum_heart_rate_achieved</th>\n",
              "      <td>0.023942</td>\n",
              "    </tr>\n",
              "    <tr>\n",
              "      <th>chest_pain_type_atypical_angina</th>\n",
              "      <td>0.241119</td>\n",
              "    </tr>\n",
              "    <tr>\n",
              "      <th>chest_pain_type_non_anginal_pain</th>\n",
              "      <td>0.567307</td>\n",
              "    </tr>\n",
              "    <tr>\n",
              "      <th>chest_pain_type_asymptomatic</th>\n",
              "      <td>0.629185</td>\n",
              "    </tr>\n",
              "    <tr>\n",
              "      <th>resting_electrocardiographic_results</th>\n",
              "      <td>0.677553</td>\n",
              "    </tr>\n",
              "    <tr>\n",
              "      <th>thalassemia_fixed_defect</th>\n",
              "      <td>0.690122</td>\n",
              "    </tr>\n",
              "  </tbody>\n",
              "</table>\n",
              "</div>\n",
              "      <button class=\"colab-df-convert\" onclick=\"convertToInteractive('df-ea9b0d79-c55f-4799-b1c1-915c3fb106ec')\"\n",
              "              title=\"Convert this dataframe to an interactive table.\"\n",
              "              style=\"display:none;\">\n",
              "        \n",
              "  <svg xmlns=\"http://www.w3.org/2000/svg\" height=\"24px\"viewBox=\"0 0 24 24\"\n",
              "       width=\"24px\">\n",
              "    <path d=\"M0 0h24v24H0V0z\" fill=\"none\"/>\n",
              "    <path d=\"M18.56 5.44l.94 2.06.94-2.06 2.06-.94-2.06-.94-.94-2.06-.94 2.06-2.06.94zm-11 1L8.5 8.5l.94-2.06 2.06-.94-2.06-.94L8.5 2.5l-.94 2.06-2.06.94zm10 10l.94 2.06.94-2.06 2.06-.94-2.06-.94-.94-2.06-.94 2.06-2.06.94z\"/><path d=\"M17.41 7.96l-1.37-1.37c-.4-.4-.92-.59-1.43-.59-.52 0-1.04.2-1.43.59L10.3 9.45l-7.72 7.72c-.78.78-.78 2.05 0 2.83L4 21.41c.39.39.9.59 1.41.59.51 0 1.02-.2 1.41-.59l7.78-7.78 2.81-2.81c.8-.78.8-2.07 0-2.86zM5.41 20L4 18.59l7.72-7.72 1.47 1.35L5.41 20z\"/>\n",
              "  </svg>\n",
              "      </button>\n",
              "      \n",
              "  <style>\n",
              "    .colab-df-container {\n",
              "      display:flex;\n",
              "      flex-wrap:wrap;\n",
              "      gap: 12px;\n",
              "    }\n",
              "\n",
              "    .colab-df-convert {\n",
              "      background-color: #E8F0FE;\n",
              "      border: none;\n",
              "      border-radius: 50%;\n",
              "      cursor: pointer;\n",
              "      display: none;\n",
              "      fill: #1967D2;\n",
              "      height: 32px;\n",
              "      padding: 0 0 0 0;\n",
              "      width: 32px;\n",
              "    }\n",
              "\n",
              "    .colab-df-convert:hover {\n",
              "      background-color: #E2EBFA;\n",
              "      box-shadow: 0px 1px 2px rgba(60, 64, 67, 0.3), 0px 1px 3px 1px rgba(60, 64, 67, 0.15);\n",
              "      fill: #174EA6;\n",
              "    }\n",
              "\n",
              "    [theme=dark] .colab-df-convert {\n",
              "      background-color: #3B4455;\n",
              "      fill: #D2E3FC;\n",
              "    }\n",
              "\n",
              "    [theme=dark] .colab-df-convert:hover {\n",
              "      background-color: #434B5C;\n",
              "      box-shadow: 0px 1px 3px 1px rgba(0, 0, 0, 0.15);\n",
              "      filter: drop-shadow(0px 1px 2px rgba(0, 0, 0, 0.3));\n",
              "      fill: #FFFFFF;\n",
              "    }\n",
              "  </style>\n",
              "\n",
              "      <script>\n",
              "        const buttonEl =\n",
              "          document.querySelector('#df-ea9b0d79-c55f-4799-b1c1-915c3fb106ec button.colab-df-convert');\n",
              "        buttonEl.style.display =\n",
              "          google.colab.kernel.accessAllowed ? 'block' : 'none';\n",
              "\n",
              "        async function convertToInteractive(key) {\n",
              "          const element = document.querySelector('#df-ea9b0d79-c55f-4799-b1c1-915c3fb106ec');\n",
              "          const dataTable =\n",
              "            await google.colab.kernel.invokeFunction('convertToInteractive',\n",
              "                                                     [key], {});\n",
              "          if (!dataTable) return;\n",
              "\n",
              "          const docLinkHtml = 'Like what you see? Visit the ' +\n",
              "            '<a target=\"_blank\" href=https://colab.research.google.com/notebooks/data_table.ipynb>data table notebook</a>'\n",
              "            + ' to learn more about interactive tables.';\n",
              "          element.innerHTML = '';\n",
              "          dataTable['output_type'] = 'display_data';\n",
              "          await google.colab.output.renderOutput(dataTable, element);\n",
              "          const docLink = document.createElement('div');\n",
              "          docLink.innerHTML = docLinkHtml;\n",
              "          element.appendChild(docLink);\n",
              "        }\n",
              "      </script>\n",
              "    </div>\n",
              "  </div>\n",
              "  "
            ]
          },
          "metadata": {},
          "execution_count": 36
        }
      ]
    },
    {
      "cell_type": "markdown",
      "source": [
        "Ahora que ya sabemos como se entrena un modelo, probemos una serie de modelos de aprendizaje supervisado y veamos cuál es el que obtiene mejor rendimiento."
      ],
      "metadata": {
        "id": "AghQZjNsduXr"
      }
    },
    {
      "cell_type": "code",
      "source": [
        "models = []\n",
        "models.append(('LR'   , LogisticRegression()))\n",
        "models.append(('LDA'  , LinearDiscriminantAnalysis()))\n",
        "models.append(('KNN'  , KNeighborsClassifier()))\n",
        "models.append(('CART' , DecisionTreeClassifier()))\n",
        "models.append(('NB'   , GaussianNB()))\n",
        "models.append(('SVM'  , SVC(probability=True)))\n",
        "models.append(('AB'   , AdaBoostClassifier()))\n",
        "models.append(('GBM'  , GradientBoostingClassifier()))\n",
        "models.append(('RF'   , RandomForestClassifier()))   "
      ],
      "metadata": {
        "id": "wf-wl-bwaVlE"
      },
      "execution_count": null,
      "outputs": []
    },
    {
      "cell_type": "code",
      "source": [
        "for name, model in models:\n",
        "    print(f'Testing model: {name}\\n')\n",
        "    trained_model = model.fit(X_train, Y_train)\n",
        "    predictions = trained_model.predict(X_test)\n",
        "    print(classification_report(Y_test, predictions))"
      ],
      "metadata": {
        "colab": {
          "base_uri": "https://localhost:8080/"
        },
        "id": "EDRoXBJtaky0",
        "outputId": "81506114-e3b5-4836-bd00-7e7e65f8ef72"
      },
      "execution_count": null,
      "outputs": [
        {
          "output_type": "stream",
          "name": "stdout",
          "text": [
            "Testing model: LR\n",
            "\n",
            "              precision    recall  f1-score   support\n",
            "\n",
            "           0       0.91      0.68      0.78        44\n",
            "           1       0.76      0.94      0.84        47\n",
            "\n",
            "    accuracy                           0.81        91\n",
            "   macro avg       0.83      0.81      0.81        91\n",
            "weighted avg       0.83      0.81      0.81        91\n",
            "\n",
            "Testing model: LDA\n",
            "\n",
            "              precision    recall  f1-score   support\n",
            "\n",
            "           0       0.88      0.68      0.77        44\n",
            "           1       0.75      0.91      0.83        47\n",
            "\n",
            "    accuracy                           0.80        91\n",
            "   macro avg       0.82      0.80      0.80        91\n",
            "weighted avg       0.82      0.80      0.80        91\n",
            "\n",
            "Testing model: KNN\n",
            "\n",
            "              precision    recall  f1-score   support\n",
            "\n",
            "           0       0.76      0.57      0.65        44\n",
            "           1       0.67      0.83      0.74        47\n",
            "\n",
            "    accuracy                           0.70        91\n",
            "   macro avg       0.71      0.70      0.70        91\n",
            "weighted avg       0.71      0.70      0.70        91\n",
            "\n",
            "Testing model: CART\n",
            "\n",
            "              precision    recall  f1-score   support\n",
            "\n",
            "           0       0.81      0.66      0.73        44\n",
            "           1       0.73      0.85      0.78        47\n",
            "\n",
            "    accuracy                           0.76        91\n",
            "   macro avg       0.77      0.76      0.75        91\n",
            "weighted avg       0.77      0.76      0.76        91\n",
            "\n",
            "Testing model: NB\n",
            "\n",
            "              precision    recall  f1-score   support\n",
            "\n",
            "           0       0.84      0.70      0.77        44\n",
            "           1       0.76      0.87      0.81        47\n",
            "\n",
            "    accuracy                           0.79        91\n",
            "   macro avg       0.80      0.79      0.79        91\n",
            "weighted avg       0.80      0.79      0.79        91\n",
            "\n",
            "Testing model: SVM\n",
            "\n",
            "              precision    recall  f1-score   support\n",
            "\n",
            "           0       0.85      0.39      0.53        44\n",
            "           1       0.62      0.94      0.75        47\n",
            "\n",
            "    accuracy                           0.67        91\n",
            "   macro avg       0.73      0.66      0.64        91\n",
            "weighted avg       0.73      0.67      0.64        91\n",
            "\n",
            "Testing model: AB\n",
            "\n",
            "              precision    recall  f1-score   support\n",
            "\n",
            "           0       0.86      0.70      0.78        44\n",
            "           1       0.76      0.89      0.82        47\n",
            "\n",
            "    accuracy                           0.80        91\n",
            "   macro avg       0.81      0.80      0.80        91\n",
            "weighted avg       0.81      0.80      0.80        91\n",
            "\n",
            "Testing model: GBM\n",
            "\n"
          ]
        },
        {
          "output_type": "stream",
          "name": "stderr",
          "text": [
            "/usr/local/lib/python3.7/dist-packages/sklearn/linear_model/_logistic.py:818: ConvergenceWarning: lbfgs failed to converge (status=1):\n",
            "STOP: TOTAL NO. of ITERATIONS REACHED LIMIT.\n",
            "\n",
            "Increase the number of iterations (max_iter) or scale the data as shown in:\n",
            "    https://scikit-learn.org/stable/modules/preprocessing.html\n",
            "Please also refer to the documentation for alternative solver options:\n",
            "    https://scikit-learn.org/stable/modules/linear_model.html#logistic-regression\n",
            "  extra_warning_msg=_LOGISTIC_SOLVER_CONVERGENCE_MSG,\n"
          ]
        },
        {
          "output_type": "stream",
          "name": "stdout",
          "text": [
            "              precision    recall  f1-score   support\n",
            "\n",
            "           0       0.91      0.66      0.76        44\n",
            "           1       0.75      0.94      0.83        47\n",
            "\n",
            "    accuracy                           0.80        91\n",
            "   macro avg       0.83      0.80      0.80        91\n",
            "weighted avg       0.82      0.80      0.80        91\n",
            "\n",
            "Testing model: RF\n",
            "\n",
            "              precision    recall  f1-score   support\n",
            "\n",
            "           0       0.91      0.68      0.78        44\n",
            "           1       0.76      0.94      0.84        47\n",
            "\n",
            "    accuracy                           0.81        91\n",
            "   macro avg       0.83      0.81      0.81        91\n",
            "weighted avg       0.83      0.81      0.81        91\n",
            "\n"
          ]
        }
      ]
    },
    {
      "cell_type": "markdown",
      "source": [
        "De los resultados podemos ver que el algoritmo que obtuvo mejor rendimiento fue Random Forest y la Regresión Logística."
      ],
      "metadata": {
        "id": "7iE0BEnjbT0I"
      }
    }
  ]
}