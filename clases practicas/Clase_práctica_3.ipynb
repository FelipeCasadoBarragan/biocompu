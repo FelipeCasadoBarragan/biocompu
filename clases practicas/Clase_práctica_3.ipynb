{
  "nbformat": 4,
  "nbformat_minor": 0,
  "metadata": {
    "colab": {
      "name": "Clase práctica 3.ipynb",
      "provenance": []
    },
    "kernelspec": {
      "name": "python3",
      "display_name": "Python 3"
    },
    "language_info": {
      "name": "python"
    }
  },
  "cells": [
    {
      "cell_type": "markdown",
      "source": [
        "# Clustering\n",
        "\n",
        "El clustering o agrupamiento es la tarea de agrupar una serie de objetos de una manera que objetos del mismo grupo (cluster) son más similares entre sí que con los de otros grupos. Su objetivo principal es en la fase exploratoria de los datos y se clasifica dentro de los métodos no supervisados de aprendizaje de máquinas."
      ],
      "metadata": {
        "id": "kpMmQjddDOur"
      }
    },
    {
      "cell_type": "code",
      "source": [
        "import numpy as np \n",
        "import pandas as pd \n",
        "import matplotlib.pyplot as plt\n",
        "import sklearn.cluster # Algoritmos de clustering\n",
        "import sklearn.metrics\n",
        "import scipy.cluster\n",
        "import seaborn as sns"
      ],
      "metadata": {
        "id": "eCLxwZh7DPLt"
      },
      "execution_count": null,
      "outputs": []
    },
    {
      "cell_type": "code",
      "source": [
        "blobs = pd.read_csv(\"https://raw.githubusercontent.com/fvillena/biocompu/2022/data/blobs.csv\") # Importamos un csv que contiene los datos a analizar"
      ],
      "metadata": {
        "id": "qSOsrnIVD-MQ"
      },
      "execution_count": null,
      "outputs": []
    },
    {
      "cell_type": "code",
      "source": [
        "blobs.head() # Verificamos qué podemos encontrar en el conjunto de datos."
      ],
      "metadata": {
        "id": "9kTe5tnyEIxT"
      },
      "execution_count": null,
      "outputs": []
    },
    {
      "cell_type": "code",
      "source": [
        "plt.scatter(blobs.x, blobs.y) # Exploramos la distribución que tienen nuestros datos"
      ],
      "metadata": {
        "id": "ldRWskKSELIS"
      },
      "execution_count": null,
      "outputs": []
    },
    {
      "cell_type": "markdown",
      "source": [
        "Intuitivamente podemos desprender que existe cierto agrupamiento de los datos. Uno de los algoritmos para realizar clustering es el k-means que se encuentra implementado en la clase sklearn.cluster.KMeans. Procederemos a realizar un agrupamiento utilizando este algoritmo.\n",
        "\n",
        "k-Means necesita que nosotros asignemos el hiperparámetro de la cantidad de grupos a ajustar, comenzaremos con 2 grupos.\n",
        "\n",
        "Ajustamos un modelo de k-means."
      ],
      "metadata": {
        "id": "UOf75IalEQsj"
      }
    },
    {
      "cell_type": "code",
      "source": [
        "km = sklearn.cluster.KMeans(n_clusters=2, random_state=11) # Instanciamos el algoritmo de k-means\n",
        "km.fit(blobs) # Ajustamos el modelo de k-means"
      ],
      "metadata": {
        "id": "yN40CTD7EROy"
      },
      "execution_count": null,
      "outputs": []
    },
    {
      "cell_type": "code",
      "source": [
        "km.labels_ # Grupos a los cuales asoció el modelo a cada una de las instancias del conjunto de datos"
      ],
      "metadata": {
        "id": "7rVA6VBnEYMU"
      },
      "execution_count": null,
      "outputs": []
    },
    {
      "cell_type": "code",
      "source": [
        "plt.scatter(blobs.x, blobs.y, c = km.labels_) # Verificamos gráficamente el agrupamiento"
      ],
      "metadata": {
        "id": "0T1RjHqHEZNE"
      },
      "execution_count": null,
      "outputs": []
    },
    {
      "cell_type": "markdown",
      "source": [
        "Utilizaremos el método del codo para intentar encontrar la cantidad de grupos óptima en nuestro conjunto de datos.\n",
        "\n",
        "El método del codo busca encontrar la cantidad óptima de grupos al iterar por un rango de cantidad de grupos para encontrar dónde se genera un cambio en la pendiente de la curva de dispersión de los grupos contra la cantidad de grupos."
      ],
      "metadata": {
        "id": "LyxTkCZnEgV3"
      }
    },
    {
      "cell_type": "code",
      "source": [
        "inertias = []\n",
        "n_clusters_iterable = range(1,10)\n",
        "for n_clusters in n_clusters_iterable:\n",
        "    km = sklearn.cluster.KMeans(n_clusters=n_clusters) # Instanciamos el algoritmo de k-means\n",
        "    km.fit(blobs) # Ajustamos el modelo de k-means\n",
        "    inertias.append(km.inertia_) # Esta la dispersión de nuestros grupos"
      ],
      "metadata": {
        "id": "Xj4KkbNtEhEd"
      },
      "execution_count": null,
      "outputs": []
    },
    {
      "cell_type": "code",
      "source": [
        "plt.plot(\n",
        "    n_clusters_iterable,\n",
        "    inertias\n",
        ")"
      ],
      "metadata": {
        "id": "nkpTnzcZEknl"
      },
      "execution_count": null,
      "outputs": []
    },
    {
      "cell_type": "markdown",
      "source": [
        "Otro método de optimización de la cantidad de grupos es el método de la silueta, en donde se busca maximizar el silhouette score al modular el número de clusters.\n",
        "\n",
        "El silhouette score es un promedio de las siluetas de cada punto. Cada silueta se calcula usando la distancia intra-cluster promedio $a$ y la distancia promedio al cluster más cercano $b$, por lo tanto el valor de la silueta es:\n",
        "\n",
        "$\\frac{b-a}{max(a,b)}$"
      ],
      "metadata": {
        "id": "Qnp3EOEOEpVu"
      }
    },
    {
      "cell_type": "code",
      "source": [
        "silhouette_scores = []\n",
        "n_clusters_iterable = range(2,10)\n",
        "for n_clusters in n_clusters_iterable:\n",
        "    km = sklearn.cluster.KMeans(n_clusters=n_clusters) # Instanciamos el algoritmo de k-means\n",
        "    km.fit(blobs) # Ajustamos el modelo de k-means\n",
        "    silhouette_scores.append(sklearn.metrics.silhouette_score(blobs, km.labels_)) # Esta la dispersión de nuestros grupos"
      ],
      "metadata": {
        "id": "cR4R8iFVEobG"
      },
      "execution_count": null,
      "outputs": []
    },
    {
      "cell_type": "code",
      "source": [
        "plt.plot(\n",
        "    n_clusters_iterable,\n",
        "    silhouette_scores\n",
        ")"
      ],
      "metadata": {
        "id": "BtI5jMl-FCQ_"
      },
      "execution_count": null,
      "outputs": []
    },
    {
      "cell_type": "markdown",
      "source": [
        "Según los análisis anteriores podemos desprender que alrededor de 5 grupos sería un hiperparámetro óptimo para nuestro modelamiento."
      ],
      "metadata": {
        "id": "TMuq3lBIFHJY"
      }
    },
    {
      "cell_type": "code",
      "source": [
        "km_tuned = sklearn.cluster.KMeans(n_clusters=5, random_state=11) # Instanciamos el algoritmo de k-means\n",
        "km_tuned.fit(blobs) # Ajustamos el modelo de k-means"
      ],
      "metadata": {
        "id": "PmjU3L5WFENB"
      },
      "execution_count": null,
      "outputs": []
    },
    {
      "cell_type": "code",
      "source": [
        "km_tuned.labels_ # Grupos a los cuales asoció el modelo a cada una de las instancias del conjunto de datos"
      ],
      "metadata": {
        "id": "hRi9fY4PFJn1"
      },
      "execution_count": null,
      "outputs": []
    },
    {
      "cell_type": "code",
      "source": [
        "plt.scatter(blobs.x, blobs.y, c = km_tuned.labels_) # Verificamos gráficamente el agrupamiento"
      ],
      "metadata": {
        "id": "q2HgfR2IFMO2"
      },
      "execution_count": null,
      "outputs": []
    },
    {
      "cell_type": "markdown",
      "source": [
        "# Clustering jerárquico"
      ],
      "metadata": {
        "id": "0ibdamLiFRAR"
      }
    },
    {
      "cell_type": "markdown",
      "source": [
        "Para explorar el funcionamiento del clustering jerárquico utilizaremos un conjunto de datos en donde los grupos no tienen una configuración circular."
      ],
      "metadata": {
        "id": "MSFHBpYBj6A5"
      }
    },
    {
      "cell_type": "code",
      "source": [
        "moons = pd.read_csv(\"https://raw.githubusercontent.com/fvillena/biocompu/2022/data/twomoons.csv\")"
      ],
      "metadata": {
        "id": "iIbHQVvZFRbF"
      },
      "execution_count": null,
      "outputs": []
    },
    {
      "cell_type": "code",
      "source": [
        "moons.head()"
      ],
      "metadata": {
        "id": "iDGdztvkkfwQ"
      },
      "execution_count": null,
      "outputs": []
    },
    {
      "cell_type": "code",
      "source": [
        "plt.scatter(moons.x, moons.y)"
      ],
      "metadata": {
        "id": "5JCo9UaAk6Su"
      },
      "execution_count": null,
      "outputs": []
    },
    {
      "cell_type": "markdown",
      "source": [
        "Ajustamos un modelo de k-means para demostrar que el comportamiento de este modelo no es el más correcto."
      ],
      "metadata": {
        "id": "UNOzY9L6lAFP"
      }
    },
    {
      "cell_type": "code",
      "source": [
        "km_moons = sklearn.cluster.KMeans(n_clusters=2, random_state=11)\n",
        "km_moons.fit(moons)"
      ],
      "metadata": {
        "id": "6bjczrUXlA1Y"
      },
      "execution_count": null,
      "outputs": []
    },
    {
      "cell_type": "code",
      "source": [
        "km.labels_"
      ],
      "metadata": {
        "id": "RKmFizIKlCnP"
      },
      "execution_count": null,
      "outputs": []
    },
    {
      "cell_type": "markdown",
      "source": [
        "Observamos que el agrupamiento que se realizó con k-means no se ajusta a nuestro conjunto de datos."
      ],
      "metadata": {
        "id": "drf8NH4IlGek"
      }
    },
    {
      "cell_type": "code",
      "source": [
        "plt.scatter(moons.x, moons.y, c = km_moons.labels_)"
      ],
      "metadata": {
        "id": "K6b9jaNUlElS"
      },
      "execution_count": null,
      "outputs": []
    },
    {
      "cell_type": "markdown",
      "source": [
        "Ajustamos un modelo de clustering jerárquico."
      ],
      "metadata": {
        "id": "JgbIrgcElKWo"
      }
    },
    {
      "cell_type": "code",
      "source": [
        "ac = sklearn.cluster.AgglomerativeClustering()\n",
        "ac.fit(moons)"
      ],
      "metadata": {
        "id": "aF6birfclKxA"
      },
      "execution_count": null,
      "outputs": []
    },
    {
      "cell_type": "code",
      "source": [
        "plt.scatter(moons.x, moons.y, c = ac.labels_)"
      ],
      "metadata": {
        "id": "JAnyjHdNlMYU"
      },
      "execution_count": null,
      "outputs": []
    },
    {
      "cell_type": "markdown",
      "source": [
        "Nuestro modelo tampoco se comporta como esperamos porque existe un hiperparámetro que debemos ajustar. El clustering jerárquico puede utilizar distintos métodos para poder medir la distancia entre clusters y así poder unirlos o no. Evaluemos el funcionamiento de nuestro modelo al visualizar el agrupamiento utilizando los distintos métodos de enlace."
      ],
      "metadata": {
        "id": "lAITlPWQlQEv"
      }
    },
    {
      "cell_type": "code",
      "source": [
        "linkage_methods = [\"complete\", \"average\", \"single\"]\n",
        "fig, axs = plt.subplots(ncols=len(linkage_methods))\n",
        "for i,l in enumerate(linkage_methods):\n",
        "    ac_current = sklearn.cluster.AgglomerativeClustering(linkage=l)\n",
        "    ac_current.fit(moons)\n",
        "    axs[i].scatter(moons.x, moons.y, c = ac_current.labels_)\n",
        "    axs[i].set_title(l)\n",
        "    axs[i].axis('off')\n",
        "plt.tight_layout()"
      ],
      "metadata": {
        "id": "xT6bte8zlQck"
      },
      "execution_count": null,
      "outputs": []
    },
    {
      "cell_type": "markdown",
      "source": [
        "Para nuestro conjunto de datos el mejor método es single."
      ],
      "metadata": {
        "id": "5N-D-3FwlbEY"
      }
    },
    {
      "cell_type": "code",
      "source": [
        "ac_tuned = sklearn.cluster.AgglomerativeClustering(linkage=\"single\")\n",
        "ac_tuned.fit(moons)"
      ],
      "metadata": {
        "id": "kWd7IenLlbX6"
      },
      "execution_count": null,
      "outputs": []
    },
    {
      "cell_type": "code",
      "source": [
        "plt.scatter(moons.x, moons.y, c = ac_tuned.labels_)"
      ],
      "metadata": {
        "id": "_fiA4YpKlQeG"
      },
      "execution_count": null,
      "outputs": []
    },
    {
      "cell_type": "markdown",
      "source": [
        "# Datos de microarreglo\n",
        "\n",
        "Tenemos un conjunto de datos de expresión génica de genes dentro de distintas lineas celulares. Aplicaremos clustering jerárquico para evaluar qué genes son más cercanos entre sí, como también para evaluar qué lineas celulares son más cercanas entre sí."
      ],
      "metadata": {
        "id": "6oRy4aJmljuL"
      }
    },
    {
      "cell_type": "code",
      "source": [
        "def plot_dendrogram(model, **kwargs):\n",
        "    # Create linkage matrix and then plot the dendrogram\n",
        "\n",
        "    # create the counts of samples under each node\n",
        "    counts = np.zeros(model.children_.shape[0])\n",
        "    n_samples = len(model.labels_)\n",
        "    for i, merge in enumerate(model.children_):\n",
        "        current_count = 0\n",
        "        for child_idx in merge:\n",
        "            if child_idx < n_samples:\n",
        "                current_count += 1  # leaf node\n",
        "            else:\n",
        "                current_count += counts[child_idx - n_samples]\n",
        "        counts[i] = current_count\n",
        "\n",
        "    linkage_matrix = np.column_stack([model.children_, model.distances_,\n",
        "                                      counts]).astype(float)\n",
        "    # Plot the corresponding dendrogram\n",
        "    scipy.cluster.hierarchy.dendrogram(linkage_matrix, **kwargs)"
      ],
      "metadata": {
        "id": "Xfc9eum0lsRC"
      },
      "execution_count": null,
      "outputs": []
    },
    {
      "cell_type": "code",
      "source": [
        "microarray = pd.read_csv(\"https://raw.githubusercontent.com/fvillena/biocompu/2021/data/gene_expressions.tsv\", sep=\"\\t\", index_col=\"gene\", nrows=30)"
      ],
      "metadata": {
        "id": "R4wwHXxDlmTW"
      },
      "execution_count": null,
      "outputs": []
    },
    {
      "cell_type": "code",
      "source": [
        "microarray.head()"
      ],
      "metadata": {
        "id": "MqTMfktgkaur"
      },
      "execution_count": null,
      "outputs": []
    },
    {
      "cell_type": "code",
      "source": [
        "microarray.columns"
      ],
      "metadata": {
        "id": "Ep1LUdavlv8e"
      },
      "execution_count": null,
      "outputs": []
    },
    {
      "cell_type": "markdown",
      "source": [
        "Agrupación por genes"
      ],
      "metadata": {
        "id": "B6sRe4Ozl0Mo"
      }
    },
    {
      "cell_type": "markdown",
      "source": [
        "Realizaremos una agrupación a nivel de genes."
      ],
      "metadata": {
        "id": "Urk8Lzexl11k"
      }
    },
    {
      "cell_type": "code",
      "source": [
        "ac_microarray = sklearn.cluster.AgglomerativeClustering(linkage='average',distance_threshold=0, n_clusters=None)\n",
        "ac_microarray.fit(microarray)"
      ],
      "metadata": {
        "id": "JmPOFOC6l0f2"
      },
      "execution_count": null,
      "outputs": []
    },
    {
      "cell_type": "markdown",
      "source": [
        "Es probable que genes que se encuentren dentro del mismo cluster puedan tener funciones similares o pertenecer a tejidos similares. Utilizaremos una visualización llamada dendrograma para observar cómo se forman los grupos encontrados."
      ],
      "metadata": {
        "id": "zQcnqViZl5aL"
      }
    },
    {
      "cell_type": "code",
      "source": [
        "#plot dendrograma genes (para este caso demora por la cantidad de hojas finales)\n",
        "plt.figure(figsize=(15,7))\n",
        "plt.title('Dendrograma Genes')\n",
        "plot_dendrogram(ac_microarray, leaf_rotation=90, leaf_font_size=8, labels=microarray.index)\n",
        "plt.xlabel(\"Genes\")\n",
        "plt.show()"
      ],
      "metadata": {
        "id": "xgDyNWYxl36o"
      },
      "execution_count": null,
      "outputs": []
    },
    {
      "cell_type": "markdown",
      "source": [
        "Agrupación por líneas celulares"
      ],
      "metadata": {
        "id": "FVb7CE9QmE7a"
      }
    },
    {
      "cell_type": "markdown",
      "source": [
        "También realizaremos un agrupamiento a nivel de lineas celulares para explorar qué lineas celulares están más cercanas entre sí."
      ],
      "metadata": {
        "id": "-_Jnte41mG1T"
      }
    },
    {
      "cell_type": "code",
      "source": [
        "microarray_trans = microarray.transpose()"
      ],
      "metadata": {
        "id": "tOEEKmwXmFK2"
      },
      "execution_count": null,
      "outputs": []
    },
    {
      "cell_type": "code",
      "source": [
        "ac_microarray_trans = sklearn.cluster.AgglomerativeClustering(linkage='average',distance_threshold=0, n_clusters=None)\n",
        "ac_microarray_trans.fit(microarray_trans)"
      ],
      "metadata": {
        "id": "UpykcsilmJxE"
      },
      "execution_count": null,
      "outputs": []
    },
    {
      "cell_type": "code",
      "source": [
        "plt.figure(figsize=(15,7))\n",
        "plt.title('Dendrograma Lineas Celulares')\n",
        "plot_dendrogram(ac_microarray_trans, leaf_rotation=90, leaf_font_size=8, labels=microarray_trans.index)\n",
        "plt.xlabel(\"Lineas Celulares\")\n",
        "plt.show()"
      ],
      "metadata": {
        "id": "z9zt5RUNmLOu"
      },
      "execution_count": null,
      "outputs": []
    }
  ]
}