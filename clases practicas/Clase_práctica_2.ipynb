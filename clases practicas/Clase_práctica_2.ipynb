{
  "nbformat": 4,
  "nbformat_minor": 0,
  "metadata": {
    "colab": {
      "name": "Clase práctica 2.ipynb",
      "provenance": [],
      "collapsed_sections": []
    },
    "kernelspec": {
      "name": "python3",
      "display_name": "Python 3"
    },
    "language_info": {
      "name": "python"
    }
  },
  "cells": [
    {
      "cell_type": "markdown",
      "source": [
        "# Clase Práctica 2: Validación de modelos 📈\n",
        "\n",
        "----------------------------------\n",
        "\n",
        "Los modelos de regresión corresponden a un subcampo del aprendizaje supervisado que busca modelar la relación entre un cierto número de características y una variable objetivo continua. La calidad del modelo quedará determinada por la distancia entre el valor real y el predicho.\n",
        "\n",
        "El clásico ejemplo es el modelo de regresión lineal, el cual es un algoritmo estadístico que busca establecer la recta que muestra la tendencia en un conjunto de datos. \n",
        "\n",
        "Estos modelos pueden ser aplicados a cualquier problema que busque predecir un número real. Por ejemplo, predecir el precio de una casa, el costo de un tratamiento, el número de días en que un paciente será dado de alta, entre muchas más tareas.\n",
        "\n",
        "\n"
      ],
      "metadata": {
        "id": "Xl3N8sE0tlSD"
      }
    },
    {
      "cell_type": "markdown",
      "source": [
        "\n",
        "\n",
        "## Objetivos de la clase 📚\n",
        "\n",
        "Los objetivos principales de esta clase son los siguientes:\n",
        "\n",
        "\n",
        "\n",
        "1.   Explorar varios modelos de regresión.\n",
        "2.   Explorar varias métricas.\n",
        "3.   Determinar los modelos que mejor se adaptan al problema.\n",
        "\n",
        "\n",
        "Específicamente, utilizaremos un conjunto de datos que contiene valores de seguros de salud según características del paciente."
      ],
      "metadata": {
        "id": "r8iI543BuH49"
      }
    },
    {
      "cell_type": "markdown",
      "source": [
        "**Lectura del dataset**"
      ],
      "metadata": {
        "id": "SW2mvnNHa3D0"
      }
    },
    {
      "cell_type": "code",
      "source": [
        "import pandas as pd"
      ],
      "metadata": {
        "id": "N2LNe8mEd2Je"
      },
      "execution_count": null,
      "outputs": []
    },
    {
      "cell_type": "code",
      "source": [
        "df = pd.read_csv('https://raw.githubusercontent.com/fvillena/biocompu/2022/data/insurance.csv')"
      ],
      "metadata": {
        "id": "f-VoDhPwvakr"
      },
      "execution_count": null,
      "outputs": []
    },
    {
      "cell_type": "markdown",
      "source": [
        "Entonces, lo que haremos será analizar este dataset que está dedicado al costo de tratamiento de diversos pacientes. Si bien el costo de tratamiento depende de muchos factores médicos, existen otras variables que sería interesante explorar como la edad, sexo, ubicación, entre otras.\n",
        "\n",
        "Seleccionamos 3 filas al azar para ver de qué se tratan los datos"
      ],
      "metadata": {
        "id": "2q8PP0gPd4Ag"
      }
    },
    {
      "cell_type": "code",
      "source": [
        "df.sample(3)"
      ],
      "metadata": {
        "id": "sWZZSkINvbFk"
      },
      "execution_count": null,
      "outputs": []
    },
    {
      "cell_type": "markdown",
      "source": [
        "Vemos los nombres de las columnas y los tipos de datos"
      ],
      "metadata": {
        "id": "5SCT1s7feQbP"
      }
    },
    {
      "cell_type": "code",
      "source": [
        "df.info()"
      ],
      "metadata": {
        "id": "heQOTpF2eKYY"
      },
      "execution_count": null,
      "outputs": []
    },
    {
      "cell_type": "markdown",
      "source": [
        "Veamos si existen valores nulos\n"
      ],
      "metadata": {
        "id": "-hWCZViIviOp"
      }
    },
    {
      "cell_type": "code",
      "source": [
        "df.isnull().sum()"
      ],
      "metadata": {
        "id": "8nCy6SYBvcdY"
      },
      "execution_count": null,
      "outputs": []
    },
    {
      "cell_type": "markdown",
      "source": [
        "Lo siguiente que haremos será analizar cuáles son las variables que están más correlacionadas con el costo del tratamiento. Pero antes, hablemos un poco sobre las variables categóricas. Estas variables contienen un número finito de posibilidades, y pueden ser tanto strings como números. Como vimos en la clase anterior, si es que tenemos variables de tipo strings, debemos realizar una transformación."
      ],
      "metadata": {
        "id": "HPukxAWyv6qV"
      }
    },
    {
      "cell_type": "code",
      "source": [
        "df.sample(1)"
      ],
      "metadata": {
        "id": "0Q2x70SRfccE"
      },
      "execution_count": null,
      "outputs": []
    },
    {
      "cell_type": "markdown",
      "source": [
        "Del resultado anterior vemos que las variables categoricas serían sexo, fumador y región. Para poder transformarlas podemos utilizar la clase LabelEncoder."
      ],
      "metadata": {
        "id": "DaqEhVxffhk9"
      }
    },
    {
      "cell_type": "code",
      "source": [
        "from sklearn.preprocessing import LabelEncoder"
      ],
      "metadata": {
        "id": "3rhFYCZ6fhEL"
      },
      "execution_count": null,
      "outputs": []
    },
    {
      "cell_type": "code",
      "source": [
        "# Transformamos la variable sexo\n",
        "df.age"
      ],
      "metadata": {
        "id": "v2N1i9-SfyiH"
      },
      "execution_count": null,
      "outputs": []
    },
    {
      "cell_type": "code",
      "source": [
        "le = LabelEncoder()\n",
        "\n",
        "print(df.sex.drop_duplicates())\n",
        "le.fit(df.sex.drop_duplicates()) \n",
        "df.sex[0]"
      ],
      "metadata": {
        "id": "58PhpJLCf26l"
      },
      "execution_count": null,
      "outputs": []
    },
    {
      "cell_type": "code",
      "source": [
        "df.sex = le.transform(df.sex)"
      ],
      "metadata": {
        "id": "xp5YCpohgBF3"
      },
      "execution_count": null,
      "outputs": []
    },
    {
      "cell_type": "code",
      "source": [
        "le.fit(df.smoker.drop_duplicates()) \n",
        "df.smoker = le.transform(df.smoker)\n",
        "df.smoker"
      ],
      "metadata": {
        "id": "5Jc54skIvqbv"
      },
      "execution_count": null,
      "outputs": []
    },
    {
      "cell_type": "code",
      "source": [
        "le.fit(df.region.drop_duplicates()) \n",
        "df.region = le.transform(df.region)\n",
        "df.region"
      ],
      "metadata": {
        "id": "kbCXuAfcgIkz"
      },
      "execution_count": null,
      "outputs": []
    },
    {
      "cell_type": "markdown",
      "source": [
        "Entonces, básicamente lo que hace esta clase es transformar cada valor de la columna en un valor numérico mediante un mapeo. En el caso de sexo, sabemos que los valores posible son *Male* y *Female*, por lo tanto, le asignamos un 0 al primer valor y un 1 al segundo. Aquí también pueden utilizar la función get_dummies vista en la clase anterior, pero siempre está el riesgo de aumentar considerablemente la cantidad de features. Ahora veamos como está la correlación de los datos."
      ],
      "metadata": {
        "id": "ECPEkOYygMHV"
      }
    },
    {
      "cell_type": "code",
      "source": [
        "df.corr()['charges'].sort_values()"
      ],
      "metadata": {
        "id": "_87Ffjxqv9g5"
      },
      "execution_count": null,
      "outputs": []
    },
    {
      "cell_type": "markdown",
      "source": [
        "A priori podemos ver que la variable más relacionada con el costo del tratamiento es si el paciente es fumador o no, mientras que la que menos se relaciona es la región. "
      ],
      "metadata": {
        "id": "qULtZrXygsAA"
      }
    },
    {
      "cell_type": "code",
      "source": [
        "import matplotlib.pyplot as plt\n",
        "import seaborn as sns\n",
        "import numpy as np"
      ],
      "metadata": {
        "id": "NhRcxAN_g2-0"
      },
      "execution_count": null,
      "outputs": []
    },
    {
      "cell_type": "code",
      "source": [
        "f, ax = plt.subplots(figsize=(10, 8))\n",
        "corr = df.corr()\n",
        "sns.heatmap(corr, mask=np.zeros_like(corr, dtype=np.bool), cmap=sns.diverging_palette(240,10,as_cmap=True),\n",
        "            square=True, ax=ax)"
      ],
      "metadata": {
        "id": "4BVIlTlLwCF-"
      },
      "execution_count": null,
      "outputs": []
    },
    {
      "cell_type": "markdown",
      "source": [
        "Si seguimos analizando la variable smoker, en el siguiente gráfico podemos ver la distribución de costos de las personas fumadoras versus los no fumadores."
      ],
      "metadata": {
        "id": "NwWrD354wS7E"
      }
    },
    {
      "cell_type": "code",
      "source": [
        "f= plt.figure(figsize=(12,5))\n",
        "\n",
        "ax=f.add_subplot(121)\n",
        "sns.distplot(df[(df.smoker == 1)][\"charges\"],color='c',ax=ax)\n",
        "ax.set_title('Distribution of charges for smokers')\n",
        "\n",
        "ax=f.add_subplot(122)\n",
        "sns.distplot(df[(df.smoker == 0)]['charges'],color='b',ax=ax)\n",
        "ax.set_title('Distribution of charges for non-smokers')"
      ],
      "metadata": {
        "id": "2vxyU2-bwJSB"
      },
      "execution_count": null,
      "outputs": []
    },
    {
      "cell_type": "markdown",
      "source": [
        "Si bien el costo del tratamiento de los fumadores es mucho más elevados, es importante ver la distribución de frecuencias de estos datos."
      ],
      "metadata": {
        "id": "DE0fk2YwwtP3"
      }
    },
    {
      "cell_type": "code",
      "source": [
        "sns.catplot(x=\"smoker\", kind=\"count\",hue = 'sex', palette=\"pink\", data=df)"
      ],
      "metadata": {
        "id": "nbpNHYqhwbCV"
      },
      "execution_count": null,
      "outputs": []
    },
    {
      "cell_type": "markdown",
      "source": [
        "Veamos un box plot a ver si encontramos algo más interesante acerca de los fumadores versus no fumadores."
      ],
      "metadata": {
        "id": "GTc9eeY8hmnR"
      }
    },
    {
      "cell_type": "code",
      "source": [
        "plt.figure(figsize=(12,5))\n",
        "plt.title(\"Box plot for charges of women\")\n",
        "sns.boxplot(y=\"smoker\", x=\"charges\", data =  df[(df.sex == 0)] , orient=\"h\", palette = 'magma')"
      ],
      "metadata": {
        "id": "Wz9vajwDxBDb"
      },
      "execution_count": null,
      "outputs": []
    },
    {
      "cell_type": "code",
      "source": [
        "plt.figure(figsize=(12,5))\n",
        "plt.title(\"Box plot for charges of men\")\n",
        "sns.boxplot(y=\"smoker\", x=\"charges\", data =  df[(df.sex == 1)] , orient=\"h\", palette = 'rainbow')"
      ],
      "metadata": {
        "id": "4G2PCS6DxDwH"
      },
      "execution_count": null,
      "outputs": []
    },
    {
      "cell_type": "markdown",
      "source": [
        "Y si queremos ver el costo de tratamiento en personas de 18 años según si fuman o no?"
      ],
      "metadata": {
        "id": "BHbP-wJ_xmIS"
      }
    },
    {
      "cell_type": "code",
      "source": [
        "plt.figure(figsize=(12,5))\n",
        "plt.title(\"Box plot for charges 18 years old smokers\")\n",
        "sns.boxplot(y=\"smoker\", x=\"charges\", data = df[(df.age == 18)] , orient=\"h\", palette = 'pink')"
      ],
      "metadata": {
        "id": "NsHGekRoxXfM"
      },
      "execution_count": null,
      "outputs": []
    },
    {
      "cell_type": "markdown",
      "source": [
        "Interesante, de todas maneras el objetivo de este práctico no es la visualización y análisis así que pasemos a la parte de los modelos."
      ],
      "metadata": {
        "id": "4JDhTryKiG9D"
      }
    },
    {
      "cell_type": "markdown",
      "source": [
        "# **Selección de modelos**"
      ],
      "metadata": {
        "id": "A-HnfX54x5sG"
      }
    },
    {
      "cell_type": "markdown",
      "source": [
        "Siguiendo la receta de la primera clase, lo primero que hacemos es dividir nuestro conjunto de datos original en las particiones X e y, donde X corresponde a las características que serán pasadas al modelo, mientras que y es la variable objetivo."
      ],
      "metadata": {
        "id": "a9-0sKrciQDG"
      }
    },
    {
      "cell_type": "code",
      "source": [
        "X = df.drop(['charges'], axis = 1)\n",
        "y = df.charges"
      ],
      "metadata": {
        "id": "fZwcUL0LieoL"
      },
      "execution_count": null,
      "outputs": []
    },
    {
      "cell_type": "markdown",
      "source": [
        "Luego, para poder medir bien el nivel de generalización del modelo, dividimos el conjunto de datos en entrenamiento y testing."
      ],
      "metadata": {
        "id": "CCYdnnfqih1H"
      }
    },
    {
      "cell_type": "code",
      "source": [
        "from sklearn.model_selection import train_test_split"
      ],
      "metadata": {
        "id": "wtxEYQBEiwr3"
      },
      "execution_count": null,
      "outputs": []
    },
    {
      "cell_type": "code",
      "source": [
        "X_train, X_test, y_train, y_test = train_test_split(X, y, test_size=0.3, random_state = 123)"
      ],
      "metadata": {
        "id": "zYO1aDUVinRB"
      },
      "execution_count": null,
      "outputs": []
    },
    {
      "cell_type": "markdown",
      "source": [
        "**Regresión Lineal**\n",
        "\n",
        "Esta es una de las técnicas de regresión más utilizadas en aprendizaje de máquinas. Como se vió en clases, la idea general de este algoritmo en encontrar al recta que mejor se ajusta a un conjunto de datos continuos.\n",
        "\n",
        "En el caso más simple, cuando queremos describir una variable dependiente `y` según una variable independiente `x`, el problema se reduce a la siguiente ecuación:\n",
        "\n",
        "$$y = wx + b$$\n",
        "\n",
        "En el caso general tendremos un conjunto de n variables independientes (features) y 1 variable dependiente, de manera que la ecuación quedará definida como:\n",
        "\n",
        "$$y = w_{0}x_{0} + w_{1}x_{1} + ... +. w_{n}x_{n} + b$$\n",
        "\n",
        "El proceso de aprendizaje consiste en encontrar qué conjunto de parámetros $w_{0}, .... , w_{n}$ minimiza el error cuadrático medio entre los valores predichos y los reales.\n"
      ],
      "metadata": {
        "id": "9rmtLj4bjezc"
      }
    },
    {
      "cell_type": "code",
      "source": [
        "from sklearn.linear_model import LinearRegression"
      ],
      "metadata": {
        "id": "nKVgXWuujhm4"
      },
      "execution_count": null,
      "outputs": []
    },
    {
      "cell_type": "code",
      "source": [
        "lr = LinearRegression().fit(X_train, y_train)"
      ],
      "metadata": {
        "id": "t_K81Kvejd0b"
      },
      "execution_count": null,
      "outputs": []
    },
    {
      "cell_type": "markdown",
      "source": [
        "Luego de entrenar nuestro modelo podemos ver cuáles de los coeficientes son los que más pesan."
      ],
      "metadata": {
        "id": "3rXwIK2Fd0GL"
      }
    },
    {
      "cell_type": "code",
      "source": [
        "lr_vil = pd.DataFrame(lr.coef_,columns=[\"value\"]) # Guardamos en un dataframe los coeficientes\n",
        "lr_vil.index = df.columns[:-1]\n",
        "lr_vil"
      ],
      "metadata": {
        "id": "bsvTG1kfkbFg"
      },
      "execution_count": null,
      "outputs": []
    },
    {
      "cell_type": "code",
      "source": [
        "y_pred = lr.predict(X_test)"
      ],
      "metadata": {
        "id": "zGkl8COPd5-K"
      },
      "execution_count": null,
      "outputs": []
    },
    {
      "cell_type": "markdown",
      "source": [
        "Lo siguiente que debemos hacer es definir cuáles son las métricas que utilizaremos para medir nuestro modelo. En este caso usaremos el error absoluto medio, la raíz del error cuadrático medio, y el coeficiente de determinación, que se definen con las siguientes fórmulas.\n",
        "\n",
        "$MAE = \\frac{1}{m}\\sum_{i=1}^{m}|y_{true}-y_{pred}|$\n",
        "\n",
        "$RSME = \\frac{1}{m}\\sum_{i=1}^{m}(y_{true}-y_{pred})^2$\n",
        "\n",
        "$R^2 = 1 - \\frac{\\frac{1}{m}\\sum_{i=1}^{m}(y_{true}-y_{pred})^2}{\\frac{1}{m}\\sum_{i=1}^{m}(y_{true}-y_{mean})^2}$"
      ],
      "metadata": {
        "id": "F49rgR68eJji"
      }
    },
    {
      "cell_type": "code",
      "source": [
        "from sklearn.metrics import mean_absolute_error,mean_squared_error, r2_score\n",
        " \n",
        "def compute_metrics(y_true, y_pred):\n",
        "    \"\"\"\n",
        "    Esta función recibe un arreglo de valores reales y predichos para \n",
        "    retornar un diccionario con una serie de métricas de regresión\n",
        "    \"\"\"\n",
        "    return {\n",
        "        'mae': mean_absolute_error(y_true, y_pred),\n",
        "        'rmse': mean_squared_error(y_true, y_pred) ** 0.5,\n",
        "        'r2': r2_score(y_true, y_pred)\n",
        "    }"
      ],
      "metadata": {
        "id": "HwFaKdezkCwh"
      },
      "execution_count": null,
      "outputs": []
    },
    {
      "cell_type": "code",
      "source": [
        "lr_regression_report = compute_metrics(y_test, y_pred)"
      ],
      "metadata": {
        "id": "NSz-qjjzk7bR"
      },
      "execution_count": null,
      "outputs": []
    },
    {
      "cell_type": "code",
      "source": [
        "lr_regression_report"
      ],
      "metadata": {
        "id": "IGU8uqMdpxx7"
      },
      "execution_count": null,
      "outputs": []
    },
    {
      "cell_type": "markdown",
      "source": [
        "**Random Forest Regressor**"
      ],
      "metadata": {
        "id": "4ZgWkiswlwkU"
      }
    },
    {
      "cell_type": "code",
      "source": [
        "from sklearn.ensemble import RandomForestRegressor"
      ],
      "metadata": {
        "id": "J_s5eqnEl2iW"
      },
      "execution_count": null,
      "outputs": []
    },
    {
      "cell_type": "code",
      "source": [
        "rf = RandomForestRegressor()\n",
        "rf.fit(X_train, y_train)"
      ],
      "metadata": {
        "id": "FUFlblDblzmW"
      },
      "execution_count": null,
      "outputs": []
    },
    {
      "cell_type": "code",
      "source": [
        "y_pred = rf.predict(X_test)"
      ],
      "metadata": {
        "id": "wNUDe3Aax7mv"
      },
      "execution_count": null,
      "outputs": []
    },
    {
      "cell_type": "code",
      "source": [
        "rf_vil = pd.DataFrame(list(zip(df.columns[:-1],rf.feature_importances_)),\n",
        "             columns=[\"feature\",\"importance\"]\n",
        "            ).set_index(\"feature\")\n",
        "rf_vil.sort_values(\"importance\",ascending=False)"
      ],
      "metadata": {
        "id": "MMzG8Zy-l9se"
      },
      "execution_count": null,
      "outputs": []
    },
    {
      "cell_type": "code",
      "source": [
        "rf_regression_report = compute_metrics(y_test, y_pred)\n",
        "rf_regression_report"
      ],
      "metadata": {
        "id": "FtyskjhumNYW"
      },
      "execution_count": null,
      "outputs": []
    },
    {
      "cell_type": "markdown",
      "source": [
        "**Support Vector Regressor**"
      ],
      "metadata": {
        "id": "bLMiV4b6hqrI"
      }
    },
    {
      "cell_type": "code",
      "source": [
        "from sklearn.svm import SVR\n",
        "\n",
        "svr = SVR(kernel=\"linear\", C=1.0)\n",
        "svr.fit(X_train, y_train)"
      ],
      "metadata": {
        "id": "_d0OEAkHiizG"
      },
      "execution_count": null,
      "outputs": []
    },
    {
      "cell_type": "code",
      "source": [
        "y_pred = svr.predict(X_test)"
      ],
      "metadata": {
        "id": "MTlJh8-zi1g-"
      },
      "execution_count": null,
      "outputs": []
    },
    {
      "cell_type": "code",
      "source": [
        "svr_regression_report = compute_metrics(y_test, y_pred)\n",
        "svr_regression_report"
      ],
      "metadata": {
        "id": "1lLGPYR8i6D0"
      },
      "execution_count": null,
      "outputs": []
    },
    {
      "cell_type": "code",
      "source": [
        "svr_vil = pd.DataFrame(list(zip(df.columns[:-1],svr.coef_[0])),\n",
        "             columns=[\"feature\",\"importance\"]\n",
        "            ).set_index(\"feature\")\n",
        "svr_vil.sort_values(\"importance\",ascending=False)"
      ],
      "metadata": {
        "id": "Srf1ON3Ii_P3"
      },
      "execution_count": null,
      "outputs": []
    },
    {
      "cell_type": "markdown",
      "source": [
        "**K-Nearest Neighbor Regressor**"
      ],
      "metadata": {
        "id": "bLUK6Q_EorkN"
      }
    },
    {
      "cell_type": "code",
      "source": [
        "from sklearn.neighbors import KNeighborsRegressor"
      ],
      "metadata": {
        "id": "qJ3i9Wbfi5Dh"
      },
      "execution_count": null,
      "outputs": []
    },
    {
      "cell_type": "code",
      "source": [
        "knn = KNeighborsRegressor() # Instanciamos una support vector machine con un kernel lineal\n",
        "knn.fit(X_train, y_train)"
      ],
      "metadata": {
        "id": "f9uc3Xhwi0x1"
      },
      "execution_count": null,
      "outputs": []
    },
    {
      "cell_type": "code",
      "source": [
        "y_pred = knn.predict(X_test)"
      ],
      "metadata": {
        "id": "JKV73W3oo00o"
      },
      "execution_count": null,
      "outputs": []
    },
    {
      "cell_type": "code",
      "source": [
        "knn_regression_report = compute_metrics(y_test, y_pred)\n",
        "knn_regression_report"
      ],
      "metadata": {
        "id": "0RljxjGEk682"
      },
      "execution_count": null,
      "outputs": []
    },
    {
      "cell_type": "code",
      "source": [
        "performances = pd.DataFrame( # Consolidamos todas las métricas en un DatFrame\n",
        "    data = [\n",
        "        lr_regression_report,\n",
        "        knn_regression_report,\n",
        "        rf_regression_report,\n",
        "        svr_regression_report\n",
        "    ],\n",
        "    index = [\n",
        "        \"Linear Regression\",\n",
        "        \"k-Nearest Neighbors\",\n",
        "        \"Random Forest\",\n",
        "        \"SVR\"\n",
        "    ]\n",
        ").sort_values( # Ordenamos los valores\n",
        "    by=\"rmse\"\n",
        ")\n",
        "performances"
      ],
      "metadata": {
        "id": "lLtwSJc7x8Zk"
      },
      "execution_count": null,
      "outputs": []
    },
    {
      "cell_type": "code",
      "source": [
        "!pip install catboost"
      ],
      "metadata": {
        "id": "kiLNNjkd00Zh"
      },
      "execution_count": null,
      "outputs": []
    },
    {
      "cell_type": "code",
      "source": [
        "from catboost import CatBoostRegressor"
      ],
      "metadata": {
        "id": "-6tqefJl0ycB"
      },
      "execution_count": null,
      "outputs": []
    },
    {
      "cell_type": "code",
      "source": [
        "cb = CatBoostRegressor(learning_rate =0.01, max_depth =5, verbose = 0)\n",
        "\n",
        "cb.fit(X_train, y_train)"
      ],
      "metadata": {
        "id": "L3bqRQ1MzRiz"
      },
      "execution_count": null,
      "outputs": []
    },
    {
      "cell_type": "code",
      "source": [
        "y_pred = cb.predict(X_test)"
      ],
      "metadata": {
        "id": "S685N25B1LO1"
      },
      "execution_count": null,
      "outputs": []
    },
    {
      "cell_type": "code",
      "source": [
        "compute_metrics(y_test, y_pred)"
      ],
      "metadata": {
        "id": "GJ4TU_tl067h"
      },
      "execution_count": null,
      "outputs": []
    }
  ]
}