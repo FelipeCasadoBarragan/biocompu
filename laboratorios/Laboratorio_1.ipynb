{
  "nbformat": 4,
  "nbformat_minor": 0,
  "metadata": {
    "colab": {
      "name": "Laboratorio 1.ipynb",
      "provenance": [],
      "collapsed_sections": []
    },
    "kernelspec": {
      "name": "python3",
      "display_name": "Python 3"
    },
    "language_info": {
      "name": "python"
    }
  },
  "cells": [
    {
      "cell_type": "markdown",
      "source": [
        "# Laboratorio 1: Clasificación de pacientes con diabetes"
      ],
      "metadata": {
        "id": "YHcPWQ7kBf95"
      }
    },
    {
      "cell_type": "markdown",
      "source": [
        "El objetivo de este laboratorio es que puedan aplicar las técnicas aprendidas en la [Clase Práctica 1](https://colab.research.google.com/drive/16xzoEZ8oNvtmgDMMOdtNMAdyltz7MWWZ?authuser=2&hl=es) para resolver la clasificar pacientes con diabetes. \n",
        "\n",
        "En particular, trabajaremos con el *Pima Indians Diabetes Dataset*. Este corpus tiene como objetivo predecir si un paciente tiene o no tiene diabetes en base a una serie de diagnósticos registrados. La muestra consiste en datos de mujeres de al menos 21 años de descendencia indígena del grupo Pima. Específicamente, existen varios atributos médicos y una variable objetivo, la columna **Outcome**. Esta columna alcanza un valor igual a 1 cuando la paciente posee diabetes, mientras que es 0 cuando no posee la enfermedad. \n",
        "\n",
        "Los resultados esperados son que puedan realizar un flujo clásico al momento de crear modelos de aprendizaje supervisado. Como mínimo se espera que se cumplan los siguientes objetivos:\n",
        "\n",
        "1. Análisis exploratorio del dataset.\n",
        "2. Probar el modelo Random Forest.\n",
        "3. Análisis de los resultados obtenidos, de manera cuantitativa como cualitativa.\n"
      ],
      "metadata": {
        "id": "0RULYskvBngE"
      }
    },
    {
      "cell_type": "markdown",
      "source": [
        "**Librerías que les podrían ser útiles**"
      ],
      "metadata": {
        "id": "BczBG1mqDfjh"
      }
    },
    {
      "cell_type": "code",
      "source": [
        "import numpy as np\n",
        "import matplotlib.pyplot as plt\n",
        "import seaborn as sns\n",
        "import pandas as pd \n",
        "import csv\n",
        "import os\n",
        "from sklearn import tree\n",
        "from sklearn.model_selection import train_test_split\n",
        "from sklearn import preprocessing\n",
        "from sklearn.metrics import accuracy_score\n",
        "from sklearn.linear_model import LogisticRegression\n",
        "from sklearn.metrics import classification_report\n",
        "from sklearn.metrics import confusion_matrix"
      ],
      "metadata": {
        "id": "5TNW_vHhBh3p"
      },
      "execution_count": null,
      "outputs": []
    },
    {
      "cell_type": "markdown",
      "source": [
        "# Análisis exploratorio"
      ],
      "metadata": {
        "id": "5ToDlioBEAL_"
      }
    },
    {
      "cell_type": "markdown",
      "source": [
        "Partamos por leer el dataset que se encuentra en el archivo `diabetes.csv`"
      ],
      "metadata": {
        "id": "YkY7gWz9DyU0"
      }
    },
    {
      "cell_type": "code",
      "source": [
        "# Respuesta\n",
        "df = ..."
      ],
      "metadata": {
        "id": "aUrHB3SKCQ-r"
      },
      "execution_count": null,
      "outputs": []
    },
    {
      "cell_type": "markdown",
      "source": [
        "¿Cuántas instancias y cuántos atributos contiene el dataset?"
      ],
      "metadata": {
        "id": "5UQWUTCdEyHj"
      }
    },
    {
      "cell_type": "code",
      "source": [
        "# Respuesta\n"
      ],
      "metadata": {
        "id": "piVem9EoRo24"
      },
      "execution_count": null,
      "outputs": []
    },
    {
      "cell_type": "markdown",
      "source": [
        "¿Cuáles son los nombres de los atributos (columnas)?"
      ],
      "metadata": {
        "id": "jATMamEnR5QW"
      }
    },
    {
      "cell_type": "code",
      "source": [
        "# Respuesta\n"
      ],
      "metadata": {
        "id": "IEIYW4BrR2CG"
      },
      "execution_count": null,
      "outputs": []
    },
    {
      "cell_type": "markdown",
      "source": [
        "¿Cuáles son los tipos de datos presentes en nuestro dataset?"
      ],
      "metadata": {
        "id": "rcaiKlSHSVqm"
      }
    },
    {
      "cell_type": "code",
      "source": [
        "# Respuesta"
      ],
      "metadata": {
        "id": "oySMUhL9SWLJ"
      },
      "execution_count": null,
      "outputs": []
    },
    {
      "cell_type": "markdown",
      "source": [
        "¿Hay valores nulos en nuestro dataset?"
      ],
      "metadata": {
        "id": "vTGzAE2pFyxe"
      }
    },
    {
      "cell_type": "code",
      "source": [
        "# Respuesta"
      ],
      "metadata": {
        "id": "9WDhKb1hEPwE"
      },
      "execution_count": null,
      "outputs": []
    },
    {
      "cell_type": "markdown",
      "source": [
        "¿Cuál es la frecuencia de ejemplos en la variable objetivo **Outcome**?"
      ],
      "metadata": {
        "id": "tzhzTXUTTXbx"
      }
    },
    {
      "cell_type": "code",
      "source": [
        "# Respuesta"
      ],
      "metadata": {
        "id": "rPgo3FDWTbDx"
      },
      "execution_count": null,
      "outputs": []
    },
    {
      "cell_type": "markdown",
      "source": [
        "Para ejercitar el uso de filtros y consultar en dataframes, responder la siguiente pregunta. ¿Cuántas mujeres mayores a 40 años padecen de diabetes?"
      ],
      "metadata": {
        "id": "7fbmBbp5GNTT"
      }
    },
    {
      "cell_type": "code",
      "source": [
        "# Respuesta"
      ],
      "metadata": {
        "id": "-gfz4nSAUKsQ"
      },
      "execution_count": null,
      "outputs": []
    },
    {
      "cell_type": "markdown",
      "source": [
        "Para ver si existen outliers en nuestro dataset, realice un Boxplot de los siguientes atributos en el dataset: Age, BMI, Glucose, BloodPressure."
      ],
      "metadata": {
        "id": "lyyNzXjzGpBl"
      }
    },
    {
      "cell_type": "code",
      "source": [
        "# Respuesta"
      ],
      "metadata": {
        "id": "6YKSI7w1M-oh"
      },
      "execution_count": null,
      "outputs": []
    },
    {
      "cell_type": "markdown",
      "source": [
        "Veamos si existe alguna relación lineal entre distintos pares de atributos. Realice un scatter plot entre las variables Insulin y SkinThickness."
      ],
      "metadata": {
        "id": "WEWSAR82Ncun"
      }
    },
    {
      "cell_type": "code",
      "source": [
        "# Respuesta"
      ],
      "metadata": {
        "id": "1OxH147tFOUu"
      },
      "execution_count": null,
      "outputs": []
    },
    {
      "cell_type": "markdown",
      "source": [
        "Graficar la matriz de correlación entre todas las variables del dataset"
      ],
      "metadata": {
        "id": "KhzAuV4hHIi8"
      }
    },
    {
      "cell_type": "code",
      "source": [
        "# Respuesta"
      ],
      "metadata": {
        "id": "htRLdqSWFZBX"
      },
      "execution_count": null,
      "outputs": []
    },
    {
      "cell_type": "markdown",
      "source": [
        "# Entrenamiento del modelo"
      ],
      "metadata": {
        "id": "K1vBBR2oHoHm"
      }
    },
    {
      "cell_type": "markdown",
      "source": [
        "Ejecute el siguiente bloque de código para separar los ejemplos `x` de las etiquetas `y`"
      ],
      "metadata": {
        "id": "X9dI7S9CRyhA"
      }
    },
    {
      "cell_type": "code",
      "source": [
        "x = df.drop('Outcome', axis=1)\n",
        "y = df['Outcome']"
      ],
      "metadata": {
        "id": "KJvWDtpIDOPI"
      },
      "execution_count": null,
      "outputs": []
    },
    {
      "cell_type": "markdown",
      "source": [
        "Separe los datos en conjunto de entrenamiento y de testeo"
      ],
      "metadata": {
        "id": "NvNuK8GCSHri"
      }
    },
    {
      "cell_type": "code",
      "source": [
        "# Respuesta"
      ],
      "metadata": {
        "id": "ECvS5XqrSR37"
      },
      "execution_count": null,
      "outputs": []
    },
    {
      "cell_type": "markdown",
      "source": [
        "Defina un modelo Random Forest"
      ],
      "metadata": {
        "id": "eqVBG8lZSZKK"
      }
    },
    {
      "cell_type": "code",
      "source": [
        "# Respuesta"
      ],
      "metadata": {
        "id": "3eJgc7eRdDMv"
      },
      "execution_count": null,
      "outputs": []
    },
    {
      "cell_type": "markdown",
      "source": [
        "Con el método `fit` entrenar el modelo"
      ],
      "metadata": {
        "id": "-pYm_xZvSpAK"
      }
    },
    {
      "cell_type": "code",
      "source": [
        "# Respuesta"
      ],
      "metadata": {
        "id": "wkE39UTtSpO1"
      },
      "execution_count": null,
      "outputs": []
    },
    {
      "cell_type": "markdown",
      "source": [
        "Obtener predicciones sobre el conjunto de testing"
      ],
      "metadata": {
        "id": "AuF5yTgiSx8Q"
      }
    },
    {
      "cell_type": "code",
      "source": [
        "# Respuesta"
      ],
      "metadata": {
        "id": "bS5cuHxcdO9k"
      },
      "execution_count": null,
      "outputs": []
    },
    {
      "cell_type": "markdown",
      "source": [
        "Obtener la métricas accuracy\n"
      ],
      "metadata": {
        "id": "JsD6KhF9S3e8"
      }
    },
    {
      "cell_type": "code",
      "source": [
        "# Respuesta"
      ],
      "metadata": {
        "id": "6QMg2NuSdYiF"
      },
      "execution_count": null,
      "outputs": []
    },
    {
      "cell_type": "markdown",
      "source": [
        "# Análisis de resultados"
      ],
      "metadata": {
        "id": "7fdsuodeEFru"
      }
    },
    {
      "cell_type": "markdown",
      "source": [
        "> **Aquí va el análisis de los resultados obtenidos** "
      ],
      "metadata": {
        "id": "DaBUMkoFTIVu"
      }
    }
  ]
}