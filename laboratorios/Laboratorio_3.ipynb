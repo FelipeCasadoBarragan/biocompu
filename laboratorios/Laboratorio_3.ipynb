{
  "nbformat": 4,
  "nbformat_minor": 0,
  "metadata": {
    "colab": {
      "name": "Laboratorio 3.ipynb",
      "provenance": [],
      "collapsed_sections": []
    },
    "kernelspec": {
      "name": "python3",
      "display_name": "Python 3"
    },
    "language_info": {
      "name": "python"
    }
  },
  "cells": [
    {
      "cell_type": "markdown",
      "source": [
        "# Parte 1: Teoría\n",
        "\n",
        "\n",
        "**1.** Explique para qué se usan los algoritmos de clustering.\n",
        "\n",
        ">**Respuesta:**\n",
        "\n",
        "**2.** Explique una idea de cómo encontraría outliers en el método de K-Means:\n",
        ">**Respuesta:**\n"
      ],
      "metadata": {
        "id": "Tg0eG0Me07vZ"
      }
    },
    {
      "cell_type": "markdown",
      "source": [
        "# Parte 2: Clustering"
      ],
      "metadata": {
        "id": "K66_mzhIgTuz"
      }
    },
    {
      "cell_type": "markdown",
      "source": [
        "Para esta parte usaremos el dataset de cantidad de denuncias por 100 mil habitantes por tipo de delito desde el año 2001 al 2016 en Chile (Fuente: http://www.seguridadpublica.gov.cl/estadisticas/tasa-de-denuncias-y-detenciones/delitos-de-mayor-connotacion-social-series-de-datos-2001-2017/)."
      ],
      "metadata": {
        "id": "XB_qF69m1Tb2"
      }
    },
    {
      "cell_type": "markdown",
      "source": [
        "Ejecute el siguiete código para cargar el dataset:"
      ],
      "metadata": {
        "id": "a0ndMv3l1XVN"
      }
    },
    {
      "cell_type": "code",
      "source": [
        "import pandas as pd\n",
        "import numpy as np\n",
        "\n",
        "dataframe = pd.read_csv(\"https://raw.githubusercontent.com/fvillena/biocompu/2022/data/denuncias-2001-2016.txt\", sep=\" \")\n",
        "dataframe"
      ],
      "metadata": {
        "id": "yrUM1knH1Q1N"
      },
      "execution_count": null,
      "outputs": []
    },
    {
      "cell_type": "markdown",
      "source": [
        "Utilizaremos sólo los datos del 2006. Ejecute las siguientes líneas de código para filtrar los datos:"
      ],
      "metadata": {
        "id": "V3ok_JEh2t_X"
      }
    },
    {
      "cell_type": "code",
      "source": [
        "X = dataframe[dataframe[\"anio\"] == 2006]\n",
        "X = X.drop(columns=[\"comuna\", \"anio\"])\n",
        "X"
      ],
      "metadata": {
        "id": "zG_Xre0u1b4i"
      },
      "execution_count": null,
      "outputs": []
    },
    {
      "cell_type": "markdown",
      "source": [
        "# K-Means"
      ],
      "metadata": {
        "id": "DH61j4d120ee"
      }
    },
    {
      "cell_type": "markdown",
      "source": [
        "1. Cuando usamos K-Means debemos definir previamente el número de clusters que queremos generar. Ejecute el siguiente código para aplicar el método del codo sobre nuestro dataset."
      ],
      "metadata": {
        "id": "NKJ8XTiA23rH"
      }
    },
    {
      "cell_type": "code",
      "source": [
        "from sklearn.cluster import KMeans\n",
        "from sklearn import datasets\n",
        "import matplotlib.pyplot as plt\n",
        "\n",
        "OMP_NUM_THREADS=2\n",
        "sse = []\n",
        "\n",
        "clusters = list(range(1, 16))\n",
        "for k in clusters:\n",
        "    kmeans = KMeans(n_clusters=k).fit(X)\n",
        "    sse.append(kmeans.inertia_)\n",
        "\n",
        "plt.plot(clusters, sse, marker=\"o\")\n",
        "plt.title(\"Metodo del codo de 1 a 15 clusters\")\n",
        "plt.grid(True)\n",
        "plt.show()"
      ],
      "metadata": {
        "id": "rqFlfeM22w60"
      },
      "execution_count": null,
      "outputs": []
    },
    {
      "cell_type": "markdown",
      "source": [
        "2. A partir de la figura anterior, cuántos clusters propone usar para este dataset? Justifique su elección.\n",
        "\n",
        ">**Respuesta:**"
      ],
      "metadata": {
        "id": "IZaH-3JE3CaQ"
      }
    },
    {
      "cell_type": "markdown",
      "source": [
        "3. Entrene un modelo de K-Means usando el número de clusters que eligió en la pregunta anterior e imprima las asignaciones de clusters para cada dato."
      ],
      "metadata": {
        "id": "vkHLd-E93EgG"
      }
    },
    {
      "cell_type": "code",
      "source": [
        "# Respuesta\n"
      ],
      "metadata": {
        "id": "6exmDpdL3GkE"
      },
      "execution_count": null,
      "outputs": []
    },
    {
      "cell_type": "markdown",
      "source": [
        "Ejecute las siguientes dos celdas de códigos para reducir la dimensionalidad a 2 utilizando el método PCA y luego graficar los clusters generados."
      ],
      "metadata": {
        "id": "Mi1xUTwU4E6j"
      }
    },
    {
      "cell_type": "code",
      "source": [
        "from sklearn.decomposition import PCA\n",
        "\n",
        "new_X = PCA(n_components=2, random_state=0).fit_transform(X)"
      ],
      "metadata": {
        "id": "kOz6pua94EBJ"
      },
      "execution_count": null,
      "outputs": []
    },
    {
      "cell_type": "code",
      "source": [
        "plt.scatter(new_X[:, 0], new_X[:, 1], c=kmeans.labels_)\n",
        "plt.title(\"K-Means\")\n",
        "plt.show()"
      ],
      "metadata": {
        "id": "KckQJF-Q4G4t"
      },
      "execution_count": null,
      "outputs": []
    },
    {
      "cell_type": "markdown",
      "source": [
        "4. ¿Qué análisis puede hacer a partir de la figura obtenida?\n",
        "\n",
        "\n",
        ">**Respuesta:**"
      ],
      "metadata": {
        "id": "3fC71l8R64Pr"
      }
    },
    {
      "cell_type": "markdown",
      "source": [
        "# **Clustering Jerárquico Aglomerativo**"
      ],
      "metadata": {
        "id": "6c_O1ilw3af_"
      }
    },
    {
      "cell_type": "markdown",
      "source": [
        "Las siguientes celdas de código ejecutan cada uno de los 4 métodos de clustering jerárquico: complete, single, average y ward.\n",
        "\n",
        "Visualice los dendrogramas formados. "
      ],
      "metadata": {
        "id": "VRCOvz903c_O"
      }
    },
    {
      "cell_type": "code",
      "source": [
        "from scipy.cluster.hierarchy import dendrogram, linkage\n",
        "from sklearn.cluster import AgglomerativeClustering\n",
        "\n",
        "complete = linkage(X, method=\"complete\")\n",
        "single = linkage(X, method=\"single\")\n",
        "average = linkage(X, method=\"average\")\n",
        "ward = linkage(X, method=\"ward\")\n",
        "\n",
        "dendrogram(complete)\n",
        "plt.title(\"Linkage: Complete\")\n",
        "plt.show()"
      ],
      "metadata": {
        "id": "BGRmlDoa3a2S"
      },
      "execution_count": null,
      "outputs": []
    },
    {
      "cell_type": "code",
      "source": [
        "dendrogram(single)\n",
        "plt.title(\"Linkage: Single\")\n",
        "plt.show()"
      ],
      "metadata": {
        "id": "zzfrWQHm3hWx"
      },
      "execution_count": null,
      "outputs": []
    },
    {
      "cell_type": "code",
      "source": [
        "dendrogram(average)\n",
        "plt.title(\"Linkage: Average\")\n",
        "plt.show()"
      ],
      "metadata": {
        "id": "5J5zMHmg3kyN"
      },
      "execution_count": null,
      "outputs": []
    },
    {
      "cell_type": "code",
      "source": [
        "dendrogram(ward)\n",
        "plt.title(\"Linkage: Ward\")\n",
        "plt.show()"
      ],
      "metadata": {
        "id": "-tQzTl6M3mZ_"
      },
      "execution_count": null,
      "outputs": []
    },
    {
      "cell_type": "markdown",
      "source": [
        "Si miramos el método ward, \"visualmente\" cuántos clusters propone usar? A qué altura se debe cortar el arbol para obtener esa cantidad de clusters?"
      ],
      "metadata": {
        "id": "ijdIkigY3rrh"
      }
    },
    {
      "cell_type": "markdown",
      "source": [
        ">**Respuesta:**"
      ],
      "metadata": {
        "id": "YcFnaXTMnRbA"
      }
    }
  ]
}